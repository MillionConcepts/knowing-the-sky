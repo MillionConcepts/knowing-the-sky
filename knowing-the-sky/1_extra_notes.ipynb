{
 "cells": [
  {
   "cell_type": "markdown",
   "id": "ae14b219-d26e-48ff-acde-401dc10a0257",
   "metadata": {},
   "source": [
    "Lesson 1:"
   ]
  },
  {
   "cell_type": "code",
   "execution_count": null,
   "id": "2f7886ea",
   "metadata": {},
   "outputs": [],
   "source": [
    "#These imports don't all need to be here; these are based on the libraries we discussed in the proposal\n",
    "import astroquery\n",
    "import boto3\n",
    "import os\n",
    "import pathlib\n",
    "import shutil\n",
    "import requests"
   ]
  },
  {
   "cell_type": "markdown",
   "id": "d5bc0361-1709-4f54-abcd-69bc939d649c",
   "metadata": {},
   "source": [
    "We took this out from lesson 1, but I really like its wording and think we should add it in somewhere else."
   ]
  },
  {
   "cell_type": "code",
   "execution_count": 1,
   "id": "f5f86b96-5f13-4813-a8a1-9b5deeef34b2",
   "metadata": {},
   "outputs": [],
   "source": [
    "# good python import style organizes imports into three 'blocks' to make it easy\n",
    "# to diagnose import problems.\n",
    "# the first block contains imports from the Python Standard Library -- the modules\n",
    "# anyone with a Python install has access to.\n",
    "import os\n",
    "from pathlib import Path\n",
    "from rich import print\n",
    "\n",
    "# the second block contains imports from other external modules -- code you're\n",
    "# using but not actively working on.\n",
    "from astroquery.vizier import Vizier\n",
    "import requests\n",
    "\n",
    "# the third block contains imports from modules you _are_ actively working on.\n",
    "# it's not present here, because we haven't written any modules yet."
   ]
  },
  {
   "cell_type": "markdown",
   "id": "0db39a77-e6cb-48d0-b7ee-9f760e3102fc",
   "metadata": {},
   "source": [
    "Lesson 2:\n"
   ]
  },
  {
   "cell_type": "code",
   "execution_count": null,
   "id": "7488aee8-c0cc-4b7e-9a4d-10bcc8e5afb2",
   "metadata": {},
   "outputs": [],
   "source": [
    "#These imports don't all need to be here; these are based on the libraries we discussed in the proposal\n",
    "import numpy\n",
    "import pandas\n",
    "import pdr\n",
    "import matplotlib.pyplot"
   ]
  },
  {
   "cell_type": "markdown",
   "id": "fd2bc691-309b-4bc8-a05a-dae92a5f0e58",
   "metadata": {},
   "source": [
    "Lesson 3:"
   ]
  },
  {
   "cell_type": "markdown",
   "id": "8e5320d4-d5fa-4339-beaa-90e2fcd3dcaa",
   "metadata": {},
   "source": [
    "_Learning objectives_: Ability to create plots in matplotlib; familiarity with core astropy library modules, including coordinates and time; awareness of conceptual similarities between data representation techniques and and expressive elements of oral knowledge practices."
   ]
  },
  {
   "cell_type": "code",
   "execution_count": null,
   "id": "a2924273-6e1b-49cc-bb03-13155df15225",
   "metadata": {},
   "outputs": [],
   "source": [
    "#These imports don't all need to be here; these are based on the libraries we discussed in the proposal\n",
    "import astropy\n",
    "import matplotlib.figure"
   ]
  },
  {
   "cell_type": "markdown",
   "id": "e292e8d0-1e34-400f-a459-2cc7ffcbe867",
   "metadata": {},
   "source": [
    "Lesson 4:"
   ]
  },
  {
   "cell_type": "markdown",
   "id": "832d80fd-4eec-4931-a78f-d68f26bff3e4",
   "metadata": {},
   "source": [
    "_Learning objectives:_ Familiarity with basic text parsing techniques; ability to compose regular expressions (\"regex\"); competence with descriptive statistical functions from the scipy.stats module; ability to use functions from the scipy.optimize module to perform linear model fits."
   ]
  },
  {
   "cell_type": "code",
   "execution_count": null,
   "id": "dc6ae0e7-e02f-4efc-8183-c51026dfa678",
   "metadata": {},
   "outputs": [],
   "source": [
    "#These imports don't all need to be here; these are based on the libraries we discussed in the proposal\n",
    "import re\n",
    "import scipy"
   ]
  },
  {
   "cell_type": "markdown",
   "id": "94707cba-e1e6-4552-9df2-0c5dda32732a",
   "metadata": {},
   "source": [
    "Lesson 5:"
   ]
  },
  {
   "cell_type": "markdown",
   "id": "857b2501-18b5-4e25-88cb-032809c49d49",
   "metadata": {},
   "source": [
    "_Learning objectives_: Understanding of the “wrapper” concept; ability to find and download SPICE kernels; ability to use spiceypy to load ephemeris data from SPICE kernels; basic facility with building sympy expressions and converting them to numerical functions."
   ]
  },
  {
   "cell_type": "code",
   "execution_count": null,
   "id": "81cae08d-fb44-4598-8d95-5cc918f51ca6",
   "metadata": {},
   "outputs": [],
   "source": [
    "#These imports don't all need to be here; these are based on the libraries we discussed in the proposal\n",
    "import sympy\n",
    "import spiceypy"
   ]
  },
  {
   "cell_type": "markdown",
   "id": "b2cc8ba0-3de1-4669-a05e-6761b06b7355",
   "metadata": {},
   "source": [
    "Lesson 6:"
   ]
  },
  {
   "cell_type": "markdown",
   "id": "da6b907a-c372-4722-854b-1b9db70d6af7",
   "metadata": {},
   "source": [
    "_Learning objectives_: critical awareness of multiple ways of knowing “phase”; general familiarity with the capabilities of scikit-image and cv2; ability to create masks and apply morphological filters with scikit-image; ability to perform basic similarity analysis with cv2."
   ]
  },
  {
   "cell_type": "code",
   "execution_count": null,
   "id": "5bd4fd0d-7b95-4924-95b0-7a1bf253556b",
   "metadata": {},
   "outputs": [],
   "source": [
    "#These imports don't all need to be here; these are based on the libraries we discussed in the proposal\n",
    "import cv2\n",
    "import scikit-image"
   ]
  },
  {
   "cell_type": "markdown",
   "id": "5b725f85-7358-446e-a363-83905ace2bba",
   "metadata": {},
   "source": [
    "Lesson 7:"
   ]
  },
  {
   "cell_type": "markdown",
   "id": "8b2e08d4-e924-4b64-ba99-a5d34ac3ee3c",
   "metadata": {},
   "source": [
    "_Learning objectives_: Familiarity with basic capabilities of the scikit-learn library; ability to build a preprocessing pipeline for machine learning; awareness of major types of machine learning strategies; ability to build, train, and score simple classification and decomposition models."
   ]
  },
  {
   "cell_type": "code",
   "execution_count": null,
   "id": "1f858386-47c5-473d-99c4-c38466ba5423",
   "metadata": {},
   "outputs": [],
   "source": [
    "#These imports don't all need to be here; these are based on the libraries we discussed in the proposal\n",
    "import scikit-learn"
   ]
  },
  {
   "cell_type": "markdown",
   "id": "0ffeba74-1772-4291-bdd6-ebe65fa2586a",
   "metadata": {},
   "source": [
    "Lesson 8:"
   ]
  },
  {
   "cell_type": "markdown",
   "id": "4b9888ff-286c-4cb2-b9fa-3e58df272bab",
   "metadata": {},
   "source": [
    "_Learning objectives_: ability to create and version GitHub repositories; knowledge of SSH keys and other authentication methods; awareness of capabilities and limitations of object storage systems; ability to create S3 buckets and store objects in them with boto3."
   ]
  },
  {
   "cell_type": "code",
   "execution_count": null,
   "id": "7422cde3-b16b-4fa4-96fd-78df2f3338e3",
   "metadata": {},
   "outputs": [],
   "source": [
    "#These imports don't all need to be here; these are based on the libraries we discussed in the proposal\n",
    "import boto3 #advanced usage\n",
    "import pillow"
   ]
  },
  {
   "cell_type": "code",
   "execution_count": null,
   "id": "22dce0cf-59f5-4647-8f53-0d9d1a8d682f",
   "metadata": {},
   "outputs": [],
   "source": []
  }
 ],
 "metadata": {
  "kernelspec": {
   "display_name": "Python 3 (ipykernel)",
   "language": "python",
   "name": "python3"
  },
  "language_info": {
   "codemirror_mode": {
    "name": "ipython",
    "version": 3
   },
   "file_extension": ".py",
   "mimetype": "text/x-python",
   "name": "python",
   "nbconvert_exporter": "python",
   "pygments_lexer": "ipython3",
   "version": "3.10.12"
  }
 },
 "nbformat": 4,
 "nbformat_minor": 5
}
