{
 "cells": [
  {
   "cell_type": "markdown",
   "id": "ae14b219-d26e-48ff-acde-401dc10a0257",
   "metadata": {},
   "source": [
    "Lesson 1:"
   ]
  },
  {
   "cell_type": "code",
   "execution_count": null,
   "id": "2f7886ea",
   "metadata": {},
   "outputs": [],
   "source": [
    "#These imports don't all need to be here; these are based on the libraries we discussed in the proposal\n",
    "import astroquery\n",
    "import boto3\n",
    "import os\n",
    "import pathlib\n",
    "import shutil\n",
    "import requests"
   ]
  },
  {
   "cell_type": "markdown",
   "id": "d5bc0361-1709-4f54-abcd-69bc939d649c",
   "metadata": {},
   "source": [
    "We took this out from lesson 1, but I really like its wording and think we should add it in somewhere else."
   ]
  },
  {
   "cell_type": "code",
   "execution_count": 1,
   "id": "f5f86b96-5f13-4813-a8a1-9b5deeef34b2",
   "metadata": {},
   "outputs": [],
   "source": [
    "# good python import style organizes imports into three 'blocks' to make it easy\n",
    "# to diagnose import problems.\n",
    "# the first block contains imports from the Python Standard Library -- the modules\n",
    "# anyone with a Python install has access to.\n",
    "import os\n",
    "from pathlib import Path\n",
    "from rich import print\n",
    "\n",
    "# the second block contains imports from other external modules -- code you're\n",
    "# using but not actively working on.\n",
    "from astroquery.vizier import Vizier\n",
    "import requests\n",
    "\n",
    "# the third block contains imports from modules you _are_ actively working on.\n",
    "# it's not present here, because we haven't written any modules yet."
   ]
  },
  {
   "cell_type": "markdown",
   "id": "0db39a77-e6cb-48d0-b7ee-9f760e3102fc",
   "metadata": {},
   "source": [
    "Lesson 2:\n"
   ]
  },
  {
   "cell_type": "code",
   "execution_count": null,
   "id": "7488aee8-c0cc-4b7e-9a4d-10bcc8e5afb2",
   "metadata": {},
   "outputs": [],
   "source": [
    "#These imports don't all need to be here; these are based on the libraries we discussed in the proposal\n",
    "import numpy\n",
    "import pandas\n",
    "import pdr\n",
    "import matplotlib.pyplot"
   ]
  },
  {
   "cell_type": "markdown",
   "id": "fd2bc691-309b-4bc8-a05a-dae92a5f0e58",
   "metadata": {},
   "source": [
    "Lesson 3:"
   ]
  },
  {
   "cell_type": "code",
   "execution_count": null,
   "id": "a2924273-6e1b-49cc-bb03-13155df15225",
   "metadata": {},
   "outputs": [],
   "source": [
    "#These imports don't all need to be here; these are based on the libraries we discussed in the proposal\n",
    "import astropy\n",
    "import matplotlib.figure"
   ]
  },
  {
   "cell_type": "code",
   "execution_count": null,
   "id": "3f92f1a2-94b2-425d-bad0-6d856c639fd1",
   "metadata": {},
   "outputs": [],
   "source": []
  }
 ],
 "metadata": {
  "kernelspec": {
   "display_name": "Python 3 (ipykernel)",
   "language": "python",
   "name": "python3"
  },
  "language_info": {
   "codemirror_mode": {
    "name": "ipython",
    "version": 3
   },
   "file_extension": ".py",
   "mimetype": "text/x-python",
   "name": "python",
   "nbconvert_exporter": "python",
   "pygments_lexer": "ipython3",
   "version": "3.10.12"
  }
 },
 "nbformat": 4,
 "nbformat_minor": 5
}
