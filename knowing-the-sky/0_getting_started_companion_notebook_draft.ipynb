{
 "cells": [
  {
   "cell_type": "markdown",
   "id": "77060236",
   "metadata": {},
   "source": [
    "# Notebook basics\n",
    "\n",
    "## overview\n",
    "\n",
    "This Notebook is intended to teach you the essential features of Notebook\n",
    "that you'll need to use the rest of the content. You can skip it if you're\n",
    "already familiar with Notebook.\n",
    "\n",
    "Notebook has many features we don't cover here. If you'd like to dig deeper,\n",
    "you can check out the \n",
    "[official Notebook documentation](https://jupyter-notebook.readthedocs.io/en/latest/notebook.html),\n",
    "which is quite good, or explore the links in the Help menu at the top of the screen.\n",
    "\n",
    "## commands\n",
    "\n",
    "Notebook has two 'modes': Command Mode and Edit Mode. When you open a Notebook, you start in Command Mode. Command Mode lets you navigate, create, delete, and reorganize cells. The easiest way to do this is to use\n",
    "keyboard shortcuts:\n",
    "\n",
    "* To move between cells, press the `Up` or `Down` arrow.\n",
    "* To run a cell, press `Ctrl+Enter`.\n",
    "* To make a new cell below the active cell, press `b`.\n",
    "* To make a new cell above the active cell, press `a`.\n",
    "* To delete the active cell, press `d` twice.\n",
    "* To undo deleting a cell, press `z`.\n",
    "* For a complete list of shortcuts, press `h`.\n",
    "\n",
    "\n",
    "### switching modes\n",
    "\n",
    "* To switch into Edit Mode in the active (highlighted) cell, press `Enter`. You can also enter Edit Mode by clicking inside a cell.\n",
    "* When you run a cell in Edit Mode, you switch back to Command Mode.\n",
    "* You can also go back to Command Mode by pressing Escape or clicking outside a cell.\n",
    "\n",
    "There are two ways to tell what mode you're in:\n",
    "* In Command Mode, the highlight around the active cell is green; in Edit Mode, it is blue.\n",
    "* in Edit Mode, you'll see a blinking cursor inside the active cell."
   ]
  },
  {
   "cell_type": "markdown",
   "id": "8f2e8fe7",
   "metadata": {},
   "source": [
    "## cell execution and output"
   ]
  },
  {
   "cell_type": "code",
   "execution_count": null,
   "id": "initial_id",
   "metadata": {},
   "outputs": [],
   "source": [
    "# When you run a cell, Jupyter prints its result underneath the cell.\n",
    "# If you highlight this cell and run it with Ctrl+Enter, '10' \n",
    "# will appear below the cell.\n",
    "\n",
    "x = 5\n",
    "5 + x"
   ]
  },
  {
   "cell_type": "code",
   "execution_count": null,
   "id": "fa2d38cb",
   "metadata": {},
   "outputs": [],
   "source": [
    "# Jupyter only automatically prints the result of the last expression in a cell,\n",
    "# so if you want to print more things, you need to use print statements. Running\n",
    "# this cell will print '3' and '6' before printing '10'. Note that the '3 + 3'\n",
    "# expression doesn't produce any text.\n",
    "\n",
    "print(1 + 2)\n",
    "print(2 + 4)\n",
    "3 + 3\n",
    "4 + 6"
   ]
  },
  {
   "cell_type": "code",
   "execution_count": null,
   "id": "4df0c130",
   "metadata": {},
   "outputs": [],
   "source": [
    "# variables defined in one cell are accessible in other cells:\n",
    "x + 3"
   ]
  },
  {
   "cell_type": "code",
   "execution_count": null,
   "id": "9555c837",
   "metadata": {},
   "outputs": [],
   "source": [
    "# only the order you run cells in matters, not how they're arranged in the Notebook.\n",
    "# if you run this cell, then run the previous cell again, its output will change to '12'.\n",
    "x = 9"
   ]
  },
  {
   "cell_type": "code",
   "execution_count": null,
   "id": "7ee3a3c7",
   "metadata": {},
   "outputs": [],
   "source": [
    "# being able to run cells out of order is very convenient, but can get confusing.\n",
    "# wrapping variable definitions in functions is a good way to make sure they don't go places \n",
    "# you'd rather they didn't:\n",
    "\n",
    "def timestwo(y):\n",
    "    \"\"\"multiplies things by 2.\"\"\"\n",
    "    return y * 2\n",
    "\n",
    "print(timestwo(2))\n",
    "try:\n",
    "    print(y)\n",
    "except NameError:\n",
    "    print(\"y didn't sneak out of the scope of timestwo().\")"
   ]
  },
  {
   "cell_type": "code",
   "execution_count": null,
   "id": "a593b4bc",
   "metadata": {},
   "outputs": [],
   "source": [
    "# if a cell's output is very long, Jupyter will put its output in a scrolling\n",
    "# panel. if you like, you can switch a cell's output between scrolling \n",
    "# and non-scrolling modes by using Shift+O in Command Mode.\n",
    "# you can also completely hide and unhide output by using O. try it out:\n",
    "\n",
    "for i in range(1000):\n",
    "    print(i)"
   ]
  },
  {
   "cell_type": "markdown",
   "id": "5d8dcc36",
   "metadata": {},
   "source": [
    "## interactive help"
   ]
  },
  {
   "cell_type": "code",
   "execution_count": null,
   "id": "139db073",
   "metadata": {},
   "outputs": [],
   "source": [
    "# Jupyter has great interactive help and inspection features.\n",
    "# if you place '?' after a variable and run the cell, it will open\n",
    "# up a panel with some basic information about the object the variable refers to,\n",
    "# including its type, its docstring (if any), its string representation, the module\n",
    "# it's defined in (if available), and, if it's a function (including a class constructor), \n",
    "# its signature. \n",
    "# You can grow or shrink the panel by dragging its border.\n",
    "# You can close the panel with Escape or by clicking its X button.\n",
    "\n",
    "# this will show you that x is 9 and also tell you about Python ints:\n",
    "\n",
    "x?"
   ]
  },
  {
   "cell_type": "code",
   "execution_count": null,
   "id": "1c7d97cc",
   "metadata": {},
   "outputs": [],
   "source": [
    "# if you place '??' after a variable, you'll also be able to see the object's complete \n",
    "# source code, if available. This will show you the full definition of timestwo() from \n",
    "# the earlier cell:\n",
    "\n",
    "timestwo??"
   ]
  },
  {
   "cell_type": "code",
   "execution_count": null,
   "id": "214c59b3",
   "metadata": {},
   "outputs": [],
   "source": [
    "# if you'd like to print help text so that it sticks around, you can use the built-in\n",
    "# Python help function:\n",
    "help(str)"
   ]
  },
  {
   "cell_type": "markdown",
   "id": "2b7f6104",
   "metadata": {},
   "source": [
    "## system operations \n",
    "\n",
    "\n",
    "### saving\n",
    "\n",
    "Notebook autosaves every few minutes. This means that if you make changes to a Notebook, they'll stick around in the file. If you want to make *sure* that your work is saved, you can press `Ctrl+S` to 'save and checkpoint'. This not only immediately saves the Notebook, but creates a 'checkpoint' -- a timestamped version of the Notebook file. You can later use 'revert to checkpoint' in the File menu to go back to that specific state.\n",
    "\n",
    "### closing\n",
    "\n",
    "If you terminate the Jupyter Server by pressing `Ctrl+C` in the terminal you executed it in, it will shut down all running Notebooks.\n",
    "\n",
    "If you are running multiple Notebooks and want to shut down a specific one, use the 'close and halt' option in the File menu.\n",
    "\n",
    "### restarting\n",
    "\n",
    "You can restart a Notebook by pressing `0` twice in Command Mode. This preserves printed output but completely resets the state of the Python interpreter. If you also want to clear all output, making the Notebook pristine, use the 'restart and clear output' option in the Kernel menu."
   ]
  },
  {
   "cell_type": "markdown",
   "id": "428f9bac",
   "metadata": {},
   "source": [
    "## importing code\n",
    "\n",
    "\n",
    "Import statements work in Notebooks just like they do in other Python code: if you want to use Python objects that aren't defined in the Notebook and aren't [Python built-ins](https://docs.python.org/3/library/functions.html), you need to import them."
   ]
  },
  {
   "cell_type": "code",
   "execution_count": null,
   "id": "7db47c26",
   "metadata": {},
   "outputs": [],
   "source": [
    "# this won't work:\n",
    "\n",
    "try:\n",
    "    ip_address = re.search(\n",
    "        \"(?:\\d{1,3}\\.){3}\\d{1,3}(:\\d{2,4})?\", \n",
    "        \"Jupyter Server's default address is 127.0.0.1:8888.\"\n",
    "    ).group()\n",
    "    print(ip_address)\n",
    "except NameError as err:\n",
    "    print(err)"
   ]
  },
  {
   "cell_type": "code",
   "execution_count": null,
   "id": "cbd1f082",
   "metadata": {},
   "outputs": [],
   "source": [
    "# but if you run this import statement, the previous cell will work.\n",
    "import re"
   ]
  },
  {
   "cell_type": "code",
   "execution_count": null,
   "id": "46a580e7",
   "metadata": {},
   "outputs": [],
   "source": []
  },
  {
   "cell_type": "markdown",
   "id": "2309b11b",
   "metadata": {},
   "source": [
    "### This is a Markdown cell.\n",
    "\n",
    "**Markdown** *lets you* `format text` [in many different ways](https://www.markdownguide.org/)\n",
    "1. including\n",
    "2. different\n",
    "    * types\n",
    "    * of\n",
    "    * list\n",
    "\n",
    "> and quotes.\n",
    "\n",
    "You can turn a cell into a Markdown cell by hitting 'm' in Command Mode."
   ]
  },
  {
   "cell_type": "code",
   "execution_count": null,
   "id": "ba94db3d",
   "metadata": {},
   "outputs": [],
   "source": []
  },
  {
   "cell_type": "code",
   "execution_count": null,
   "id": "f9477037",
   "metadata": {},
   "outputs": [],
   "source": []
  },
  {
   "cell_type": "code",
   "execution_count": null,
   "id": "a2c7c7ae",
   "metadata": {},
   "outputs": [],
   "source": []
  },
  {
   "cell_type": "code",
   "execution_count": null,
   "id": "90cc7b10",
   "metadata": {},
   "outputs": [],
   "source": []
  },
  {
   "cell_type": "code",
   "execution_count": null,
   "id": "0a588a15",
   "metadata": {},
   "outputs": [],
   "source": []
  },
  {
   "cell_type": "code",
   "execution_count": null,
   "id": "94f0324b",
   "metadata": {},
   "outputs": [],
   "source": []
  }
 ],
 "metadata": {
  "kernelspec": {
   "display_name": "Python 3 (ipykernel)",
   "language": "python",
   "name": "python3"
  },
  "language_info": {
   "codemirror_mode": {
    "name": "ipython",
    "version": 3
   },
   "file_extension": ".py",
   "mimetype": "text/x-python",
   "name": "python",
   "nbconvert_exporter": "python",
   "pygments_lexer": "ipython3",
   "version": "3.11.4"
  }
 },
 "nbformat": 4,
 "nbformat_minor": 5
}
