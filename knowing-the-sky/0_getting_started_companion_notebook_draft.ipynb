{
 "cells": [
  {
   "cell_type": "markdown",
   "id": "77060236",
   "metadata": {
    "jp-MarkdownHeadingCollapsed": true
   },
   "source": [
    "# Notebook basics\n",
    "\n",
    "This Notebook is intended to teach you the basics of using Jupyter Notebook to run\n",
    "Python code. You'll need to know these basics in order to use the rest of the \n",
    "_Knowing the Sky_ interactive content. If you're already familiar with \n",
    "Notebook, you can skip it, although there might still be a few tidbits for you.\n",
    "\n",
    "Read the rest of this cell to learn how to navigate between and run cells,\n",
    "then go ahead and move cell-by-cell through the rest of the Notebook.\n",
    "\n",
    "Notebook has many features we don't cover here. If you'd like to dig deeper,\n",
    "you can check out the \n",
    "[official Notebook documentation](https://jupyter-notebook.readthedocs.io/en/latest/notebook.html)\n",
    "or explore the links in the Help menu at the top of the screen.\n",
    "\n",
    "## commands\n",
    "\n",
    "Notebook has two 'modes': Command Mode and Edit Mode. When you open a Notebook, you start in Command Mode. Command Mode lets you navigate, create, delete, and reorganize cells. The easiest way to do this is to use\n",
    "keyboard shortcuts:\n",
    "\n",
    "* To move between cells, press the `Up` or `Down` arrow.\n",
    "* To run a cell, press `Shift+Enter`.\n",
    "* To make a new cell below the active cell, press `b`.\n",
    "* To make a new cell above the active cell, press `a`.\n",
    "* To delete the active cell, press `d` twice.\n",
    "* To undo deleting a cell, press `z`.\n",
    "* For a complete list of shortcuts, press `Ctrl+Shift+h`. (If you're on Mac use `Command+Shift+h`)\n",
    "\n",
    "\n",
    "### switching modes\n",
    "\n",
    "* To switch into Edit Mode in the active (highlighted) cell, press `Enter`. You can also enter Edit Mode by clicking inside a cell.\n",
    "* When you run a cell in Edit Mode, you automatically switch back to Command Mode.\n",
    "* You can also go back to Command Mode by pressing Escape or clicking outside a cell.\n",
    "\n",
    "There are several ways to tell what mode you're in:\n",
    "* In Edit Mode, the border around the cell will turn blue and the background color changes. Press `Enter` while the blue bar is highlighted on the left of this cell to see what it looks like unformatted and in edit mode (remember you can press `Shift+Enter` to run/format it again)\n",
    "* When you are in edit mode, you'll see a blinking cursor inside the active cell."
   ]
  },
  {
   "cell_type": "markdown",
   "id": "8f2e8fe7",
   "metadata": {},
   "source": [
    "----\n",
    "# cell execution and output"
   ]
  },
  {
   "cell_type": "code",
   "execution_count": null,
   "id": "initial_id",
   "metadata": {},
   "outputs": [],
   "source": [
    "# When you run a cell, Jupyter prints its result underneath the cell.\n",
    "# If you highlight this cell and run it with Ctrl+Enter, '10' \n",
    "# will appear below the cell.\n",
    "\n",
    "x = 5\n",
    "5 + x"
   ]
  },
  {
   "cell_type": "code",
   "execution_count": null,
   "id": "fa2d38cb",
   "metadata": {},
   "outputs": [],
   "source": [
    "# Jupyter only automatically prints the result of the last expression in a cell,\n",
    "# so if you want to print earlier expressions, you need to use print statements. Running\n",
    "# this cell will print '3' and '5' before printing '10'. Note that the '3 + 3'\n",
    "# expression doesn't produce any text.\n",
    "\n",
    "print(1 + 2)\n",
    "print(2 + 3)\n",
    "3 + 3\n",
    "4 + 6"
   ]
  },
  {
   "cell_type": "code",
   "execution_count": null,
   "id": "4df0c130",
   "metadata": {},
   "outputs": [],
   "source": [
    "# variables defined in one cell are accessible in other cells:\n",
    "\n",
    "x + 3"
   ]
  },
  {
   "cell_type": "code",
   "execution_count": null,
   "id": "9555c837",
   "metadata": {},
   "outputs": [],
   "source": [
    "# only the order you run cells in matters, not how they're arranged in the Notebook.\n",
    "# if you run this cell, then run the previous cell again, its output will change to '12'.\n",
    "\n",
    "x = 9"
   ]
  },
  {
   "cell_type": "code",
   "execution_count": null,
   "id": "7ee3a3c7",
   "metadata": {},
   "outputs": [],
   "source": [
    "# being able to run cells out of order is very convenient, but can get confusing.\n",
    "# wrapping variable definitions in functions is a good way to make sure they don't \n",
    "# end up in places you'd rather they didn't:\n",
    "\n",
    "def timestwo(number):\n",
    "    \"\"\"multiplies things by 2.\"\"\"\n",
    "    y = number * 2\n",
    "    return y\n",
    "\n",
    "print(timestwo(2))\n",
    "try:\n",
    "    print(y)\n",
    "except NameError:\n",
    "    print(\"y didn't sneak out of the scope of timestwo().\")"
   ]
  },
  {
   "cell_type": "markdown",
   "id": "d85999cb-aa94-41f2-a688-183d08bb75c9",
   "metadata": {},
   "source": [
    "# TODO: Not available in all versions of jupyter (not in 7), make sure we use a compatible version"
   ]
  },
  {
   "cell_type": "code",
   "execution_count": null,
   "id": "a593b4bc",
   "metadata": {},
   "outputs": [],
   "source": [
    "# if a cell's output is very long, Jupyter will put its output in a scrolling\n",
    "# panel. if you like, you can switch a cell's output between scrolling \n",
    "# and non-scrolling modes by using Shift+O in Command Mode.\n",
    "# you can also completely hide and unhide output by using O. try it out:\n",
    "\n",
    "for i in range(1000):\n",
    "    print(i)"
   ]
  },
  {
   "cell_type": "markdown",
   "id": "5d8dcc36",
   "metadata": {},
   "source": [
    "----\n",
    "# interactive help"
   ]
  },
  {
   "cell_type": "code",
   "execution_count": null,
   "id": "139db073",
   "metadata": {},
   "outputs": [],
   "source": [
    "# Jupyter has great interactive help and inspection features.\n",
    "# if you place '?' after a variable and run the cell, it will open\n",
    "# up a panel with some basic information about the object the variable refers to,\n",
    "# including its type, its docstring (if any), its string representation, the module\n",
    "# it's defined in (if available), and, if it's a function (including a class constructor), \n",
    "# its signature. \n",
    "\n",
    "# You can grow or shrink the panel by dragging its border.\n",
    "# You can close the panel with Escape or by clicking its X button.\n",
    "\n",
    "# this will show you that x is the integer 9, and also tell you about Python ints:\n",
    "\n",
    "x?"
   ]
  },
  {
   "cell_type": "code",
   "execution_count": null,
   "id": "1c7d97cc",
   "metadata": {},
   "outputs": [],
   "source": [
    "# if you place '??' after a variable, you'll also be able to see the object's complete \n",
    "# source code, if available. This will show you the full definition of timestwo() from \n",
    "# the earlier cell:\n",
    "\n",
    "timestwo??"
   ]
  },
  {
   "cell_type": "code",
   "execution_count": null,
   "id": "214c59b3",
   "metadata": {},
   "outputs": [],
   "source": [
    "# if you'd like to print help text so that it sticks around, you can use the built-in\n",
    "# Python help function:\n",
    "\n",
    "help(str)"
   ]
  },
  {
   "cell_type": "markdown",
   "id": "2b7f6104",
   "metadata": {},
   "source": [
    "----\n",
    "\n",
    "# system operations \n",
    "\n",
    "\n",
    "### saving\n",
    "\n",
    "Notebook autosaves every few minutes. This means that if you make changes to a Notebook, they'll stick around in the file. If you want to make *sure* that your work is saved, you can press `Ctrl+S` (on Mac `Command+S`) to 'save and checkpoint'. This not only immediately saves the Notebook, but creates a 'checkpoint' -- a timestamped version of the Notebook file. You can later use 'revert to checkpoint' in the File menu to go back to that specific state.\n",
    "\n",
    "### closing\n",
    "\n",
    "If you terminate the Jupyter Server by pressing `Ctrl+C` in the terminal you executed it in, it will shut down all running Notebooks.\n",
    "\n",
    "If you are running multiple Notebooks and want to shut down a specific one, use the 'close and shut down Notebook' option in the File menu.\n",
    "\n",
    "### restarting\n",
    "\n",
    "You can restart a Notebook by pressing `0` twice in Command Mode. This preserves printed output but completely resets the state of the Python interpreter. If you also want to clear all output, making the Notebook pristine, use the 'restart and clear output' option in the Kernel menu.\n",
    "\n",
    "### interrupting\n",
    "\n",
    "If you want to stop a running cell -- maybe because you've noticed there's an infinite loop or something -- you can press `I` twice in Command Mode to interrupt the Notebook. \n",
    "\n",
    "*Technical note: this is just like pressing Ctrl+C in a terminal. It works by raising a `KeyboardInterrupt` exception in the interpreter.*"
   ]
  },
  {
   "cell_type": "markdown",
   "id": "428f9bac",
   "metadata": {},
   "source": [
    "----\n",
    "# importing code\n",
    "\n",
    "Import statements work in Notebooks just like they do in other Python code: if you want to use Python objects that aren't defined in the Notebook and aren't [Python built-ins](https://docs.python.org/3/library/functions.html), you need to import them. See the example below.\n",
    "\n",
    "*Technical note: importing code **into** a Notebook is easy, but [importing code **from** a Notebook is complicated](https://jupyter-notebook.readthedocs.io/en/stable/examples/Notebook/Importing%20Notebooks.html), and we don't advise doing it. If you want to reuse a piece of code you wrote in a Notebook, you should put it in a regular Python module.*"
   ]
  },
  {
   "cell_type": "code",
   "execution_count": null,
   "id": "7db47c26",
   "metadata": {},
   "outputs": [],
   "source": [
    "# this attempt to use search() from re, the Python Standard Library's regex\n",
    "# module, won't work:\n",
    "\n",
    "try:\n",
    "    ip_address = re.search(\n",
    "        \"(?:\\d{1,3}\\.){3}\\d{1,3}(:\\d{2,4})?\", \n",
    "        \"Jupyter Server's default address is 127.0.0.1:8888.\"\n",
    "    ).group()\n",
    "    print(ip_address)\n",
    "except NameError as err:\n",
    "    print(err)"
   ]
  },
  {
   "cell_type": "code",
   "execution_count": null,
   "id": "cbd1f082",
   "metadata": {},
   "outputs": [],
   "source": [
    "# however, if you run this import statement, the previous cell will work.\n",
    "import re"
   ]
  },
  {
   "cell_type": "markdown",
   "id": "1937dfa9",
   "metadata": {},
   "source": [
    "----\n",
    "# cell types\n",
    "\n",
    "Notebooks have three types of cell. You've seen two of them in this Notebook: code cells and Markdown cells. \n",
    "* Code cells have an `[ ]` in their left sidebar, and Notebook treats them as executable code. As you've seen, when you run a code cell, Notebook runs the code in that cell.\n",
    "* Markdown cells -- like this one -- have highlighted Markdown syntax but no `[ ]`. When you run a Markdown cell, Notebook typesets the text in that cell, letting you make italics, headers, lists, and so on -- just like this cell. Enter Edit Mode in the next cell for more examples.\n",
    "* There are also plain text cells, which just hold any text you type and don't do anything with it.\n",
    "\n",
    "From Command Mode, you can change the type of a highlighted cell by pressing `y` (for code), `m` (for Markdown), or `r` (for plain text)."
   ]
  },
  {
   "cell_type": "markdown",
   "id": "6b4ba23b-643d-4f7a-85f8-7e46d911cd21",
   "metadata": {},
   "source": [
    "# This is \n",
    "\n",
    "## an example\n",
    "\n",
    "### Markdown \n",
    "\n",
    "#### cell.\n",
    "\n",
    "**Markdown is a markup language** *that lets you* \n",
    "`format` ***text*** [in many different ways.](https://www.markdownguide.org/)\n",
    "1. including\n",
    "2. different\n",
    "    * types\n",
    "    * of\n",
    "    * lists,\n",
    "\n",
    "mathematical expressions,\n",
    "$$\\sin \\kappa = \\int_\\epsilon^{\\epsilon+\\delta} \\sqrt{1 - \\gamma^2}$$\n",
    "\n",
    "> quotations,\n",
    "\n",
    "----\n",
    "\n",
    "```javascript\n",
    "// and nicely-highlighted (non-executable) code blocks.\n",
    "let markdownRenderHighlighted = code === in_ ? many : languages;\n",
    "```\n",
    "\n",
    "```erlang\n",
    "really(a) whole < lot -> of_languages;\n",
    "```"
   ]
  },
  {
   "cell_type": "markdown",
   "id": "a57b7063",
   "metadata": {},
   "source": [
    "----\n",
    "\n",
    "# special commands\n",
    "\n",
    "Finally, it's good to know that Notebook provides some special commands that aren't Python code. Here are a few useful examples. We'll use some more in subsequent Notebooks. [See the iPython documentation for a full list.](https://ipython.readthedocs.io/en/stable/interactive/magics.html)"
   ]
  },
  {
   "cell_type": "code",
   "execution_count": null,
   "id": "92e6ca24",
   "metadata": {},
   "outputs": [],
   "source": [
    "# 'line magics' have a % prefix and work as one-shot commands or modify a single line\n",
    "# of code. For instance, the %time magic measures how long a line of code takes to run:\n",
    "\n",
    "from time import sleep\n",
    "%time sleep(1)"
   ]
  },
  {
   "cell_type": "code",
   "execution_count": null,
   "id": "70d11975",
   "metadata": {},
   "outputs": [],
   "source": [
    "# %whos prints a table briefly describing all the objects \n",
    "# you've defined or imported in the top-level scope of the Notebook.\n",
    "\n",
    "%whos"
   ]
  },
  {
   "cell_type": "code",
   "execution_count": null,
   "id": "a70f23e2",
   "metadata": {},
   "outputs": [],
   "source": [
    "# %history prints the contents of all the cells you've run so far, in the order you ran them in.\n",
    "\n",
    "%history"
   ]
  },
  {
   "cell_type": "code",
   "execution_count": null,
   "id": "377b90e8",
   "metadata": {},
   "outputs": [],
   "source": [
    "%%time\n",
    "# 'cell magics' have a %% prefix and modify, or take instructions from, an entire cell.\n",
    "# cell magics always have to go at the very top of a cell.\n",
    "# the %%time magic measures how long a whole cell takes to run. \n",
    "\n",
    "for _ in range(10):\n",
    "    sleep(0.1)"
   ]
  },
  {
   "cell_type": "code",
   "execution_count": null,
   "id": "678f6615",
   "metadata": {},
   "outputs": [],
   "source": [
    "# You can also directly run commands in the system shell by prefixing them with !. You can\n",
    "# even assign the output of these commands to variables and use them in Python code.\n",
    "# TODO: does this work in windows?\n",
    "\n",
    "notebooks = !ls *.ipynb\n",
    "for n in notebooks:\n",
    "    print(n.replace('.ipynb', ''))"
   ]
  },
  {
   "cell_type": "markdown",
   "id": "1ad286a1-cbb7-43e9-b0e3-ea07c8eb9d78",
   "metadata": {},
   "source": [
    "#### Okay, now you are ready to begin the content in _Knowing the Sky_! Let's move on to Lesson 1!"
   ]
  }
 ],
 "metadata": {
  "kernelspec": {
   "display_name": "Python 3 (ipykernel)",
   "language": "python",
   "name": "python3"
  },
  "language_info": {
   "codemirror_mode": {
    "name": "ipython",
    "version": 3
   },
   "file_extension": ".py",
   "mimetype": "text/x-python",
   "name": "python",
   "nbconvert_exporter": "python",
   "pygments_lexer": "ipython3",
   "version": "3.10.12"
  }
 },
 "nbformat": 4,
 "nbformat_minor": 5
}
