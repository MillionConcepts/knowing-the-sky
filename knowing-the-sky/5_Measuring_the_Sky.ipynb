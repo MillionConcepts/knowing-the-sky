{
 "cells": [
  {
   "cell_type": "markdown",
   "id": "8c5287a0-09a9-42d9-a109-74d4c5e13374",
   "metadata": {},
   "source": [
    "_Learning objectives_: Understanding of the “wrapper” concept; ability to find and download SPICE kernels; ability to use spiceypy to load ephemeris data from SPICE kernels; basic facility with building sympy expressions and converting them to numerical functions."
   ]
  },
  {
   "cell_type": "code",
   "execution_count": null,
   "id": "f9dba45f",
   "metadata": {},
   "outputs": [],
   "source": [
    "#These imports don't all need to be here; these are based on the libraries we discussed in the proposal\n",
    "import sympy\n",
    "import spiceypy"
   ]
  }
 ],
 "metadata": {
  "kernelspec": {
   "display_name": "Python 3 (ipykernel)",
   "language": "python",
   "name": "python3"
  },
  "language_info": {
   "codemirror_mode": {
    "name": "ipython",
    "version": 3
   },
   "file_extension": ".py",
   "mimetype": "text/x-python",
   "name": "python",
   "nbconvert_exporter": "python",
   "pygments_lexer": "ipython3",
   "version": "3.12.0"
  }
 },
 "nbformat": 4,
 "nbformat_minor": 5
}
