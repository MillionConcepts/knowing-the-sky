{
 "cells": [
  {
   "cell_type": "code",
   "execution_count": 1,
   "id": "5161289c-8780-4d74-8ea1-348be4ed9f02",
   "metadata": {},
   "outputs": [
    {
     "ename": "ModuleNotFoundError",
     "evalue": "No module named 'pypdf'",
     "output_type": "error",
     "traceback": [
      "\u001b[0;31m---------------------------------------------------------------------------\u001b[0m",
      "\u001b[0;31mModuleNotFoundError\u001b[0m                       Traceback (most recent call last)",
      "Cell \u001b[0;32mIn[1], line 4\u001b[0m\n\u001b[1;32m      1\u001b[0m \u001b[38;5;28;01mfrom\u001b[39;00m \u001b[38;5;21;01mcollections\u001b[39;00m \u001b[38;5;28;01mimport\u001b[39;00m defaultdict\n\u001b[1;32m      2\u001b[0m \u001b[38;5;28;01mfrom\u001b[39;00m \u001b[38;5;21;01mpathlib\u001b[39;00m \u001b[38;5;28;01mimport\u001b[39;00m Path\n\u001b[0;32m----> 4\u001b[0m \u001b[38;5;28;01mimport\u001b[39;00m \u001b[38;5;21;01mpypdf\u001b[39;00m\n",
      "\u001b[0;31mModuleNotFoundError\u001b[0m: No module named 'pypdf'"
     ]
    }
   ],
   "source": [
    "from collections import defaultdict\n",
    "from pathlib import Path\n",
    "\n",
    "import pypdf"
   ]
  },
  {
   "cell_type": "code",
   "execution_count": 16,
   "id": "26e3fb8b-e2b1-418b-bf15-4b5e59c21c6a",
   "metadata": {},
   "outputs": [],
   "source": [
    "pdf_dir = Path('pdfs')\n",
    "pdf_texts = defaultdict(list)\n",
    "for pdf in pdf_dir.iterdir():\n",
    "    reader = pypdf.PdfReader(pdf)\n",
    "    for page in reader.pages:\n",
    "        pdf_texts[pdf.name].append(page.extract_text())\n",
    "    pdf_texts[pdf.name] = \"\\n\\n----\\n\\n\".join(pdf_texts[pdf.name])"
   ]
  },
  {
   "cell_type": "code",
   "execution_count": 22,
   "id": "ffa27bb5-48b1-4ef6-a24e-8bc3658b0994",
   "metadata": {},
   "outputs": [],
   "source": [
    "text_dir = Path('texts')\n",
    "text_dir.mkdir(exist_ok=True)\n",
    "for fn, text in pdf_texts.items():\n",
    "    with (text_dir / fn.replace('pdf', 'txt')).open('w') as stream:\n",
    "        stream.write(text)"
   ]
  }
 ],
 "metadata": {
  "kernelspec": {
   "display_name": "Python 3 (ipykernel)",
   "language": "python",
   "name": "python3"
  },
  "language_info": {
   "codemirror_mode": {
    "name": "ipython",
    "version": 3
   },
   "file_extension": ".py",
   "mimetype": "text/x-python",
   "name": "python",
   "nbconvert_exporter": "python",
   "pygments_lexer": "ipython3",
   "version": "3.10.12"
  }
 },
 "nbformat": 4,
 "nbformat_minor": 5
}