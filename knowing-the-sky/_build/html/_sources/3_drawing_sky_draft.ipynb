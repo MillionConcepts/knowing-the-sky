{
 "cells": [
  {
   "cell_type": "code",
   "execution_count": 1,
   "id": "13221c7f",
   "metadata": {},
   "outputs": [],
   "source": [
    "from astropy.coordinates import AltAz, EarthLocation, SkyCoord\n",
    "import astropy.time as at\n",
    "import matplotlib.pyplot as plt\n",
    "import numpy as np\n",
    "import pandas as pd\n",
    "\n",
    "pd.set_option('display.min_rows', 100)\n",
    "pd.set_option('display.max_rows', 100)\n",
    "%matplotlib qt"
   ]
  },
  {
   "cell_type": "markdown",
   "id": "3ed3ec7c",
   "metadata": {},
   "source": [
    "## coordinate transformations\n",
    "\n",
    "The version of the Bright Star Catalog we fetched through Vizier defines star coordinates in 'J2000'. 'J2000' is a vague term: it can refer to any coordinate system referenced to the celestial equator and equinox of January 1st, 2000 TT (Terrestrial Time -- like Atomic Time but with a small offset), and there are several such systems. *todo: more about transforming time systems? this level of precision is not actually important for this problem...* Usually, however, it refers to an equatorial coordinate system whose origin is at the barycenter of the Solar System, and is interchangeable for most purposes with the International Celestial Reference System (ICRS). **todo, maybe: do i need to talk about what an equatorial coordinate system is? does it matter?**\n",
    "\n",
    "An equatorial system is a type of inertial coordinate system. Inertial coordinate systems are acceleration-independent and very useful for specifying precise positions and orientations of objects in different accelerational frames. However, body-fixed systems, which move with a particular object such as a planet, and topocentric systems, which are relative to a particular observer, are often more useful for determining _apparent_ positions and trajectories of objects.\n",
    "\n",
    "Transforming coordinates into other systems is one of the most common tasks in computing for planetary science and astronomy. The scientific Python ecosystem offers many tools to facilitate this task, and some of the most straightforward ones live in `astropy`."
   ]
  },
  {
   "cell_type": "code",
   "execution_count": 2,
   "id": "b06cf76d",
   "metadata": {},
   "outputs": [
    {
     "ename": "FileNotFoundError",
     "evalue": "[Errno 2] No such file or directory: 'bright_star_directory/bsc_clean.csv'",
     "output_type": "error",
     "traceback": [
      "\u001b[0;31m---------------------------------------------------------------------------\u001b[0m",
      "\u001b[0;31mFileNotFoundError\u001b[0m                         Traceback (most recent call last)",
      "Cell \u001b[0;32mIn[2], line 2\u001b[0m\n\u001b[1;32m      1\u001b[0m \u001b[38;5;66;03m# let's read our cleaned-up version of the Bright Star Catalog back in.\u001b[39;00m\n\u001b[0;32m----> 2\u001b[0m bsc \u001b[38;5;241m=\u001b[39m \u001b[43mpd\u001b[49m\u001b[38;5;241;43m.\u001b[39;49m\u001b[43mread_csv\u001b[49m\u001b[43m(\u001b[49m\u001b[38;5;124;43m'\u001b[39;49m\u001b[38;5;124;43mbright_star_directory/bsc_clean.csv\u001b[39;49m\u001b[38;5;124;43m'\u001b[39;49m\u001b[43m)\u001b[49m\n\u001b[1;32m      3\u001b[0m \u001b[38;5;66;03m# then, let's make a SkyCoord object. SkyCoord is astropy's core class\u001b[39;00m\n\u001b[1;32m      4\u001b[0m \u001b[38;5;66;03m# for representing the coordinates of celestial objects.\u001b[39;00m\n\u001b[1;32m      5\u001b[0m \u001b[38;5;66;03m# You can specify other coordinate systems when you initialize a SkyCoord,\u001b[39;00m\n\u001b[1;32m      6\u001b[0m \u001b[38;5;66;03m# but ICRS is the default, which is convenient for us here.\u001b[39;00m\n\u001b[1;32m      7\u001b[0m star_coords \u001b[38;5;241m=\u001b[39m SkyCoord(\n\u001b[1;32m      8\u001b[0m     ra\u001b[38;5;241m=\u001b[39mbsc[\u001b[38;5;124m'\u001b[39m\u001b[38;5;124mRAJ2000\u001b[39m\u001b[38;5;124m'\u001b[39m], dec\u001b[38;5;241m=\u001b[39mbsc[\u001b[38;5;124m'\u001b[39m\u001b[38;5;124mDEJ2000\u001b[39m\u001b[38;5;124m'\u001b[39m], unit\u001b[38;5;241m=\u001b[39m\u001b[38;5;124m'\u001b[39m\u001b[38;5;124mdeg\u001b[39m\u001b[38;5;124m'\u001b[39m\n\u001b[1;32m      9\u001b[0m )\n",
      "File \u001b[0;32m~/mambaforge/envs/topst/lib/python3.10/site-packages/pandas/io/parsers/readers.py:948\u001b[0m, in \u001b[0;36mread_csv\u001b[0;34m(filepath_or_buffer, sep, delimiter, header, names, index_col, usecols, dtype, engine, converters, true_values, false_values, skipinitialspace, skiprows, skipfooter, nrows, na_values, keep_default_na, na_filter, verbose, skip_blank_lines, parse_dates, infer_datetime_format, keep_date_col, date_parser, date_format, dayfirst, cache_dates, iterator, chunksize, compression, thousands, decimal, lineterminator, quotechar, quoting, doublequote, escapechar, comment, encoding, encoding_errors, dialect, on_bad_lines, delim_whitespace, low_memory, memory_map, float_precision, storage_options, dtype_backend)\u001b[0m\n\u001b[1;32m    935\u001b[0m kwds_defaults \u001b[38;5;241m=\u001b[39m _refine_defaults_read(\n\u001b[1;32m    936\u001b[0m     dialect,\n\u001b[1;32m    937\u001b[0m     delimiter,\n\u001b[0;32m   (...)\u001b[0m\n\u001b[1;32m    944\u001b[0m     dtype_backend\u001b[38;5;241m=\u001b[39mdtype_backend,\n\u001b[1;32m    945\u001b[0m )\n\u001b[1;32m    946\u001b[0m kwds\u001b[38;5;241m.\u001b[39mupdate(kwds_defaults)\n\u001b[0;32m--> 948\u001b[0m \u001b[38;5;28;01mreturn\u001b[39;00m \u001b[43m_read\u001b[49m\u001b[43m(\u001b[49m\u001b[43mfilepath_or_buffer\u001b[49m\u001b[43m,\u001b[49m\u001b[43m \u001b[49m\u001b[43mkwds\u001b[49m\u001b[43m)\u001b[49m\n",
      "File \u001b[0;32m~/mambaforge/envs/topst/lib/python3.10/site-packages/pandas/io/parsers/readers.py:611\u001b[0m, in \u001b[0;36m_read\u001b[0;34m(filepath_or_buffer, kwds)\u001b[0m\n\u001b[1;32m    608\u001b[0m _validate_names(kwds\u001b[38;5;241m.\u001b[39mget(\u001b[38;5;124m\"\u001b[39m\u001b[38;5;124mnames\u001b[39m\u001b[38;5;124m\"\u001b[39m, \u001b[38;5;28;01mNone\u001b[39;00m))\n\u001b[1;32m    610\u001b[0m \u001b[38;5;66;03m# Create the parser.\u001b[39;00m\n\u001b[0;32m--> 611\u001b[0m parser \u001b[38;5;241m=\u001b[39m \u001b[43mTextFileReader\u001b[49m\u001b[43m(\u001b[49m\u001b[43mfilepath_or_buffer\u001b[49m\u001b[43m,\u001b[49m\u001b[43m \u001b[49m\u001b[38;5;241;43m*\u001b[39;49m\u001b[38;5;241;43m*\u001b[39;49m\u001b[43mkwds\u001b[49m\u001b[43m)\u001b[49m\n\u001b[1;32m    613\u001b[0m \u001b[38;5;28;01mif\u001b[39;00m chunksize \u001b[38;5;129;01mor\u001b[39;00m iterator:\n\u001b[1;32m    614\u001b[0m     \u001b[38;5;28;01mreturn\u001b[39;00m parser\n",
      "File \u001b[0;32m~/mambaforge/envs/topst/lib/python3.10/site-packages/pandas/io/parsers/readers.py:1448\u001b[0m, in \u001b[0;36mTextFileReader.__init__\u001b[0;34m(self, f, engine, **kwds)\u001b[0m\n\u001b[1;32m   1445\u001b[0m     \u001b[38;5;28mself\u001b[39m\u001b[38;5;241m.\u001b[39moptions[\u001b[38;5;124m\"\u001b[39m\u001b[38;5;124mhas_index_names\u001b[39m\u001b[38;5;124m\"\u001b[39m] \u001b[38;5;241m=\u001b[39m kwds[\u001b[38;5;124m\"\u001b[39m\u001b[38;5;124mhas_index_names\u001b[39m\u001b[38;5;124m\"\u001b[39m]\n\u001b[1;32m   1447\u001b[0m \u001b[38;5;28mself\u001b[39m\u001b[38;5;241m.\u001b[39mhandles: IOHandles \u001b[38;5;241m|\u001b[39m \u001b[38;5;28;01mNone\u001b[39;00m \u001b[38;5;241m=\u001b[39m \u001b[38;5;28;01mNone\u001b[39;00m\n\u001b[0;32m-> 1448\u001b[0m \u001b[38;5;28mself\u001b[39m\u001b[38;5;241m.\u001b[39m_engine \u001b[38;5;241m=\u001b[39m \u001b[38;5;28;43mself\u001b[39;49m\u001b[38;5;241;43m.\u001b[39;49m\u001b[43m_make_engine\u001b[49m\u001b[43m(\u001b[49m\u001b[43mf\u001b[49m\u001b[43m,\u001b[49m\u001b[43m \u001b[49m\u001b[38;5;28;43mself\u001b[39;49m\u001b[38;5;241;43m.\u001b[39;49m\u001b[43mengine\u001b[49m\u001b[43m)\u001b[49m\n",
      "File \u001b[0;32m~/mambaforge/envs/topst/lib/python3.10/site-packages/pandas/io/parsers/readers.py:1705\u001b[0m, in \u001b[0;36mTextFileReader._make_engine\u001b[0;34m(self, f, engine)\u001b[0m\n\u001b[1;32m   1703\u001b[0m     \u001b[38;5;28;01mif\u001b[39;00m \u001b[38;5;124m\"\u001b[39m\u001b[38;5;124mb\u001b[39m\u001b[38;5;124m\"\u001b[39m \u001b[38;5;129;01mnot\u001b[39;00m \u001b[38;5;129;01min\u001b[39;00m mode:\n\u001b[1;32m   1704\u001b[0m         mode \u001b[38;5;241m+\u001b[39m\u001b[38;5;241m=\u001b[39m \u001b[38;5;124m\"\u001b[39m\u001b[38;5;124mb\u001b[39m\u001b[38;5;124m\"\u001b[39m\n\u001b[0;32m-> 1705\u001b[0m \u001b[38;5;28mself\u001b[39m\u001b[38;5;241m.\u001b[39mhandles \u001b[38;5;241m=\u001b[39m \u001b[43mget_handle\u001b[49m\u001b[43m(\u001b[49m\n\u001b[1;32m   1706\u001b[0m \u001b[43m    \u001b[49m\u001b[43mf\u001b[49m\u001b[43m,\u001b[49m\n\u001b[1;32m   1707\u001b[0m \u001b[43m    \u001b[49m\u001b[43mmode\u001b[49m\u001b[43m,\u001b[49m\n\u001b[1;32m   1708\u001b[0m \u001b[43m    \u001b[49m\u001b[43mencoding\u001b[49m\u001b[38;5;241;43m=\u001b[39;49m\u001b[38;5;28;43mself\u001b[39;49m\u001b[38;5;241;43m.\u001b[39;49m\u001b[43moptions\u001b[49m\u001b[38;5;241;43m.\u001b[39;49m\u001b[43mget\u001b[49m\u001b[43m(\u001b[49m\u001b[38;5;124;43m\"\u001b[39;49m\u001b[38;5;124;43mencoding\u001b[39;49m\u001b[38;5;124;43m\"\u001b[39;49m\u001b[43m,\u001b[49m\u001b[43m \u001b[49m\u001b[38;5;28;43;01mNone\u001b[39;49;00m\u001b[43m)\u001b[49m\u001b[43m,\u001b[49m\n\u001b[1;32m   1709\u001b[0m \u001b[43m    \u001b[49m\u001b[43mcompression\u001b[49m\u001b[38;5;241;43m=\u001b[39;49m\u001b[38;5;28;43mself\u001b[39;49m\u001b[38;5;241;43m.\u001b[39;49m\u001b[43moptions\u001b[49m\u001b[38;5;241;43m.\u001b[39;49m\u001b[43mget\u001b[49m\u001b[43m(\u001b[49m\u001b[38;5;124;43m\"\u001b[39;49m\u001b[38;5;124;43mcompression\u001b[39;49m\u001b[38;5;124;43m\"\u001b[39;49m\u001b[43m,\u001b[49m\u001b[43m \u001b[49m\u001b[38;5;28;43;01mNone\u001b[39;49;00m\u001b[43m)\u001b[49m\u001b[43m,\u001b[49m\n\u001b[1;32m   1710\u001b[0m \u001b[43m    \u001b[49m\u001b[43mmemory_map\u001b[49m\u001b[38;5;241;43m=\u001b[39;49m\u001b[38;5;28;43mself\u001b[39;49m\u001b[38;5;241;43m.\u001b[39;49m\u001b[43moptions\u001b[49m\u001b[38;5;241;43m.\u001b[39;49m\u001b[43mget\u001b[49m\u001b[43m(\u001b[49m\u001b[38;5;124;43m\"\u001b[39;49m\u001b[38;5;124;43mmemory_map\u001b[39;49m\u001b[38;5;124;43m\"\u001b[39;49m\u001b[43m,\u001b[49m\u001b[43m \u001b[49m\u001b[38;5;28;43;01mFalse\u001b[39;49;00m\u001b[43m)\u001b[49m\u001b[43m,\u001b[49m\n\u001b[1;32m   1711\u001b[0m \u001b[43m    \u001b[49m\u001b[43mis_text\u001b[49m\u001b[38;5;241;43m=\u001b[39;49m\u001b[43mis_text\u001b[49m\u001b[43m,\u001b[49m\n\u001b[1;32m   1712\u001b[0m \u001b[43m    \u001b[49m\u001b[43merrors\u001b[49m\u001b[38;5;241;43m=\u001b[39;49m\u001b[38;5;28;43mself\u001b[39;49m\u001b[38;5;241;43m.\u001b[39;49m\u001b[43moptions\u001b[49m\u001b[38;5;241;43m.\u001b[39;49m\u001b[43mget\u001b[49m\u001b[43m(\u001b[49m\u001b[38;5;124;43m\"\u001b[39;49m\u001b[38;5;124;43mencoding_errors\u001b[39;49m\u001b[38;5;124;43m\"\u001b[39;49m\u001b[43m,\u001b[49m\u001b[43m \u001b[49m\u001b[38;5;124;43m\"\u001b[39;49m\u001b[38;5;124;43mstrict\u001b[39;49m\u001b[38;5;124;43m\"\u001b[39;49m\u001b[43m)\u001b[49m\u001b[43m,\u001b[49m\n\u001b[1;32m   1713\u001b[0m \u001b[43m    \u001b[49m\u001b[43mstorage_options\u001b[49m\u001b[38;5;241;43m=\u001b[39;49m\u001b[38;5;28;43mself\u001b[39;49m\u001b[38;5;241;43m.\u001b[39;49m\u001b[43moptions\u001b[49m\u001b[38;5;241;43m.\u001b[39;49m\u001b[43mget\u001b[49m\u001b[43m(\u001b[49m\u001b[38;5;124;43m\"\u001b[39;49m\u001b[38;5;124;43mstorage_options\u001b[39;49m\u001b[38;5;124;43m\"\u001b[39;49m\u001b[43m,\u001b[49m\u001b[43m \u001b[49m\u001b[38;5;28;43;01mNone\u001b[39;49;00m\u001b[43m)\u001b[49m\u001b[43m,\u001b[49m\n\u001b[1;32m   1714\u001b[0m \u001b[43m\u001b[49m\u001b[43m)\u001b[49m\n\u001b[1;32m   1715\u001b[0m \u001b[38;5;28;01massert\u001b[39;00m \u001b[38;5;28mself\u001b[39m\u001b[38;5;241m.\u001b[39mhandles \u001b[38;5;129;01mis\u001b[39;00m \u001b[38;5;129;01mnot\u001b[39;00m \u001b[38;5;28;01mNone\u001b[39;00m\n\u001b[1;32m   1716\u001b[0m f \u001b[38;5;241m=\u001b[39m \u001b[38;5;28mself\u001b[39m\u001b[38;5;241m.\u001b[39mhandles\u001b[38;5;241m.\u001b[39mhandle\n",
      "File \u001b[0;32m~/mambaforge/envs/topst/lib/python3.10/site-packages/pandas/io/common.py:863\u001b[0m, in \u001b[0;36mget_handle\u001b[0;34m(path_or_buf, mode, encoding, compression, memory_map, is_text, errors, storage_options)\u001b[0m\n\u001b[1;32m    858\u001b[0m \u001b[38;5;28;01melif\u001b[39;00m \u001b[38;5;28misinstance\u001b[39m(handle, \u001b[38;5;28mstr\u001b[39m):\n\u001b[1;32m    859\u001b[0m     \u001b[38;5;66;03m# Check whether the filename is to be opened in binary mode.\u001b[39;00m\n\u001b[1;32m    860\u001b[0m     \u001b[38;5;66;03m# Binary mode does not support 'encoding' and 'newline'.\u001b[39;00m\n\u001b[1;32m    861\u001b[0m     \u001b[38;5;28;01mif\u001b[39;00m ioargs\u001b[38;5;241m.\u001b[39mencoding \u001b[38;5;129;01mand\u001b[39;00m \u001b[38;5;124m\"\u001b[39m\u001b[38;5;124mb\u001b[39m\u001b[38;5;124m\"\u001b[39m \u001b[38;5;129;01mnot\u001b[39;00m \u001b[38;5;129;01min\u001b[39;00m ioargs\u001b[38;5;241m.\u001b[39mmode:\n\u001b[1;32m    862\u001b[0m         \u001b[38;5;66;03m# Encoding\u001b[39;00m\n\u001b[0;32m--> 863\u001b[0m         handle \u001b[38;5;241m=\u001b[39m \u001b[38;5;28;43mopen\u001b[39;49m\u001b[43m(\u001b[49m\n\u001b[1;32m    864\u001b[0m \u001b[43m            \u001b[49m\u001b[43mhandle\u001b[49m\u001b[43m,\u001b[49m\n\u001b[1;32m    865\u001b[0m \u001b[43m            \u001b[49m\u001b[43mioargs\u001b[49m\u001b[38;5;241;43m.\u001b[39;49m\u001b[43mmode\u001b[49m\u001b[43m,\u001b[49m\n\u001b[1;32m    866\u001b[0m \u001b[43m            \u001b[49m\u001b[43mencoding\u001b[49m\u001b[38;5;241;43m=\u001b[39;49m\u001b[43mioargs\u001b[49m\u001b[38;5;241;43m.\u001b[39;49m\u001b[43mencoding\u001b[49m\u001b[43m,\u001b[49m\n\u001b[1;32m    867\u001b[0m \u001b[43m            \u001b[49m\u001b[43merrors\u001b[49m\u001b[38;5;241;43m=\u001b[39;49m\u001b[43merrors\u001b[49m\u001b[43m,\u001b[49m\n\u001b[1;32m    868\u001b[0m \u001b[43m            \u001b[49m\u001b[43mnewline\u001b[49m\u001b[38;5;241;43m=\u001b[39;49m\u001b[38;5;124;43m\"\u001b[39;49m\u001b[38;5;124;43m\"\u001b[39;49m\u001b[43m,\u001b[49m\n\u001b[1;32m    869\u001b[0m \u001b[43m        \u001b[49m\u001b[43m)\u001b[49m\n\u001b[1;32m    870\u001b[0m     \u001b[38;5;28;01melse\u001b[39;00m:\n\u001b[1;32m    871\u001b[0m         \u001b[38;5;66;03m# Binary mode\u001b[39;00m\n\u001b[1;32m    872\u001b[0m         handle \u001b[38;5;241m=\u001b[39m \u001b[38;5;28mopen\u001b[39m(handle, ioargs\u001b[38;5;241m.\u001b[39mmode)\n",
      "\u001b[0;31mFileNotFoundError\u001b[0m: [Errno 2] No such file or directory: 'bright_star_directory/bsc_clean.csv'"
     ]
    }
   ],
   "source": [
    "# let's read our cleaned-up version of the Bright Star Catalog back in.\n",
    "bsc = pd.read_csv('bright_star_directory/bsc_clean.csv')\n",
    "# then, let's make a SkyCoord object. SkyCoord is astropy's core class\n",
    "# for representing the coordinates of celestial objects.\n",
    "# You can specify other coordinate systems when you initialize a SkyCoord,\n",
    "# but ICRS is the default, which is convenient for us here.\n",
    "star_coords = SkyCoord(\n",
    "    ra=bsc['RAJ2000'], dec=bsc['DEJ2000'], unit='deg'\n",
    ")"
   ]
  },
  {
   "cell_type": "markdown",
   "id": "ad0fc882",
   "metadata": {},
   "source": [
    "### transforming 'equivalent' systems and representations\n",
    "\n",
    "Transforming between inertial frames that are simply oriented differently is very easy in `astropy`. You can translate ICRS to systems like Galactic coordinates (another inertial coordinate system centered on the SSB, but with 'up' towards the center of the Milky Way) with no trouble at all. Similarly, if you'd prefer coordinates in Cartesian rather than spherical representation to make some calculation easier, you don't need to provide anything additional to `astropy`."
   ]
  },
  {
   "cell_type": "code",
   "execution_count": null,
   "id": "965d43da",
   "metadata": {},
   "outputs": [],
   "source": [
    "star_coords.galactic"
   ]
  },
  {
   "cell_type": "code",
   "execution_count": null,
   "id": "d957a397",
   "metadata": {},
   "outputs": [],
   "source": [
    "star_coords.cartesian"
   ]
  },
  {
   "cell_type": "markdown",
   "id": "9da8d35d",
   "metadata": {},
   "source": [
    "### transforming 'non-equivalent' systems\n",
    "\n",
    "Transforming inertial coordinates into topocentric or body-fixed coordinates, however, requires more information. Because these systems take body position and acceleration into account, you need a reliable ephemeris, a specific point in time, and, for topocentric systems, observer location relative to body center.\n",
    "\n",
    "Because we care about the 'position of rising' relative to an Earth-based observer, we will need to use a topocentric coordinate system: specifically, an altitude-azimuth system. \n",
    "\n",
    "**todo: what do you do if you need more precision? what about non-Earth bodies?**"
   ]
  },
  {
   "cell_type": "code",
   "execution_count": null,
   "id": "4de6cef5",
   "metadata": {},
   "outputs": [],
   "source": [
    "# we'll want to check the position of the sun and moon to look for 'betweenness'.\n",
    "# we'll also later want to filter daylight times.\n",
    "\n",
    "# TODO: explanation of 'solstice' definition related to fullness, c.f. our discussion,\n",
    "# pending also discussion with Shandin re: Salish perceptions of the relationship\n",
    "# or lack thereof between the winter solstice and the full moon\n",
    "\n",
    "# there are lots of ways to get data on the position of objects in the Solar System; \n",
    "# one of the best is to query the JPL Horizons service. It has a solid web interface, \n",
    "# but multiple wrappers for it also exist that make it easier to get data into Python.\n",
    "# our favorite is called lhorizon.\n",
    "from lhorizon import LHorizon"
   ]
  },
  {
   "cell_type": "code",
   "execution_count": null,
   "id": "f237ee26",
   "metadata": {},
   "outputs": [],
   "source": [
    "seattle_coords = {\n",
    "    'lat': 47.6062, \n",
    "    'lon': (360 - 122.3321),\n",
    "    'elevation': 0,\n",
    "    # 399 is the horizons code for Earth\n",
    "    'body': 399\n",
    "}\n",
    "# this means: 'give me times starting at Jan 1 1900 and ending at Jan 20 1901, at 1-hour intervals'.\n",
    "# we're getting a little more than a year to give us some numerical 'room' later.\n",
    "epochs = {\n",
    "    'start': '1900-01-01',\n",
    "    'stop': '1901-01-20',\n",
    "    'step': '1m'\n",
    "}\n",
    "# at this point, we only care about rising and setting times, so we're turning on the \n",
    "# 'rise_transit_set' flag, which causes Horizons to only return times when a body...\n",
    "# rises, transits, or sets.\n",
    "query_options = {'rise_transit_set': True}\n",
    "\n",
    "# initialize a LHorizon object. this works something like the Vizier object\n",
    "# we saw in the last notebook -- it represents a query, or a potential\n",
    "# query, to the Horizons service.\n",
    "\n",
    "# 10 is the Horizons code for the Sun.\n",
    "# calling the .dataframe() method automatically queries Horizons\n",
    "# and formats its response as a pandas dataframe. .table() provides\n",
    "# a more compact representation but does not have all the fields we'll need.\n",
    "# this query will probably take 15-30 seconds.\n",
    "sun_positions = LHorizon(\n",
    "    target=10, origin=seattle_coords, epochs=epochs, query_options=query_options\n",
    ").dataframe()"
   ]
  },
  {
   "cell_type": "code",
   "execution_count": null,
   "id": "3dc38116",
   "metadata": {},
   "outputs": [],
   "source": [
    "# create a pandas datetime column so we can do math with it\n",
    "sun_positions['date'] = sun_positions['Date__(UT)__HR:MN'].astype('datetime64[ns]')\n",
    "# Horizons returns UTC times, so we'll also offset that by 7 hours.\n",
    "sun_positions['local'] = sun_positions['date'] - pd.Timedelta(hours=7)\n",
    "# in rise-transit-set mode, Horizons uses the 'interference_flag' column to note\n",
    "# which event has happened. to get sunrises, we'll filter the dataframe for just \n",
    "# 'r' (rising).\n",
    "sunrises = sun_positions.loc[sun_positions['interference_flag'] == 'r'].copy().reset_index(drop=True)"
   ]
  },
  {
   "cell_type": "code",
   "execution_count": null,
   "id": "7de857bf",
   "metadata": {},
   "outputs": [],
   "source": [
    "# now let's do the same thing with the Moon. \n",
    "# this query will also probably take about 15-30 seconds.\n",
    "moon_positions = LHorizon(\n",
    "    # 301 is the Horizons code for the Moon\n",
    "    target=301, origin=seattle_coords, epochs=epochs, query_options=query_options\n",
    ").dataframe()"
   ]
  },
  {
   "cell_type": "code",
   "execution_count": null,
   "id": "bd2c83de",
   "metadata": {},
   "outputs": [],
   "source": [
    "moon_positions['date'] = moon_positions['Date__(UT)__HR:MN'].astype('datetime64[ns]')\n",
    "moon_positions['local'] = moon_positions['date'] - pd.Timedelta(hours=7)\n",
    "moonrises = moon_positions.loc[moon_positions['interference_flag'] == 'r'].copy().reset_index(drop=True)"
   ]
  },
  {
   "cell_type": "code",
   "execution_count": null,
   "id": "76349628",
   "metadata": {},
   "outputs": [],
   "source": [
    "# in contemporary Western astronomy, 'winter solstice' has a distinct technical definition.\n",
    "# but -- across many cultures -- practical astronomy tends to detect the winter solstice\n",
    "# partly by the southernmost sunrise. (note that true south is a 180-degree azimuth.)\n",
    "# Even the precision of Horizons doesn't give us an \n",
    "# exact date based on this -- look at how the rate of change in rising azimuth bounces \n",
    "# around due to quantization noise:\n",
    "rising_azimuth_change = np.abs(np.diff(sunrises['Azi_(a-app)']))\n",
    "plt.plot(rising_azimuth_change)"
   ]
  },
  {
   "cell_type": "code",
   "execution_count": null,
   "id": "70d6249b",
   "metadata": {},
   "outputs": [],
   "source": [
    "rising_azimuths = sunrises['Azi_(a-app)']\n",
    "plt.plot(rising_azimuths)"
   ]
  },
  {
   "cell_type": "code",
   "execution_count": null,
   "id": "e8793e56",
   "metadata": {},
   "outputs": [],
   "source": [
    "# traditional methods often focused on grouping or counting days around\n",
    "# extreme positions of the sunrise. we can emulate that with a moving average.\n",
    "# surprisingly, Python doesn't offer a lot of\n",
    "# out-of-the-box methods for computing averages. building lowpass \n",
    "# filters with scipy.signal or using convolution techniques are\n",
    "# common options, but here, we'll use the pd.Series.rolling() method,\n",
    "# which yields windows of a specified size. You can then do various\n",
    "# mathematical operations on those windows -- including simple averages.\n",
    "# the first values will be NaN because the window isn't full yet --\n",
    "# but that's ok for our current purpose.\n",
    "rolling_azimuth = pd.Series(sunrises['Azi_(a-app)']).rolling(15)\n",
    "smoothed_azimuth = rolling_azimuth.mean()"
   ]
  },
  {
   "cell_type": "code",
   "execution_count": null,
   "id": "96673aae",
   "metadata": {},
   "outputs": [],
   "source": [
    "# this has gotten rid of the worst of the quantization noise, \n",
    "# especially in periods when the azimuth isn't changing much...\n",
    "# which is to say the summer and winter solstices.\n",
    "smoothed_azimuth_change = np.abs(np.diff(smoothed_azimuth))\n",
    "plt.plot(smoothed_azimuth_change)"
   ]
  },
  {
   "cell_type": "code",
   "execution_count": null,
   "id": "14fc89a8",
   "metadata": {},
   "outputs": [],
   "source": [
    "# we can now go ahead and pick out reasonable-by-human-scale\n",
    "# dates for the solstices by looking for the minima of this array.\n",
    "# np.argsort is an extremely powerful function that gives you the indices\n",
    "# that _would_ sort the array. we can use it to get indices for the\n",
    "# two minima.\n",
    "azimuth_change_indices = np.argsort(smoothed_azimuth_change)\n",
    "azimuth_change_indices[0:2]"
   ]
  },
  {
   "cell_type": "code",
   "execution_count": null,
   "id": "469b29e5",
   "metadata": {},
   "outputs": [],
   "source": [
    "# because our moving average window didn't 'fill up' immediately, \n",
    "# we can expect these indices to be shifted by about half the size of\n",
    "# the window from the 'true' minima. 7 is close enough to 15 / 2:\n",
    "solstice_indices = azimuth_change_indices[0:2] - 7"
   ]
  },
  {
   "cell_type": "code",
   "execution_count": null,
   "id": "ab1a2d4f",
   "metadata": {},
   "outputs": [],
   "source": [
    "# and then we can select rows from our sunrise table with them:\n",
    "solar_solstices = sunrises.loc[solstice_indices]"
   ]
  },
  {
   "cell_type": "code",
   "execution_count": null,
   "id": "1c0cd95a",
   "metadata": {},
   "outputs": [],
   "source": [
    "# the Sun is not necessarily the most important thing, though.\n",
    "# TODO: brief explanation of lunar calendars, which we'll talk more about later...\n",
    "# the full Moon nearest this position marks the 'real' winter solstice.\n",
    "# the 'Illu%' column of the moonrises table tells us how full the Moon is\n",
    "# at each moonrise. 0 would be a perfectly new moon; 100 a perfectly full moon.\n",
    "\n",
    "# full Moons and the solstices have a special relationship. let's take a look at it\n",
    "# before we select the specific days. we'll do that by using some features of matplotlib\n",
    "# to compare and color series.\n",
    "\n",
    "# moonrises and sunrises don't perfectly line up in time, of course, but we've got some tricks\n",
    "# with matplotlib. matplotlib will happily plot things with different numbers of points,\n",
    "# which means that whenever you've got directly-comparable axis -- in this case, local time --\n",
    "# you can use it to correctly align different chunks of data to match one another.\n",
    "# better yet, matplotlib is aware of datetimes, so we can put dates right on this axis.\n",
    "# it will automatically select ticks that will work for both time series.\n",
    "%matplotlib qt\n",
    "# use a black line for lunar azimuth\n",
    "plt.plot(moonrises['local'], moonrises['Azi_(a-app)'], c='black')\n",
    "# use a red line for solar azimuth\n",
    "plt.plot(sunrises['local'], sunrises['Azi_(a-app)'], c='red')\n",
    "# we're also going to show the phase of the moon at each rise using the plt.scatter function.\n",
    "# this will enable us to indicate phase by specifying a color scale, which plt.plot can't do.\n",
    "# greener means fuller; bluer means newer.\n",
    "# you'll note that the rising azimuths of the moon and sun, at the full moon, \n",
    "# are most similar near the equinoxes and most different at the solstices.\n",
    "plt.scatter(moonrises['local'], moonrises['Azi_(a-app)'], c=moonrises['Illu%'], s=50, cmap='winter')\n",
    "plt.colorbar()"
   ]
  },
  {
   "cell_type": "code",
   "execution_count": null,
   "id": "f2f57465",
   "metadata": {},
   "outputs": [],
   "source": [
    "# keeping this in mind, let's go ahead and pick the 'real' dates of the solstices --\n",
    "# the full moons nearest the summer and winter solstice."
   ]
  },
  {
   "cell_type": "code",
   "execution_count": null,
   "id": "078c2e4b",
   "metadata": {},
   "outputs": [],
   "source": [
    "# change in lunar fullness -- this will be positive as the moon approaches full,\n",
    "# and negative as it recedes from full. we're appending a large negative number\n",
    "# to prevent np.diff from truncating the series -- we'll filter it later.\n",
    "fullness_change = np.diff(moon_positions['Illu%'], append=-9999)\n",
    "# now, we'll pick the times that this changes from positive to negative.\n",
    "fullness_switch = np.diff(np.sign(fullness_change))\n",
    "full_moon_indices = np.nonzero(fullness_switch == -2)[0] - 1\n",
    "full_moons = moon_positions.loc[full_moon_indices]\n",
    "# let's validate this real quick by making sure the Moon is quite full at these times:\n",
    "full_moons['Illu%'].min()  # great."
   ]
  },
  {
   "cell_type": "code",
   "execution_count": null,
   "id": "5fc09a26",
   "metadata": {},
   "outputs": [],
   "source": [
    "solar_solstices['date'].dt.day_of_year"
   ]
  },
  {
   "cell_type": "code",
   "execution_count": null,
   "id": "69f6be33",
   "metadata": {},
   "outputs": [],
   "source": [
    "# now let's pick the temporally-closest days to the solar solstices by simply subtracting dates\n",
    "# and picking the smallest offset:\n",
    "winter_solstice_date = solar_solstices['date'].iloc[0]\n",
    "lunar_offset = winter_solstice_date - full_moons['date']\n",
    "# so, for this year, the lunar winter solstice is on January 4th.\n",
    "# it's in the next year on the Gregorian solar calendar, but\n",
    "# that's not the calendar that matters here.\n",
    "full_moons.loc[lunar_offset == lunar_offset.min()]"
   ]
  },
  {
   "cell_type": "code",
   "execution_count": null,
   "id": "4a291b8b",
   "metadata": {},
   "outputs": [],
   "source": [
    "# now that we know..."
   ]
  },
  {
   "cell_type": "code",
   "execution_count": null,
   "id": "5cb7f237",
   "metadata": {},
   "outputs": [],
   "source": [
    "# TODO: rewrite to get the whole sun position table\n",
    "\n",
    "# the table that Horizons gave us has a lot of columns. However, the only ones\n",
    "# we actually care about in this case are 'time' and 'alt' (altitude).\n",
    "sun_positions.columns"
   ]
  },
  {
   "cell_type": "code",
   "execution_count": null,
   "id": "903fc067",
   "metadata": {},
   "outputs": [],
   "source": [
    "# # let's use the predicate indexing trick we discussed in the last notebook to pick\n",
    "# # just times when the Sun has altitude < 0.\n",
    "# night = sun_positions.loc[sun_positions['alt'] < 0]\n",
    "# night[['time', 'alt']]"
   ]
  },
  {
   "cell_type": "code",
   "execution_count": null,
   "id": "9a8115d3",
   "metadata": {},
   "outputs": [],
   "source": [
    "# now, we can use the 'time' series from the night table to construct coordinate frames for\n",
    "# Seattle in each hour in the year. \n",
    "# astropy really likes to use its own objects, and the object it likes to use to define\n",
    "# time is astropy.time.Time.\n",
    "# fortunately, it's _really_ easy to make a Time object here, because Time objects can \n",
    "# be constructed directly from pandas datetime Series.\n",
    "# note that astropy.time.Time can interpret a wide variety of other time formats;\n",
    "# also note that its default scale is UTC (which is the default time scale for this type)\n",
    "# of Horizons query, so, great.\n",
    "times = at.Time(night['time'])\n",
    "# and just like that, we have an astropy.time.Time object representing every hour in the year.\n",
    "times[100:102]"
   ]
  },
  {
   "cell_type": "code",
   "execution_count": null,
   "id": "3b0788bf",
   "metadata": {},
   "outputs": [],
   "source": [
    "# just like astropy likes its own Time objects, it also likes its own location objects. In this\n",
    "# case, the appropriate one is astropy.coordinates.EarthLocation.\n",
    "seattle = EarthLocation(lat=seattle_coords['lat'], lon=seattle_coords['lon'])\n",
    "seattle"
   ]
  },
  {
   "cell_type": "code",
   "execution_count": null,
   "id": "aabebcd8",
   "metadata": {},
   "outputs": [],
   "source": [
    "# now we can initialize an altitude-azimuth coordinate frame for each of these times.\n",
    "# this will provide the specificity astropy needs in order to convert inertial to \n",
    "# topocentric coordinates.\n",
    "\n",
    "# a note: under the hood, astropy uses IERS data to perform these transformations. \n",
    "# see: https://docs.astropy.org/en/stable/utils/iers.html#utils-iers\n",
    "\n",
    "# just like Time can contain many times, astropy is happy to make a coordinate frame\n",
    "# defined at multiple times or locations -- but because we only have one set of \n",
    "# initial coordinates, it'll fail if we try to actually perform the transformation.\n",
    "# so let's instead make a list of coordinate frames and use them to compute \n",
    "# altitude-azimuth coordinates for each star at each time.\n",
    "# this will probably take 30-60 seconds.\n",
    "frames = []\n",
    "for time in times:\n",
    "    frames.append(AltAz(location=seattle, obstime=time))\n",
    "star_altaz = []\n",
    "for frame in frames:\n",
    "    # note that on each iteration of this for loop, we are calculating alt-az coordinates\n",
    "    # for _every star_ at a specific time.\n",
    "    star_altaz.append(star_coords.transform_to(frame))"
   ]
  },
  {
   "cell_type": "code",
   "execution_count": null,
   "id": "874ad4df",
   "metadata": {},
   "outputs": [],
   "source": [
    "# now, in order to find approximate rising times for each star, we'll\n",
    "# stack the altitude values into a big array...\n",
    "\n",
    "alt_arrays = []\n",
    "# grab the numerical altitude values from each list of coordinates as an array:\n",
    "for altaz in star_altaz:\n",
    "    # 'value' strips the special astropy information off and gives you just the numbers\n",
    "    alt_arrays.append(altaz.alt.value)\n",
    "# np.vstack means 'stack these arrays vertically.' This will give us\n",
    "# an array oriented differently from our catalog table, so we'll take its\n",
    "# transpose with .T -- meaning just 'turn it sideways' -- to recover the\n",
    "# original orientation. We'll end up with an array where each column\n",
    "# represents a specific time, and each row represents a specific star,\n",
    "# and the array values represent that star's altitude at that time.\n",
    "altitudes = np.vstack(alt_arrays).T\n",
    "altitudes"
   ]
  },
  {
   "cell_type": "code",
   "execution_count": null,
   "id": "382ab49d",
   "metadata": {},
   "outputs": [],
   "source": [
    "# now our array rows correspond to our table rows.\n",
    "altitudes.shape, bsc.shape"
   ]
  },
  {
   "cell_type": "code",
   "execution_count": null,
   "id": "535cf2e6",
   "metadata": {},
   "outputs": [],
   "source": [
    "# we can now conveniently filter stars that are _never_ visible at night \n",
    "# from this point on the Earth. np.max tells us the maximum value of\n",
    "# an array, and the axis=1 argument means 'do this along rows' -- so in other\n",
    "# words, each star's maximum altitude.\n",
    "max_altitudes = np.max(altitudes, axis=1)\n",
    "max_altitudes"
   ]
  },
  {
   "cell_type": "code",
   "execution_count": null,
   "id": "2274af79",
   "metadata": {},
   "outputs": [],
   "source": [
    "# then we'll use the fancy indexing trick again to reject any that never\n",
    "# rise above the horizon. we'll also retain this in the never_visible\n",
    "# variable so that we can filter other stuff with it later.\n",
    "# TODO: what about circumpolar stars? are they rejected too?\n",
    "never_visible = max_altitudes < 0\n",
    "altitudes = altitudes[~never_visible]"
   ]
  },
  {
   "cell_type": "code",
   "execution_count": null,
   "id": "e88f69c2",
   "metadata": {},
   "outputs": [],
   "source": [
    "# we'll now find the times that each star rises by looking for points where the\n",
    "# altitude goes from below 0 to above 0. First, we'll make an array that just tells us whether \n",
    "# each point is greater or less than 0.\n",
    "# np.sign returns -1 for negative numbers, 0 for 0, and 1 for positive numbers.\n",
    "above_horizon = np.sign(altitudes)\n",
    "above_horizon"
   ]
  },
  {
   "cell_type": "code",
   "execution_count": null,
   "id": "33f49bec",
   "metadata": {},
   "outputs": [],
   "source": [
    "# now we'll find the points where it changes using np.diff.\n",
    "# np.diff gives the first discrete difference along the specified\n",
    "# axis. In some cases, this is a good proxy for the first derivative\n",
    "# of a function. Here we're just using it to detect change.\n",
    "# we're going to prepend a large negative number to it so that\n",
    "# we end up with an array of the same shape (otherwise np.diff will truncate it).\n",
    "# we'll reject that number in the next step, so this is just a little\n",
    "# trick to make the array shapes match up.\n",
    "above_horizon_change = np.diff(above_horizon, axis=1, prepend=-9999)"
   ]
  },
  {
   "cell_type": "code",
   "execution_count": null,
   "id": "4582bb63",
   "metadata": {},
   "outputs": [],
   "source": [
    "# -2 implies that a star set; 2 implies that a star rose.\n",
    "rising_points = above_horizon_change == 2\n",
    "# let's validate our method a little bit -- \n",
    "# if it worked, successive points for a single star should be \n",
    "# separated by roughly 24 hours -- possibly with some slop for times\n",
    "# that a star was only momentarily visible due to seasonal change, etc.\n",
    "\n",
    "# np.nonzero can help us do that; it gives us the coordinates of\n",
    "# all non-zero (or True) values in an array.\n",
    "star_number, rising = np.nonzero(rising_points)"
   ]
  },
  {
   "cell_type": "code",
   "execution_count": null,
   "id": "4c6a2a0e",
   "metadata": {},
   "outputs": [],
   "source": [
    "# that looks pretty solid.\n",
    "# TODO: possibly need to handle stars that are _always_ up after the sun is down?\n",
    "np.diff(rising[star_number == 80])"
   ]
  },
  {
   "cell_type": "code",
   "execution_count": null,
   "id": "b0664ebe",
   "metadata": {},
   "outputs": [],
   "source": [
    "# now we'll create an azimuth array using the same technique we used to make the altitude array.\n",
    "az_arrays = []\n",
    "for altaz in star_altaz:\n",
    "    az_arrays.append(altaz.az.value)\n",
    "azimuths = np.vstack(az_arrays).T\n",
    "azimuths"
   ]
  },
  {
   "cell_type": "code",
   "execution_count": null,
   "id": "9229257b",
   "metadata": {},
   "outputs": [],
   "source": [
    "# and we'll reject invisible stars like we did for the altitude array:\n",
    "azimuths = azimuths[~never_visible]"
   ]
  },
  {
   "cell_type": "code",
   "execution_count": null,
   "id": "03e4ce56",
   "metadata": {},
   "outputs": [],
   "source": [
    "# and now we can use the rising points to make a mask for this array --\n",
    "# specifically, we want to mask every azimuth value that's _not_ \n",
    "# associated with a rising event; hence the ~ (not) operator.\n",
    "masked_azimuths = np.ma.masked_array(azimuths, mask=~rising_points)"
   ]
  },
  {
   "cell_type": "code",
   "execution_count": null,
   "id": "225ff151",
   "metadata": {},
   "outputs": [],
   "source": [
    "len(np.ma.unique(masked_azimuths[5]))"
   ]
  },
  {
   "cell_type": "code",
   "execution_count": null,
   "id": "b2d3ea6b",
   "metadata": {},
   "outputs": [],
   "source": [
    "np.unique(masked_azimuths[5]).data"
   ]
  },
  {
   "cell_type": "code",
   "execution_count": null,
   "id": "034b8c67",
   "metadata": {},
   "outputs": [],
   "source": [
    "# what does 'same place' mean? what 'same' is cannot be blithely assumed,\n",
    "# nor can 'place'.\n",
    "# but let's see what we can do with quantities by taking a look at the \n",
    "# maximum variation in rising azimuth for each star.\n",
    "# TODO: is this problematic in cases where a star barely comes noticeably over\n",
    "# the horizon in some parts of the year?\n",
    "rising_azimuth_ranges = []\n",
    "# a for loop over a numpy array always iterates over its last axis -- so each\n",
    "# iteration of this loop looks at a different star, which is what we want.\n",
    "for star in masked_azimuths:\n",
    "    # np.ma.ptp gives the difference between the minimum and maximum values in an\n",
    "    # array. in this case, each array is a 1x4374 array containing azimuth values \n",
    "    # -- mostly masked! np.ma.ptp will respect the mask and give us only the unmasked values.\n",
    "    # if all the values are masked, it'll just give us 'masked', which we'll filter later.\n",
    "    # TODO: these are circumpolar stars, which we maybe want to reject out of hand\n",
    "    # before this...\n",
    "    rising_azimuth_ranges.append(np.ma.ptp(star))"
   ]
  },
  {
   "cell_type": "code",
   "execution_count": null,
   "id": "7e579cd4",
   "metadata": {},
   "outputs": [],
   "source": [
    "# let's make a histogram of these.\n",
    "plt.hist(rising_azimuth_ranges, bins=128)"
   ]
  },
  {
   "cell_type": "code",
   "execution_count": null,
   "id": "7698c718",
   "metadata": {},
   "outputs": [],
   "source": [
    "# it looks like there are a few outliers on the bottom end. let's see which stars have\n",
    "# < 12 degrees of rising azimuthal variation.\n",
    "star_candidates = np.nonzero(np.array(rising_azimuth_ranges) < 12)[0]"
   ]
  },
  {
   "cell_type": "code",
   "execution_count": null,
   "id": "7c08041e",
   "metadata": {},
   "outputs": [],
   "source": [
    "# now, let's filter our catalog using the same invisible star mask\n",
    "# we used for our altitude and azimuth arrays, so that everything is aligned:\n",
    "bsc_visible = bsc.loc[~never_visible].reset_index(drop=True)"
   ]
  },
  {
   "cell_type": "code",
   "execution_count": null,
   "id": "3a114f5b",
   "metadata": {},
   "outputs": [],
   "source": [
    "# and then pick the candidate stars from the table.\n",
    "bsc_candidates = bsc_visible.loc[star_candidates]"
   ]
  }
 ],
 "metadata": {
  "kernelspec": {
   "display_name": "Python 3 (ipykernel)",
   "language": "python",
   "name": "python3"
  },
  "language_info": {
   "codemirror_mode": {
    "name": "ipython",
    "version": 3
   },
   "file_extension": ".py",
   "mimetype": "text/x-python",
   "name": "python",
   "nbconvert_exporter": "python",
   "pygments_lexer": "ipython3",
   "version": "3.10.12"
  }
 },
 "nbformat": 4,
 "nbformat_minor": 5
}
