{
 "cells": [
  {
   "cell_type": "markdown",
   "id": "b83a08a6-c281-406c-b11d-d909f51b34f0",
   "metadata": {},
   "source": [
    "_Learning objectives:_ Familiarity with basic text parsing techniques; ability to compose regular expressions (\"regex\"); competence with descriptive statistical functions from the scipy.stats module; ability to use functions from the scipy.optimize module to perform linear model fits."
   ]
  },
  {
   "cell_type": "code",
   "execution_count": null,
   "id": "0c623f75",
   "metadata": {},
   "outputs": [],
   "source": [
    "#These imports don't all need to be here; these are based on the libraries we discussed in the proposal\n",
    "import re\n",
    "import scipy"
   ]
  }
 ],
 "metadata": {
  "kernelspec": {
   "display_name": "Python 3 (ipykernel)",
   "language": "python",
   "name": "python3"
  },
  "language_info": {
   "codemirror_mode": {
    "name": "ipython",
    "version": 3
   },
   "file_extension": ".py",
   "mimetype": "text/x-python",
   "name": "python",
   "nbconvert_exporter": "python",
   "pygments_lexer": "ipython3",
   "version": "3.12.0"
  }
 },
 "nbformat": 4,
 "nbformat_minor": 5
}
