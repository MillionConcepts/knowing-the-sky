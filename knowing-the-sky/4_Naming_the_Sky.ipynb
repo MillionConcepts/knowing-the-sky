{
 "cells": [
  {
   "cell_type": "markdown",
   "id": "b83a08a6-c281-406c-b11d-d909f51b34f0",
   "metadata": {
    "cell_marker": "\"\"\""
   },
   "source": [
    "## Lesson 4: Naming the Sky\n",
    "#### Learning Objectives:\n",
    "After completing this lesson, users will be able to:\n",
    "1. objective 1\n",
    "2. objective 2\n",
    "3. objective 3\n",
    "\n",
    "_Python libraries introduced in this lesson:_ "
   ]
  },
  {
   "cell_type": "code",
   "execution_count": null,
   "id": "7a4030a3-e2e3-4270-ad2d-7485361ebbde",
   "metadata": {},
   "outputs": [],
   "source": []
  }
 ],
 "metadata": {
  "jupytext": {
   "cell_markers": "\"\"\"",
   "comment_magics": false
  },
  "kernelspec": {
   "display_name": "Python 3 (ipykernel)",
   "language": "python",
   "name": "python3"
  },
  "language_info": {
   "codemirror_mode": {
    "name": "ipython",
    "version": 3
   },
   "file_extension": ".py",
   "mimetype": "text/x-python",
   "name": "python",
   "nbconvert_exporter": "python",
   "pygments_lexer": "ipython3",
   "version": "3.10.12"
  }
 },
 "nbformat": 4,
 "nbformat_minor": 5
}
