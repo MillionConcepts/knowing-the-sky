{
 "cells": [
  {
   "cell_type": "markdown",
   "id": "3596a2b9-220e-4af2-bb40-7a3e42740fc4",
   "metadata": {},
   "source": [
    "_Learning objectives_: Familiarity with basic capabilities of the scikit-learn library; ability to build a preprocessing pipeline for machine learning; awareness of major types of machine learning strategies; ability to build, train, and score simple classification and decomposition models."
   ]
  },
  {
   "cell_type": "code",
   "execution_count": null,
   "id": "8ca8d759",
   "metadata": {},
   "outputs": [],
   "source": [
    "#These imports don't all need to be here; these are based on the libraries we discussed in the proposal\n",
    "import scikit-learn"
   ]
  }
 ],
 "metadata": {
  "kernelspec": {
   "display_name": "Python 3 (ipykernel)",
   "language": "python",
   "name": "python3"
  },
  "language_info": {
   "codemirror_mode": {
    "name": "ipython",
    "version": 3
   },
   "file_extension": ".py",
   "mimetype": "text/x-python",
   "name": "python",
   "nbconvert_exporter": "python",
   "pygments_lexer": "ipython3",
   "version": "3.12.0"
  }
 },
 "nbformat": 4,
 "nbformat_minor": 5
}
