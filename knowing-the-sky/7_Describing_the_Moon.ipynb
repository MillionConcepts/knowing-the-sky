{
 "cells": [
  {
   "cell_type": "markdown",
   "id": "c0cb54b9-8918-41a9-b03c-ad630af1a6a8",
   "metadata": {
    "cell_marker": "\"\"\"",
    "scrolled": true
   },
   "source": [
    "## Lesson 7: Describing the Moon\n",
    "#### Learning Objectives:\n",
    "After completing this lesson, users will be able to:\n",
    "1. objective 1\n",
    "2. objective 2\n",
    "3. objective 3\n",
    "\n",
    "_Python libraries introduced in this lesson:_ "
   ]
  },
  {
   "cell_type": "code",
   "execution_count": null,
   "id": "2d6b7040-185c-4135-9f40-fdbe6e9d1b0a",
   "metadata": {},
   "outputs": [],
   "source": []
  }
 ],
 "metadata": {
  "jupytext": {
   "cell_markers": "\"\"\"",
   "comment_magics": false
  },
  "kernelspec": {
   "display_name": "Python 3 (ipykernel)",
   "language": "python",
   "name": "python3"
  },
  "language_info": {
   "codemirror_mode": {
    "name": "ipython",
    "version": 3
   },
   "file_extension": ".py",
   "mimetype": "text/x-python",
   "name": "python",
   "nbconvert_exporter": "python",
   "pygments_lexer": "ipython3",
   "version": "3.10.12"
  }
 },
 "nbformat": 4,
 "nbformat_minor": 5
}
