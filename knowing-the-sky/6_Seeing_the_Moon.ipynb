{
 "cells": [
  {
   "cell_type": "markdown",
   "id": "5e5d1d5d-1da2-4b86-9705-37533017143d",
   "metadata": {},
   "source": [
    "_Learning objectives_: critical awareness of multiple ways of knowing “phase”; general familiarity with the capabilities of scikit-image and cv2; ability to create masks and apply morphological filters with scikit-image; ability to perform basic similarity analysis with cv2."
   ]
  },
  {
   "cell_type": "code",
   "execution_count": null,
   "id": "9901caea",
   "metadata": {},
   "outputs": [],
   "source": [
    "#These imports don't all need to be here; these are based on the libraries we discussed in the proposal\n",
    "import cv2\n",
    "import scikit-image"
   ]
  },
  {
   "cell_type": "markdown",
   "id": "ddc3056e-1343-46be-b81f-a8071c4e70f7",
   "metadata": {},
   "source": [
    "## Lesson 6: Seeing the Moon\n",
    "#### Learning Objectives:\n",
    "After completing this lesson, users will be able to:\n",
    "1. objective 1\n",
    "2. objective 2\n",
    "3. objective 3\n",
    "\n",
    "_Python libraries introduced in this lesson:_ "
   ]
  },
  {
   "cell_type": "markdown",
   "id": "05db146f-9cec-4400-a84f-d045c3a97549",
   "metadata": {},
   "source": [
    "### Introduction\n",
    "\n",
    "The Shinnecock are a federally recognized tribe based in eastern Long Island. Like many other tribes along the eastern seaboard, colonialism caused great hardship and loss for the Shinnecock. Land is put at the center of the colonialism discussion, but land is what the colonists gained; it is only the beginning of what indigenous tribes lost. Traditional language, ceremonies, and cultural practices were outlawed; children were taken away from their families; Shinnecock men were left to die on ships in storms while products were given preference to be taken ashore first. \n",
    "\n",
    "For several generations, the Shinnecock have been attempting to bring back lost cultural traditions, much of which has been done by travelling to other closely related communities and re-learning our ways. One of the recently revived traditions is the *Full Moon Ceremony* in which female members of the tribe honor _Nukimis Nanapashot_ (Grandmother Moon Spirit). The women of the tribe are tied to the water, the moon and its calendar. Each month, when the moon is full and its power strongest, this ceremony is held to allow the participants to cleanse themselves and their energy.\n",
    "\n",
    "Today, in Western science, the moon is considered full on one particular date in the synodic month (New Moon to New Moon). However, this strict concept of fullness is not adhered to in the ceremonies. You may have noticed that moon \"looks full\" for a few days before and after the exact date of the full moon.\n",
    "\n",
    "In this notebook, we will use computer vision to explore the fullness of the moon and compare this to the dates on which the ceremony is permitted to be held."
   ]
  },
  {
   "cell_type": "code",
   "execution_count": 1,
   "id": "7203f1e2-ad65-444e-91a5-a7a7575a7a58",
   "metadata": {},
   "outputs": [],
   "source": [
    "#TODO: Ceremonies can be held with three days on either side of the full moon.\n",
    "#Circassian reference: https://thehamptons.com/indians/shipwreck/circassian.html"
   ]
  },
  {
   "cell_type": "markdown",
   "id": "e6146ce3-2ecd-4835-8d01-93af61f3ca04",
   "metadata": {},
   "source": [
    "\"How do current practitioners of Full Moon Ceremonies understand appropriate times for their performance? Can we usefully relate this to the visual appearance of the Moon during those times? What are the similarities and differences between this and strictly-defined percent illumination? Can we then apply our knowledge of these differences to back-compute possible ceremony dates using ephemeris information (because we don't have photos or records)?\""
   ]
  },
  {
   "cell_type": "code",
   "execution_count": 4,
   "id": "0bb7c191-88a7-4033-a69a-ceb1acd6bb59",
   "metadata": {},
   "outputs": [],
   "source": [
    "import netCDF4\n",
    "import numpy as np\n",
    "\n",
    "fwe=netCDF4.Dataset('OR_ABI-INST-CAL-LUN-M3C06_G16_s20170711856217_e20170711856217_c20170711856350.nc')\n",
    "fne=netCDF4.Dataset('OR_ABI-INST-CAL-LUN-M3C06_G16_s20170711859217_e20170711859217_c20170711859361.nc')\n",
    "gns=netCDF4.Dataset('OR_ABI-INST-CAL-LUN-M3C06_G16_s20170752113589_e20170752113589_c20170752114135.nc')\n",
    "gos=netCDF4.Dataset('OR_ABI-INST-CAL-LUN-M3C15_G16_s20170752114289_e20170752114289_c20170752114469.nc')"
   ]
  },
  {
   "cell_type": "code",
   "execution_count": 5,
   "id": "7d6024ed-47bf-40e8-890f-f4fc3186dcfe",
   "metadata": {},
   "outputs": [
    {
     "data": {
      "text/plain": [
       "<class 'netCDF4._netCDF4.Dataset'>\n",
       "root group (NETCDF4 data model, file format HDF5):\n",
       "    naming_authority: gov.nesdis.noaa\n",
       "    institution: DOC/NOAA/NESDIS> U.S. Department of Commerce, National Oceanic and Atmospheric Administration, National Environmental Satellite, Data, and Information Services\n",
       "    iso_series_metadata_id: fbd4e2a0-3749-11e3-aa6e-0800200c9a66\n",
       "    Metadata_Conventions: Unidata Dataset Discovery v1.0\n",
       "    title: ABI Lunar Scan Calibrated Sample Data\n",
       "    summary: ABI lunar scan calibrated sample data in a mode 3 timeline (epoch).\n",
       "    keywords: SPECTRAL/ENGINEERING > VISIBLE WAVELENGTHS > SENSOR COUNTS, SPECTRAL/ENGINEERING > INFRARED WAVELENGTHS > SENSOR COUNTS\n",
       "    keywords_vocabulary: NASA Global Change Master Directory (GCMD) Earth Science Keywords, Version 7.0.0.0.0\n",
       "    instrument_type: GOES R Series Advanced Baseline Imager\n",
       "    license: Unclassified data. Access is restricted to approved users only.\n",
       "    production_site: WCDAS\n",
       "    project: GOES\n",
       "    dataset_name: ABI-INST-CAL\n",
       "    orbital_slot: GOES-Test\n",
       "    platform_ID: G16\n",
       "    instrument_ID: TBD\n",
       "    date_created: 2017-03-12T18:56:35.0Z\n",
       "    production_environment: OE\n",
       "    production_data_source: Realtime\n",
       "    timeline_ID: ABI Mode 3\n",
       "    time_coverage_start: 2017-03-12T18:56:21.711873Z\n",
       "    time_coverage_end: 2017-03-12T18:56:21.711873Z\n",
       "    dimensions(sizes): t(1), num_swaths(2), num_lunar_samples(1408), num_detectors(372)\n",
       "    variables(dimensions): float64 t(t), float32 nominal_satellite_subpoint_lat(), float32 nominal_satellite_subpoint_lon(), float32 nominal_satellite_height(), int32 band_id(), float32 band_wavelength(), float32 center_y(), float32 center_x(), float32 radiance(t, num_swaths, num_detectors, num_lunar_samples), int8 radiance_dqf(t, num_swaths, num_detectors, num_lunar_samples), int32 data_file_version_container()\n",
       "    groups: "
      ]
     },
     "execution_count": 5,
     "metadata": {},
     "output_type": "execute_result"
    }
   ],
   "source": [
    "fwe"
   ]
  },
  {
   "cell_type": "code",
   "execution_count": 6,
   "id": "6f835ae1-c8e3-4b02-9a32-95a1e1be42e2",
   "metadata": {},
   "outputs": [
    {
     "name": "stdout",
     "output_type": "stream",
     "text": [
      "t\n",
      "('t',)\n",
      "nominal_satellite_subpoint_lat\n",
      "()\n",
      "nominal_satellite_subpoint_lon\n",
      "()\n",
      "nominal_satellite_height\n",
      "()\n",
      "band_id\n",
      "()\n",
      "band_wavelength\n",
      "()\n",
      "center_y\n",
      "()\n",
      "center_x\n",
      "()\n",
      "radiance\n",
      "('t', 'num_swaths', 'num_detectors', 'num_lunar_samples')\n",
      "radiance_dqf\n",
      "('t', 'num_swaths', 'num_detectors', 'num_lunar_samples')\n",
      "data_file_version_container\n",
      "()\n"
     ]
    }
   ],
   "source": [
    "for d in fwe.variables.keys():\n",
    "    print(d)\n",
    "    print(fwe.variables[d].dimensions)"
   ]
  },
  {
   "cell_type": "code",
   "execution_count": 42,
   "id": "743fabc9-b095-4670-b3b2-630998705e73",
   "metadata": {},
   "outputs": [],
   "source": [
    "l1a = gos.variables['radiance']"
   ]
  },
  {
   "cell_type": "code",
   "execution_count": 43,
   "id": "9c3c886e-00af-43d4-aa4d-744893104bba",
   "metadata": {},
   "outputs": [
    {
     "data": {
      "text/plain": [
       "<class 'netCDF4._netCDF4.Variable'>\n",
       "float32 radiance(t, num_swaths, num_detectors, num_lunar_samples)\n",
       "    _FillValue: -999.0\n",
       "    long_name: lunar scan calibrated sample radiance values\n",
       "    units: mW m-2 sr-1 (cm-1)-1\n",
       "unlimited dimensions: t, num_lunar_samples\n",
       "current shape = (1, 2, 412, 1408)\n",
       "filling on"
      ]
     },
     "execution_count": 43,
     "metadata": {},
     "output_type": "execute_result"
    }
   ],
   "source": [
    "l1a"
   ]
  },
  {
   "cell_type": "code",
   "execution_count": 44,
   "id": "5fb6c63f-a401-44f7-98c4-f6cc72ecc394",
   "metadata": {},
   "outputs": [],
   "source": [
    "import matplotlib.pyplot as plt"
   ]
  },
  {
   "cell_type": "code",
   "execution_count": 45,
   "id": "889a7669-1a3f-424e-b3e9-89296c434946",
   "metadata": {},
   "outputs": [],
   "source": [
    "%matplotlib inline"
   ]
  },
  {
   "cell_type": "code",
   "execution_count": 47,
   "id": "ceb7fa13-3c6c-42e1-a6f2-6b79bc2be2ec",
   "metadata": {},
   "outputs": [
    {
     "data": {
      "image/png": "[encoded data removed]",
      "text/plain": [
       "<Figure size 640x480 with 1 Axes>"
      ]
     },
     "metadata": {},
     "output_type": "display_data"
    }
   ],
   "source": [
    "cs = plt.imshow(l1a[0,0,:,:])\n"
   ]
  },
  {
   "cell_type": "code",
   "execution_count": 48,
   "id": "147930cd-58ee-4dcf-9fe3-33e74f2a4df2",
   "metadata": {},
   "outputs": [],
   "source": [
    "from skimage.feature import canny\n",
    "from skimage.transform import hough_ellipse\n",
    "from skimage.draw import ellipse_perimeter"
   ]
  },
  {
   "cell_type": "code",
   "execution_count": 52,
   "id": "62b8be08-0c84-442e-8e2b-77aabcc6ab14",
   "metadata": {},
   "outputs": [],
   "source": [
    "data=l1a[0,0,:,:]"
   ]
  },
  {
   "cell_type": "code",
   "execution_count": 53,
   "id": "19916d73-1b59-4e3c-bac2-75d0262c2e49",
   "metadata": {},
   "outputs": [],
   "source": [
    "edges=canny(data, sigma=2.0, low_threshold=0.55, high_threshold=1)"
   ]
  },
  {
   "cell_type": "code",
   "execution_count": 54,
   "id": "81142855-750f-42ca-bde3-7636bdccfb0d",
   "metadata": {},
   "outputs": [
    {
     "data": {
      "text/plain": [
       "<matplotlib.image.AxesImage at 0x7f36707ba6e0>"
      ]
     },
     "execution_count": 54,
     "metadata": {},
     "output_type": "execute_result"
    },
    {
     "data": {
      "image/png": "[encoded data removed]",
      "text/plain": [
       "<Figure size 640x480 with 1 Axes>"
      ]
     },
     "metadata": {},
     "output_type": "display_data"
    }
   ],
   "source": [
    "plt.imshow(edges)"
   ]
  },
  {
   "cell_type": "code",
   "execution_count": null,
   "id": "ab4e1b1a-02f2-4d9a-80f6-62c1838862a3",
   "metadata": {},
   "outputs": [],
   "source": []
  }
 ],
 "metadata": {
  "kernelspec": {
   "display_name": "Python 3 (ipykernel)",
   "language": "python",
   "name": "python3"
  },
  "language_info": {
   "codemirror_mode": {
    "name": "ipython",
    "version": 3
   },
   "file_extension": ".py",
   "mimetype": "text/x-python",
   "name": "python",
   "nbconvert_exporter": "python",
   "pygments_lexer": "ipython3",
   "version": "3.12.0"
  }
 },
 "nbformat": 4,
 "nbformat_minor": 5
}
