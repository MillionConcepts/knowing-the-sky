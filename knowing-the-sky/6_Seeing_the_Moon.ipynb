{
 "cells": [
  {
   "cell_type": "markdown",
   "id": "ddc3056e-1343-46be-b81f-a8071c4e70f7",
   "metadata": {},
   "source": [
    "## Lesson 6: Seeing the Moon\n",
    "#### Learning Objectives:\n",
    "After completing this lesson, users will be able to:\n",
    "1. objective 1\n",
    "2. objective 2\n",
    "3. objective 3\n",
    "\n",
    "_Python libraries introduced in this lesson:_ [`netcdf4`](https://unidata.github.io/netcdf4-python/)"
   ]
  },
  {
   "cell_type": "markdown",
   "id": "05db146f-9cec-4400-a84f-d045c3a97549",
   "metadata": {},
   "source": [
    "### Introduction\n",
    "\n",
    "The Shinnecock are a federally recognized tribe based in eastern Long Island. Like many other tribes along the eastern seaboard, colonialism caused great hardship and loss for the Shinnecock. Land is put at the center of the colonialism discussion, but land is what the colonists gained; it is only the beginning of what indigenous tribes lost. Traditional language, ceremonies, and cultural practices were outlawed; children were taken away from their families; Shinnecock men were left to die on ships in storms while products were given preference to be taken ashore first. \n",
    "\n",
    "For several generations, the Shinnecock have been attempting to bring back lost cultural traditions, much of which has been done by travelling to other closely related communities and re-learning our ways. One of the recently revived traditions is the *Full Moon Ceremony* in which female members of the tribe honor _Nukimis Nanapashot_ (Grandmother Moon Spirit). The women of the tribe are tied to the water, the moon, and its calendar. Each month, when the moon is full and its power strongest, this ceremony is held to allow the participants to cleanse themselves and their energy.\n",
    "\n",
    "Today, in Western science, the Moon is considered full on one particular date in the synodic month (New Moon to New Moon). However, this strict concept of fullness is not adhered to in the ceremonies. You may have noticed that the Moon \"looks full\" for a few days before and after the exact date of the full Moon.\n",
    "\n",
    "In this notebook, we will use computer vision, in particular morphological analysis, to explore the fullness of the Moon and compare this to the dates on which the ceremony is permitted to be held."
   ]
  },
  {
   "cell_type": "markdown",
   "id": "c8fcd069-43df-4ba2-b10a-22be45999f2e",
   "metadata": {},
   "source": [
    "Currently, Full Moon Ceremonies are practiced within three days on either side of the full Moon. Here we will use publicly available data to quantify the illumination percentage of the Moon throughout the higher illumination periods of its cycle, and relate this to the visual appearance of the Moon during the times in which the ceremony is practiced. Subsequently we'll use this information to back-compute possible ceremony dates from the past using ephemeris information."
   ]
  },
  {
   "cell_type": "markdown",
   "id": "69540d54-0c97-49da-b0ad-d8abf4736581",
   "metadata": {},
   "source": [
    "### Background on the Dataset\n",
    "\n",
    "For this analysis we will need a dataset of full-disk images of the Moon in various phases. Luckily, there are plenty of satellites that use the Moon to calibrate their instruments. They contribute to the [GLOD (GSICS Lunar\n",
    "Observation Dataset)](http://gsics.atmos.umd.edu/bin/view/Development/LunarWorkArea) which accumulates the lunar data taken from these satellites to create a calibration model using the Moon. Unfortunately, the GLOD is not publicly shareable. However, the data of many of the satellites that contribute to it _are_ public. We will focus on the GOES-R series (that's GOES-16, GOES-17, and GOES-18) satellites [ABI instruments](https://www.goes-r.gov/spacesegment/abi.html). The data that these instruments use for calibration with the moon contains `LUN` in the filenames and can be obtained from [NOAA CLASS GRICABI dataset](https://www.aev.class.noaa.gov/saa/products/search?sub_id=0&datatype_family=GRICABI&submit.x=18&submit.y=6).\n",
    "\n",
    "In generating this training we downloaded the entirety of the LUN dataset for all three satellites up to that date, and ran them all through the exercise you'll be doing here. That was about 700 GB and it's unrealistic to expect you to reproduce that scale of work! Instead, we've curated a small subset of the dataset so you can learn the same techniques (without having to go through the delay of waiting for your data order through NOAA CLASS or overloading your harddrive).\n",
    "\n",
    "We've also massaged the data to make it a bit easier to work with. These files have been downsized to only include the data relevant for this exercise (radiance). The original GOES files also contain 2 or 4 frames within the same array. We have dissected and separated these arrays so each file represents only one frame. This merged frame style is something we only find in the calibration data, so if you work with GOES atmospheric data this isn't a step you'd need to consider. For a deeper dive into the preprocessing steps that were performed and how we chose the files to include in this subset you can check out the functions we used (which have docstrings with detailed descriptions) [here](https://gist.github.com/Sierra-MC/4aa3eb54ec3ce4ebeafac44468b61a1a).\n",
    "\n",
    "You can download the data subset here: https://kts-dev-data.s3.amazonaws.com/goes/goes_subset_flat.tar.gz\n",
    "\n",
    "You'll need to decompress (\"ungzip\" and \"untar\") the subset in order to use the data. Head to lesson 1 if you need a refresher on how to do that."
   ]
  },
  {
   "cell_type": "markdown",
   "id": "9a45084c-412a-4246-81ef-55d611274dd8",
   "metadata": {},
   "source": [
    "### NetCDF and Data Exploration\n",
    "[NetCDF](https://www.unidata.ucar.edu/software/netcdf/) is a data storage format for scientific array-oriented data. It is very popular, especially in the Earth Sciences, and contains metadata within the same file as the data itself. GOES data is served in NetCDF format and the most recent version of the software used to open it, also named NetCDF, is currently NetCDF4 (at the time of writing this training). Let's begin by importing the python library to work with NetCDF data ([`netCDF4`](https://unidata.github.io/netcdf4-python/)) and opening one of our files to get a feel for what this format looks like."
   ]
  },
  {
   "cell_type": "code",
   "execution_count": 20,
   "id": "0bb7c191-88a7-4033-a69a-ceb1acd6bb59",
   "metadata": {},
   "outputs": [],
   "source": [
    "from pathlib import Path\n",
    "\n",
    "from netCDF4 import Dataset\n",
    "import pandas as pd\n",
    "\n",
    "# Global variables are useful for system-specific configuration.\n",
    "# Set this to wherever you downloaded and decompressed the .nc files.\n",
    "LUN_FOLDER = Path(\"../../goes_subset_flat/\")"
   ]
  },
  {
   "cell_type": "markdown",
   "id": "8ec866cd-d383-4152-baba-e2c0198ec058",
   "metadata": {},
   "source": [
    "You can use the below cell to make sure you have the proper folder path. In it we are printing the length of a list of all the files in the folder you provided that have `LUN` in the name. If the value is zero you have mistyped the path and should edit and rerun the cell above."
   ]
  },
  {
   "cell_type": "code",
   "execution_count": 21,
   "id": "077c5e35-09f0-462b-806c-00570350de24",
   "metadata": {},
   "outputs": [
    {
     "name": "stdout",
     "output_type": "stream",
     "text": [
      "272\n"
     ]
    }
   ],
   "source": [
    "print(len(list(LUN_FOLDER.rglob('*LUN*'))))"
   ]
  },
  {
   "cell_type": "markdown",
   "id": "2048eaa3-cfad-4216-9045-2b7975ef9aae",
   "metadata": {},
   "source": [
    "You can use the `Dataset` Class from netCDF4 to read a NetCDF file in. If we print the `Dataset` object we can see some metadata about our data."
   ]
  },
  {
   "cell_type": "code",
   "execution_count": 34,
   "id": "eb7be8ca-981a-4097-94d2-f949a4469863",
   "metadata": {},
   "outputs": [
    {
     "data": {
      "text/plain": [
       "<class 'netCDF4._netCDF4.Dataset'>\n",
       "root group (NETCDF4 data model, file format HDF5):\n",
       "    instrument_type: GOES R Series Advanced Baseline Imager\n",
       "    orbital_slot: GOES-West\n",
       "    platform_ID: G17\n",
       "    instrument_ID: FM2\n",
       "    time_coverage_start: 2019-01-23T23:39:56.924685Z\n",
       "    time_coverage_end: 2019-01-23T23:39:56.924685Z\n",
       "    license: CC0 (Million Concepts) 'Unclassified data. Access is restricted to approved users only.' (DOC/NOAA/NESDIS) [approval granted for users of Knowing the Sky]\n",
       "    institution: Million Concepts/DOC/NOAA/NESDIS\n",
       "    date_created: 2024-04-09T17:51:00Z\n",
       "    title: ABI Lunar Scan Calibrated Sample Data (flattened from t 0, swath 1)\n",
       "    dimensions(sizes): lines(676), samples(2808)\n",
       "    variables(dimensions): float32 radiance(lines, samples)\n",
       "    groups: "
      ]
     },
     "execution_count": 34,
     "metadata": {},
     "output_type": "execute_result"
    }
   ],
   "source": [
    "lun_nc = Dataset(LUN_FOLDER / 'OR_ABI-INST-CAL-LUN-M3C01_G17_s20190232339569_e20190232339569_c20190232340140-t0-s1.nc')\n",
    "lun_nc"
   ]
  },
  {
   "cell_type": "markdown",
   "id": "a2a84ab2-4d19-4553-9122-7b8ee3b7a9ea",
   "metadata": {},
   "source": [
    "The metadata tells us that this is a GOES-17 ABI image taken on 1-23-2019 at 23:39 (11:39 pm). In the `variables` attribute we can access the `radiance` data we are interested in with the following syntax:"
   ]
  },
  {
   "cell_type": "code",
   "execution_count": 44,
   "id": "7e28a054-79b9-4498-881d-50ab6ac01fca",
   "metadata": {},
   "outputs": [
    {
     "data": {
      "text/plain": [
       "<class 'netCDF4._netCDF4.Variable'>\n",
       "float32 radiance(lines, samples)\n",
       "unlimited dimensions: \n",
       "current shape = (676, 2808)\n",
       "filling off"
      ]
     },
     "execution_count": 44,
     "metadata": {},
     "output_type": "execute_result"
    }
   ],
   "source": [
    "rad = lun_nc.variables['radiance']\n",
    "rad"
   ]
  },
  {
   "cell_type": "markdown",
   "id": "eb664cc3-ac74-43c8-a621-d819efea6962",
   "metadata": {},
   "source": [
    "Now that we have the radiance data isolated, let's plot it in grayscale and see what the image we have looks like."
   ]
  },
  {
   "cell_type": "code",
   "execution_count": 45,
   "id": "e9cafb7d-4eae-4a26-9547-9cc03026847a",
   "metadata": {},
   "outputs": [],
   "source": [
    "import matplotlib.pyplot as plt"
   ]
  },
  {
   "cell_type": "code",
   "execution_count": 46,
   "id": "3cd5ed6b-35a9-4844-8990-3780e8a7d8f4",
   "metadata": {},
   "outputs": [
    {
     "data": {
      "text/plain": [
       "<matplotlib.image.AxesImage at 0x7fab96da31f0>"
      ]
     },
     "execution_count": 46,
     "metadata": {},
     "output_type": "execute_result"
    },
    {
     "data": {
      "image/png": "[encoded data removed]",
      "text/plain": [
       "<Figure size 640x480 with 1 Axes>"
      ]
     },
     "metadata": {},
     "output_type": "display_data"
    }
   ],
   "source": [
    "plt.imshow(rad, cmap='gray')"
   ]
  },
  {
   "cell_type": "markdown",
   "id": "1176033d-ba76-4bde-8b3f-29cc9201c89d",
   "metadata": {},
   "source": [
    "Alright! That's a nice image of the moon! Let's look at a few other files to get a feel for the variety in the dataset:"
   ]
  },
  {
   "cell_type": "code",
   "execution_count": 87,
   "id": "4f093916-a268-488a-8a5a-0cc4b7badbb2",
   "metadata": {},
   "outputs": [],
   "source": [
    "rad1 = Dataset(LUN_FOLDER / 'OR_ABI-INST-CAL-LUN-M6C03_G17_s20222801900592_e20222801901048_c20222801901103-t0-s0.nc').variables['radiance']\n",
    "rad2 = Dataset(LUN_FOLDER / 'OR_ABI-INST-CAL-LUN-M6C05_G16_s20221992056556_e20221992057011_c20221992057088-t0-s1.nc').variables['radiance']\n",
    "rad3 = Dataset(LUN_FOLDER / 'OR_ABI-INST-CAL-LUN-M6C01_G16_s20223651143552_e20223651144007_c20223651144148-t0-s1.nc').variables['radiance']\n",
    "rad4 = Dataset(LUN_FOLDER / 'OR_ABI-INST-CAL-LUN-M6C03_G16_s20231201315549_e20231201316004_c20231201316063-t0-s0.nc').variables['radiance']"
   ]
  },
  {
   "cell_type": "markdown",
   "id": "dc1a473c-dd6d-4523-9357-a41e014a160f",
   "metadata": {},
   "source": [
    "And we can plot those all in one plot using subplots:"
   ]
  },
  {
   "cell_type": "code",
   "execution_count": 88,
   "id": "2cd1eff7-c83c-49eb-bf43-ce3dddec1d02",
   "metadata": {},
   "outputs": [
    {
     "data": {
      "image/png": "[encoded data removed]",
      "text/plain": [
       "<Figure size 1200x400 with 4 Axes>"
      ]
     },
     "metadata": {},
     "output_type": "display_data"
    }
   ],
   "source": [
    "fig = plt.figure(figsize=(12,4))\n",
    "rad_list = [rad1, rad2, rad3, rad4]\n",
    "for i in range(1,5):\n",
    "    fig.add_subplot(2,2,i)\n",
    "    plt.imshow(rad_list[i-1], cmap='gray')"
   ]
  },
  {
   "cell_type": "markdown",
   "id": "4ed69f2e-e89d-47c0-a3f1-7a335caee06e",
   "metadata": {},
   "source": [
    "Well. It looks like we have more than just simple, nice moon images here. This is going to take some more work to create a clean moon-only dataset to detect phases with!"
   ]
  },
  {
   "cell_type": "markdown",
   "id": "3dcc79f4-70aa-4664-8133-98fb46030c7a",
   "metadata": {},
   "source": [
    "# introduction to morphological analysis\n",
    "----\n",
    "## placeholder for section"
   ]
  },
  {
   "cell_type": "markdown",
   "id": "1255b7fd-44bd-4e04-a759-9daa352c951b",
   "metadata": {},
   "source": [
    "# moon extraction pipeline (technical skeleton\n",
    "## we will notionally build this up piece by piece"
   ]
  },
  {
   "cell_type": "code",
   "execution_count": 456,
   "id": "b9edad68-5292-42eb-9675-f22419241ef2",
   "metadata": {},
   "outputs": [],
   "source": [
    "import cv2\n",
    "import numpy as np\n",
    "import scipy.ndimage as ndi\n",
    "\n",
    "def a2c(area: Union[float, np.ndarray]) -> Union[float, np.ndarray]:\n",
    "    \"\"\"Area of a circle.\"\"\"\n",
    "    return 2 * np.pi * np.sqrt(area / np.pi)\n",
    "\n",
    "\n",
    "def gethull(blob: np.ndarray) -> np.ndarray:\n",
    "    \"\"\"\n",
    "    Compute the convex hull of the \"shape\" contained in `blob`, which should be\n",
    "    a 2D ndarray of 8-bit unsigned integers valued either 0 or 1; 1 represents\n",
    "    \"foreground\". Returns a 2D ndarray whose rows are the vertices of the hull\n",
    "    and whose 2 columns represent the X and Y indices of each vertex.\n",
    "    \"\"\"\n",
    "    hull = cv2.convexHull(np.vstack(np.nonzero(blob)).T)\n",
    "    return np.flip(hull, axis=2)\n",
    "\n",
    "\n",
    "def filter_labels(\n",
    "    arr: np.ndarray, \n",
    "    labels: np.ndarray, \n",
    "    bordersize: int, \n",
    "    min_moon_extent: int\n",
    ") -> tuple[dict, dict, dict]:\n",
    "    \"\"\"\n",
    "    Filter 'bad' labels: labels that are too small or that come \n",
    "    within a specified range of the top/bottom/left/right of the image.\n",
    "    \"\"\"\n",
    "    label_indices = {\n",
    "        label: np.nonzero(labels == label)\n",
    "        for label in np.unique(labels)\n",
    "        if label != 0\n",
    "    }\n",
    "    label_rejects = {}\n",
    "    for label, (yix, xix) in label_indices.items():\n",
    "        if min([np.ptp(xix), np.ptp(yix)]) < min_moon_extent:\n",
    "            label_rejects[label] = 'small'\n",
    "        elif (xix <= bordersize).any():\n",
    "            label_rejects[label] = 'left'\n",
    "        elif (arr.shape[1] - xix <= bordersize).any():\n",
    "            label_rejects[label] = 'right'\n",
    "        elif (yix <= bordersize).any():\n",
    "            label_rejects[label] = 'top'\n",
    "        elif (arr.shape[0] - yix <= bordersize).any():\n",
    "            label_rejects[label] = 'bottom'\n",
    "    remaining = {\n",
    "        k: v for k, v in label_indices.items()\n",
    "        if k not in label_rejects.keys()\n",
    "    }\n",
    "    return remaining, label_rejects, label_indices\n",
    "\n",
    "\n",
    "def moon_extraction_error(rec: dict, n_remaining: int) -> dict:\n",
    "    if n_remaining == 0:\n",
    "        return rec | {'error': 'no Moon', 'moon': None}\n",
    "    if n_remaining > 1:\n",
    "        return rec | {'error': 'ambiguous Moon', 'moon': None}\n",
    "    raise ValueError(\"How did we get here?\")\n",
    "\n",
    "\n",
    "def get_moon_cutout(remaining: dict, moonpad: int) -> list[slice]:\n",
    "    moon_y, moon_x = next(iter(remaining.values()))\n",
    "    y0, y1, x0, x1 = moon_y.min(), moon_y.max(), moon_x.min(), moon_x.max()\n",
    "    return [\n",
    "        slice(max(y0 - moonpad, 0), y1 + moonpad),\n",
    "        slice(max(x0 - moonpad, 0), x1 + moonpad)\n",
    "    ]\n",
    "\n",
    "\n",
    "def mooncircle(labels, moonslice, moonlabel) -> dict:\n",
    "    \"\"\"\n",
    "    Given a dict containing a label array (keyed \"labels\") and a tuple of\n",
    "    Y/X slices giving the bounds of a detected \"Moon\" (keyed \"moonlabel\"),\n",
    "    compute the convex hull of the detected Moon, and approximate its\n",
    "    illuminated fraction by comparing the area of that hull to the area of its\n",
    "    minimum enclosing circle (which represents an implied full Moon).\n",
    "    \"\"\"\n",
    "    moonblob = labels[*moonslice] == moonlabel\n",
    "    smoothblob = ndi.binary_dilation(moonblob, np.ones((5, 5))).astype('u1')\n",
    "    hull = gethull(smoothblob)\n",
    "    center, radius = cv2.minEnclosingCircle(hull)\n",
    "    return {\n",
    "        'smoothblob': smoothblob,\n",
    "        'center': center,\n",
    "        'radius': radius,\n",
    "        'ratio': cv2.contourArea(hull) / (np.pi * radius ** 2)\n",
    "    }\n",
    "    \n",
    "\n",
    "# TODO: don't magically provide good parameters. make them mess with it.\n",
    "def extract_moon(\n",
    "    arr: np.ndarray,\n",
    "    threshold: float = 0.7,\n",
    "    erosion: int = 4,\n",
    "    bordersize: int = 50,\n",
    "    moonpad: int = 60,\n",
    "    min_moon_extent: int = 180,\n",
    "    extended: bool = False\n",
    ") -> dict:\n",
    "    \"\"\"\n",
    "    Attempt to identify/locate a Moon in a 2D array taken from a GOES LUN\n",
    "    radiance image. Takes a number of parameters for different steps of the\n",
    "    extraction pipeline:\n",
    "    * threshold: cutoff value for making initial threshold array\n",
    "    * erosion: side length of square footprint for erosion operator applied\n",
    "      to threshold array\n",
    "    * bordersize: image border width for top/bottom/left/right label rejection\n",
    "    * moonpad: number of \"padding\" pixels to add to the Moon cutout\n",
    "    * min_moon_extent: minimum extent, along both X and Y axes, for identifying\n",
    "      a label as the Moon\n",
    "    * extended: return extended information?\n",
    "\n",
    "    TODO: internal documentation, split out, explain, blah blah\n",
    "    \"\"\"\n",
    "    morph = (arr.filled(0) > threshold)\n",
    "    if erosion is not None:\n",
    "        morph = ndi.binary_erosion(morph, np.ones((erosion, erosion)))\n",
    "    morph = morph.astype('u1')\n",
    "    labels, n_labels = ndi.label(morph)\n",
    "    remaining, label_rejects, label_indices = filter_labels(\n",
    "        arr, labels, bordersize, min_moon_extent\n",
    "    )\n",
    "    rec = {'n_labels': n_labels, 'reject_reasons': label_rejects}\n",
    "    if extended is True:\n",
    "        rec |= {'labels': labels, 'label_indices': label_indices}\n",
    "    if len(remaining) != 1:\n",
    "        return moon_extraction_error(rec, len(remaining))\n",
    "    moonlabel = next(iter(remaining.keys()))\n",
    "    moonslice = get_moon_cutout(remaining, moonpad)\n",
    "    rec |= mooncircle(labels, moonslice, moonlabel)\n",
    "    if extended is True:\n",
    "        rec['moonlabel'] = moonlabel\n",
    "        rec['moonslice'] = moonslice\n",
    "    return rec | {'error': None, 'moon': arr[*moonslice]}"
   ]
  },
  {
   "cell_type": "code",
   "execution_count": 442,
   "id": "faaf1a49-f3d3-4c5d-afd6-8368de5b25cf",
   "metadata": {},
   "outputs": [],
   "source": [
    "def moonpipe(fn: Path, extended: bool = False, **extract_kwargs):\n",
    "    \"\"\"Top-level handler function for the moon extraction pipeline.\"\"\"\n",
    "    radiance = Dataset(fn).variables['radiance'][:]\n",
    "    moon = extract_moon(radiance, **(extract_kwargs | {'extended': extended}))\n",
    "    if moon['error'] is not None:\n",
    "        return moon\n",
    "    return moon\n",
    "\n",
    "\n",
    "def render_moon_circle(\n",
    "    smoothblob: pd.DataFrame,\n",
    "    center: tuple[float, float],\n",
    "    radius: float,\n",
    "    render_blob: bool = True,\n",
    "    **_\n",
    ") -> np.ndarray:\n",
    "    \"\"\"\n",
    "    Helper function for visualization: given an array containing a filled\n",
    "    convex hull (should be 8-bit unsigned integer valued 1 within the hull and\n",
    "    0 outside it) and a specification for that hull's minimum enclosing circle,\n",
    "    render that circle in cyan in a 3D array, optionally superimposed on the\n",
    "    filled hull. Returns an ndarray suitable for directly passing to\n",
    "    `plt.imshow()` or similar functions.\n",
    "    \"\"\"\n",
    "    if render_blob is True:\n",
    "        canvas = np.dstack([smoothblob.copy() * 50] * 3)\n",
    "    else:\n",
    "        canvas = np.dstack([np.zeros_like(smoothblob)] * 3)\n",
    "    center = tuple(map(lambda c: int(round(c)), center))\n",
    "    radius = int(round(radius))\n",
    "    return cv2.circle(canvas, center, radius, (0, 255, 255), 2)"
   ]
  },
  {
   "cell_type": "code",
   "execution_count": 443,
   "id": "f9059343-14c1-4776-b291-2ef6faca0489",
   "metadata": {},
   "outputs": [],
   "source": [
    "# NOTE: these functions are for dev convenience. We most likely don't want \n",
    "#  to throw all this complicated matplotlib stuff at readers. We'll just \n",
    "#  instruct them to mess around with imshow and the result.\n",
    "from marslab.imgops.pltutils import strip_axes\n",
    "import matplotlib.pyplot as plt\n",
    "\n",
    "def show_moonpipe_result(result):    \n",
    "    fig, axes = plt.subplots(1, 2, figsize=(10, 5))\n",
    "    for i, key, ax in zip((1, 2), (\"moon\", \"smoothblob\"), axes):\n",
    "        if key == \"smoothblob\":\n",
    "            arr = render_moon_circle(\n",
    "                result[\"smoothblob\"], result['center'], result['radius']\n",
    "            )\n",
    "            ax.imshow(arr)\n",
    "        else:\n",
    "            ax.imshow(result[key], cmap='Greys_r')\n",
    "        strip_axes(ax)\n",
    "        ax.set_title(key, color=\"white\", fontsize=15)\n",
    "    fig.set_facecolor('black')\n",
    "\n",
    "def show_moonpipe_labels(result):\n",
    "    fig, ax = plt.subplots(figsize=(10, 2.2))\n",
    "    ax.imshow(result['labels'], cmap='prism')\n",
    "    strip_axes(ax)\n",
    "    fig.set_facecolor('black')\n",
    "    fig.tight_layout(pad=0)"
   ]
  },
  {
   "cell_type": "code",
   "execution_count": 484,
   "id": "4924e371-3ee9-48d0-9ef1-5cbd36e25338",
   "metadata": {},
   "outputs": [],
   "source": [
    "# examine some results\n",
    "\n",
    "plt.close('all')\n",
    "entry = lun_index.loc[random.choice(lun_index.index)]\n",
    "result = moonpipe(LUN_FOLDER / entry['name'], extended=True)\n",
    "if result['moon'] is not None:\n",
    "    show_moonpipe_result(result)\n",
    "else:\n",
    "    print(result['error'])\n",
    "show_moonpipe_labels(result)"
   ]
  },
  {
   "cell_type": "code",
   "execution_count": 491,
   "id": "a2dc4eea-854e-4763-8312-70c95afcbccc",
   "metadata": {
    "scrolled": true
   },
   "outputs": [
    {
     "data": {
      "text/html": [
       "<div>\n",
       "<style scoped>\n",
       "    .dataframe tbody tr th:only-of-type {\n",
       "        vertical-align: middle;\n",
       "    }\n",
       "\n",
       "    .dataframe tbody tr th {\n",
       "        vertical-align: top;\n",
       "    }\n",
       "\n",
       "    .dataframe thead th {\n",
       "        text-align: right;\n",
       "    }\n",
       "</style>\n",
       "<table border=\"1\" class=\"dataframe\">\n",
       "  <thead>\n",
       "    <tr style=\"text-align: right;\">\n",
       "      <th></th>\n",
       "      <th>name</th>\n",
       "      <th>ill</th>\n",
       "      <th>ratio</th>\n",
       "      <th>error</th>\n",
       "    </tr>\n",
       "  </thead>\n",
       "  <tbody>\n",
       "    <tr>\n",
       "      <th>0</th>\n",
       "      <td>OR_ABI-INST-CAL-LUN-M3C05_G16_s20170670619289_...</td>\n",
       "      <td>80.01935</td>\n",
       "      <td>NaN</td>\n",
       "      <td>no Moon</td>\n",
       "    </tr>\n",
       "    <tr>\n",
       "      <th>1</th>\n",
       "      <td>OR_ABI-INST-CAL-LUN-M3C03_G16_s20170670621289_...</td>\n",
       "      <td>80.01935</td>\n",
       "      <td>NaN</td>\n",
       "      <td>no Moon</td>\n",
       "    </tr>\n",
       "    <tr>\n",
       "      <th>2</th>\n",
       "      <td>OR_ABI-INST-CAL-LUN-M3C05_G16_s20171261407281_...</td>\n",
       "      <td>83.12998</td>\n",
       "      <td>0.822468</td>\n",
       "      <td>None</td>\n",
       "    </tr>\n",
       "    <tr>\n",
       "      <th>3</th>\n",
       "      <td>OR_ABI-INST-CAL-LUN-M3C05_G16_s20171261408281_...</td>\n",
       "      <td>83.12998</td>\n",
       "      <td>0.821726</td>\n",
       "      <td>None</td>\n",
       "    </tr>\n",
       "    <tr>\n",
       "      <th>4</th>\n",
       "      <td>OR_ABI-INST-CAL-LUN-M3C05_G16_s20171261411581_...</td>\n",
       "      <td>83.12998</td>\n",
       "      <td>0.823895</td>\n",
       "      <td>None</td>\n",
       "    </tr>\n",
       "    <tr>\n",
       "      <th>...</th>\n",
       "      <td>...</td>\n",
       "      <td>...</td>\n",
       "      <td>...</td>\n",
       "      <td>...</td>\n",
       "    </tr>\n",
       "    <tr>\n",
       "      <th>267</th>\n",
       "      <td>OR_ABI-INST-CAL-LUN-M6C05_G16_s20240281913552_...</td>\n",
       "      <td>91.76651</td>\n",
       "      <td>0.925071</td>\n",
       "      <td>None</td>\n",
       "    </tr>\n",
       "    <tr>\n",
       "      <th>268</th>\n",
       "      <td>OR_ABI-INST-CAL-LUN-M6C03_G16_s20240302130553_...</td>\n",
       "      <td>78.10111</td>\n",
       "      <td>0.783937</td>\n",
       "      <td>None</td>\n",
       "    </tr>\n",
       "    <tr>\n",
       "      <th>269</th>\n",
       "      <td>OR_ABI-INST-CAL-LUN-M6C01_G18_s20240310017562_...</td>\n",
       "      <td>77.33786</td>\n",
       "      <td>0.789519</td>\n",
       "      <td>None</td>\n",
       "    </tr>\n",
       "    <tr>\n",
       "      <th>270</th>\n",
       "      <td>OR_ABI-INST-CAL-LUN-M6C05_G18_s20240310017562_...</td>\n",
       "      <td>77.33786</td>\n",
       "      <td>0.767348</td>\n",
       "      <td>None</td>\n",
       "    </tr>\n",
       "    <tr>\n",
       "      <th>271</th>\n",
       "      <td>OR_ABI-INST-CAL-LUN-M6C05_G16_s20240312052553_...</td>\n",
       "      <td>69.95969</td>\n",
       "      <td>0.700216</td>\n",
       "      <td>None</td>\n",
       "    </tr>\n",
       "  </tbody>\n",
       "</table>\n",
       "<p>272 rows × 4 columns</p>\n",
       "</div>"
      ],
      "text/plain": [
       "                                                  name       ill     ratio  \\\n",
       "0    OR_ABI-INST-CAL-LUN-M3C05_G16_s20170670619289_...  80.01935       NaN   \n",
       "1    OR_ABI-INST-CAL-LUN-M3C03_G16_s20170670621289_...  80.01935       NaN   \n",
       "2    OR_ABI-INST-CAL-LUN-M3C05_G16_s20171261407281_...  83.12998  0.822468   \n",
       "3    OR_ABI-INST-CAL-LUN-M3C05_G16_s20171261408281_...  83.12998  0.821726   \n",
       "4    OR_ABI-INST-CAL-LUN-M3C05_G16_s20171261411581_...  83.12998  0.823895   \n",
       "..                                                 ...       ...       ...   \n",
       "267  OR_ABI-INST-CAL-LUN-M6C05_G16_s20240281913552_...  91.76651  0.925071   \n",
       "268  OR_ABI-INST-CAL-LUN-M6C03_G16_s20240302130553_...  78.10111  0.783937   \n",
       "269  OR_ABI-INST-CAL-LUN-M6C01_G18_s20240310017562_...  77.33786  0.789519   \n",
       "270  OR_ABI-INST-CAL-LUN-M6C05_G18_s20240310017562_...  77.33786  0.767348   \n",
       "271  OR_ABI-INST-CAL-LUN-M6C05_G16_s20240312052553_...  69.95969  0.700216   \n",
       "\n",
       "       error  \n",
       "0    no Moon  \n",
       "1    no Moon  \n",
       "2       None  \n",
       "3       None  \n",
       "4       None  \n",
       "..       ...  \n",
       "267     None  \n",
       "268     None  \n",
       "269     None  \n",
       "270     None  \n",
       "271     None  \n",
       "\n",
       "[272 rows x 4 columns]"
      ]
     },
     "execution_count": 491,
     "metadata": {},
     "output_type": "execute_result"
    }
   ],
   "source": [
    "# check the pipeline against all the files:\n",
    "pipeline_records = []\n",
    "# should take 1-3 minutes depending on environment\n",
    "for i, row in lun_index.iterrows():\n",
    "    result = moonpipe(LUN_FOLDER / row['name'])\n",
    "    pipeline_records.append(\n",
    "        {\n",
    "            'name': row['name'], \n",
    "            'ill': row['ill'],\n",
    "            'ratio': result.get('ratio'),\n",
    "            'error': result.get('error')\n",
    "        }\n",
    "    )\n",
    "    if (i % 50 == 0) or (i == lun_index.index[-1]):\n",
    "        print(f\"processed {i + 1} of {len(lun_index)}\")\n",
    "pipeline_results = pd.DataFrame(pipeline_records)\n",
    "pipeline_results"
   ]
  },
  {
   "cell_type": "code",
   "execution_count": 501,
   "id": "99293ce7-61d3-4283-8703-216564c644b8",
   "metadata": {},
   "outputs": [
    {
     "data": {
      "text/plain": [
       "66"
      ]
     },
     "execution_count": 501,
     "metadata": {},
     "output_type": "execute_result"
    }
   ],
   "source": [
    "# How many images did we not find a Moon in?\n",
    "pipeline_results['error'].count()"
   ]
  },
  {
   "cell_type": "code",
   "execution_count": 502,
   "id": "a5280cca-21cb-4466-b59f-a7e7b813134f",
   "metadata": {},
   "outputs": [],
   "source": [
    "# Restrict to results that found a Moon:\n",
    "valid_results = pipeline_results.dropna(subset='ratio')"
   ]
  },
  {
   "cell_type": "markdown",
   "id": "23d594bf-9664-4c86-ad48-7d2249373d01",
   "metadata": {},
   "source": [
    "# getting ground truth\n",
    "## (this can potentially be replaced by providing an index file)"
   ]
  },
  {
   "cell_type": "code",
   "execution_count": 10,
   "id": "57b41db8-2a16-45d7-8e95-0a5954c5c31a",
   "metadata": {},
   "outputs": [],
   "source": [
    "def get_time_metadata():\n",
    "    \"\"\"\n",
    "    Extract time metadata from the NetCDF files so that we can get the \n",
    "    'offical' percent illumination of the Moon at each of those times\n",
    "    from JPL using LHorizon.\n",
    "    \"\"\"\n",
    "    return [\n",
    "        {'name': f.name, 'utc': Dataset(f).time_coverage_start}    \n",
    "        for f in [f for f in LUN_FOLDER.iterdir() if f.suffix == \".nc\"]\n",
    "    ]"
   ]
  },
  {
   "cell_type": "code",
   "execution_count": 11,
   "id": "06da98f1-2710-415f-8564-9990ff6f05c4",
   "metadata": {},
   "outputs": [],
   "source": [
    "file_index = pd.DataFrame(get_time_metadata())\n",
    "# The NetCDF files contain these time codes as strings.\n",
    "# Convert them to datetime64 for more convenient calculations.\n",
    "file_index['utc'] = pd.to_datetime(file_index['utc'])\n",
    "# And let's go ahead and sort it by time, too:\n",
    "file_index = file_index.sort_values(by='utc').reset_index(drop=True)"
   ]
  },
  {
   "cell_type": "code",
   "execution_count": 12,
   "id": "628e7d1b-db0a-4e8d-96a0-1db19e8c6f87",
   "metadata": {},
   "outputs": [],
   "source": [
    "# Add a Julian day column to the time index to make it more\n",
    "# convenient to request ephemeris data (it'll be shorter, so we can\n",
    "# make requests to the API more easily). We'll again make use of the\n",
    "# extremely convenient time conversion functions from astropy.time.\n",
    "import astropy.time as at  \n",
    "\n",
    "# [maybe, if we haven't: explain Julian day scale]\n",
    "# Let's also round it to two decimal places to further reduce the \n",
    "# number of API calls we need to make -- we definitely don't need \n",
    "# more than hundredth-of-a-day resolution for this application \n",
    "# (about 14.4 minutes).\n",
    "file_index['jd'] = at.Time(file_index['utc']).jd.round(2)"
   ]
  },
  {
   "cell_type": "code",
   "execution_count": 15,
   "id": "ffe39b54-016d-442a-b283-37afecacabe6",
   "metadata": {},
   "outputs": [],
   "source": [
    "# Now we put them all together and reset the index.\n",
    "illumination_df = pd.concat(illumination_chunks).reset_index(drop=True)"
   ]
  },
  {
   "cell_type": "code",
   "execution_count": 13,
   "id": "baf51482-6946-4865-8c18-44e643c199d2",
   "metadata": {},
   "outputs": [
    {
     "data": {
      "text/plain": [
       "[(10, 'Illuminated fraction'),\n",
       " (25, 'Target-Observer-Moon angle and illuminated fraction')]"
      ]
     },
     "execution_count": 13,
     "metadata": {},
     "output_type": "execute_result"
    }
   ],
   "source": [
    "# Horizons offers lots of different quantities. We want, specifically,\n",
    "# illuminated fraction. Let's look up that number in lhorizon's index.\n",
    "import re\n",
    "from lhorizon.constants import HORIZONS_QUANTITY_NAMES\n",
    "\n",
    "# 'OBSERVER' refers to the JPL Horizons mode. OBSERVER is the default.\n",
    "[\n",
    "    (k, v) for k, v in HORIZONS_QUANTITY_NAMES['OBSERVER'].items() \n",
    "    if re.search('illuminated', v, re.I)\n",
    "]"
   ]
  },
  {
   "cell_type": "code",
   "execution_count": 14,
   "id": "0ca44f32-f026-4688-a4e5-ce41b39bbdbd",
   "metadata": {},
   "outputs": [
    {
     "name": "stdout",
     "output_type": "stream",
     "text": [
      "fetched 100 of 272\n",
      "fetched 200 of 272\n",
      "fetched 272 of 272\n"
     ]
    }
   ],
   "source": [
    "# Target-Observer-Moon angle won't be very useful because we're measuring this \n",
    "# from Earth to the Moon, so we'll just pick 10.\n",
    "from lhorizon import LHorizon\n",
    "\n",
    "# If we try to do all the times at once, JPL Horizons will get upset.\n",
    "# We'll chunk them into groups of 100, which should be safe.\n",
    "# This kind of chunked or \"paginated\" operation is very useful with\n",
    "# many networked resources.\n",
    "chunksize, illumination_chunks = 100, []\n",
    "chunk_starts = tuple(range(0, len(file_index), chunksize))\n",
    "for start_ix in chunk_starts:\n",
    "    timechunk = file_index['jd'].iloc[start_ix:start_ix + chunksize]\n",
    "    query = LHorizon(\n",
    "        origin=399,  # JPL's code for the Earth\n",
    "        target=301,  # JPL's code for the Moon\n",
    "        quantities=(10,),\n",
    "        epochs=timechunk\n",
    "    )\n",
    "    # We only really care about 'ill' (illuminated fraction), but \n",
    "    # we'll check the 'jd' column as well to make sure it matches what\n",
    "    # we sent -- just to make sure we didn't get anything out of order.\n",
    "    illumination_chunks.append(query.table()[['ill', 'jd']])\n",
    "    print(f\"fetched {timechunk.index[-1] + 1} of {len(file_index)}\")"
   ]
  },
  {
   "cell_type": "code",
   "execution_count": 16,
   "id": "141fb549-824b-4d7c-8861-fc4c1517c4c9",
   "metadata": {},
   "outputs": [
    {
     "name": "stdout",
     "output_type": "stream",
     "text": [
      "The query sorted itself correctly.\n"
     ]
    }
   ],
   "source": [
    "# The rows of this dataframe should correspond exactly to the rows of\n",
    "# file_index. Let's see if they do:\n",
    "assert (file_index['jd'] == illumination_df['jd']).all(), \"Sorting problem!\"\n",
    "print(\"The query sorted itself correctly.\")"
   ]
  },
  {
   "cell_type": "code",
   "execution_count": 17,
   "id": "90c0ed77-00df-43f8-9271-43fb20c12662",
   "metadata": {},
   "outputs": [],
   "source": [
    "# Now we can lose that redundant 'jd' column and just put the % illumination\n",
    "# information on our file index.\n",
    "file_index = pd.concat([file_index, illumination_df['ill']], axis=1)"
   ]
  },
  {
   "cell_type": "code",
   "execution_count": 18,
   "id": "55b47a51-c149-41a1-a8a4-e46258ab35d2",
   "metadata": {},
   "outputs": [],
   "source": [
    "# NOTE: I'm writing this out for at least our dev convenience, and we can\n",
    "# also just provide exactly this file.\n",
    "Path(\"indices\").mkdir(exist_ok=True)\n",
    "file_index.to_csv(\"indices/lun_index.csv\", index=None)"
   ]
  },
  {
   "cell_type": "code",
   "execution_count": null,
   "id": "144ad2b4-9e7b-42db-b072-f47858d8a36b",
   "metadata": {},
   "outputs": [],
   "source": [
    "# Let's make a couple quick plot of the %illumination across the dataset, just to see\n",
    "# what we've got.\n",
    "\n",
    "import matplotlib.pyplot as plt\n",
    "%matplotlib qt\n",
    "\n",
    "# This first plot is a simple time-vs.-illumination graph:\n",
    "plt.scatter(file_index['utc'], file_index['ill'], linewidth=2)"
   ]
  },
  {
   "cell_type": "code",
   "execution_count": null,
   "id": "f7108ea5-268c-46ac-849f-89fd2dd8888d",
   "metadata": {},
   "outputs": [],
   "source": [
    "# Hmm. That's not the most revealing graph in the world. There are a lot of \n",
    "# gaps in it, because the GOES satellites don't _constantly_ take pictures of \n",
    "# the Moon. Let's take a look at a histogram instead, so we have an idea of \n",
    "# what Moon phases we can expect to find most often -- or at all -- in our \n",
    "# dataset. (This is often a good technique for exploring a new dataset -- \n",
    "# it's harder to work with data if you don't know what data you have).\n",
    "# You'll note that we have only a couple of potential images of the Moon \n",
    "# below half full, but a good selection between half full and full.\n",
    "\n",
    "# plt.close('all')\n",
    "_ = plt.hist(file_index['ill'], bins=32)"
   ]
  },
  {
   "cell_type": "code",
   "execution_count": 520,
   "id": "207f95f8-4d39-4728-b642-24592fecb5bb",
   "metadata": {},
   "outputs": [
    {
     "data": {
      "text/plain": [
       "(0.9724801657102481, 4.940306916741723e-131)"
      ]
     },
     "execution_count": 520,
     "metadata": {},
     "output_type": "execute_result"
    }
   ],
   "source": [
    "# Check simple linear correlation between our computed ratios and\n",
    "# ephemeris-derived illumination percentage. With the right parameters,\n",
    "# you can get a linear correlation over 0.95...\n",
    "from scipy.stats import linregress\n",
    "\n",
    "# This is a simple linear regression function that returns a tuple\n",
    "# giving slope, intercept, rvalue (strength of correlation), \n",
    "# pvalue (significance of correlation), and errors.\n",
    "regression = linregress(valid_results['ratio'], valid_results['ill'])\n",
    "regression.rvalue, regression.pvalue"
   ]
  },
  {
   "cell_type": "code",
   "execution_count": 527,
   "id": "9aa14ac2-de8d-4d8c-8f74-ae0076b4de9b",
   "metadata": {},
   "outputs": [
    {
     "data": {
      "text/plain": [
       "2      83.12998\n",
       "3      83.12998\n",
       "4      83.12998\n",
       "5      83.12998\n",
       "6      83.12998\n",
       "         ...   \n",
       "267    91.76651\n",
       "268    78.10111\n",
       "269    77.33786\n",
       "270    77.33786\n",
       "271    69.95969\n",
       "Name: ill, Length: 206, dtype: float64"
      ]
     },
     "execution_count": 527,
     "metadata": {},
     "output_type": "execute_result"
    }
   ],
   "source": [
    "valid_results['ill']"
   ]
  },
  {
   "cell_type": "code",
   "execution_count": 539,
   "id": "6709f6d0-7676-43cb-9ec6-57c7cd737dcd",
   "metadata": {},
   "outputs": [
    {
     "data": {
      "text/plain": [
       "<matplotlib.collections.PathCollection at 0x77d1f6cda590>"
      ]
     },
     "execution_count": 539,
     "metadata": {},
     "output_type": "execute_result"
    }
   ],
   "source": [
    "# Plot the regression.\n",
    "\n",
    "# Make an x axis for the line...\n",
    "x_axis = np.linspace(\n",
    "    valid_results['ratio'].min(), \n",
    "    valid_results['ratio'].max(), \n",
    "    len(valid_results)\n",
    ")\n",
    "# Then it's just y = mx + b.\n",
    "line = x_axis * regression.slope + regression.intercept\n",
    "plt.plot(x_axis, line, linewidth=3, color='r')\n",
    "plt.scatter(valid_results['ratio'], valid_results['ill'], c='k')"
   ]
  },
  {
   "cell_type": "code",
   "execution_count": 587,
   "id": "decaa61f-775d-4ed1-905b-a4f011886e5d",
   "metadata": {},
   "outputs": [],
   "source": [
    "# Even if you have a strong correlation, you'll probably have at least a few \n",
    "# extreme outliers.\n",
    "# If you want to further tweak parameters -- or find out why this\n",
    "# algorithm simply might not be able to work on a particular image at all --\n",
    "# go ahead and look at them individually:\n",
    "\n",
    "# offset from best linear fit\n",
    "relative_offset = abs( \n",
    "    1 - valid_results['ill'] \n",
    "    / (valid_results['ratio'] * regression.slope + regression.intercept)\n",
    ")\n",
    "# Now what are our 98th-percentile outliers...\n",
    "outliers = valid_results.loc[\n",
    "    relative_offset > np.percentile(relative_offset, 98)\n",
    "]"
   ]
  },
  {
   "cell_type": "code",
   "execution_count": 606,
   "id": "fae86cbc-5376-4aaf-9b9f-12f0975c48c0",
   "metadata": {},
   "outputs": [
    {
     "data": {
      "text/plain": [
       "<matplotlib.image.AxesImage at 0x77d1f3ebe3d0>"
      ]
     },
     "execution_count": 606,
     "metadata": {},
     "output_type": "execute_result"
    }
   ],
   "source": [
    "# Let's go ahead and look at one. Perhaps you can figure out why it \n",
    "# didn't work!\n",
    "outlier = outliers.sample().iloc[0]\n",
    "rad = Dataset(LUN_FOLDER / outlier['name']).variables['radiance'][:]\n",
    "plt.imshow(rad, cmap='Greys_r')"
   ]
  },
  {
   "cell_type": "code",
   "execution_count": 631,
   "id": "1a8819ce-2ee5-428c-93e1-f402a1b94b41",
   "metadata": {},
   "outputs": [
    {
     "data": {
      "text/plain": [
       "<matplotlib.image.AxesImage at 0x77d1e2cc4050>"
      ]
     },
     "execution_count": 631,
     "metadata": {},
     "output_type": "execute_result"
    }
   ],
   "source": [
    "# Similarly, it might also be good to look at images the algorithm \n",
    "# didn't find a Moon in at all. Were those correct or incorrect\n",
    "# nondetections?\n",
    "invalid = pipeline_results.loc[pipeline_results['error'].notna()]\n",
    "badrow = invalid.sample().iloc[0]\n",
    "badrad = Dataset(LUN_FOLDER / badrow['name']).variables['radiance'][:]\n",
    "plt.imshow(badrad, cmap='Greys_r')"
   ]
  },
  {
   "cell_type": "markdown",
   "id": "6cdd9d1c-07a3-4b70-9030-b4cca64a8aa5",
   "metadata": {},
   "source": [
    "# Qualitative examination of Moon images\n",
    "----\n",
    "## section placeholder"
   ]
  }
 ],
 "metadata": {
  "kernelspec": {
   "display_name": "Python 3 (ipykernel)",
   "language": "python",
   "name": "python3"
  },
  "language_info": {
   "codemirror_mode": {
    "name": "ipython",
    "version": 3
   },
   "file_extension": ".py",
   "mimetype": "text/x-python",
   "name": "python",
   "nbconvert_exporter": "python",
   "pygments_lexer": "ipython3",
   "version": "3.10.12"
  }
 },
 "nbformat": 4,
 "nbformat_minor": 5
}
