{
 "cells": [
  {
   "cell_type": "code",
   "execution_count": null,
   "id": "9901caea",
   "metadata": {},
   "outputs": [],
   "source": [
    "#These imports don't all need to be here; these are based on the libraries we discussed in the proposal\n",
    "import cv2\n",
    "import scikit-image"
   ]
  },
  {
   "cell_type": "markdown",
   "id": "ddc3056e-1343-46be-b81f-a8071c4e70f7",
   "metadata": {},
   "source": [
    "## Lesson 6: Seeing the Moon\n",
    "#### Learning Objectives:\n",
    "After completing this lesson, users will be able to:\n",
    "1. objective 1\n",
    "2. objective 2\n",
    "3. objective 3\n",
    "\n",
    "_Python libraries introduced in this lesson:_ "
   ]
  },
  {
   "cell_type": "markdown",
   "id": "05db146f-9cec-4400-a84f-d045c3a97549",
   "metadata": {},
   "source": [
    "### Introduction\n",
    "\n",
    "The Shinnecock are a federally recognized tribe based in eastern Long Island. Like many other tribes along the eastern seaboard, colonialism caused great hardship and loss for the Shinnecock. Land is put at the center of the colonialism discussion, but land is what the colonists gained; it is only the beginning of what indigenous tribes lost. Traditional language, ceremonies, and cultural practices were outlawed; children were taken away from their families; Shinnecock men were left to die on ships in storms while products were given preference to be taken ashore first. \n",
    "\n",
    "For several generations, the Shinnecock have been attempting to bring back lost cultural traditions, much of which has been done by travelling to other closely related communities and re-learning our ways. One of the recently revived traditions is the *Full Moon Ceremony* in which female members of the tribe honor _Nukimis Nanapashot_ (Grandmother Moon Spirit). The women of the tribe are tied to the water, the moon and its calendar. Each month, when the moon is full and its power strongest, this ceremony is held to allow the participants to cleanse themselves and their energy.\n",
    "\n",
    "Today, in Western science, the moon is considered full on one particular date in the synodic month (New Moon to New Moon). However, this strict concept of fullness is not adhered to in the ceremonies. You may have noticed that moon \"looks full\" for a few days before and after the exact date of the full moon.\n",
    "\n",
    "In this notebook, we will use computer vision to explore the fullness of the moon and compare this to the dates on which the ceremony is permitted to be held."
   ]
  },
  {
   "cell_type": "code",
   "execution_count": 1,
   "id": "7203f1e2-ad65-444e-91a5-a7a7575a7a58",
   "metadata": {},
   "outputs": [],
   "source": [
    "#TODO: Ceremonies can be held with three days on either side of the full moon.\n",
    "#Circassian reference: https://thehamptons.com/indians/shipwreck/circassian.html"
   ]
  },
  {
   "cell_type": "code",
   "execution_count": null,
   "id": "0bb7c191-88a7-4033-a69a-ceb1acd6bb59",
   "metadata": {},
   "outputs": [],
   "source": []
  }
 ],
 "metadata": {
  "kernelspec": {
   "display_name": "Python 3 (ipykernel)",
   "language": "python",
   "name": "python3"
  },
  "language_info": {
   "codemirror_mode": {
    "name": "ipython",
    "version": 3
   },
   "file_extension": ".py",
   "mimetype": "text/x-python",
   "name": "python",
   "nbconvert_exporter": "python",
   "pygments_lexer": "ipython3",
   "version": "3.10.12"
  }
 },
 "nbformat": 4,
 "nbformat_minor": 5
}
