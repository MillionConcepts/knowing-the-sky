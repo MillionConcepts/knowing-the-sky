{
 "cells": [
  {
   "cell_type": "code",
   "execution_count": null,
   "id": "13221c7f",
   "metadata": {},
   "outputs": [],
   "source": [
    "from astropy.coordinates import AltAz, EarthLocation, SkyCoord\n",
    "import astropy.time as at\n",
    "import matplotlib.pyplot as plt\n",
    "import numpy as np\n",
    "import pandas as pd"
   ]
  },
  {
   "cell_type": "markdown",
   "id": "3ed3ec7c",
   "metadata": {},
   "source": [
    "## coordinate transformations\n",
    "\n",
    "The version of the Bright Star Catalog we fetched through Vizier defines star coordinates in 'J2000'. 'J2000' is a vague term: it can refer to any coordinate system referenced to the celestial equator and equinox of January 1st, 2000 TT (Terrestrial Time -- like Atomic Time but with a small offset), and there are several such systems. *todo: more about transforming time systems? this level of precision is not actually important for this problem...* Usually, however, it refers to an equatorial coordinate system whose origin is at the barycenter of the Solar System, and is interchangeable for most purposes with the International Celestial Reference System (ICRS). **todo, maybe: do i need to talk about what an equatorial coordinate system is? does it matter?**\n",
    "\n",
    "An equatorial system is a type of inertial coordinate system. Inertial coordinate systems are acceleration-independent and very useful for specifying precise positions and orientations of objects in different accelerational frames. However, body-fixed systems, which move with a particular object such as a planet, and topocentric systems, which are relative to a particular observer, are often more useful for determining _apparent_ positions and trajectories of objects.\n",
    "\n",
    "Transforming coordinates into other systems is one of the most common tasks in computing for planetary science and astronomy. The scientific Python ecosystem offers many tools to facilitate this task, and some of the most straightforward ones live in `astropy`."
   ]
  },
  {
   "cell_type": "code",
   "execution_count": null,
   "id": "b06cf76d",
   "metadata": {},
   "outputs": [],
   "source": [
    "# let's read our cleaned-up version of the Bright Star Catalog back in.\n",
    "bsc = pd.read_csv('bright_star_directory/bsc_clean.csv')\n",
    "# then, let's make a SkyCoord object. SkyCoord is astropy's core class\n",
    "# for representing the coordinates of celestial objects.\n",
    "# You can specify other coordinate systems when you initialize a SkyCoord,\n",
    "# but ICRS is the default, which is convenient for us here.\n",
    "star_coords = SkyCoord(\n",
    "    ra=bsc['RAJ2000'], dec=bsc['DEJ2000'], unit='deg'\n",
    ")"
   ]
  },
  {
   "cell_type": "markdown",
   "id": "ad0fc882",
   "metadata": {},
   "source": [
    "### transforming 'equivalent' systems and representations\n",
    "\n",
    "Transforming between inertial frames that are simply oriented differently is very easy in `astropy`. You can translate ICRS to systems like Galactic coordinates (another inertial coordinate system centered on the SSB, but with 'up' towards the center of the Milky Way) with no trouble at all. Similarly, if you'd prefer coordinates in Cartesian rather than spherical representation to make some calculation easier, you don't need to provide anything additional to `astropy`."
   ]
  },
  {
   "cell_type": "code",
   "execution_count": null,
   "id": "965d43da",
   "metadata": {},
   "outputs": [],
   "source": [
    "star_coords.galactic"
   ]
  },
  {
   "cell_type": "code",
   "execution_count": null,
   "id": "d957a397",
   "metadata": {},
   "outputs": [],
   "source": [
    "star_coords.cartesian"
   ]
  },
  {
   "cell_type": "markdown",
   "id": "9da8d35d",
   "metadata": {},
   "source": [
    "### transforming 'non-equivalent' systems\n",
    "\n",
    "Transforming inertial coordinates into topocentric or body-fixed coordinates, however, requires more information. Because these systems take body position and acceleration into account, you need a reliable ephemeris, a specific point in time, and, for topocentric systems, observer location relative to body center.\n",
    "\n",
    "Because we care about the 'position of rising' relative to an Earth-based observer, we will need to use a topocentric coordinate system: specifically, an altitude-azimuth system. \n",
    "\n",
    "**todo: what do you do if you need more precision? what about non-Earth bodies?**"
   ]
  },
  {
   "cell_type": "code",
   "execution_count": null,
   "id": "4de6cef5",
   "metadata": {},
   "outputs": [],
   "source": [
    "# let's first make sure we're ignoring times when the sun is above the horizon. \n",
    "# there are lots of ways to get sun position data; one of the best is to\n",
    "# query the JPL Horizons service. It has a solid web interface, but multiple\n",
    "# wrappers for it also exist that make it easier to get data into Python.\n",
    "# our favorite is called lhorizon.\n",
    "\n",
    "from lhorizon import LHorizon"
   ]
  },
  {
   "cell_type": "code",
   "execution_count": null,
   "id": "f237ee26",
   "metadata": {},
   "outputs": [],
   "source": [
    "seattle_coords = {\n",
    "    'lat': 47.6062, \n",
    "    'lon': (360 - 122.3321),\n",
    "    'elevation': 0,\n",
    "    # 301 is the horizons code for Earth\n",
    "    'body': 301\n",
    "}\n",
    "# this means: 'give me times starting at Jan 1 1980 and ending at Jan 1 1981, at 1-hour intervals'.\n",
    "epochs = {\n",
    "    'start': '1980-01-01',\n",
    "    'stop': '1981-01-01',\n",
    "    'step': '1h'\n",
    "}\n",
    "# initialize a LHorizon object. this works something like the Vizier object\n",
    "# we saw in the last notebook -- it represents a query, or a potential\n",
    "# query, to the Horizons service.\n",
    "\n",
    "# 1 is the horizons code for the Sun\n",
    "sun_positions = LHorizon(\n",
    "    target=1, origin=seattle_coords, epochs=epochs\n",
    ").table()"
   ]
  },
  {
   "cell_type": "code",
   "execution_count": null,
   "id": "5cb7f237",
   "metadata": {},
   "outputs": [],
   "source": [
    "# the table that Horizons gave us has a lot of columns. However, the only ones\n",
    "# we actually care about in this case are 'time' and 'alt' (altitude).\n",
    "sun_positions.columns"
   ]
  },
  {
   "cell_type": "code",
   "execution_count": null,
   "id": "903fc067",
   "metadata": {},
   "outputs": [],
   "source": [
    "# let's use the predicate indexing trick we discussed in the last notebook to pick\n",
    "# just times when the Sun has altitude < 0.\n",
    "night = sun_positions.loc[sun_positions['alt'] < 0]\n",
    "night[['time', 'alt']]"
   ]
  },
  {
   "cell_type": "code",
   "execution_count": null,
   "id": "9a8115d3",
   "metadata": {},
   "outputs": [],
   "source": [
    "# now, we can use the 'time' series from the night table to construct coordinate frames for\n",
    "# Seattle in each hour in the year. \n",
    "# astropy really likes to use its own objects, and the object it likes to use to define\n",
    "# time is astropy.time.Time.\n",
    "# fortunately, it's _really_ easy to make a Time object here, because Time objects can \n",
    "# be constructed directly from pandas datetime Series.\n",
    "# note that astropy.time.Time can interpret a wide variety of other time formats;\n",
    "# also note that its default scale is UTC (which is the default time scale for this type)\n",
    "# of Horizons query, so, great.\n",
    "times = at.Time(night['time'])\n",
    "# and just like that, we have an astropy.time.Time object representing every hour in the year.\n",
    "times[100:102]"
   ]
  },
  {
   "cell_type": "code",
   "execution_count": null,
   "id": "3b0788bf",
   "metadata": {},
   "outputs": [],
   "source": [
    "# just like astropy likes its own Time objects, it also likes its own location objects. In this\n",
    "# case, the appropriate one is astropy.coordinates.EarthLocation.\n",
    "seattle = EarthLocation(lat=seattle_coords['lat'], lon=seattle_coords['lon'])\n",
    "seattle"
   ]
  },
  {
   "cell_type": "code",
   "execution_count": null,
   "id": "aabebcd8",
   "metadata": {},
   "outputs": [],
   "source": [
    "# now we can initialize an altitude-azimuth coordinate frame for each of these times.\n",
    "# this will provide the specificity astropy needs in order to convert inertial to \n",
    "# topocentric coordinates.\n",
    "\n",
    "# a note: under the hood, astropy uses IERS data to perform these transformations. \n",
    "# see: https://docs.astropy.org/en/stable/utils/iers.html#utils-iers\n",
    "\n",
    "# just like Time can contain many times, astropy is happy to make a coordinate frame\n",
    "# defined at multiple times or locations -- but because we only have one set of \n",
    "# initial coordinates, it'll fail if we try to actually perform the transformation.\n",
    "# so let's instead make a list of coordinate frames and use them to compute \n",
    "# altitude-azimuth coordinates for each star at each time.\n",
    "# this will probably take 30-60 seconds.\n",
    "frames = []\n",
    "for time in times:\n",
    "    frames.append(AltAz(location=seattle, obstime=time))\n",
    "star_altaz = []\n",
    "for frame in frames:\n",
    "    # note that on each iteration of this for loop, we are calculating alt-az coordinates\n",
    "    # for _every star_ at a specific time.\n",
    "    star_altaz.append(star_coords.transform_to(frame))"
   ]
  },
  {
   "cell_type": "code",
   "execution_count": null,
   "id": "874ad4df",
   "metadata": {},
   "outputs": [],
   "source": [
    "# now, in order to find approximate rising times for each star, we'll\n",
    "# stack the altitude values into a big array...\n",
    "\n",
    "alt_arrays = []\n",
    "# grab the numerical altitude values from each list of coordinates as an array:\n",
    "for altaz in star_altaz:\n",
    "    # 'value' strips the special astropy information off and gives you just the numbers\n",
    "    alt_arrays.append(altaz.alt.value)\n",
    "# np.vstack means 'stack these arrays vertically.' This will give us\n",
    "# an array oriented differently from our catalog table, so we'll take its\n",
    "# transpose with .T -- meaning just 'turn it sideways' -- to recover the\n",
    "# original orientation. We'll end up with an array where each column\n",
    "# represents a specific time, and each row represents a specific star,\n",
    "# and the array values represent that star's altitude at that time.\n",
    "altitudes = np.vstack(alt_arrays).T\n",
    "altitudes"
   ]
  },
  {
   "cell_type": "code",
   "execution_count": null,
   "id": "382ab49d",
   "metadata": {},
   "outputs": [],
   "source": [
    "# now our array rows correspond to our table rows.\n",
    "altitudes.shape, bsc.shape"
   ]
  },
  {
   "cell_type": "code",
   "execution_count": null,
   "id": "535cf2e6",
   "metadata": {},
   "outputs": [],
   "source": [
    "# we can now conveniently filter stars that are _never_ visible at night \n",
    "# from this point on the Earth. np.max tells us the maximum value of\n",
    "# an array, and the axis=1 argument means 'do this along rows' -- so in other\n",
    "# words, each star's maximum altitude.\n",
    "max_altitudes = np.max(altitudes, axis=1)\n",
    "max_altitudes"
   ]
  },
  {
   "cell_type": "code",
   "execution_count": null,
   "id": "2274af79",
   "metadata": {},
   "outputs": [],
   "source": [
    "# then we'll use the fancy indexing trick again to reject any that never\n",
    "# rise above the horizon. we'll also retain this in the never_visible\n",
    "# variable so that we can filter other stuff with it later.\n",
    "# TODO: what about circumpolar stars? are they rejected too?\n",
    "never_visible = max_altitudes < 0\n",
    "altitudes = altitudes[~never_visible]"
   ]
  },
  {
   "cell_type": "code",
   "execution_count": null,
   "id": "e88f69c2",
   "metadata": {},
   "outputs": [],
   "source": [
    "# we'll now find the times that each star rises by looking for points where the\n",
    "# altitude goes from below 0 to above 0. First, we'll make an array that just tells us whether \n",
    "# each point is greater or less than 0.\n",
    "# np.sign returns -1 for negative numbers, 0 for 0, and 1 for positive numbers.\n",
    "above_horizon = np.sign(altitudes)\n",
    "above_horizon"
   ]
  },
  {
   "cell_type": "code",
   "execution_count": null,
   "id": "33f49bec",
   "metadata": {},
   "outputs": [],
   "source": [
    "# now we'll find the points where it changes using np.diff.\n",
    "# np.diff gives the first discrete difference along the specified\n",
    "# axis. In some cases, this is a good proxy for the first derivative\n",
    "# of a function. Here we're just using it to detect change.\n",
    "# we're going to prepend a large negative number to it so that\n",
    "# we end up with an array of the same shape (otherwise np.diff will truncate it).\n",
    "# we'll reject that number in the next step, so this is just a little\n",
    "# trick to make the array shapes match up.\n",
    "above_horizon_change = np.diff(above_horizon, axis=1, prepend=-9999)"
   ]
  },
  {
   "cell_type": "code",
   "execution_count": null,
   "id": "4582bb63",
   "metadata": {},
   "outputs": [],
   "source": [
    "# -2 implies that a star set; 2 implies that a star rose.\n",
    "rising_points = above_horizon_change == 2\n",
    "# let's validate our method a little bit -- \n",
    "# if it worked, successive points for a single star should be \n",
    "# separated by roughly 24 hours -- possibly with some slop for times\n",
    "# that a star was only momentarily visible due to seasonal change, etc.\n",
    "\n",
    "# np.nonzero can help us do that; it gives us the coordinates of\n",
    "# all non-zero (or True) values in an array.\n",
    "star_number, rising = np.nonzero(rising_points)"
   ]
  },
  {
   "cell_type": "code",
   "execution_count": null,
   "id": "4c6a2a0e",
   "metadata": {},
   "outputs": [],
   "source": [
    "# that looks pretty solid.\n",
    "# TODO: possibly need to handle stars that are _always_ up after the sun is down?\n",
    "np.diff(rising[star_number == 80])"
   ]
  },
  {
   "cell_type": "code",
   "execution_count": null,
   "id": "b0664ebe",
   "metadata": {},
   "outputs": [],
   "source": [
    "# now we'll create an azimuth array using the same technique we used to make the altitude array.\n",
    "az_arrays = []\n",
    "for altaz in star_altaz:\n",
    "    az_arrays.append(altaz.az.value)\n",
    "azimuths = np.vstack(az_arrays).T\n",
    "azimuths"
   ]
  },
  {
   "cell_type": "code",
   "execution_count": null,
   "id": "9229257b",
   "metadata": {},
   "outputs": [],
   "source": [
    "# and we'll reject invisible stars like we did for the altitude array:\n",
    "azimuths = azimuths[~never_visible]"
   ]
  },
  {
   "cell_type": "code",
   "execution_count": null,
   "id": "03e4ce56",
   "metadata": {},
   "outputs": [],
   "source": [
    "# and now we can use the rising points to make a mask for this array --\n",
    "# specifically, we want to mask every azimuth value that's _not_ \n",
    "# associated with a rising event; hence the ~ (not) operator.\n",
    "masked_azimuths = np.ma.masked_array(azimuths, mask=~rising_points)"
   ]
  },
  {
   "cell_type": "code",
   "execution_count": null,
   "id": "225ff151",
   "metadata": {},
   "outputs": [],
   "source": [
    "len(np.ma.unique(masked_azimuths[5]))"
   ]
  },
  {
   "cell_type": "code",
   "execution_count": null,
   "id": "b2d3ea6b",
   "metadata": {},
   "outputs": [],
   "source": [
    "np.unique(masked_azimuths[5]).data"
   ]
  },
  {
   "cell_type": "code",
   "execution_count": null,
   "id": "034b8c67",
   "metadata": {},
   "outputs": [],
   "source": [
    "# what does 'same place' mean? what 'same' is cannot be blithely assumed,\n",
    "# nor can 'place'.\n",
    "# but let's see what we can do with quantities by taking a look at the \n",
    "# maximum variation in rising azimuth for each star.\n",
    "# TODO: is this problematic in cases where a star barely comes noticeably over\n",
    "# the horizon in some parts of the year?\n",
    "rising_azimuth_ranges = []\n",
    "# a for loop over a numpy array always iterates over its last axis -- so each\n",
    "# iteration of this loop looks at a different star, which is what we want.\n",
    "for star in masked_azimuths:\n",
    "    # np.ma.ptp gives the difference between the minimum and maximum values in an\n",
    "    # array. in this case, each array is a 1x4374 array containing azimuth values \n",
    "    # -- mostly masked! np.ma.ptp will respect the mask and give us only the unmasked values.\n",
    "    # if all the values are masked, it'll just give us 'masked', which we'll filter later.\n",
    "    # TODO: these are circumpolar stars, which we maybe want to reject out of hand\n",
    "    # before this...\n",
    "    rising_azimuth_ranges.append(np.ma.ptp(star))"
   ]
  },
  {
   "cell_type": "code",
   "execution_count": null,
   "id": "7e579cd4",
   "metadata": {},
   "outputs": [],
   "source": [
    "# let's make a histogram of these.\n",
    "plt.hist(rising_azimuth_ranges, bins=128)"
   ]
  },
  {
   "cell_type": "code",
   "execution_count": null,
   "id": "7698c718",
   "metadata": {},
   "outputs": [],
   "source": [
    "# it looks like there are a few outliers on the bottom end. let's see which stars have\n",
    "# < 12 degrees of rising azimuthal variation.\n",
    "star_candidates = np.nonzero(np.array(rising_azimuth_ranges) < 12)[0]"
   ]
  },
  {
   "cell_type": "code",
   "execution_count": null,
   "id": "7c08041e",
   "metadata": {},
   "outputs": [],
   "source": [
    "# now, let's filter our catalog using the same invisible star mask\n",
    "# we used for our altitude and azimuth arrays, so that everything is aligned:\n",
    "bsc_visible = bsc.loc[~never_visible].reset_index(drop=True)"
   ]
  },
  {
   "cell_type": "code",
   "execution_count": null,
   "id": "3a114f5b",
   "metadata": {},
   "outputs": [],
   "source": [
    "# and then pick the candidate stars from the table.\n",
    "bsc_candidates = bsc_visible.loc[star_candidates]"
   ]
  }
 ],
 "metadata": {
  "kernelspec": {
   "display_name": "Python 3 (ipykernel)",
   "language": "python",
   "name": "python3"
  },
  "language_info": {
   "codemirror_mode": {
    "name": "ipython",
    "version": 3
   },
   "file_extension": ".py",
   "mimetype": "text/x-python",
   "name": "python",
   "nbconvert_exporter": "python",
   "pygments_lexer": "ipython3",
   "version": "3.11.4"
  }
 },
 "nbformat": 4,
 "nbformat_minor": 5
}
