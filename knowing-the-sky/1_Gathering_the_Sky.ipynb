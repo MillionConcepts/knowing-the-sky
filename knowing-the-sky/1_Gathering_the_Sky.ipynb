{
 "cells": [
  {
   "cell_type": "markdown",
   "id": "6aa5c7e6-d028-41dd-bb78-a0c205c75b4b",
   "metadata": {},
   "source": [
    "## Lesson 1: Gathering the Sky\n",
    "#### Learning Objectives:\n",
    "After completing this lesson, users will be able to:\n",
    "1. Implement multiple methods for obtaining data from online NASA resources using Python\n",
    "2. Describe positive file management practices\n",
    "3. Utilize Python packages to manipulate file compression and placement\n",
    "\n",
    "_Python libraries introduced in this lesson:_ [`os`](https://docs.python.org/3/library/os.html), [`pathlib`](https://docs.python.org/3/library/pathlib.html), [`astroquery`](https://astroquery.readthedocs.io/en/latest/index.html), [`requests`](https://docs.python-requests.org/en/latest/index.html), [`gzip`](https://docs.python.org/3/library/gzip.html), [`io`](https://docs.python.org/3/library/io.html), [`tarfile`](https://docs.python.org/3/library/tarfile.html)"
   ]
  },
  {
   "cell_type": "markdown",
   "id": "2fd5f896-7ef3-45f2-a130-96b41742c4ad",
   "metadata": {
    "jp-MarkdownHeadingCollapsed": true
   },
   "source": [
    "### Introduction\n",
    "Prior to the invention and widespread adoption of personal clocks, many cultures looked to celestial movements as a way to navigate and track time, including Native American tribes. Some tribes, such as the Shinnecock, traditionally look to the moon as their main timekeeper, incorporating additional information from observations of specific plant species blooming or fruiting, or the behavior of animals such as the geese migrating south. Similarly, the Salish would observe the appearance and behavior of various bird species as well as use the changing positions of stars to track the passage of time. During his anthropological research of the Salish people, Claude Schaffer conducted interviews and made observations of how time and the seasons were recorded. In his notes, Schaffer refers to a constellation known as Čspéʔl̓č̓s Kʷkʷusm̓ which translates to _seven stars_. From the perspective in the Salish territory (which mainly covers Western Montana), this constellation moves across the sky and ends the night directly overhead when day breaks. As the seasons progress, the constellation starts the night at different areas of the sky. These changes in position mark the passing of the seasons as Čspéʔl̓č̓s Kʷkʷusm̓ made it's journey to the zenith (and therefore the night) longer during the winter. Schaffer interpreted that the _seven stars_ constellation is the same set of stars referred to as the _Big Dipper_ by Western astronomy.\n",
    "However, along with this well described account of the movement of the Čspéʔl̓č̓s Kʷkʷusm̓, there is a shorter, more vague, but equally as interesting note:\n",
    "\n",
    "> There was a group of three stars that rose from the place that was between the sun and the moon and it never changed its positon of rising.\n",
    "\n",
    "It is here that we will begin our investigation. Which three stars are being referred to? How can we use available datasets to determine this? We'll begin by learning the basics of acquiring data using Python."
   ]
  },
  {
   "cell_type": "markdown",
   "id": "5dbb2f8c",
   "metadata": {},
   "source": [
    "### Acquiring Data\n",
    "\n",
    "Unless you're doing pure simulations --- and sometimes even then --- you'll usually need source data for scientific programming. Often the seemingly simple steps of finding, acquiring, and figuring out how to 'open' data can take as much time as analyzing it. Many of us have been spoiled by modern search engines and data standardization; but digital astronomical data predates the even the existence of modern computers! Fortunately, and by the collective effort of tens of thousands of computer programmers and scientists, many excellent open source libraries and tools exist to make these tasks easier.\n",
    "\n",
    "The technology that underlies the following examples is called the Hypertext Transfer Protocol, or, more commonly, just HTTP -- an abbreviation that's probably familiar to you from your browser URL bar. HTTP is the primary \"application layer\" protocol used to access content on the Internet and to interact with online services, including cloud services. Applications use HTTP by issuing \"requests\" of various types, most commonly `GET` (retrieve data), `PUT`, and `POST` (which both send data). Servers respond to HTTP requests by sending HTTP \"responses\", which can contain both data and metadata about the response. HTTP metadata are called \"headers\".\n",
    "\n",
    "Most popular programming languages offer ways to make HTTP requests and interpret HTTP responses, and Python is no exception. One of the best Python libraries for doing this is unsurprisingly called `requests`."
   ]
  },
  {
   "cell_type": "markdown",
   "id": "e0774f90",
   "metadata": {},
   "source": [
    "#### Web Data: `requests`\n",
    "\n",
    "Sometimes you'll find that the files you need are accessible via plain web links (URLs). If it's just a handful of files, a web browser may do the job just fine. If there are more --- especially if the URLs are regularly constructed, in a list you can load into memory, or subject to change based on other parts of your program --- it's often better to do it with code.\n",
    "\n",
    "`requests` is a popular library for making HTTP requests in Python. This first example is *very* easy.  We'll look at some more complex uses of `requests` in later modules.\n",
    "\n",
    "**todo: i'd like a more complex example --- something where we can use a for loop --- maybe in an exercise? hard to make it relevant for the first section, is the issue...but we could get other data they need.**\n",
    "\n",
    "We'll need information on stars people can see without optical equipment in order to identify the three stars in Schaffer's notes, so let's grab a copy of the Bright Star Catalog (BSC), a popular catalog of stars visible from Earth with the naked eye."
   ]
  },
  {
   "cell_type": "code",
   "execution_count": 2,
   "id": "5d6bad04-48fd-44a7-8d4c-43a0671ee91d",
   "metadata": {},
   "outputs": [],
   "source": [
    "import requests\n",
    "\n",
    "# url for the bright star catalog\n",
    "bright_star_url = \"http://cdsarc.u-strasbg.fr/viz-bin/nph-Cat/tar.gz?V/50\""
   ]
  },
  {
   "cell_type": "markdown",
   "id": "243beb2f-99c4-405b-851e-be81a1d88fb8",
   "metadata": {},
   "source": [
    "`requests.get` downloads data from a URL into a `requests.Response` object, which contains both the file's contents and any headers sent by the server. This won't write a file to disk, we'll talk more about that in the **File Management** section below."
   ]
  },
  {
   "cell_type": "code",
   "execution_count": 3,
   "id": "fc3c9953-9d99-4b5a-b17b-472d55d4d3a3",
   "metadata": {},
   "outputs": [],
   "source": [
    "bright_star_response = requests.get(bright_star_url)"
   ]
  },
  {
   "cell_type": "markdown",
   "id": "c117b4c8-5959-403b-b660-2bd04a144a00",
   "metadata": {},
   "source": [
    "It's good to check whether you actually got the file before moving on. `Response.raise_for_status`\n",
    "will raise an exception if the server returned a 404 (missing) or other error code. Otherwise, it won't return anything."
   ]
  },
  {
   "cell_type": "code",
   "execution_count": 4,
   "id": "ab23cfa1-f2d5-47a6-80dd-31078c549b8e",
   "metadata": {},
   "outputs": [],
   "source": [
    "bright_star_response.raise_for_status()"
   ]
  },
  {
   "cell_type": "markdown",
   "id": "f60fbde1-7b2f-4e25-8239-22a50cc62205",
   "metadata": {},
   "source": [
    "`Response.content` contains the body of the response -- in this case, the catalog file.\n",
    "Sometimes you can easily work with it in memory, especially if it can be decoded\n",
    "as plain text. That isn't the case here, because it's a compressed `.tar.gz` file.\n",
    "We'll look at how to decompress it later.\n",
    "\n",
    "Note that you don't want to print the whole response out in the Notebook, because it's 740 kilobytes -- hundreds of pages of binary gibberish!\n",
    "There are nevertheless some good ways to get some important information about it without getting too complicated:"
   ]
  },
  {
   "cell_type": "code",
   "execution_count": 5,
   "id": "0023ba13-2a3c-46d7-9d89-7e02cda21784",
   "metadata": {},
   "outputs": [
    {
     "name": "stdout",
     "output_type": "stream",
     "text": [
      "The response content is 740517 bytes long.\n",
      "It is a Python <class 'bytes'> object.\n",
      "Here are the first 20 bytes of the response: b'\\x1f\\x8b\\x08\\x00\\x00\\x00\\x00\\x00\\x00\\x03\\xec:kp\\x1c\\xc5\\x99\\xbe\\x90+'.\n",
      "The server says it is a application/x-tar file.\n"
     ]
    }
   ],
   "source": [
    "print(f\"The response content is {len(bright_star_response.content)} bytes long.\")\n",
    "print(f\"It is a Python {type(bright_star_response.content)} object.\")\n",
    "print(f\"Here are the first 20 bytes of the response: {bright_star_response.content[:20]}.\")\n",
    "print(f\"The server says it is a {bright_star_response.headers['Content-Type']} file.\")"
   ]
  },
  {
   "cell_type": "markdown",
   "id": "2900b8a9",
   "metadata": {},
   "source": [
    "#### Catalog Data: astroquery\n",
    "\n",
    "Before we move on with our exploration of the bright star catalog, we should first discuss astronomical catalog data. Many data aren't so easy to grab from plain URLs like we did above. Let's say we wanted to get some detailed images of a \n",
    "region of the sky from the Herschel mission. The Herschel image dataset is extremely large, and \n",
    "impractical to download in whole for most purposes. Fortunately, Herschel's images, like many data sets, \n",
    "are accessible via an Application Programming  Interface (API); unfortunately, APIs can be complicated to \n",
    "use, and every API is different. `astroquery`, an `astropy` affiliate package, is a grab-bag of high-level interfaces to astronomy APIs that attempt to solve this problem. To practice, let's get an image of Orion with the help of `astroquery`'s \n",
    "`esasky` module.\n",
    "\n",
    "**note: consider this a placeholder**"
   ]
  },
  {
   "cell_type": "code",
   "execution_count": 3,
   "id": "dfdbc21b",
   "metadata": {},
   "outputs": [
    {
     "name": "stderr",
     "output_type": "stream",
     "text": [
      "WARNING: UnitsWarning: Unit 'microns' not supported by the VOUnit standard.  [astropy.units.format.vounit]\n",
      "WARNING: UnitsWarning: Unit 'seconds' not supported by the VOUnit standard.  [astropy.units.format.vounit]\n"
     ]
    },
    {
     "data": {
      "text/plain": [
       "TableList with 1 tables:\n",
       "\t'0:HERSCHEL' with 15 column(s) and 10 row(s) "
      ]
     },
     "execution_count": 3,
     "metadata": {},
     "output_type": "execute_result"
    }
   ],
   "source": [
    "from astroquery.esasky import ESASky\n",
    "maps = ESASky.query_object_maps('Alnitak', missions=['Herschel'])\n",
    "maps"
   ]
  },
  {
   "cell_type": "code",
   "execution_count": 4,
   "id": "6a5191a7",
   "metadata": {},
   "outputs": [
    {
     "data": {
      "text/html": [
       "&lt;MaskedColumn name=&apos;product_url&apos; dtype=&apos;object&apos; description=&apos;The URL to download the product&apos; length=10&gt;\n",
       "<table>\n",
       "<tr><td>http://archives.esac.esa.int/hsa/whsa-tap-server/data?RETRIEVAL_TYPE=STANDALONE&amp;observation_oid=8626128&amp;DATA_RETRIEVAL_ORIGIN=UI</td></tr>\n",
       "<tr><td>http://archives.esac.esa.int/hsa/whsa-tap-server/data?RETRIEVAL_TYPE=STANDALONE&amp;observation_oid=8634752&amp;DATA_RETRIEVAL_ORIGIN=UI</td></tr>\n",
       "<tr><td>http://archives.esac.esa.int/hsa/whsa-tap-server/data?RETRIEVAL_TYPE=STANDALONE&amp;observation_oid=8626130&amp;DATA_RETRIEVAL_ORIGIN=UI</td></tr>\n",
       "<tr><td>http://archives.esac.esa.int/hsa/whsa-tap-server/data?RETRIEVAL_TYPE=STANDALONE&amp;observation_oid=8589633&amp;DATA_RETRIEVAL_ORIGIN=UI</td></tr>\n",
       "<tr><td>http://archives.esac.esa.int/hsa/whsa-tap-server/data?RETRIEVAL_TYPE=STANDALONE&amp;observation_oid=8589647&amp;DATA_RETRIEVAL_ORIGIN=UI</td></tr>\n",
       "<tr><td>http://archives.esac.esa.int/hsa/whsa-tap-server/data?RETRIEVAL_TYPE=STANDALONE&amp;observation_oid=8612283&amp;DATA_RETRIEVAL_ORIGIN=UI</td></tr>\n",
       "<tr><td>http://archives.esac.esa.int/hsa/whsa-tap-server/data?RETRIEVAL_TYPE=STANDALONE&amp;observation_oid=8612248&amp;DATA_RETRIEVAL_ORIGIN=UI</td></tr>\n",
       "<tr><td>http://archives.esac.esa.int/hsa/whsa-tap-server/data?RETRIEVAL_TYPE=STANDALONE&amp;observation_oid=8634751&amp;DATA_RETRIEVAL_ORIGIN=UI</td></tr>\n",
       "<tr><td>http://archives.esac.esa.int/hsa/whsa-tap-server/data?RETRIEVAL_TYPE=STANDALONE&amp;observation_oid=8626129&amp;DATA_RETRIEVAL_ORIGIN=UI</td></tr>\n",
       "<tr><td>http://archives.esac.esa.int/hsa/whsa-tap-server/data?RETRIEVAL_TYPE=STANDALONE&amp;observation_oid=8626127&amp;DATA_RETRIEVAL_ORIGIN=UI</td></tr>\n",
       "</table>"
      ],
      "text/plain": [
       "<MaskedColumn name='product_url' dtype='object' description='The URL to download the product' length=10>\n",
       "http://archives.esac.esa.int/hsa/whsa-tap-server/data?RETRIEVAL_TYPE=STANDALONE&observation_oid=8626128&DATA_RETRIEVAL_ORIGIN=UI\n",
       "http://archives.esac.esa.int/hsa/whsa-tap-server/data?RETRIEVAL_TYPE=STANDALONE&observation_oid=8634752&DATA_RETRIEVAL_ORIGIN=UI\n",
       "http://archives.esac.esa.int/hsa/whsa-tap-server/data?RETRIEVAL_TYPE=STANDALONE&observation_oid=8626130&DATA_RETRIEVAL_ORIGIN=UI\n",
       "http://archives.esac.esa.int/hsa/whsa-tap-server/data?RETRIEVAL_TYPE=STANDALONE&observation_oid=8589633&DATA_RETRIEVAL_ORIGIN=UI\n",
       "http://archives.esac.esa.int/hsa/whsa-tap-server/data?RETRIEVAL_TYPE=STANDALONE&observation_oid=8589647&DATA_RETRIEVAL_ORIGIN=UI\n",
       "http://archives.esac.esa.int/hsa/whsa-tap-server/data?RETRIEVAL_TYPE=STANDALONE&observation_oid=8612283&DATA_RETRIEVAL_ORIGIN=UI\n",
       "http://archives.esac.esa.int/hsa/whsa-tap-server/data?RETRIEVAL_TYPE=STANDALONE&observation_oid=8612248&DATA_RETRIEVAL_ORIGIN=UI\n",
       "http://archives.esac.esa.int/hsa/whsa-tap-server/data?RETRIEVAL_TYPE=STANDALONE&observation_oid=8634751&DATA_RETRIEVAL_ORIGIN=UI\n",
       "http://archives.esac.esa.int/hsa/whsa-tap-server/data?RETRIEVAL_TYPE=STANDALONE&observation_oid=8626129&DATA_RETRIEVAL_ORIGIN=UI\n",
       "http://archives.esac.esa.int/hsa/whsa-tap-server/data?RETRIEVAL_TYPE=STANDALONE&observation_oid=8626127&DATA_RETRIEVAL_ORIGIN=UI"
      ]
     },
     "execution_count": 4,
     "metadata": {},
     "output_type": "execute_result"
    }
   ],
   "source": [
    "# get the URLs\n",
    "maps[0]['product_url']"
   ]
  },
  {
   "cell_type": "code",
   "execution_count": 5,
   "id": "4add7c3a",
   "metadata": {},
   "outputs": [],
   "source": [
    "# TODO: download a URL"
   ]
  },
  {
   "cell_type": "code",
   "execution_count": 6,
   "id": "951abaaa",
   "metadata": {},
   "outputs": [],
   "source": [
    "# TODO, maybe, if we wanted to show more cataloging...\n",
    "\n",
    "# import astropy.coordinates as coord\n",
    "# from astroquery.simbad import Simbad\n",
    "# result_table = Simbad.query_region(coord.SkyCoord(\"05h35m17.3s -05h23m28s\", frame='icrs'), radius='1d0m0s')"
   ]
  },
  {
   "cell_type": "markdown",
   "id": "8dbab53b-7642-41f5-b032-92ebadac27b3",
   "metadata": {},
   "source": [
    "### File Management\n",
    "\n",
    "When working with scientific data, you'll often find yourself working with a large number of files, or with very large files. Both of these can present difficulties! Large numbers of files are difficult to organize. Individually, large files can take a long time to download and open, and use up a lot of local storage space. Processing them without great care can use up a lot of your computer's working memory (RAM), leading to sluggish performance or even crashes. \n",
    "\n",
    "These problems are made worse by the fact that scientific files often have long, complicated filenames. Although they can contain a lot of useful information, they are hard to read until you are very used to a specific data set. \n",
    "\n",
    "It's also likely you'll find yourself writing a lot of files containing data you've processed with your own code.\n",
    "\n",
    "This all means that good file management is very important. It helps you avoid spending lots of time poking around and opening random files to find what you're looking for -- or, worse, losing your work.\n",
    "\n",
    "So, what is good file management? A lot of it comes down to personal preference or specific project needs, and there are many tools for it that you may find useful, but the most straightforward thing to do is to leverage the built-in capabilities of your filesystem, and that's what we'll do on this project. Filesystems are great! Every computer and every programming language knows how to work with them, and it is easy to click through folders in a file manager application and explore them with code. Here are some guidelines that work for most people:\n",
    "* Keep files for a specific project in a single folder 'tree'.\n",
    "* Name and organize folders in a way that makes sense to you -- keep similar files together and give folders names you will remember.\n",
    "* Similarly, choose a clear, expressive naming convention for any files you write yourself.\n",
    "* Don't put too many files in a single folder -- this makes it hard to browse and can also reduce performance. 100 is about the limit.\n",
    "* Keep code and data files in separate folders.\n",
    "* Make sure you know where new files are going. For example, when you download a file from the Internet using your browser, it often goes into a Downloads folder. It's good to know where that is in your filesystem so that you can actually use those files.\n",
    "* Keep new files that you write (output data) separate from files you've acquired from other sources (input data).\n",
    "\n",
    "The Python ecosystem, including just the Standard Library, has many tools to work with local filesystems. Let's look at a couple of common patterns."
   ]
  },
  {
   "cell_type": "markdown",
   "id": "ce579181",
   "metadata": {},
   "source": [
    "#### Dealing With Compression\n",
    "\n",
    "We have the Bright Star Catalog (BSC) as an in-memory object -- not a file on disk. If you were to shut down this notebook right now, then the catalog information that was downloaded would be lost. To use it in other scripts, we need to save it to disk.\n",
    "The BSC file is also compressed using `gzip`, a common compression algorithm; it is _also_ 'wrapped' using `tar`, a common utility for compacting multiple files into a single file. These will make it hard to use straightforwardly, so let's \"ungzip\" and \"untar\" the file save it to disk. This will also show you a number of useful patterns for working with compressed files and directories in Python! (Uncompressed astronomical data and catalogs are often quite large. But they also often compress quite efficiently for reasons that are beyond the scope of this tutorial to explain. For this reason, astronomical data are routinely stored and transmitted in a lossless compression format like `gzip`.)"
   ]
  },
  {
   "cell_type": "code",
   "execution_count": 7,
   "id": "3cb49547",
   "metadata": {},
   "outputs": [],
   "source": [
    "# Python's built-in package for handling gzip compression\n",
    "from gzip import GzipFile\n",
    "\n",
    "# BytesIO is an object that allows you to interact with an object\n",
    "# in memory as if it were a file\n",
    "from io import BytesIO\n",
    "\n",
    "# Python's built-in package for handling tar files\n",
    "from tarfile import TarFile, TarInfo"
   ]
  },
  {
   "cell_type": "code",
   "execution_count": 8,
   "id": "607ddf50",
   "metadata": {},
   "outputs": [
    {
     "data": {
      "text/plain": [
       "[<TarInfo './ReadMe' at 0x7f72d23b1a80>,\n",
       " <TarInfo './catalog.gz' at 0x7f72d23b2200>,\n",
       " <TarInfo './notes.gz' at 0x7f72d23b1b40>]"
      ]
     },
     "execution_count": 8,
     "metadata": {},
     "output_type": "execute_result"
    }
   ],
   "source": [
    "# BytesIO must be initialized with a bytes object -- which we have in\n",
    "# bright_star_response.content!\n",
    "virtual_file = BytesIO(bright_star_response.content)\n",
    "\n",
    "# now we can initialize the GzipFile object using that virtual file.\n",
    "gzip_file = GzipFile(fileobj=virtual_file)\n",
    "\n",
    "# and now we can create an object to untar it!\n",
    "tar_file = TarFile(fileobj=gzip_file)\n",
    "files = tar_file.getmembers()\n",
    "files"
   ]
  },
  {
   "cell_type": "markdown",
   "id": "4ee525e3",
   "metadata": {},
   "source": [
    "#### Fixing Directory Structures\n",
    "\n",
    "You'll note that these tar files are wrapped up in a less-than-optimal directory structure --\n",
    "the period at the beginning of the path (\"./\") means that if you try to just extract the whole archive with `.extractall()`,\n",
    "you'll get errors (because '././ReadMe', etc., are not legal directory names).\n",
    "You'll also note that two of the files are still gzipped as indicated by the \".gz\" file extension!\n",
    "So let's make a directory to write them into, and then write them by name,\n",
    "un-gzipping the ones we would prefer not to be gzipped as we go."
   ]
  },
  {
   "cell_type": "markdown",
   "id": "de42d095",
   "metadata": {},
   "source": [
    "`pathlib.Path` objects are one of Python's most useful tools for working with the filesystem.\n",
    "Each one is an abstraction for a specific file or directory. They can be combined easily\n",
    "to put files in a specific directory, and have a lot of convenience methods for manipulating\n",
    "their names and reading or writing from disk."
   ]
  },
  {
   "cell_type": "code",
   "execution_count": null,
   "id": "1461a028",
   "metadata": {},
   "outputs": [],
   "source": [
    "from pathlib import Path\n",
    "import os\n",
    "\n",
    "# this represents a path to a subdirectory of your working directory called 'bright_star_directory'\n",
    "catalog_directory = Path(\"bright_star_directory\")\n",
    "\n",
    "# it probably doesn't exist yet, so let's make it -- the `exist_ok` argument prevents the function\n",
    "# from throwing an error if you've run this cell before and the directory already exists\n",
    "catalog_directory.mkdir(exist_ok=True)\n",
    "\n",
    "# let's verify it's there\n",
    "os.listdir()"
   ]
  },
  {
   "cell_type": "code",
   "execution_count": 9,
   "id": "1993e5ef",
   "metadata": {},
   "outputs": [
    {
     "data": {
      "text/plain": [
       "['_config.yml',\n",
       " '_toc.yml',\n",
       " 'requirements.txt',\n",
       " 'intro.md',\n",
       " 'bright_star_directory',\n",
       " 'markdown-notebooks.md',\n",
       " 'references.bib',\n",
       " '5_Measuring_the_Sky.ipynb',\n",
       " 'markdown.md',\n",
       " '1_gathering_sky_draft.ipynb',\n",
       " '.ipynb_checkpoints',\n",
       " '3_Drawing_the_Sky.ipynb',\n",
       " '8_Sharing_the_Moon.ipynb',\n",
       " 'notebooks.ipynb',\n",
       " '7_Describing_the_Moon.ipynb',\n",
       " 'texts',\n",
       " '4_Naming_the_Sky.ipynb',\n",
       " '1_Gathering _the_Sky.ipynb',\n",
       " '2_Ordering_the_Sky.ipynb',\n",
       " 'table_of_contents.md',\n",
       " '2_ordering_sky_draft.ipynb',\n",
       " 'extract_pdf_text.ipynb',\n",
       " '3_drawing_sky_draft.ipynb',\n",
       " '_build',\n",
       " 'logo.png',\n",
       " '6_Seeing_the_Moon.ipynb']"
      ]
     },
     "execution_count": 9,
     "metadata": {},
     "output_type": "execute_result"
    }
   ],
   "source": [
    "# pathlib.Path objects are one of Python's most useful tools for working with the filesystem.\n",
    "# each one is an abstraction for a specific file or directory. they can be combined easily\n",
    "# to put files in a specific directory, and have a lot of convenience methods for manipulating\n",
    "# their names and reading or writing from disk.\n",
    "\n",
    "# this represents a subdirectory of your working directory called 'bright_star_directory'\n",
    "catalog_directory = Path(\"bright_star_directory\")\n",
    "# it probably doesn't exist yet, so let's make it -- the exist_ok argument is in case \n",
    "# you've run this cell before\n",
    "catalog_directory.mkdir(exist_ok=True)\n",
    "# let's verify it's there\n",
    "os.listdir()"
   ]
  },
  {
   "cell_type": "code",
   "execution_count": 10,
   "id": "30db39c9",
   "metadata": {
    "editable": true,
    "slideshow": {
     "slide_type": ""
    },
    "tags": []
   },
   "outputs": [
    {
     "name": "stdout",
     "output_type": "stream",
     "text": [
      "bright_star_directory/ReadMe\n",
      "bright_star_directory/catalog\n",
      "bright_star_directory/notes\n"
     ]
    }
   ],
   "source": [
    "for file in files:\n",
    "    # get a buffer that contains the file data and read bytes out of it\n",
    "    file_bytes = tar_file.extractfile(file).read()\n",
    "    # define the actual path we want to write the file to.\n",
    "    # the '/' operator causes Python to combine the paths in the same way\n",
    "    # writing a / on the command line would.\n",
    "    # the 'replace' call makes sure we don't write an un-gzipped file\n",
    "    # with a '.gz' extension, which can cause issues.\n",
    "    target = catalog_directory / Path(file.name.replace('.gz', ''))\n",
    "    print(target)\n",
    "    # un-gzip if necessary:\n",
    "    if file.name.endswith('gz'):\n",
    "        file_bytes = GzipFile(fileobj=BytesIO(file_bytes)).read()\n",
    "    # 'with opehttp://localhost:8888/notebooks/topst_scratch/getting_data.ipynb#n(filename) as stream' is a very common pattern in Python.\n",
    "    # the 'with' means that it is a context manager. the indented block\n",
    "    # below it will operate using a temporary 'stream' argument that will\n",
    "    # automatically clean itself up when the block finishes running. this\n",
    "    # can prevent a lot of mess.\n",
    "    # 'wb' means that we are writing to the file, and writing in binary mode.\n",
    "    with open(target, 'wb') as stream:\n",
    "        stream.write(file_bytes)"
   ]
  },
  {
   "cell_type": "code",
   "execution_count": 11,
   "id": "cc8a73ea",
   "metadata": {},
   "outputs": [
    {
     "name": "stdout",
     "output_type": "stream",
     "text": [
      "V/50           Bright Star Catalogue, 5th Revised Ed.     (Hoffleit+, 1991)\n",
      "================================================================================\n",
      "The Bright Star Catalogue,  5th Revised Ed. (Preliminary Version)\n",
      "     Hoffleit D., Warren Jr W.H.\n",
      "    <Astronomical Data Center, NSSDC/ADC (1991)>\n",
      "    =1964BS....C......0H\n",
      "    =1991bsc..book.....H\n",
      "================================================================================\n",
      "ADC_Keywords: Combined data ; Stars, bright\n",
      "\n",
      "\n",
      "Description (prepared by Wayne H. Warren Jr., 1991 June 28):\n",
      "\n",
      "    The  Bright  Star  Catalogue  (BSC) is widely used as a source of\n",
      "    basic astronomical and astrophysical data for stars brighter than\n",
      "    magnitude 6.5.   The  catalog  contains  the  identifications  of\n",
      "    included stars in several other widely-used catalogs, double- and\n",
      "    multiple-star  identifications,  indication  of  variability  and\n",
      "    variable-star identifiers, equatorial positions for  B1900.0  and\n",
      "    J2000.0,  galactic  coordinates,  UBVRI photoelectric photometric\n",
      "    data when they exist, spectral types on  the  Morgan-Keenan  (MK)\n",
      "    classification   system,   proper  motions  (J2000.0),  parallax,\n",
      "    radial-   and   rotational-velocity   data,   and   multiple-star\n",
      "    information  (number  of  components,  separation,  and magnitude\n",
      "    differences) for known nonsingle stars.  In addition to the  data\n",
      "    file, there is an extensive remarks file that gives more detailed\n",
      "    information  on  individual  entries.   This information includes\n",
      "    star  names,  colors,  spectra,   variability   details,   binary\n",
      "    characteristics,  radial  and rotational velocities for companion\n",
      "    stars,  duplicity  information,  dynamical  parallaxes,   stellar\n",
      "    dimensions (radii and diameters), polarization, and membership in\n",
      "    stellar groups and clusters.  The existence of remarks is flagged\n",
      "    in the main data file.\n",
      "\n",
      "    The  BSC  contains  9110  objects,  of  which  9096 are stars (14\n",
      "    objects catalogued in the original compilation of 1908 are  novae\n",
      "    or  extragalactic objects that have been retained to preserve the\n",
      "    numbering, but most of their data are omitted), while the remarks\n",
      "    section is slightly larger than the main catalog.    The  present\n",
      "    edition of the compilation includes many new data and the remarks\n",
      "    section has been enlarged considerably.\n",
      "\n",
      "    This  preliminary version of the fifth edition of the Bright Star\n",
      "    Catalogue supersedes the published and machine-readable  versions\n",
      "    of  Hoffleit  (1982, Yale University Observatory) and is intended\n",
      "    for use until the final version of this edition is completed.  It\n",
      "    has  been  made  available  only   for   dissemination   on   the\n",
      "    Astronomical Data Center CD ROM.\n",
      "\n",
      "    The  brief  format description applies to the preliminary version\n",
      "    of the catalog only.   The  format  will  change  for  the  final\n",
      "    edition.\n",
      "\n",
      "\n",
      "Author's addresses:\n",
      "    Dorrit Hoffleit\n",
      "        Department of Astronomy\n",
      "        Yale University\n",
      "    Wayne H. Warren Jr.\n",
      "        ST Systems Corporation\n",
      "        National Space Science Data Center\n",
      "        NASA Goddard Space Flight Center\n",
      "\n",
      "\n",
      "File Summary:\n",
      "--------------------------------------------------------------------------------\n",
      " FileName    Lrecl    Records    Explanations\n",
      "--------------------------------------------------------------------------------\n",
      "ReadMe          80          .    This file\n",
      "catalog        197       9110    The main part of the Catalogue\n",
      "notes          132       9190    Remarks\n",
      "--------------------------------------------------------------------------------\n",
      "\n",
      "See also:\n",
      "    V/36 : Supplement to the Bright Star Catalogue  (Hoffleit+ 1983)\n",
      "\n",
      "Byte-by-byte Description of file: catalog\n",
      "--------------------------------------------------------------------------------\n",
      "   Bytes Format  Units   Label    Explanations\n",
      "--------------------------------------------------------------------------------\n",
      "   1-  4  I4     ---     HR       [1/9110]+ Harvard Revised Number\n",
      "                                    = Bright Star Number\n",
      "   5- 14  A10    ---     Name     Name, generally Bayer and/or Flamsteed name\n",
      "  15- 25  A11    ---     DM       Durchmusterung Identification (zone in\n",
      "                                    bytes 17-19)\n",
      "  26- 31  I6     ---     HD       [1/225300]? Henry Draper Catalog Number\n",
      "  32- 37  I6     ---     SAO      [1/258997]? SAO Catalog Number\n",
      "  38- 41  I4     ---     FK5      ? FK5 star Number\n",
      "      42  A1     ---     IRflag   [I] I if infrared source\n",
      "      43  A1     ---   r_IRflag  *[ ':] Coded reference for infrared source\n",
      "      44  A1     ---    Multiple *[AWDIRS] Double or multiple-star code\n",
      "  45- 49  A5     ---     ADS      Aitken's Double Star Catalog (ADS) designation\n",
      "  50- 51  A2     ---     ADScomp  ADS number components\n",
      "  52- 60  A9     ---     VarID    Variable star identification\n",
      "  61- 62  I2     h       RAh1900  ?Hours RA, equinox B1900, epoch 1900.0 (1)\n",
      "  63- 64  I2     min     RAm1900  ?Minutes RA, equinox B1900, epoch 1900.0 (1)\n",
      "  65- 68  F4.1   s       RAs1900  ?Seconds RA, equinox B1900, epoch 1900.0 (1)\n",
      "      69  A1     ---     DE-1900  ?Sign Dec, equinox B1900, epoch 1900.0 (1)\n",
      "  70- 71  I2     deg     DEd1900  ?Degrees Dec, equinox B1900, epoch 1900.0 (1)\n",
      "  72- 73  I2     arcmin  DEm1900  ?Minutes Dec, equinox B1900, epoch 1900.0 (1)\n",
      "  74- 75  I2     arcsec  DEs1900  ?Seconds Dec, equinox B1900, epoch 1900.0 (1)\n",
      "  76- 77  I2     h       RAh      ?Hours RA, equinox J2000, epoch 2000.0 (1)\n",
      "  78- 79  I2     min     RAm      ?Minutes RA, equinox J2000, epoch 2000.0 (1)\n",
      "  80- 83  F4.1   s       RAs      ?Seconds RA, equinox J2000, epoch 2000.0 (1)\n",
      "      84  A1     ---     DE-      ?Sign Dec, equinox J2000, epoch 2000.0 (1)\n",
      "  85- 86  I2     deg     DEd      ?Degrees Dec, equinox J2000, epoch 2000.0 (1)\n",
      "  87- 88  I2     arcmin  DEm      ?Minutes Dec, equinox J2000, epoch 2000.0 (1)\n",
      "  89- 90  I2     arcsec  DEs      ?Seconds Dec, equinox J2000, epoch 2000.0 (1)\n",
      "  91- 96  F6.2   deg     GLON     ?Galactic longitude (1)\n",
      "  97-102  F6.2   deg     GLAT     ?Galactic latitude (1)\n",
      " 103-107  F5.2   mag     Vmag     ?Visual magnitude (1)\n",
      "     108  A1     ---   n_Vmag    *[ HR] Visual magnitude code\n",
      "     109  A1     ---   u_Vmag     [ :?] Uncertainty flag on V\n",
      " 110-114  F5.2   mag     B-V      ? B-V color in the UBV system\n",
      "     115  A1     ---   u_B-V      [ :?] Uncertainty flag on B-V\n",
      " 116-120  F5.2   mag     U-B      ? U-B color in the UBV system\n",
      "     121  A1     ---   u_U-B      [ :?] Uncertainty flag on U-B\n",
      " 122-126  F5.2   mag     R-I      ? R-I   in system specified by n_R-I\n",
      "     127  A1     ---   n_R-I      [CE:?D] Code for R-I system (Cousin, Eggen)\n",
      " 128-147  A20    ---     SpType   Spectral type\n",
      "     148  A1     ---   n_SpType   [evt] Spectral type code\n",
      " 149-154  F6.3 arcsec/yr pmRA    *?Annual proper motion in RA J2000, FK5 system\n",
      " 155-160  F6.3 arcsec/yr pmDE     ?Annual proper motion in Dec J2000, FK5 system\n",
      "     161  A1     ---   n_Parallax [D] D indicates a dynamical parallax,\n",
      "                                    otherwise a trigonometric parallax\n",
      " 162-166  F5.3   arcsec  Parallax ? Trigonometric parallax (unless n_Parallax)\n",
      " 167-170  I4     km/s    RadVel   ? Heliocentric Radial Velocity\n",
      " 171-174  A4     ---   n_RadVel  *[V?SB123O ] Radial velocity comments\n",
      " 175-176  A2     ---   l_RotVel   [<=> ] Rotational velocity limit characters\n",
      " 177-179  I3     km/s    RotVel   ? Rotational velocity, v sin i\n",
      "     180  A1     ---   u_RotVel   [ :v] uncertainty and variability flag on\n",
      "                                    RotVel\n",
      " 181-184  F4.1   mag     Dmag     ? Magnitude difference of double,\n",
      "                                    or brightest multiple\n",
      " 185-190  F6.1   arcsec  Sep      ? Separation of components in Dmag\n",
      "                                    if occultation binary.\n",
      " 191-194  A4     ---     MultID   Identifications of components in Dmag\n",
      " 195-196  I2     ---     MultCnt  ? Number of components assigned to a multiple\n",
      "     197  A1     ---     NoteFlag [*] a star indicates that there is a note\n",
      "                                    (see file notes)\n",
      "--------------------------------------------------------------------------------\n",
      "Note (1): These fields are all blanks for stars removed from\n",
      "    the Bright Star Catalogue (see notes).\n",
      "Note on r_IRflag:\n",
      "  Blank if from NASA merged Infrared Catalogue, Schmitz et al., 1978;\n",
      "      ' if from Engles et al. 1982\n",
      "      : if uncertain identification\n",
      "Note on Multiple:\n",
      "      A = Astrometric binary\n",
      "      D = Duplicity discovered by occultation;\n",
      "      I = Innes, Southern Double Star Catalogue (1927)\n",
      "      R = Rossiter, Michigan Publ. 9, 1955\n",
      "      S = Duplicity discovered by speckle interferometry.\n",
      "      W = Worley (1978) update of the IDS;\n",
      "Note on n_Vmag:\n",
      "  blank = V on UBV Johnson system;\n",
      "      R = HR magnitudes reduced to the UBV system;\n",
      "      H = original HR magnitude.\n",
      "Note on pmRA:\n",
      "     As usually assumed, the proper motion in RA is the projected\n",
      "     motion (cos(DE).d(RA)/dt), i.e. the total proper motion is\n",
      "     sqrt(pmRA^2^+pmDE^2^)\n",
      "Note on n_RadVel:\n",
      "     V  = variable radial velocity;\n",
      "     V? = suspected variable radial velocity;\n",
      "     SB, SB1, SB2, SB3 = spectroscopic binaries,\n",
      "                         single, double or triple lined spectra;\n",
      "      O = orbital data available.\n",
      "--------------------------------------------------------------------------------\n",
      "\n",
      "Byte-by-byte Description of file: notes\n",
      "--------------------------------------------------------------------------------\n",
      "   Bytes Format  Units  Label     Explanations\n",
      "--------------------------------------------------------------------------------\n",
      "   2-  5  I4     ---    HR        [1/9110]+= Harvard Revised (HR)\n",
      "   6-  7  I2     ---    Count     Note counter (sequential for a star)\n",
      "   8- 11  A4     ---    Category *[A-Z: ] Remark category abbreviation:\n",
      "  13-132  A120   ---    Remark    Remarks in free form text\n",
      "--------------------------------------------------------------------------------\n",
      "Note on Category: the following abbreviations are used:\n",
      "    C   - Colors;\n",
      "    D   - Double and multiple stars;\n",
      "    DYN - Dynamical parallaxes;\n",
      "    G   - Group membership;\n",
      "    M   - Miscellaneous.\n",
      "    N   - Star names;\n",
      "    P   - Polarization;\n",
      "    R   - Stellar radii or diameters;\n",
      "    RV  - Radial and/or rotational velocities;\n",
      "    S   - Spectra;\n",
      "    SB  - Spectroscopic binaries;\n",
      "    VAR - Variability;\n",
      "    The category abbreviation is always followed by a colon (:).\n",
      "--------------------------------------------------------------------------------\n",
      "\n",
      "Historical Notes:\n",
      "  * 02-Oct-1993 at CDS (Francois Ochsenbein)\n",
      "    A few corrections have been inserted from the CD-ROM version\n",
      "    \"Selected Astronomical Catalogs, Volume 1, 1991, directory\n",
      "    /combined/bsc5 at CDS with the agreement of Wayne H. Warren Jr:\n",
      "    1. The spectral type for HR 6397 is from Walborn and contained octal 032\n",
      "       (control-Z) characters instead of square brackets around the \"n\".\n",
      "    2. Two remarks have been added for 6985 and 8817\n",
      "    3. Byte 197 (NoteFlag) of \"catalog\" file corrected for stars\n",
      "         202 7126 7482 7614 8982 (removed asterisk)\n",
      "         285  342  841  843  991 1181 1553 1652 2269 2271 (added asterisk)\n",
      "        2837 3133 3962 4522 4789 6692 7076 7328 8306 8667 (added asterisk)\n",
      "  * 02-Nov-1995 at CDS (Francois Ochsenbein):\n",
      "    Documentation slightly changed to accommodate to standards, and\n",
      "    two lines which were inverted in \"notes\" have been replaced.\n",
      "================================================================================\n",
      "(End)                                Francois Ochsenbein     [CDS]   02-Nov-1995\n",
      "\n"
     ]
    }
   ],
   "source": [
    "# and just for fun, let's check to make sure that worked, using the same\n",
    "# pattern as before, but in read mode:\n",
    "with open('bright_star_directory/ReadMe') as stream:\n",
    "    print(stream.read())"
   ]
  },
  {
   "cell_type": "code",
   "execution_count": null,
   "id": "23747e2c",
   "metadata": {},
   "outputs": [],
   "source": [
    "from astropy.io import ascii\n",
    "\n",
    "table = ascii.read('bright_star_directory/catalog', format='mrt')"
   ]
  },
  {
   "cell_type": "markdown",
   "id": "71ec38fc-c5e0-42a5-a522-68035695b913",
   "metadata": {},
   "source": [
    "Great! Now we can move on to ways to use some of these files in the next module."
   ]
  }
 ],
 "metadata": {
  "jupytext": {
   "comment_magics": false
  },
  "kernelspec": {
   "display_name": "Python 3 (ipykernel)",
   "language": "python",
   "name": "python3"
  },
  "language_info": {
   "codemirror_mode": {
    "name": "ipython",
    "version": 3
   },
   "file_extension": ".py",
   "mimetype": "text/x-python",
   "name": "python",
   "nbconvert_exporter": "python",
   "pygments_lexer": "ipython3",
   "version": "3.10.12"
  }
 },
 "nbformat": 4,
 "nbformat_minor": 5
}
