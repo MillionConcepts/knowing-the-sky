{
 "cells": [
  {
   "cell_type": "markdown",
   "id": "c0617d88-d66e-43de-84cb-270f295bab88",
   "metadata": {},
   "source": [
    "_Learning objectives_: ability to create and version GitHub repositories; knowledge of SSH keys and other authentication methods; awareness of capabilities and limitations of object storage systems; ability to create S3 buckets and store objects in them with boto3."
   ]
  },
  {
   "cell_type": "code",
   "execution_count": null,
   "id": "f54b6aee",
   "metadata": {},
   "outputs": [],
   "source": [
    "#These imports don't all need to be here; these are based on the libraries we discussed in the proposal\n",
    "import boto3 #advanced usage\n",
    "import pillow"
   ]
  }
 ],
 "metadata": {
  "kernelspec": {
   "display_name": "Python 3 (ipykernel)",
   "language": "python",
   "name": "python3"
  },
  "language_info": {
   "codemirror_mode": {
    "name": "ipython",
    "version": 3
   },
   "file_extension": ".py",
   "mimetype": "text/x-python",
   "name": "python",
   "nbconvert_exporter": "python",
   "pygments_lexer": "ipython3",
   "version": "3.12.0"
  }
 },
 "nbformat": 4,
 "nbformat_minor": 5
}
