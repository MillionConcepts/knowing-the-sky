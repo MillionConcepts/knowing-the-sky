{
 "cells": [
  {
   "cell_type": "markdown",
   "id": "c119f4d8-5254-4785-bdf3-a9c93ec5e931",
   "metadata": {},
   "source": [
    "## Lesson 8: Sharing the Moon\n",
    "#### Learning Objectives:\n",
    "After completing this lesson, users will be able to:\n",
    "1. objective 1\n",
    "2. objective 2\n",
    "3. objective 3\n",
    "\n",
    "_Python libraries introduced in this lesson:_ "
   ]
  }
 ],
 "metadata": {
  "kernelspec": {
   "display_name": "Python 3 (ipykernel)",
   "language": "python",
   "name": "python3"
  },
  "language_info": {
   "codemirror_mode": {
    "name": "ipython",
    "version": 3
   },
   "file_extension": ".py",
   "mimetype": "text/x-python",
   "name": "python",
   "nbconvert_exporter": "python",
   "pygments_lexer": "ipython3",
   "version": "3.10.12"
  }
 },
 "nbformat": 4,
 "nbformat_minor": 5
}
