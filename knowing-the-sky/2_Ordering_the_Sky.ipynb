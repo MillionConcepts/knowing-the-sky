{
 "cells": [
  {
   "cell_type": "markdown",
   "id": "a45489af",
   "metadata": {},
   "source": [
    "## Lesson 2: Ordering the Sky\n",
    "#### Learning Objectives:\n",
    "After completing this lesson, users will be able to:\n",
    "1. Describe array and table data types and their uses\n",
    "2. Utilize python packages to open array and table data as represented by the data providers\n",
    "3. Index and manipulate data within arrays and tables\n",
    "\n",
    "_Python libraries introduced in this lesson:_ [`astropy.io.fits`](https://docs.astropy.org/en/stable/io/fits/index.html), [`matplotlib`](https://matplotlib.org/stable/), [`numpy`](https://numpy.org/doc/stable/), [`pandas`](https://pandas.pydata.org/docs/)"
   ]
  },
  {
   "cell_type": "code",
   "execution_count": 1,
   "id": "986821e4",
   "metadata": {},
   "outputs": [],
   "source": [
    "# Python Standard Library imports\n",
    "from pathlib import Path\n",
    "\n",
    "# third-party imports\n",
    "from astropy.io import fits\n",
    "import matplotlib.pyplot as plt\n",
    "import numpy as np\n",
    "import pandas as pd"
   ]
  },
  {
   "cell_type": "markdown",
   "id": "176c1aaf-7fcc-417f-8a15-45bdf6e7c17b",
   "metadata": {},
   "source": [
    "### Introduction\n",
    "In our last lesson, we aquired data from online NASA repositories to begin an investigation to identify which stars were being referred to by the Salish individual(s) interviewed by Claude Schaffer:\n",
    "\n",
    ">There was a group of three stars that rose from the place that was between the sun and the moon and it never changed its positon of rising.\n",
    "\n",
    "In this lesson, we'll learn how to read that data into python standard objects and the basics of how to work with them. The two main types of data we'll cover in this lesson are arrays and tables."
   ]
  },
  {
   "cell_type": "markdown",
   "id": "16d9f81c",
   "metadata": {},
   "source": [
    "### Arrays\n",
    "\n",
    "Arrays are one of the most important data structures in scientific programming, and, for that matter, practical mathematics more generally -- they are a basic pattern used in many systems and cultures. Computers are very good at working with them, so knowing how to manipulate them effectively is extremely powerful. If you are reading this, it is entirely possible you have extensive experience with array data. Things may be different in Python than other languages, though, so we recommend not skipping it.\n",
    "\n",
    "#### What is an array?\n",
    "\n",
    "Basically, an array is simply a regular grid of 'elements', which are often but not always numbers. It can be 1-D, 2-D, 3-D, or even more. A 1-D array is a lot like a list. \n",
    "\n",
    "You can access elements in an array by coordinates, which means that they work like coordinate spaces. This is *very* useful for scientific programming. You can also perform mathematical operations on an entire array at once, which is both convenient and typically much faster than performing the same operations on each element one-by-one.\n",
    "\n",
    "(footnote for the mathematically inclined): an array is *not* a vector, matrix, or tensor, but it can be used to *represent* a vector, matrix, or tensor. \n",
    "\n",
    "#### How do you work with arrays in Python?\n",
    "\n",
    "`numpy` is the most common library for creating and manipulating arrays. Most scientific programs use `numpy` at some point, partly because many other libraries use it 'under the hood'. A very important point is that raster images (images made up of pixels, as opposed to vector images) can always be converted to and from arrays, which means that arrays let you do very powerful image manipulation. Let's start with a very quick introduction to the most important parts of the `numpy` library."
   ]
  },
  {
   "cell_type": "markdown",
   "id": "1c0a1dd1-e36d-4187-8d40-63a1a3c63055",
   "metadata": {},
   "source": [
    "First, let's make a little 4x4 triangular array we can play with:"
   ]
  },
  {
   "cell_type": "code",
   "execution_count": 2,
   "id": "c61cf8c7",
   "metadata": {},
   "outputs": [
    {
     "data": {
      "text/plain": [
       "array([[1., 0., 0., 0.],\n",
       "       [1., 1., 0., 0.],\n",
       "       [1., 1., 1., 0.],\n",
       "       [1., 1., 1., 1.]])"
      ]
     },
     "execution_count": 2,
     "metadata": {},
     "output_type": "execute_result"
    }
   ],
   "source": [
    "triangle = np.tri(4)\n",
    "triangle"
   ]
  },
  {
   "cell_type": "markdown",
   "id": "5c13b437-3d14-45f9-a945-9e47b29cfc90",
   "metadata": {},
   "source": [
    "You can access single elements of an array by entering their coordinates in slice `[]` notation -- much \n",
    "like a Python list but with possible extra dimensions.\n",
    "\n",
    "A reminder that python is \"zero-indexed\" meaning when you are counting elements in an array, list, etc. You start from 0 not 1. (This is one of the major differences between Python and MatLab!)\n",
    "\n",
    "For a 2-D array, the row (y-axis) always goes first, then the column (x-axis). You get exactly the elements you specify, which means that yif you don't enter a number for every dimension, you can pick more than one element at a time. For instance, `[0]` means \"all the elements with 0-coordinate on the y-axis\", or, in other words, the first row. `[:,0]` (`:` is numpy's placeholder) means \"all the elements with 0-coordinate on the x-axis\", and returns the first column. If you specify a number for every dimension you can get just a single elements: `[0,0]` means \"the number\n",
    "in the upper-left corner\".\n",
    "\n",
    "Let's test this in action:"
   ]
  },
  {
   "cell_type": "code",
   "execution_count": 3,
   "id": "7feda94c",
   "metadata": {},
   "outputs": [
    {
     "data": {
      "text/plain": [
       "(array([1., 0., 0., 0.]), array([1., 1., 1., 1.]), 1.0)"
      ]
     },
     "execution_count": 3,
     "metadata": {},
     "output_type": "execute_result"
    }
   ],
   "source": [
    "triangle[0], triangle[:, 0], triangle[0, 0]"
   ]
  },
  {
   "cell_type": "markdown",
   "id": "b910e0d1-56ea-4863-8162-27e299448d0b",
   "metadata": {},
   "source": [
    "You can also specify ranges. For instance, `[0:2, 0:2]` means \"give me the square in the upper left corner of size (2,2)\". \n",
    "\n",
    "Note here that the range is exclusive of the final index you're entering. In other words, you'll get rows/columns indexed 0-1, not data from row/column 2."
   ]
  },
  {
   "cell_type": "code",
   "execution_count": 4,
   "id": "06b2a66f",
   "metadata": {},
   "outputs": [
    {
     "data": {
      "text/plain": [
       "array([[1., 0.],\n",
       "       [1., 1.]])"
      ]
     },
     "execution_count": 4,
     "metadata": {},
     "output_type": "execute_result"
    }
   ],
   "source": [
    "triangle[0:2, 0:2]"
   ]
  },
  {
   "cell_type": "markdown",
   "id": "9ccec8e0-4621-4aa9-85b3-5f8535f14fe9",
   "metadata": {},
   "source": [
    "When working with arrays you read in from data, you won't always know what shape it is because you won't have made it like we did above. In numpy, `shape` can be used to return how many elements an array has along each of its dimensions. It's important to know an array's shape for a variety of reasons, but on eo fhtem is to know exactly how much there is to slice. Let's return our array's shape:"
   ]
  },
  {
   "cell_type": "code",
   "execution_count": 5,
   "id": "56267f47",
   "metadata": {},
   "outputs": [
    {
     "data": {
      "text/plain": [
       "(4, 4)"
      ]
     },
     "execution_count": 5,
     "metadata": {},
     "output_type": "execute_result"
    }
   ],
   "source": [
    "triangle.shape"
   ]
  },
  {
   "cell_type": "markdown",
   "id": "463ff563-a501-4565-8f2d-5dafce56d87d",
   "metadata": {},
   "source": [
    "Remember that Python is 0-indexed, and that `.shape` returns the _number of elements_, not the index. That means this will throw an error:"
   ]
  },
  {
   "cell_type": "code",
   "execution_count": 6,
   "id": "7fb6ddaa",
   "metadata": {
    "editable": true,
    "slideshow": {
     "slide_type": ""
    },
    "tags": [
     "raises-exception"
    ]
   },
   "outputs": [
    {
     "ename": "IndexError",
     "evalue": "index 4 is out of bounds for axis 0 with size 4",
     "output_type": "error",
     "traceback": [
      "\u001b[0;31m---------------------------------------------------------------------------\u001b[0m",
      "\u001b[0;31mIndexError\u001b[0m                                Traceback (most recent call last)",
      "Cell \u001b[0;32mIn[6], line 1\u001b[0m\n\u001b[0;32m----> 1\u001b[0m \u001b[43mtriangle\u001b[49m\u001b[43m[\u001b[49m\u001b[38;5;241;43m4\u001b[39;49m\u001b[43m]\u001b[49m\n",
      "\u001b[0;31mIndexError\u001b[0m: index 4 is out of bounds for axis 0 with size 4"
     ]
    }
   ],
   "source": [
    "triangle[4]"
   ]
  },
  {
   "cell_type": "markdown",
   "id": "e1431915-7cbb-46da-89a9-57c896b0af6c",
   "metadata": {},
   "source": [
    "Slice notation can also be used to set elements. If you do the same things we've been doing, but add an assignment (`=`), you can set all the values to a number -- or even set to the contents of another array, if it's the right size.\n",
    "\n",
    "This will set all the elements of the first row to 2:"
   ]
  },
  {
   "cell_type": "code",
   "execution_count": 7,
   "id": "2a590a96",
   "metadata": {},
   "outputs": [
    {
     "data": {
      "text/plain": [
       "array([[2., 2., 2., 2.],\n",
       "       [1., 1., 0., 0.],\n",
       "       [1., 1., 1., 0.],\n",
       "       [1., 1., 1., 1.]])"
      ]
     },
     "execution_count": 7,
     "metadata": {},
     "output_type": "execute_result"
    }
   ],
   "source": [
    "triangle[0] = 2\n",
    "triangle"
   ]
  },
  {
   "cell_type": "markdown",
   "id": "819e23eb-1349-4899-837c-b1ab1e911315",
   "metadata": {},
   "source": [
    "If you do an arithmetic operation on an array with a scalar (like a single number), it will apply that operation to ever element of the array. Unlike slice assignment, this does not modify the array in place unless you use a special operator. It retuns a copy, leaving the original array unchanged. \n",
    "\n",
    "For instance, to get a copy of the array with every element doubled:"
   ]
  },
  {
   "cell_type": "code",
   "execution_count": 8,
   "id": "7c51e87d",
   "metadata": {},
   "outputs": [
    {
     "data": {
      "text/plain": [
       "array([[4., 4., 4., 4.],\n",
       "       [2., 2., 0., 0.],\n",
       "       [2., 2., 2., 0.],\n",
       "       [2., 2., 2., 2.]])"
      ]
     },
     "execution_count": 8,
     "metadata": {},
     "output_type": "execute_result"
    }
   ],
   "source": [
    "double = triangle * 2\n",
    "double"
   ]
  },
  {
   "cell_type": "markdown",
   "id": "ca12b2e8-efab-4f37-99f2-f5ee79d5e978",
   "metadata": {},
   "source": [
    "Doing arithmetic using two array perfoms the operation elementwise -- elements with matching indexes from each array. Let's create a random array to test this with. We'll use [`np.random.randint`](https://numpy.org/doc/stable/reference/random/generated/numpy.random.randint.html) to create an array of random whole numbers between 0-10 the same shape as triangle:"
   ]
  },
  {
   "cell_type": "code",
   "execution_count": 9,
   "id": "2c5207c4",
   "metadata": {},
   "outputs": [
    {
     "data": {
      "text/plain": [
       "array([[8, 8, 5, 4],\n",
       "       [7, 3, 5, 7],\n",
       "       [2, 6, 8, 9],\n",
       "       [5, 5, 1, 5]])"
      ]
     },
     "execution_count": 9,
     "metadata": {},
     "output_type": "execute_result"
    }
   ],
   "source": [
    "randarray = np.random.randint(0,10,size=triangle.shape)\n",
    "randarray"
   ]
  },
  {
   "cell_type": "markdown",
   "id": "3ed96b87-45ce-4ae9-a223-f50b7f3daa7d",
   "metadata": {},
   "source": [
    "and then multipy it by triangle..."
   ]
  },
  {
   "cell_type": "code",
   "execution_count": 10,
   "id": "37006132",
   "metadata": {},
   "outputs": [
    {
     "data": {
      "text/plain": [
       "array([[16., 16., 10.,  8.],\n",
       "       [ 7.,  3.,  0.,  0.],\n",
       "       [ 2.,  6.,  8.,  0.],\n",
       "       [ 5.,  5.,  1.,  5.]])"
      ]
     },
     "execution_count": 10,
     "metadata": {},
     "output_type": "execute_result"
    }
   ],
   "source": [
    "randarray * triangle"
   ]
  },
  {
   "cell_type": "markdown",
   "id": "647d71fd-5c1f-4e97-a181-2c844908cc96",
   "metadata": {},
   "source": [
    "This doesn't work if you try to multiply two arrays with mis-matched shapes! Let's test this by trying to multipy a 3 x 3 array of 3 by triangle:"
   ]
  },
  {
   "cell_type": "code",
   "execution_count": 11,
   "id": "8c42ca7b",
   "metadata": {
    "editable": true,
    "slideshow": {
     "slide_type": ""
    },
    "tags": []
   },
   "outputs": [
    {
     "data": {
      "text/plain": [
       "array([[3, 3, 3],\n",
       "       [3, 3, 3],\n",
       "       [3, 3, 3]])"
      ]
     },
     "execution_count": 11,
     "metadata": {},
     "output_type": "execute_result"
    }
   ],
   "source": [
    "three = np.full((3, 3), 3)\n",
    "three"
   ]
  },
  {
   "cell_type": "code",
   "execution_count": 12,
   "id": "0fa7725d",
   "metadata": {
    "editable": true,
    "slideshow": {
     "slide_type": ""
    },
    "tags": [
     "raises-exception"
    ]
   },
   "outputs": [
    {
     "ename": "ValueError",
     "evalue": "operands could not be broadcast together with shapes (3,3) (4,4) ",
     "output_type": "error",
     "traceback": [
      "\u001b[0;31m---------------------------------------------------------------------------\u001b[0m",
      "\u001b[0;31mValueError\u001b[0m                                Traceback (most recent call last)",
      "Cell \u001b[0;32mIn[12], line 1\u001b[0m\n\u001b[0;32m----> 1\u001b[0m \u001b[43mthree\u001b[49m\u001b[43m \u001b[49m\u001b[38;5;241;43m*\u001b[39;49m\u001b[43m \u001b[49m\u001b[43mtriangle\u001b[49m\n",
      "\u001b[0;31mValueError\u001b[0m: operands could not be broadcast together with shapes (3,3) (4,4) "
     ]
    }
   ],
   "source": [
    "three * triangle"
   ]
  },
  {
   "cell_type": "markdown",
   "id": "82109cf3-0907-4871-b95e-7d002db65842",
   "metadata": {},
   "source": [
    "As expected, we get an error. But if we slice our larger array to be the same shape as our 3x3 array we can multiply them:"
   ]
  },
  {
   "cell_type": "code",
   "execution_count": 13,
   "id": "8207f741",
   "metadata": {},
   "outputs": [
    {
     "data": {
      "text/plain": [
       "array([[6., 6., 6.],\n",
       "       [3., 3., 0.],\n",
       "       [3., 3., 3.]])"
      ]
     },
     "execution_count": 13,
     "metadata": {},
     "output_type": "execute_result"
    }
   ],
   "source": [
    "three * triangle[0:3, 0:3]"
   ]
  },
  {
   "cell_type": "markdown",
   "id": "5df10904-dd94-476f-b051-da9f306f59e9",
   "metadata": {},
   "source": [
    "You can even do assignment like this! This will multiply the upper-left 3x3 square of `triangle` by `three`, in place:"
   ]
  },
  {
   "cell_type": "code",
   "execution_count": 14,
   "id": "026df528",
   "metadata": {},
   "outputs": [
    {
     "data": {
      "text/plain": [
       "array([[6., 6., 6., 2.],\n",
       "       [3., 3., 0., 0.],\n",
       "       [3., 3., 3., 0.],\n",
       "       [1., 1., 1., 1.]])"
      ]
     },
     "execution_count": 14,
     "metadata": {},
     "output_type": "execute_result"
    }
   ],
   "source": [
    "triangle[0:3, 0:3] = three * triangle[0:3, 0:3]\n",
    "triangle"
   ]
  },
  {
   "cell_type": "markdown",
   "id": "2ff44790-2c4f-4647-af37-9086d781a130",
   "metadata": {},
   "source": [
    "Finally, you can also slice an array _with_ another array. This can get complicated fast: `numpy` calls it \"fancy indexing\" for a reason. However, there are a lot of very simple ways to use it. This most common one is to just select all the elements of an array tha tmeet some condition. For instance, this means \"pick all the elements of triangle that are less than 3\":"
   ]
  },
  {
   "cell_type": "code",
   "execution_count": 15,
   "id": "a0dfc4a1",
   "metadata": {
    "editable": true,
    "slideshow": {
     "slide_type": ""
    },
    "tags": []
   },
   "outputs": [
    {
     "data": {
      "text/plain": [
       "array([2., 0., 0., 0., 1., 1., 1., 1.])"
      ]
     },
     "execution_count": 15,
     "metadata": {},
     "output_type": "execute_result"
    }
   ],
   "source": [
    "triangle[triangle < 3]"
   ]
  },
  {
   "cell_type": "markdown",
   "id": "30dca87d",
   "metadata": {
    "editable": true,
    "slideshow": {
     "slide_type": ""
    },
    "tags": []
   },
   "source": [
    "### Loading images\n",
    "\n",
    "Ok, intro examples over; let's take a look at something more practical. We'll load a FITS image into memory using `astropy.io.fits` and look at some basic ways to use it.\n",
    "\n",
    "FITS files are the most popular standard for astronomy data and are becoming increasingly popular in planetary science data. They consist of multiple header-data units or HDUs. Each HDU includes a header area containing metadata and a data area containing, unsurprisingly, data. This data can be an array or a table. In  this case, all the HDUs are arrays. `astropy.io.fits` loads FITS file into an `HDUList` object, whichin most cases can simply be treated as a Python list with  some extra useful methods, like `.info()`.\n",
    "\n",
    "_Remember_: at the beginning of this notebook we imported `astropy.io.fits` as `fits` so we can call it like that here."
   ]
  },
  {
   "cell_type": "code",
   "execution_count": 3,
   "id": "dddfe5bc",
   "metadata": {
    "editable": true,
    "scrolled": true,
    "slideshow": {
     "slide_type": ""
    },
    "tags": []
   },
   "outputs": [
    {
     "ename": "FileNotFoundError",
     "evalue": "[Errno 2] No such file or directory: 'placeholder_images/e23456-nd-t0060-b00-f0008-r.fits'",
     "output_type": "error",
     "traceback": [
      "\u001b[0;31m---------------------------------------------------------------------------\u001b[0m",
      "\u001b[0;31mFileNotFoundError\u001b[0m                         Traceback (most recent call last)",
      "Cell \u001b[0;32mIn[3], line 3\u001b[0m\n\u001b[1;32m      1\u001b[0m \u001b[38;5;66;03m# TODO: placeholder image\u001b[39;00m\n\u001b[0;32m----> 3\u001b[0m hdul \u001b[38;5;241m=\u001b[39m \u001b[43mfits\u001b[49m\u001b[38;5;241;43m.\u001b[39;49m\u001b[43mopen\u001b[49m\u001b[43m(\u001b[49m\u001b[38;5;124;43m'\u001b[39;49m\u001b[38;5;124;43mplaceholder_images/e23456-nd-t0060-b00-f0008-r.fits\u001b[39;49m\u001b[38;5;124;43m'\u001b[39;49m\u001b[43m)\u001b[49m\n\u001b[1;32m      4\u001b[0m hdul\u001b[38;5;241m.\u001b[39minfo()\n",
      "File \u001b[0;32m~/mambaforge/envs/topst/lib/python3.10/site-packages/astropy/io/fits/hdu/hdulist.py:213\u001b[0m, in \u001b[0;36mfitsopen\u001b[0;34m(name, mode, memmap, save_backup, cache, lazy_load_hdus, ignore_missing_simple, use_fsspec, fsspec_kwargs, **kwargs)\u001b[0m\n\u001b[1;32m    210\u001b[0m \u001b[38;5;28;01mif\u001b[39;00m \u001b[38;5;129;01mnot\u001b[39;00m name:\n\u001b[1;32m    211\u001b[0m     \u001b[38;5;28;01mraise\u001b[39;00m \u001b[38;5;167;01mValueError\u001b[39;00m(\u001b[38;5;124mf\u001b[39m\u001b[38;5;124m\"\u001b[39m\u001b[38;5;124mEmpty filename: \u001b[39m\u001b[38;5;132;01m{\u001b[39;00mname\u001b[38;5;132;01m!r}\u001b[39;00m\u001b[38;5;124m\"\u001b[39m)\n\u001b[0;32m--> 213\u001b[0m \u001b[38;5;28;01mreturn\u001b[39;00m \u001b[43mHDUList\u001b[49m\u001b[38;5;241;43m.\u001b[39;49m\u001b[43mfromfile\u001b[49m\u001b[43m(\u001b[49m\n\u001b[1;32m    214\u001b[0m \u001b[43m    \u001b[49m\u001b[43mname\u001b[49m\u001b[43m,\u001b[49m\n\u001b[1;32m    215\u001b[0m \u001b[43m    \u001b[49m\u001b[43mmode\u001b[49m\u001b[43m,\u001b[49m\n\u001b[1;32m    216\u001b[0m \u001b[43m    \u001b[49m\u001b[43mmemmap\u001b[49m\u001b[43m,\u001b[49m\n\u001b[1;32m    217\u001b[0m \u001b[43m    \u001b[49m\u001b[43msave_backup\u001b[49m\u001b[43m,\u001b[49m\n\u001b[1;32m    218\u001b[0m \u001b[43m    \u001b[49m\u001b[43mcache\u001b[49m\u001b[43m,\u001b[49m\n\u001b[1;32m    219\u001b[0m \u001b[43m    \u001b[49m\u001b[43mlazy_load_hdus\u001b[49m\u001b[43m,\u001b[49m\n\u001b[1;32m    220\u001b[0m \u001b[43m    \u001b[49m\u001b[43mignore_missing_simple\u001b[49m\u001b[43m,\u001b[49m\n\u001b[1;32m    221\u001b[0m \u001b[43m    \u001b[49m\u001b[43muse_fsspec\u001b[49m\u001b[38;5;241;43m=\u001b[39;49m\u001b[43muse_fsspec\u001b[49m\u001b[43m,\u001b[49m\n\u001b[1;32m    222\u001b[0m \u001b[43m    \u001b[49m\u001b[43mfsspec_kwargs\u001b[49m\u001b[38;5;241;43m=\u001b[39;49m\u001b[43mfsspec_kwargs\u001b[49m\u001b[43m,\u001b[49m\n\u001b[1;32m    223\u001b[0m \u001b[43m    \u001b[49m\u001b[38;5;241;43m*\u001b[39;49m\u001b[38;5;241;43m*\u001b[39;49m\u001b[43mkwargs\u001b[49m\u001b[43m,\u001b[49m\n\u001b[1;32m    224\u001b[0m \u001b[43m\u001b[49m\u001b[43m)\u001b[49m\n",
      "File \u001b[0;32m~/mambaforge/envs/topst/lib/python3.10/site-packages/astropy/io/fits/hdu/hdulist.py:476\u001b[0m, in \u001b[0;36mHDUList.fromfile\u001b[0;34m(cls, fileobj, mode, memmap, save_backup, cache, lazy_load_hdus, ignore_missing_simple, **kwargs)\u001b[0m\n\u001b[1;32m    457\u001b[0m \u001b[38;5;129m@classmethod\u001b[39m\n\u001b[1;32m    458\u001b[0m \u001b[38;5;28;01mdef\u001b[39;00m \u001b[38;5;21mfromfile\u001b[39m(\n\u001b[1;32m    459\u001b[0m     \u001b[38;5;28mcls\u001b[39m,\n\u001b[0;32m   (...)\u001b[0m\n\u001b[1;32m    467\u001b[0m     \u001b[38;5;241m*\u001b[39m\u001b[38;5;241m*\u001b[39mkwargs,\n\u001b[1;32m    468\u001b[0m ):\n\u001b[1;32m    469\u001b[0m \u001b[38;5;250m    \u001b[39m\u001b[38;5;124;03m\"\"\"\u001b[39;00m\n\u001b[1;32m    470\u001b[0m \u001b[38;5;124;03m    Creates an `HDUList` instance from a file-like object.\u001b[39;00m\n\u001b[1;32m    471\u001b[0m \n\u001b[0;32m   (...)\u001b[0m\n\u001b[1;32m    474\u001b[0m \u001b[38;5;124;03m    documentation for details of the parameters accepted by this method).\u001b[39;00m\n\u001b[1;32m    475\u001b[0m \u001b[38;5;124;03m    \"\"\"\u001b[39;00m\n\u001b[0;32m--> 476\u001b[0m     \u001b[38;5;28;01mreturn\u001b[39;00m \u001b[38;5;28;43mcls\u001b[39;49m\u001b[38;5;241;43m.\u001b[39;49m\u001b[43m_readfrom\u001b[49m\u001b[43m(\u001b[49m\n\u001b[1;32m    477\u001b[0m \u001b[43m        \u001b[49m\u001b[43mfileobj\u001b[49m\u001b[38;5;241;43m=\u001b[39;49m\u001b[43mfileobj\u001b[49m\u001b[43m,\u001b[49m\n\u001b[1;32m    478\u001b[0m \u001b[43m        \u001b[49m\u001b[43mmode\u001b[49m\u001b[38;5;241;43m=\u001b[39;49m\u001b[43mmode\u001b[49m\u001b[43m,\u001b[49m\n\u001b[1;32m    479\u001b[0m \u001b[43m        \u001b[49m\u001b[43mmemmap\u001b[49m\u001b[38;5;241;43m=\u001b[39;49m\u001b[43mmemmap\u001b[49m\u001b[43m,\u001b[49m\n\u001b[1;32m    480\u001b[0m \u001b[43m        \u001b[49m\u001b[43msave_backup\u001b[49m\u001b[38;5;241;43m=\u001b[39;49m\u001b[43msave_backup\u001b[49m\u001b[43m,\u001b[49m\n\u001b[1;32m    481\u001b[0m \u001b[43m        \u001b[49m\u001b[43mcache\u001b[49m\u001b[38;5;241;43m=\u001b[39;49m\u001b[43mcache\u001b[49m\u001b[43m,\u001b[49m\n\u001b[1;32m    482\u001b[0m \u001b[43m        \u001b[49m\u001b[43mignore_missing_simple\u001b[49m\u001b[38;5;241;43m=\u001b[39;49m\u001b[43mignore_missing_simple\u001b[49m\u001b[43m,\u001b[49m\n\u001b[1;32m    483\u001b[0m \u001b[43m        \u001b[49m\u001b[43mlazy_load_hdus\u001b[49m\u001b[38;5;241;43m=\u001b[39;49m\u001b[43mlazy_load_hdus\u001b[49m\u001b[43m,\u001b[49m\n\u001b[1;32m    484\u001b[0m \u001b[43m        \u001b[49m\u001b[38;5;241;43m*\u001b[39;49m\u001b[38;5;241;43m*\u001b[39;49m\u001b[43mkwargs\u001b[49m\u001b[43m,\u001b[49m\n\u001b[1;32m    485\u001b[0m \u001b[43m    \u001b[49m\u001b[43m)\u001b[49m\n",
      "File \u001b[0;32m~/mambaforge/envs/topst/lib/python3.10/site-packages/astropy/io/fits/hdu/hdulist.py:1146\u001b[0m, in \u001b[0;36mHDUList._readfrom\u001b[0;34m(cls, fileobj, data, mode, memmap, cache, lazy_load_hdus, ignore_missing_simple, use_fsspec, fsspec_kwargs, **kwargs)\u001b[0m\n\u001b[1;32m   1143\u001b[0m \u001b[38;5;28;01mif\u001b[39;00m fileobj \u001b[38;5;129;01mis\u001b[39;00m \u001b[38;5;129;01mnot\u001b[39;00m \u001b[38;5;28;01mNone\u001b[39;00m:\n\u001b[1;32m   1144\u001b[0m     \u001b[38;5;28;01mif\u001b[39;00m \u001b[38;5;129;01mnot\u001b[39;00m \u001b[38;5;28misinstance\u001b[39m(fileobj, _File):\n\u001b[1;32m   1145\u001b[0m         \u001b[38;5;66;03m# instantiate a FITS file object (ffo)\u001b[39;00m\n\u001b[0;32m-> 1146\u001b[0m         fileobj \u001b[38;5;241m=\u001b[39m \u001b[43m_File\u001b[49m\u001b[43m(\u001b[49m\n\u001b[1;32m   1147\u001b[0m \u001b[43m            \u001b[49m\u001b[43mfileobj\u001b[49m\u001b[43m,\u001b[49m\n\u001b[1;32m   1148\u001b[0m \u001b[43m            \u001b[49m\u001b[43mmode\u001b[49m\u001b[38;5;241;43m=\u001b[39;49m\u001b[43mmode\u001b[49m\u001b[43m,\u001b[49m\n\u001b[1;32m   1149\u001b[0m \u001b[43m            \u001b[49m\u001b[43mmemmap\u001b[49m\u001b[38;5;241;43m=\u001b[39;49m\u001b[43mmemmap\u001b[49m\u001b[43m,\u001b[49m\n\u001b[1;32m   1150\u001b[0m \u001b[43m            \u001b[49m\u001b[43mcache\u001b[49m\u001b[38;5;241;43m=\u001b[39;49m\u001b[43mcache\u001b[49m\u001b[43m,\u001b[49m\n\u001b[1;32m   1151\u001b[0m \u001b[43m            \u001b[49m\u001b[43muse_fsspec\u001b[49m\u001b[38;5;241;43m=\u001b[39;49m\u001b[43muse_fsspec\u001b[49m\u001b[43m,\u001b[49m\n\u001b[1;32m   1152\u001b[0m \u001b[43m            \u001b[49m\u001b[43mfsspec_kwargs\u001b[49m\u001b[38;5;241;43m=\u001b[39;49m\u001b[43mfsspec_kwargs\u001b[49m\u001b[43m,\u001b[49m\n\u001b[1;32m   1153\u001b[0m \u001b[43m        \u001b[49m\u001b[43m)\u001b[49m\n\u001b[1;32m   1154\u001b[0m     \u001b[38;5;66;03m# The Astropy mode is determined by the _File initializer if the\u001b[39;00m\n\u001b[1;32m   1155\u001b[0m     \u001b[38;5;66;03m# supplied mode was None\u001b[39;00m\n\u001b[1;32m   1156\u001b[0m     mode \u001b[38;5;241m=\u001b[39m fileobj\u001b[38;5;241m.\u001b[39mmode\n",
      "File \u001b[0;32m~/mambaforge/envs/topst/lib/python3.10/site-packages/astropy/io/fits/file.py:217\u001b[0m, in \u001b[0;36m_File.__init__\u001b[0;34m(self, fileobj, mode, memmap, overwrite, cache, use_fsspec, fsspec_kwargs)\u001b[0m\n\u001b[1;32m    215\u001b[0m     \u001b[38;5;28mself\u001b[39m\u001b[38;5;241m.\u001b[39m_open_fileobj(fileobj, mode, overwrite)\n\u001b[1;32m    216\u001b[0m \u001b[38;5;28;01melif\u001b[39;00m \u001b[38;5;28misinstance\u001b[39m(fileobj, (\u001b[38;5;28mstr\u001b[39m, \u001b[38;5;28mbytes\u001b[39m)):\n\u001b[0;32m--> 217\u001b[0m     \u001b[38;5;28;43mself\u001b[39;49m\u001b[38;5;241;43m.\u001b[39;49m\u001b[43m_open_filename\u001b[49m\u001b[43m(\u001b[49m\u001b[43mfileobj\u001b[49m\u001b[43m,\u001b[49m\u001b[43m \u001b[49m\u001b[43mmode\u001b[49m\u001b[43m,\u001b[49m\u001b[43m \u001b[49m\u001b[43moverwrite\u001b[49m\u001b[43m)\u001b[49m\n\u001b[1;32m    218\u001b[0m \u001b[38;5;28;01melse\u001b[39;00m:\n\u001b[1;32m    219\u001b[0m     \u001b[38;5;28mself\u001b[39m\u001b[38;5;241m.\u001b[39m_open_filelike(fileobj, mode, overwrite)\n",
      "File \u001b[0;32m~/mambaforge/envs/topst/lib/python3.10/site-packages/astropy/io/fits/file.py:626\u001b[0m, in \u001b[0;36m_File._open_filename\u001b[0;34m(self, filename, mode, overwrite)\u001b[0m\n\u001b[1;32m    623\u001b[0m ext \u001b[38;5;241m=\u001b[39m os\u001b[38;5;241m.\u001b[39mpath\u001b[38;5;241m.\u001b[39msplitext(\u001b[38;5;28mself\u001b[39m\u001b[38;5;241m.\u001b[39mname)[\u001b[38;5;241m1\u001b[39m]\n\u001b[1;32m    625\u001b[0m \u001b[38;5;28;01mif\u001b[39;00m \u001b[38;5;129;01mnot\u001b[39;00m \u001b[38;5;28mself\u001b[39m\u001b[38;5;241m.\u001b[39m_try_read_compressed(\u001b[38;5;28mself\u001b[39m\u001b[38;5;241m.\u001b[39mname, magic, mode, ext\u001b[38;5;241m=\u001b[39mext):\n\u001b[0;32m--> 626\u001b[0m     \u001b[38;5;28mself\u001b[39m\u001b[38;5;241m.\u001b[39m_file \u001b[38;5;241m=\u001b[39m \u001b[38;5;28;43mopen\u001b[39;49m\u001b[43m(\u001b[49m\u001b[38;5;28;43mself\u001b[39;49m\u001b[38;5;241;43m.\u001b[39;49m\u001b[43mname\u001b[49m\u001b[43m,\u001b[49m\u001b[43m \u001b[49m\u001b[43mIO_FITS_MODES\u001b[49m\u001b[43m[\u001b[49m\u001b[43mmode\u001b[49m\u001b[43m]\u001b[49m\u001b[43m)\u001b[49m\n\u001b[1;32m    627\u001b[0m     \u001b[38;5;28mself\u001b[39m\u001b[38;5;241m.\u001b[39mclose_on_error \u001b[38;5;241m=\u001b[39m \u001b[38;5;28;01mTrue\u001b[39;00m\n\u001b[1;32m    629\u001b[0m \u001b[38;5;66;03m# Make certain we're back at the beginning of the file\u001b[39;00m\n\u001b[1;32m    630\u001b[0m \u001b[38;5;66;03m# BZ2File does not support seek when the file is open for writing, but\u001b[39;00m\n\u001b[1;32m    631\u001b[0m \u001b[38;5;66;03m# when opening a file for write, bz2.BZ2File always truncates anyway.\u001b[39;00m\n",
      "\u001b[0;31mFileNotFoundError\u001b[0m: [Errno 2] No such file or directory: 'placeholder_images/e23456-nd-t0060-b00-f0008-r.fits'"
     ]
    }
   ],
   "source": [
    "# TODO: placeholder image\n",
    "\n",
    "hdul = fits.open('placeholder_images/e23456-nd-t0060-b00-f0008-r.fits')\n",
    "hdul.info()"
   ]
  },
  {
   "cell_type": "markdown",
   "id": "c5d7dea2-4565-4196-8f5d-2c42253d5b70",
   "metadata": {},
   "source": [
    "As you can see from the () dimensions entry, HDU 0 contains no actual data -- it's a placeholder to help organize the rest of the file. HDU 1, however, contains an actual array. Let's go ahead and get the data from it:"
   ]
  },
  {
   "cell_type": "code",
   "execution_count": null,
   "id": "a4e0cc30",
   "metadata": {},
   "outputs": [],
   "source": [
    "hdu = hdul[1]\n",
    "image = hdu.data\n",
    "image"
   ]
  },
  {
   "cell_type": "markdown",
   "id": "4612f223",
   "metadata": {},
   "source": [
    "### Exploring arrays\n",
    "\n",
    "As we saw earlier, the representation `numpy` provides for arrays is excellent for small arrays. Unfortunately, as we can see here, for large arrays, it doesn't really tell you much except the data type **todo: should we have a section on data types?** and what's in the corners. Fortunately, Python offers many tools for summarizing and visualizing arrays. \n",
    "\n",
    "#### Dealing with nonfinite values\n",
    "\n",
    "Before we start exploring, we need to deal with the fact that lots of scientific data -- including this image -- contain 'nonfinite' values: `nan` (not-a-number, sometimes called 'null', used for missing or invalid entries), `inf` (infinity), and `-inf` (negative infinity). This means many statistical tools will fail on them out of the box: what, after all, is the mean of 2, 3, and not-a-number? There are several ways to work with data despite nonfinite values. The most powerful tool `numpy` provides is the masked array, which allows you to ignore specific elements and work with the array just like you would otherwise. A caveat: not all libraries 'respect' masked arrays, so you may have to do fancier tricks when working with some tools. However, many do. We'll show a common trick for dealing with libraries that don't a little further down."
   ]
  },
  {
   "cell_type": "markdown",
   "id": "77c6ed4d-61b6-4719-a538-e0d626f2aec8",
   "metadata": {},
   "source": [
    "Here you'll see due to the `nan` values `np.mean` does not provide a useful result on the original array:"
   ]
  },
  {
   "cell_type": "code",
   "execution_count": 16,
   "id": "7b2d5f74",
   "metadata": {},
   "outputs": [
    {
     "ename": "NameError",
     "evalue": "name 'image' is not defined",
     "output_type": "error",
     "traceback": [
      "\u001b[0;31m---------------------------------------------------------------------------\u001b[0m",
      "\u001b[0;31mNameError\u001b[0m                                 Traceback (most recent call last)",
      "Cell \u001b[0;32mIn[16], line 1\u001b[0m\n\u001b[0;32m----> 1\u001b[0m np\u001b[38;5;241m.\u001b[39mmean(\u001b[43mimage\u001b[49m)\n",
      "\u001b[0;31mNameError\u001b[0m: name 'image' is not defined"
     ]
    }
   ],
   "source": [
    "np.mean(image)"
   ]
  },
  {
   "cell_type": "markdown",
   "id": "ff56b5d7-6dcb-4ccf-b4b1-f90ea97a6029",
   "metadata": {},
   "source": [
    "However, if we construct an array that masks all nonfinite elements, we're in business:"
   ]
  },
  {
   "cell_type": "code",
   "execution_count": null,
   "id": "4b3b8764",
   "metadata": {},
   "outputs": [],
   "source": [
    "image = np.ma.masked_invalid(image)\n",
    "np.mean(image)"
   ]
  },
  {
   "cell_type": "markdown",
   "id": "fb704e64-6636-4120-be9b-d93a2430962c",
   "metadata": {},
   "source": [
    "Let's go ahead and also mask everything below 0 (0 is valid minimum for this image). The mask is just an array of boolean (True/False) values, and you can slice an assign it just like any other array. We'll use the fancy indexing trick from above:"
   ]
  },
  {
   "cell_type": "code",
   "execution_count": null,
   "id": "22616e01",
   "metadata": {},
   "outputs": [],
   "source": [
    "image.mask[image < 0] = True"
   ]
  },
  {
   "cell_type": "markdown",
   "id": "4e26dcb8",
   "metadata": {},
   "source": [
    "#### Summarizing arrays\n",
    "\n",
    "`numpy` offers many built-in tools that are good for simply describing arrays as well as performing mathematical operations. Commonly-useful ones include `std` (standard deviation), `mean`, and `median`. We just looked at `mean`. Let's look at the others."
   ]
  },
  {
   "cell_type": "code",
   "execution_count": null,
   "id": "97a25527",
   "metadata": {},
   "outputs": [],
   "source": [
    "(\n",
    "    np.std(image), \n",
    "    # using the version from the np.ma namespace because of a little glitch in core numpy\n",
    "    np.ma.median(image)\n",
    ")"
   ]
  },
  {
   "cell_type": "markdown",
   "id": "215e1da1-ac28-431f-a552-0a6b6b29bbb0",
   "metadata": {},
   "source": [
    "These can also be used along an individual axis. for example, if you'd like the mean of every column:"
   ]
  },
  {
   "cell_type": "code",
   "execution_count": null,
   "id": "b3d750f8",
   "metadata": {},
   "outputs": [],
   "source": [
    "np.mean(image, axis=0)"
   ]
  },
  {
   "cell_type": "markdown",
   "id": "2ca67d85",
   "metadata": {},
   "source": [
    "#### Outside of numpy\n",
    "\n",
    "For really serious statistical work, it's often useful to turn to `scipy.stats`, which has a wide range of useful tools. `scipy.describe` is great for getting a bunch of basic descriptive statistics at once, *usually*..."
   ]
  },
  {
   "cell_type": "code",
   "execution_count": null,
   "id": "aedddf4a",
   "metadata": {},
   "outputs": [],
   "source": [
    "from scipy import stats\n",
    "stats.describe(image)"
   ]
  },
  {
   "cell_type": "markdown",
   "id": "08a8b356-f28f-41ac-810f-055509b834e9",
   "metadata": {},
   "source": [
    "Hmmm...that's a lot of nans, and it worked along only one axis, which probably isn't what \n",
    "we wanted. here's a little trick for getting just the unmasked elements of an array, \n",
    "'raveled' into a single dimension:"
   ]
  },
  {
   "cell_type": "code",
   "execution_count": null,
   "id": "c952a34f",
   "metadata": {},
   "outputs": [],
   "source": [
    "valid = image[~image.mask]\n",
    "stats.describe(valid)"
   ]
  },
  {
   "cell_type": "markdown",
   "id": "58ba4c25",
   "metadata": {},
   "source": [
    "### Visualizing arrays\n",
    "\n",
    "Since many arrays are images, we often want to simply *look* at them. This, of course, can even be useful for arrays that _aren't_ exactly images. There are many ways to do this, but the `imshow` function from `matplotlib.pyplot` is one of the most straightforward: it simply plots a 1D, 2D, or 3D array on a grid. Let's use it to take a look at the image we just opened -- although the results may not be satisfying at first."
   ]
  },
  {
   "cell_type": "code",
   "execution_count": null,
   "id": "0545d727",
   "metadata": {},
   "outputs": [],
   "source": [
    "plt.imshow(image)"
   ]
  },
  {
   "cell_type": "markdown",
   "id": "833cb4f7-69b7-4c27-bc5a-44c0c743cb53",
   "metadata": {},
   "source": [
    "Unfortunately, plt.imshow, by default, applies a linear 'stretch' to the image. Because the range\n",
    "of values in this image are so wide, it doesn't look like much at all -- almost everything is at the\n",
    "lower extreme of the color scale.\n",
    "Let's write a little function that uses numpy to range-clip the image so we can look at it more clearly.\n"
   ]
  },
  {
   "cell_type": "code",
   "execution_count": null,
   "id": "9f2d1d97",
   "metadata": {},
   "outputs": [],
   "source": [
    "def std_clip(array, sigma=1):\n",
    "    # find the mean and standard deviation of the array\n",
    "    mean, std = np.mean(array), np.std(array)\n",
    "    # restrict the bounds of the array to (mean - sigma * std, mean + sigma * std)\n",
    "    return np.clip(array, mean - sigma * std, mean + sigma * std)\n",
    "\n",
    "clipped = std_clip(image)\n",
    "plt.imshow(clipped)"
   ]
  },
  {
   "cell_type": "markdown",
   "id": "f5bbdf63-68e5-4a9e-9680-fe9192303acd",
   "metadata": {},
   "source": [
    "Because we made the `sigma` variable as part of the function input, we can modify the stretch however we like. If we'd like a brighter (but noisier) image:"
   ]
  },
  {
   "cell_type": "code",
   "execution_count": null,
   "id": "5c6a2efc",
   "metadata": {},
   "outputs": [],
   "source": [
    "really_clipped = std_clip(image, sigma=0.25)\n",
    "plt.imshow(really_clipped)"
   ]
  },
  {
   "cell_type": "markdown",
   "id": "f984d0e6-3169-4291-b227-aa12b72940fb",
   "metadata": {},
   "source": [
    "Slicing works very well on arrays considered as images. For instance, you can use it to take a 'cutout' from an image to look at a portion in detail:"
   ]
  },
  {
   "cell_type": "code",
   "execution_count": null,
   "id": "2f20c875",
   "metadata": {},
   "outputs": [],
   "source": [
    "plt.imshow(clipped[1000:1200, 1000:1200])"
   ]
  },
  {
   "cell_type": "markdown",
   "id": "245cd26b",
   "metadata": {},
   "source": [
    "## Tables\n",
    "Tables are basically arrays.\n",
    "\n",
    "### Ok, but what is a table, really?\n",
    "A table is _like_ an array, with the following differences:\n",
    "* 'Table' implies 2-D: it has rows and columns and nothing else.\n",
    "* The columns of a table are also called 'fields', and have\n",
    "    *meanings* that are distinct from one another: for instance, a table created from a radiometer \n",
    "    on a satellite might have fields representing time, latitude, longitude, and brightness temperature;\n",
    "    individual rows would represent individual observations.\n",
    "    * This is different from arrays, where, in general, every element has a roughly equivalent *meaning*, but in a different *place*.\n",
    "* A table can have more than one data type: for instance, a star catalog might have a field representing\n",
    "    right ascension in 64-bit floating-point numbers, and a field representing star names as strings.\n",
    "* **todo: maybe not necessary here** A table also generally has an 'index', which can be \n",
    "    a numerical series that simply corresponds to row number, but can be something else\n",
    "    entirely -- for instance, a table of personnel data might be indexed by employee ID number.\n",
    "\n",
    "Like arrays, tables are of ancient origin and found in many forms in many contexts, but computers really like to work with them. Tables are even more widely used than arrays in general-purpose computing. Common examples include spreadsheets and SQL databases. The world runs on tables.\n",
    "\n",
    "### Tabular file formats\n",
    "\n",
    "#### Broad categories: binary vs. text\n",
    "Tables can be stored in many formats. The two major _categories_ of format are binary and text tables. Text table formats store values as human-readable strings, like:\n",
    "\n",
    "| RA | DEC |\n",
    "| ------ | ----- |\n",
    "| 17.222 | -12.301 |\n",
    "| 17.223 | -12.311 |\n",
    "| 17.222 | -12.323 |\n",
    "\n",
    "These sorts of tables are relatively easy to look at and manipulate in spreadsheet programs or text editors -- unless they get so big that the program will refuse to load them!\n",
    "\n",
    "By contrast, binary table formats store values as raw bytes. The number of bytes per entry depends on the underlying data type. They are poorly human-readable, but tend to use less disk space and be quicker to load than text tables. As 32-bit floating point numbers expressed in bytes, the preceding table might look like:\n",
    "| | |\n",
    "|-|-|\n",
    "| \\xa8\\xc6\\x89 | \\xe5\\xd0D\\xc1 |\n",
    "| \\xb4\\xc8\\x89A | \\xe5\\xd0D\\xc1 |\n",
    "| \\xa8\\xc6\\x89 | \\x02+E\\xc1 |\n",
    "\n",
    "This is about 50% smaller in terms of data volume than the text version, but most people are not going to get much out of just _looking_ at it, and trying to manipulate it by copy-pasting would be fruitless. To use it, you need to load it into software that will translate it into meaningful numbers.\n",
    "\n",
    "Some binary table formats simply contain encoded values. Other formats embed metadata along with the values (for instance, cell colors in an Excel file). These formats tend to be harder to read.\n",
    "\n",
    "The upshot of all this is that really large tables -- tables that you wouldn't be able to visually scan, or maybe even successfully load, in a spreadsheet or text editor -- should almost always be stored in binary formats. Small tables are fine to store as text. If you're only planning to use them as intermediate data, though, small tables might also just as well be binary.\n",
    "\n",
    "#### Characteristics of some specific formats\n",
    "There are many, many tabular data formats. This is not an exhaustive list, but here are some common formats you are likely to encounter in planetary science and astronomy:\n",
    "\n",
    "**DSV (delimiter-separated value)**\n",
    "\n",
    "DSV is a family of text table formats that place each row on a separate line, and separates columns with a special delimiter character, usually a comma or a tab (a tab is represented by '\\t' in most programming languages). Comma-separated tables are often called CSV, and tab-separated TSV. This is a CSV table:\n",
    "```\n",
    "satellite,1.002,-379,True\n",
    "unknown,1.547,-22,False\n",
    "```\n",
    "Common file extensions for DSV files are .csv, .tsv, .txt, and .tab, but there are many others.\n",
    "\n",
    "\n",
    "**FWF (fixed-width file)**\n",
    "\n",
    "FWF is a text table format that places each row on a separate line, and separates columns by defining a specific 'width' -- number of characters -- for each column. These columns may also have whitespace 'padding' to make them easier to read (and for programs to figure out how to parse them if they don't have the definition available). FWF files were traditionally easier for programs to read than DSV files, but this is no longer true. In general, we recommend choosing DSV formats over FWF, because the delimiters make it easier for a wider variety of programs to parse them, they are usually a little smaller (because not every row has to be the same width), and you are less likely to make mistakes if you edit them manually. This is a fixed-width version of the DSV table above:\n",
    "```\n",
    "satellite 1.002 -379 True \n",
    "unknown   1.547 -22  False\n",
    "```\n",
    ".tab and .txt are common file extensions for FWF, but, like DSV, providers often exercise creativity.\n",
    "\n",
    "\n",
    "**Excel (and other spreadsheet formats)**\n",
    "\n",
    "Spreadsheet files are generally binary tables with embedded metadata that allow spreadsheet programs to retain formatting like fonts, cell colors, and sheet breaks. These are usually *proprietary* formats: although they can be reverse-engineered, the makers of the software do not publish specifications for them, and they are subject to change between software versions. This means that they are poorly portable and not very future-proof. For these reasons, we do not recommend exchanging scientific data in spreadsheet formats, and most spreadsheet software can easily export data in standard formats like CSV. Most spreadsheet formats have extensions that indicate the specific software used to produce them: for instance, Excel uses .xlsx or .xls.\n",
    "\n",
    "**FITS**\n",
    "\n",
    "FITS files, which were invented for astronomy but have seen widespread adoption in other scientific disciplines, can contain either binary or text tables (although FITS text tables are rarely used in practice). Because FITS files, as we discussed earlier, can have multiple HDUs, a single FITS file can contain multiple tables. FITS files usually have a .fits or .fit extension. We think FITS is one of the best ways to save tables due to its widespread support and mature, stable standard.\n",
    "\n",
    "**PDS binary tables**\n",
    "\n",
    "Many tabular data products in the PDS have ad-hoc structures they describe in external metadata. Standards differ between PDS3 and PDS4. In PDS3, structures can be defined in either their attached or detached PDS3 labels, or in an arbitrary number of distinct format (.fmt) files. In PDS4, binary table structure must be completely defined in a file's detached XML (.xml) label. Common extensions for these files include .dat and .tab.\n",
    "\n",
    "**SQL databases**\n",
    "\n",
    "**TODO: maybe skip this?**\n",
    "\n",
    "**Parquet**\n",
    "\n",
    "Parquet is a newer tabular interchange format that has seen wide adoption in industry and is increasingly common in scientific contexts. It is a _columnar_ format, which means that every field is stored in a distinct area and can be both compressed and readily accessed individually, which makes it very efficient for many purposes. We think Parquet is also an excellent choice for tabular data, especially very large tables that you don't want to load into memory all at once.\n",
    "\n",
    "**general-purpose data formats**\n",
    "\n",
    "Finally, while this category is much to broad to detail, it's worth noting that tables can also be represented in structured data formats that aren't specialized for tables, like Javascript Object Notation (JSON) and Extended Markup Language (XML). (In fact, Excel files rely in part on a compressed and modified version of XML!) Features of programming languages that save in-memory objects to disk, like Python `pickle` files or MATLAB .mat files, can similarly be used to store tables -- but then they can only be opened in that programming language! We don't recommend doing this unless you have a really good reason to.\n",
    "\n",
    "**TODO: maybe something about headers?**\n",
    "\n",
    "\n",
    "### Working with tables in Python\n",
    "\n",
    "There are many packages for working with tabular data in Python. `pandas` is by far the most common, and it's what we'll mostly use in this book. `pandas` has built-in support for reading and writing a wide variety of table formats, but not all, so you'll sometimes need to use a helper package to load data into `pandas`. For instance, `pandas` can't read FITS tables, so you'll need to go through a specialty FITS library like `astropy.io.fits` or `fitsio`. Similarly, to read tables described in PDS metadata, you'll need to use a library like `pdr` or `pds4-tools`.\n",
    "\n",
    "Also, as you saw in the previous lesson, people often compress table files 'monolithically', wrapping the whole file at once in a compression format like gzip. Some packages can decompress files like this automatically, but most can't, so you'll often need to decompress table files before you can use them.\n",
    "\n",
    "`pandas` is very, very powerful; however, it has many features that don't follow a common idiom, so it needs to be used with care. Let's move on to some basic ways to use `pandas`. We'll use the Bright Star Catalog as our sample data."
   ]
  },
  {
   "cell_type": "markdown",
   "id": "512a2f46-893b-4ce5-8788-fec3022f157f",
   "metadata": {},
   "source": [
    "The BSC 'catalog' file has no file extension. However, if you open it in a text editor like Notepad or TextEdit (go ahead and do that now), you'd quickly see that:\n",
    "\n",
    "1.  it has a text table, and\n",
    "2.  it has no delimiter characters. (characters that show where each piece of data ends; like commas in a .csv file)\n",
    "\n",
    "This means that the BSC catalog is a fixed-width file. (Each cell of table is an equal number of bytes)\n",
    "You'd also notice that a lot of the fields appear to run togehter, which meake it somewhat hard to read -- both for humans and for `pandas`. Let's see what happns if we just use the `pandas` `read_fwf` function, which attempts to read a FWFby inferring the width of each field. The `header=None` argument tells `pandas` that the table has no column headers (data in the file before the start of the table that usually provides metadata or other information).\n"
   ]
  },
  {
   "cell_type": "code",
   "execution_count": 43,
   "id": "7f11bcca-0db1-4a2e-98e2-a2eb885e78db",
   "metadata": {},
   "outputs": [
    {
     "data": {
      "text/html": [
       "<div>\n",
       "<style scoped>\n",
       "    .dataframe tbody tr th:only-of-type {\n",
       "        vertical-align: middle;\n",
       "    }\n",
       "\n",
       "    .dataframe tbody tr th {\n",
       "        vertical-align: top;\n",
       "    }\n",
       "\n",
       "    .dataframe thead th {\n",
       "        text-align: right;\n",
       "    }\n",
       "</style>\n",
       "<table border=\"1\" class=\"dataframe\">\n",
       "  <thead>\n",
       "    <tr style=\"text-align: right;\">\n",
       "      <th></th>\n",
       "      <th>0</th>\n",
       "      <th>1</th>\n",
       "      <th>2</th>\n",
       "      <th>3</th>\n",
       "      <th>4</th>\n",
       "      <th>5</th>\n",
       "      <th>6</th>\n",
       "      <th>7</th>\n",
       "      <th>8</th>\n",
       "      <th>9</th>\n",
       "      <th>10</th>\n",
       "      <th>11</th>\n",
       "      <th>12</th>\n",
       "      <th>13</th>\n",
       "    </tr>\n",
       "  </thead>\n",
       "  <tbody>\n",
       "    <tr>\n",
       "      <th>0</th>\n",
       "      <td>1</td>\n",
       "      <td>BD+44 4550</td>\n",
       "      <td>3 36042</td>\n",
       "      <td>46.0</td>\n",
       "      <td>NaN</td>\n",
       "      <td>000001.1+444022000509.9+451345114.44-16.88</td>\n",
       "      <td>6.70</td>\n",
       "      <td>0.07</td>\n",
       "      <td>0.08</td>\n",
       "      <td>NaN</td>\n",
       "      <td>A1Vn</td>\n",
       "      <td>-0.012-0.018      -018      195  4.2</td>\n",
       "      <td>21.6AC</td>\n",
       "      <td>3</td>\n",
       "    </tr>\n",
       "    <tr>\n",
       "      <th>1</th>\n",
       "      <td>2</td>\n",
       "      <td>BD-01 4525</td>\n",
       "      <td>6128569</td>\n",
       "      <td>NaN</td>\n",
       "      <td>NaN</td>\n",
       "      <td>235956.2-010330000503.8-003011 98.33-61.14</td>\n",
       "      <td>6.29</td>\n",
       "      <td>1.10</td>\n",
       "      <td>1.02</td>\n",
       "      <td>NaN</td>\n",
       "      <td>gG9</td>\n",
       "      <td>+0.045-0.060      +014V</td>\n",
       "      <td>NaN</td>\n",
       "      <td>NaN</td>\n",
       "    </tr>\n",
       "    <tr>\n",
       "      <th>2</th>\n",
       "      <td>3</td>\n",
       "      <td>33    PscBD-06 6357</td>\n",
       "      <td>281285721002I</td>\n",
       "      <td>NaN</td>\n",
       "      <td>Var?</td>\n",
       "      <td>000013.0-061601000520.1-054227 93.75-65.93</td>\n",
       "      <td>4.61</td>\n",
       "      <td>1.04</td>\n",
       "      <td>0.89</td>\n",
       "      <td>+0.54</td>\n",
       "      <td>K0IIIbCN-0.5</td>\n",
       "      <td>-0.009+0.089 +.014-006SB1O &lt; 17  2.5</td>\n",
       "      <td>0.0</td>\n",
       "      <td>3*</td>\n",
       "    </tr>\n",
       "    <tr>\n",
       "      <th>3</th>\n",
       "      <td>4</td>\n",
       "      <td>86    PegBD+12 5063</td>\n",
       "      <td>87 917012004</td>\n",
       "      <td>NaN</td>\n",
       "      <td>NaN</td>\n",
       "      <td>000033.8+125023000542.0+132346106.19-47.98</td>\n",
       "      <td>5.51</td>\n",
       "      <td>0.90</td>\n",
       "      <td>NaN</td>\n",
       "      <td>NaN</td>\n",
       "      <td>G5III</td>\n",
       "      <td>+0.045-0.012      -002V?</td>\n",
       "      <td>NaN</td>\n",
       "      <td>NaN</td>\n",
       "    </tr>\n",
       "    <tr>\n",
       "      <th>4</th>\n",
       "      <td>5</td>\n",
       "      <td>BD+57 2865</td>\n",
       "      <td>123 21085</td>\n",
       "      <td>61.0</td>\n",
       "      <td>V640 Cas</td>\n",
       "      <td>000101.8+575245000616.0+582612117.03-03.92</td>\n",
       "      <td>5.96</td>\n",
       "      <td>0.67</td>\n",
       "      <td>0.20</td>\n",
       "      <td>NaN</td>\n",
       "      <td>G5V</td>\n",
       "      <td>+0.263+0.030 +.047-012V          0.8</td>\n",
       "      <td>1.4</td>\n",
       "      <td>*</td>\n",
       "    </tr>\n",
       "    <tr>\n",
       "      <th>...</th>\n",
       "      <td>...</td>\n",
       "      <td>...</td>\n",
       "      <td>...</td>\n",
       "      <td>...</td>\n",
       "      <td>...</td>\n",
       "      <td>...</td>\n",
       "      <td>...</td>\n",
       "      <td>...</td>\n",
       "      <td>...</td>\n",
       "      <td>...</td>\n",
       "      <td>...</td>\n",
       "      <td>...</td>\n",
       "      <td>...</td>\n",
       "      <td>...</td>\n",
       "    </tr>\n",
       "    <tr>\n",
       "      <th>9105</th>\n",
       "      <td>106</td>\n",
       "      <td>CP-73 2346</td>\n",
       "      <td>5233255629</td>\n",
       "      <td>NaN</td>\n",
       "      <td>NaN</td>\n",
       "      <td>235926.8-732712000430.7-725352307.68-43.80</td>\n",
       "      <td>7.31</td>\n",
       "      <td>0.44</td>\n",
       "      <td>0.01</td>\n",
       "      <td>NaN</td>\n",
       "      <td>F2V</td>\n",
       "      <td>+0.010-0.054      +008</td>\n",
       "      <td>NaN</td>\n",
       "      <td>NaN</td>\n",
       "    </tr>\n",
       "    <tr>\n",
       "      <th>9106</th>\n",
       "      <td>107</td>\n",
       "      <td>BD+33 4828</td>\n",
       "      <td>5239 536222002</td>\n",
       "      <td>NaN</td>\n",
       "      <td>NaN</td>\n",
       "      <td>235939.2+340602000453.8+343935112.17-27.24</td>\n",
       "      <td>6.12</td>\n",
       "      <td>0.62</td>\n",
       "      <td>0.09</td>\n",
       "      <td>NaN</td>\n",
       "      <td>G2V</td>\n",
       "      <td>+0.772+0.089 +.035+004V</td>\n",
       "      <td>NaN</td>\n",
       "      <td>NaN</td>\n",
       "    </tr>\n",
       "    <tr>\n",
       "      <th>9107</th>\n",
       "      <td>108</td>\n",
       "      <td>CP-72 2800</td>\n",
       "      <td>52532556311001</td>\n",
       "      <td>NaN</td>\n",
       "      <td>NaN</td>\n",
       "      <td>235937.0-715936000441.3-712613308.18-45.21</td>\n",
       "      <td>5.59</td>\n",
       "      <td>-0.12</td>\n",
       "      <td>-0.42</td>\n",
       "      <td>NaN</td>\n",
       "      <td>B8IV-V</td>\n",
       "      <td>+0.028-0.014      -003V</td>\n",
       "      <td>NaN</td>\n",
       "      <td>NaN</td>\n",
       "    </tr>\n",
       "    <tr>\n",
       "      <th>9108</th>\n",
       "      <td>109</td>\n",
       "      <td>BD+25 5068</td>\n",
       "      <td>5276 73731    I</td>\n",
       "      <td>42.0</td>\n",
       "      <td>NaN</td>\n",
       "      <td>235947.1+260533000456.0+263856110.22-35.07</td>\n",
       "      <td>6.25</td>\n",
       "      <td>1.40</td>\n",
       "      <td>1.59</td>\n",
       "      <td>NaN</td>\n",
       "      <td>K4IIIb</td>\n",
       "      <td>+0.110-0.012      -005           4.5</td>\n",
       "      <td>17.5</td>\n",
       "      <td>NaN</td>\n",
       "    </tr>\n",
       "    <tr>\n",
       "      <th>9109</th>\n",
       "      <td>110</td>\n",
       "      <td>BD+60 2667</td>\n",
       "      <td>5289 10962</td>\n",
       "      <td>NaN</td>\n",
       "      <td>V567 Cas</td>\n",
       "      <td>235955.9+604526000506.2+611851117.40-01.06</td>\n",
       "      <td>5.80</td>\n",
       "      <td>-0.09</td>\n",
       "      <td>-0.32</td>\n",
       "      <td>NaN</td>\n",
       "      <td>B8IVpHgMn</td>\n",
       "      <td>+0.015+0.005      +014V      50</td>\n",
       "      <td>NaN</td>\n",
       "      <td>*</td>\n",
       "    </tr>\n",
       "  </tbody>\n",
       "</table>\n",
       "<p>9110 rows × 14 columns</p>\n",
       "</div>"
      ],
      "text/plain": [
       "       0                    1                2     3         4   \\\n",
       "0       1           BD+44 4550          3 36042  46.0       NaN   \n",
       "1       2           BD-01 4525          6128569   NaN       NaN   \n",
       "2       3  33    PscBD-06 6357    281285721002I   NaN      Var?   \n",
       "3       4  86    PegBD+12 5063     87 917012004   NaN       NaN   \n",
       "4       5           BD+57 2865        123 21085  61.0  V640 Cas   \n",
       "...   ...                  ...              ...   ...       ...   \n",
       "9105  106           CP-73 2346       5233255629   NaN       NaN   \n",
       "9106  107           BD+33 4828   5239 536222002   NaN       NaN   \n",
       "9107  108           CP-72 2800   52532556311001   NaN       NaN   \n",
       "9108  109           BD+25 5068  5276 73731    I  42.0       NaN   \n",
       "9109  110           BD+60 2667       5289 10962   NaN  V567 Cas   \n",
       "\n",
       "                                              5     6     7     8      9   \\\n",
       "0     000001.1+444022000509.9+451345114.44-16.88  6.70  0.07  0.08    NaN   \n",
       "1     235956.2-010330000503.8-003011 98.33-61.14  6.29  1.10  1.02    NaN   \n",
       "2     000013.0-061601000520.1-054227 93.75-65.93  4.61  1.04  0.89  +0.54   \n",
       "3     000033.8+125023000542.0+132346106.19-47.98  5.51  0.90   NaN    NaN   \n",
       "4     000101.8+575245000616.0+582612117.03-03.92  5.96  0.67  0.20    NaN   \n",
       "...                                          ...   ...   ...   ...    ...   \n",
       "9105  235926.8-732712000430.7-725352307.68-43.80  7.31  0.44  0.01    NaN   \n",
       "9106  235939.2+340602000453.8+343935112.17-27.24  6.12  0.62  0.09    NaN   \n",
       "9107  235937.0-715936000441.3-712613308.18-45.21  5.59 -0.12 -0.42    NaN   \n",
       "9108  235947.1+260533000456.0+263856110.22-35.07  6.25  1.40  1.59    NaN   \n",
       "9109  235955.9+604526000506.2+611851117.40-01.06  5.80 -0.09 -0.32    NaN   \n",
       "\n",
       "                10                                    11      12   13  \n",
       "0             A1Vn  -0.012-0.018      -018      195  4.2  21.6AC    3  \n",
       "1              gG9               +0.045-0.060      +014V     NaN  NaN  \n",
       "2     K0IIIbCN-0.5  -0.009+0.089 +.014-006SB1O < 17  2.5     0.0   3*  \n",
       "3            G5III              +0.045-0.012      -002V?     NaN  NaN  \n",
       "4              G5V  +0.263+0.030 +.047-012V          0.8     1.4    *  \n",
       "...            ...                                   ...     ...  ...  \n",
       "9105           F2V                +0.010-0.054      +008     NaN  NaN  \n",
       "9106           G2V               +0.772+0.089 +.035+004V     NaN  NaN  \n",
       "9107        B8IV-V               +0.028-0.014      -003V     NaN  NaN  \n",
       "9108        K4IIIb  +0.110-0.012      -005           4.5    17.5  NaN  \n",
       "9109     B8IVpHgMn       +0.015+0.005      +014V      50     NaN    *  \n",
       "\n",
       "[9110 rows x 14 columns]"
      ]
     },
     "execution_count": 43,
     "metadata": {},
     "output_type": "execute_result"
    }
   ],
   "source": [
    "bsc_take_1 = pd.read_fwf('bright_star_directory/catalog', header=None)\n",
    "bsc_take_1"
   ]
  },
  {
   "cell_type": "markdown",
   "id": "bc807797-f5f1-4464-8b2c-f1727cb5002f",
   "metadata": {},
   "source": [
    "Ok, that looks _sort of_ reasonable. We can validate it by opening the specification of the table in bright_star_catalog/ReadMe in a text editor...\n",
    "\n",
    "(Do that now so you can follow along and get experience looking at these kinds of documents. This kind of check is your main line of defense against using data you _think_ was read in properly but actually wasn't!)\n",
    "\n",
    "And, unfortunately, if you scroll down to line 77, \"Byte-by-byte Description of file\", you'll see that it's not correct. The specification gives over 50 columns, while pandas detected only 14:"
   ]
  },
  {
   "cell_type": "code",
   "execution_count": 44,
   "id": "ae1b027e",
   "metadata": {},
   "outputs": [
    {
     "data": {
      "text/plain": [
       "Index([0, 1, 2, 3, 4, 5, 6, 7, 8, 9, 10, 11, 12, 13], dtype='int64')"
      ]
     },
     "execution_count": 44,
     "metadata": {},
     "output_type": "execute_result"
    }
   ],
   "source": [
    "bsc_take_1.columns"
   ]
  },
  {
   "cell_type": "markdown",
   "id": "2a86306f-a544-4f74-be6c-3781200b729e",
   "metadata": {},
   "source": [
    "So, we have a couple of options here. If you take a look at the read_fwf() documentation [here](https://pandas.pydata.org/docs/reference/api/pandas.read_fwf.html), you'll see that you can pass a list of column specifications to read_fwf() in its colspecs argument.\n",
    "However, we'd have to type all of those in, which is doable, but doesn't sound like much fun.\n",
    "\n",
    "The easy direct download we used last time deceived us. So let's, instead, try to get this into `pandas` another way. [CNRS](https://www.cnrs.fr/en)'s Vizier service offers access to many complete catalogs. Let's see if it has the BSC."
   ]
  },
  {
   "cell_type": "code",
   "execution_count": 45,
   "id": "6670b31a",
   "metadata": {},
   "outputs": [
    {
     "name": "stderr",
     "output_type": "stream",
     "text": [
      "WARNING: UnitsWarning: Unit 'al' not supported by the VOUnit standard. Did you mean alm or alx? [astropy.units.format.vounit]\n",
      "WARNING: UnitsWarning: Unit 'JD' not supported by the VOUnit standard.  [astropy.units.format.vounit]\n",
      "WARNING: UnitsWarning: Unit 'x' not supported by the VOUnit standard.  [astropy.units.format.vounit]\n"
     ]
    },
    {
     "data": {
      "text/plain": [
       "19"
      ]
     },
     "execution_count": 45,
     "metadata": {},
     "output_type": "execute_result"
    }
   ],
   "source": [
    "from astroquery.vizier import Vizier\n",
    "\n",
    "catalogs = Vizier.find_catalogs('Bright Star Catalogue')\n",
    "len(catalogs.keys()) # print the number of matching results"
   ]
  },
  {
   "cell_type": "markdown",
   "id": "2c562805-3e31-40ac-a10e-15ab92fba425",
   "metadata": {},
   "source": [
    "`Vizier.find_catalogs()` returns an `OrderedDict`. Each key in the dictionary will be a different catalog name. We used `len(catalogs.keys())` to print the length of the `keys()` attribute of the `OrderedDict` to know how many catalogs matched our search. It's got 19 catalogs related to 'Bright Star Catalogue'! Let's take a look at which specific one we want based on their descriptions:"
   ]
  },
  {
   "cell_type": "code",
   "execution_count": 46,
   "id": "6b1d466b",
   "metadata": {},
   "outputs": [
    {
     "data": {
      "text/plain": [
       "{'I/44': 'Second Cat of Fundamental Stars (SPF2) (Baturina+ 1986)',\n",
       " 'I/45': 'Catalogue de Zimmerman (Zimmerman 1948)',\n",
       " 'I/206': 'Bright Stars Supplement to PPM (Bastian+ 1993)',\n",
       " 'I/309': '5969 Southern Reference Stars and 726 Bright stars (Konin+ 1983)',\n",
       " 'I/328': 'Catalogue of bright IDS stars (Lipaeva+, 2014)',\n",
       " 'II/80': 'Homogeneous Photometry Bright Stars on DDO System (McClure+ 1981)',\n",
       " 'II/86': 'UV Bright-Star Spectrophotometric Supplement (Macau-Hercot+ 1978)',\n",
       " 'III/39A': 'UV Bright Star Spectrophotometric Catalog (Jamar+, 1976)',\n",
       " 'III/282': 'CoRoT Bright Stars Catalogue with variability classes (Baglin+, 2015)',\n",
       " 'V/36B': 'Supplement to the Bright Star Catalogue (Hoffleit+ 1983)',\n",
       " 'V/50': 'Bright Star Catalogue, 5th Revised Ed. (Hoffleit+, 1991)',\n",
       " 'V/53A': 'Catalogue of the Brightest Stars (Ochsenbein+ 1988)',\n",
       " 'J/ApJS/155/175': 'MK Classification of Bright Star Supplement (Abt, 2004)',\n",
       " 'J/A+A/392/971': 'Catalogue of bright YSO candidates in ISOGAL (Felli+, 2002)',\n",
       " 'J/A+A/514/A3': 'Star-galaxy separation in AKARI FIS All-Sky Survey (Pollo+, 2010)',\n",
       " 'J/A+AS/118/481': 'ROSAT all-sky survey catalogue of OB stars (Berghoefer+ 1996)',\n",
       " 'J/A+AS/132/155': 'Main-sequence and subgiants ROSAT data (Huensch+ 1998)',\n",
       " 'J/MNRAS/464/1247': 'VVV high proper motion stars. I. Ks<=13.5 stars (Kurtev+, 2017)',\n",
       " 'J/MNRAS/488/4905': 'SuperWASP transit false positive catalog (Schanche+, 2019)'}"
      ]
     },
     "execution_count": 46,
     "metadata": {},
     "output_type": "execute_result"
    }
   ],
   "source": [
    "{\n",
    "    c: r.description for c, r in catalogs.items()\n",
    "}"
   ]
  },
  {
   "cell_type": "markdown",
   "id": "1297f1ba-150d-417e-a71d-e346f88ad953",
   "metadata": {},
   "source": [
    "It looks like 'V/50' is our target. Let's go ahead and download the whole thing from Vizier.\n",
    "by default, Vizier will only return 50 rows, and we want the whole table, so let's \n",
    "make a new Vizier object with changed settings:"
   ]
  },
  {
   "cell_type": "code",
   "execution_count": 47,
   "id": "04e9dde7",
   "metadata": {},
   "outputs": [
    {
     "data": {
      "text/plain": [
       "TableList with 2 tables:\n",
       "\t'0:V/50/catalog' with 11 column(s) and 9110 row(s) \n",
       "\t'1:V/50/notes' with 4 column(s) and 9190 row(s) "
      ]
     },
     "execution_count": 47,
     "metadata": {},
     "output_type": "execute_result"
    }
   ],
   "source": [
    "big_vizier_fetcher = Vizier(row_limit=99999)\n",
    "tables = big_vizier_fetcher.get_catalogs([catalogs['V/50']])\n",
    "tables"
   ]
  },
  {
   "cell_type": "markdown",
   "id": "23feaa46-caaa-4181-9883-7e054e30ce10",
   "metadata": {},
   "source": [
    "Now we've got the catalog _and_ the notes in `tables`. Let's look at the catalog."
   ]
  },
  {
   "cell_type": "code",
   "execution_count": 48,
   "id": "0b9ae3bf",
   "metadata": {},
   "outputs": [
    {
     "data": {
      "text/html": [
       "<div><i>Table length=9110</i>\n",
       "<table id=\"table140315113558976\" class=\"table-striped table-bordered table-condensed\">\n",
       "<thead><tr><th>HR</th><th>Name</th><th>HD</th><th>ADS</th><th>VarID</th><th>RAJ2000</th><th>DEJ2000</th><th>Vmag</th><th>B-V</th><th>SpType</th><th>NoteFlag</th></tr></thead>\n",
       "<thead><tr><th></th><th></th><th></th><th></th><th></th><th></th><th></th><th>mag</th><th>mag</th><th></th><th></th></tr></thead>\n",
       "<thead><tr><th>int16</th><th>str10</th><th>int32</th><th>str5</th><th>str9</th><th>str10</th><th>str9</th><th>float32</th><th>float32</th><th>str20</th><th>str1</th></tr></thead>\n",
       "<tr><td>1</td><td></td><td>3</td><td>46</td><td></td><td>00 05 09.9</td><td>+45 13 45</td><td>6.70</td><td>0.07</td><td>A1Vn</td><td></td></tr>\n",
       "<tr><td>2</td><td></td><td>6</td><td></td><td></td><td>00 05 03.8</td><td>-00 30 11</td><td>6.29</td><td>1.10</td><td>gG9</td><td></td></tr>\n",
       "<tr><td>3</td><td>33    Psc</td><td>28</td><td></td><td>Var?</td><td>00 05 20.1</td><td>-05 42 27</td><td>4.61</td><td>1.04</td><td>K0IIIbCN-0.5</td><td>*</td></tr>\n",
       "<tr><td>4</td><td>86    Peg</td><td>87</td><td></td><td></td><td>00 05 42.0</td><td>+13 23 46</td><td>5.51</td><td>0.90</td><td>G5III</td><td></td></tr>\n",
       "<tr><td>...</td><td>...</td><td>...</td><td>...</td><td>...</td><td>...</td><td>...</td><td>...</td><td>...</td><td>...</td><td>...</td></tr>\n",
       "<tr><td>9106</td><td></td><td>225233</td><td></td><td></td><td>00 04 30.7</td><td>-72 53 52</td><td>7.31</td><td>0.44</td><td>F2V</td><td></td></tr>\n",
       "<tr><td>9107</td><td></td><td>225239</td><td></td><td></td><td>00 04 53.8</td><td>+34 39 35</td><td>6.12</td><td>0.62</td><td>G2V</td><td></td></tr>\n",
       "<tr><td>9108</td><td></td><td>225253</td><td></td><td></td><td>00 04 41.3</td><td>-71 26 13</td><td>5.59</td><td>-0.12</td><td>B8IV-V</td><td></td></tr>\n",
       "<tr><td>9109</td><td></td><td>225276</td><td>42</td><td></td><td>00 04 56.0</td><td>+26 38 56</td><td>6.25</td><td>1.40</td><td>K4IIIb</td><td></td></tr>\n",
       "<tr><td>9110</td><td></td><td>225289</td><td></td><td>V567 Cas</td><td>00 05 06.2</td><td>+61 18 51</td><td>5.80</td><td>-0.09</td><td>B8IVpHgMn</td><td>*</td></tr>\n",
       "</table></div>"
      ],
      "text/plain": [
       "<Table length=9110>\n",
       "  HR     Name     HD   ADS   VarID   ...   Vmag    B-V      SpType    NoteFlag\n",
       "                                     ...   mag     mag                        \n",
       "int16   str10   int32  str5   str9   ... float32 float32    str20       str1  \n",
       "----- --------- ------ ---- -------- ... ------- ------- ------------ --------\n",
       "    1                3   46          ...    6.70    0.07         A1Vn         \n",
       "    2                6               ...    6.29    1.10          gG9         \n",
       "    3 33    Psc     28          Var? ...    4.61    1.04 K0IIIbCN-0.5        *\n",
       "    4 86    Peg     87               ...    5.51    0.90        G5III         \n",
       "  ...       ...    ...  ...      ... ...     ...     ...          ...      ...\n",
       " 9106           225233               ...    7.31    0.44          F2V         \n",
       " 9107           225239               ...    6.12    0.62          G2V         \n",
       " 9108           225253               ...    5.59   -0.12       B8IV-V         \n",
       " 9109           225276   42          ...    6.25    1.40       K4IIIb         \n",
       " 9110           225289      V567 Cas ...    5.80   -0.09    B8IVpHgMn        *"
      ]
     },
     "execution_count": 48,
     "metadata": {},
     "output_type": "execute_result"
    }
   ],
   "source": [
    "tables[0]"
   ]
  },
  {
   "cell_type": "markdown",
   "id": "32aaef46-391c-4e2f-845c-795b13bedd6e",
   "metadata": {},
   "source": [
    "This doesn't have quite as many columns as the 'full' version, but they're separated correctly,\n",
    "and we don't need most of that metadata. \n",
    "you'll also note that `astroquery.vizier` returned this as an `astropy Table` object, but we'd rather\n",
    "work with it in `pandas`. `astropy Tables` can be easily converted to `pandas`, so let's do that:"
   ]
  },
  {
   "cell_type": "code",
   "execution_count": 49,
   "id": "3bc44265",
   "metadata": {},
   "outputs": [
    {
     "data": {
      "text/html": [
       "<div>\n",
       "<style scoped>\n",
       "    .dataframe tbody tr th:only-of-type {\n",
       "        vertical-align: middle;\n",
       "    }\n",
       "\n",
       "    .dataframe tbody tr th {\n",
       "        vertical-align: top;\n",
       "    }\n",
       "\n",
       "    .dataframe thead th {\n",
       "        text-align: right;\n",
       "    }\n",
       "</style>\n",
       "<table border=\"1\" class=\"dataframe\">\n",
       "  <thead>\n",
       "    <tr style=\"text-align: right;\">\n",
       "      <th></th>\n",
       "      <th>HR</th>\n",
       "      <th>Name</th>\n",
       "      <th>HD</th>\n",
       "      <th>ADS</th>\n",
       "      <th>VarID</th>\n",
       "      <th>RAJ2000</th>\n",
       "      <th>DEJ2000</th>\n",
       "      <th>Vmag</th>\n",
       "      <th>B-V</th>\n",
       "      <th>SpType</th>\n",
       "      <th>NoteFlag</th>\n",
       "    </tr>\n",
       "  </thead>\n",
       "  <tbody>\n",
       "    <tr>\n",
       "      <th>0</th>\n",
       "      <td>1</td>\n",
       "      <td></td>\n",
       "      <td>3</td>\n",
       "      <td>46</td>\n",
       "      <td></td>\n",
       "      <td>00 05 09.9</td>\n",
       "      <td>+45 13 45</td>\n",
       "      <td>6.70</td>\n",
       "      <td>0.07</td>\n",
       "      <td>A1Vn</td>\n",
       "      <td></td>\n",
       "    </tr>\n",
       "    <tr>\n",
       "      <th>1</th>\n",
       "      <td>2</td>\n",
       "      <td></td>\n",
       "      <td>6</td>\n",
       "      <td></td>\n",
       "      <td></td>\n",
       "      <td>00 05 03.8</td>\n",
       "      <td>-00 30 11</td>\n",
       "      <td>6.29</td>\n",
       "      <td>1.10</td>\n",
       "      <td>gG9</td>\n",
       "      <td></td>\n",
       "    </tr>\n",
       "    <tr>\n",
       "      <th>2</th>\n",
       "      <td>3</td>\n",
       "      <td>33    Psc</td>\n",
       "      <td>28</td>\n",
       "      <td></td>\n",
       "      <td>Var?</td>\n",
       "      <td>00 05 20.1</td>\n",
       "      <td>-05 42 27</td>\n",
       "      <td>4.61</td>\n",
       "      <td>1.04</td>\n",
       "      <td>K0IIIbCN-0.5</td>\n",
       "      <td>*</td>\n",
       "    </tr>\n",
       "    <tr>\n",
       "      <th>3</th>\n",
       "      <td>4</td>\n",
       "      <td>86    Peg</td>\n",
       "      <td>87</td>\n",
       "      <td></td>\n",
       "      <td></td>\n",
       "      <td>00 05 42.0</td>\n",
       "      <td>+13 23 46</td>\n",
       "      <td>5.51</td>\n",
       "      <td>0.90</td>\n",
       "      <td>G5III</td>\n",
       "      <td></td>\n",
       "    </tr>\n",
       "    <tr>\n",
       "      <th>4</th>\n",
       "      <td>5</td>\n",
       "      <td></td>\n",
       "      <td>123</td>\n",
       "      <td>61</td>\n",
       "      <td>V640 Cas</td>\n",
       "      <td>00 06 16.0</td>\n",
       "      <td>+58 26 12</td>\n",
       "      <td>5.96</td>\n",
       "      <td>0.67</td>\n",
       "      <td>G5V</td>\n",
       "      <td>*</td>\n",
       "    </tr>\n",
       "    <tr>\n",
       "      <th>...</th>\n",
       "      <td>...</td>\n",
       "      <td>...</td>\n",
       "      <td>...</td>\n",
       "      <td>...</td>\n",
       "      <td>...</td>\n",
       "      <td>...</td>\n",
       "      <td>...</td>\n",
       "      <td>...</td>\n",
       "      <td>...</td>\n",
       "      <td>...</td>\n",
       "      <td>...</td>\n",
       "    </tr>\n",
       "    <tr>\n",
       "      <th>9105</th>\n",
       "      <td>9106</td>\n",
       "      <td></td>\n",
       "      <td>225233</td>\n",
       "      <td></td>\n",
       "      <td></td>\n",
       "      <td>00 04 30.7</td>\n",
       "      <td>-72 53 52</td>\n",
       "      <td>7.31</td>\n",
       "      <td>0.44</td>\n",
       "      <td>F2V</td>\n",
       "      <td></td>\n",
       "    </tr>\n",
       "    <tr>\n",
       "      <th>9106</th>\n",
       "      <td>9107</td>\n",
       "      <td></td>\n",
       "      <td>225239</td>\n",
       "      <td></td>\n",
       "      <td></td>\n",
       "      <td>00 04 53.8</td>\n",
       "      <td>+34 39 35</td>\n",
       "      <td>6.12</td>\n",
       "      <td>0.62</td>\n",
       "      <td>G2V</td>\n",
       "      <td></td>\n",
       "    </tr>\n",
       "    <tr>\n",
       "      <th>9107</th>\n",
       "      <td>9108</td>\n",
       "      <td></td>\n",
       "      <td>225253</td>\n",
       "      <td></td>\n",
       "      <td></td>\n",
       "      <td>00 04 41.3</td>\n",
       "      <td>-71 26 13</td>\n",
       "      <td>5.59</td>\n",
       "      <td>-0.12</td>\n",
       "      <td>B8IV-V</td>\n",
       "      <td></td>\n",
       "    </tr>\n",
       "    <tr>\n",
       "      <th>9108</th>\n",
       "      <td>9109</td>\n",
       "      <td></td>\n",
       "      <td>225276</td>\n",
       "      <td>42</td>\n",
       "      <td></td>\n",
       "      <td>00 04 56.0</td>\n",
       "      <td>+26 38 56</td>\n",
       "      <td>6.25</td>\n",
       "      <td>1.40</td>\n",
       "      <td>K4IIIb</td>\n",
       "      <td></td>\n",
       "    </tr>\n",
       "    <tr>\n",
       "      <th>9109</th>\n",
       "      <td>9110</td>\n",
       "      <td></td>\n",
       "      <td>225289</td>\n",
       "      <td></td>\n",
       "      <td>V567 Cas</td>\n",
       "      <td>00 05 06.2</td>\n",
       "      <td>+61 18 51</td>\n",
       "      <td>5.80</td>\n",
       "      <td>-0.09</td>\n",
       "      <td>B8IVpHgMn</td>\n",
       "      <td>*</td>\n",
       "    </tr>\n",
       "  </tbody>\n",
       "</table>\n",
       "<p>9110 rows × 11 columns</p>\n",
       "</div>"
      ],
      "text/plain": [
       "        HR       Name      HD ADS     VarID     RAJ2000    DEJ2000  Vmag  \\\n",
       "0        1                  3  46            00 05 09.9  +45 13 45  6.70   \n",
       "1        2                  6                00 05 03.8  -00 30 11  6.29   \n",
       "2        3  33    Psc      28          Var?  00 05 20.1  -05 42 27  4.61   \n",
       "3        4  86    Peg      87                00 05 42.0  +13 23 46  5.51   \n",
       "4        5                123  61  V640 Cas  00 06 16.0  +58 26 12  5.96   \n",
       "...    ...        ...     ...  ..       ...         ...        ...   ...   \n",
       "9105  9106             225233                00 04 30.7  -72 53 52  7.31   \n",
       "9106  9107             225239                00 04 53.8  +34 39 35  6.12   \n",
       "9107  9108             225253                00 04 41.3  -71 26 13  5.59   \n",
       "9108  9109             225276  42            00 04 56.0  +26 38 56  6.25   \n",
       "9109  9110             225289      V567 Cas  00 05 06.2  +61 18 51  5.80   \n",
       "\n",
       "       B-V        SpType NoteFlag  \n",
       "0     0.07          A1Vn           \n",
       "1     1.10           gG9           \n",
       "2     1.04  K0IIIbCN-0.5        *  \n",
       "3     0.90         G5III           \n",
       "4     0.67           G5V        *  \n",
       "...    ...           ...      ...  \n",
       "9105  0.44           F2V           \n",
       "9106  0.62           G2V           \n",
       "9107 -0.12        B8IV-V           \n",
       "9108  1.40        K4IIIb           \n",
       "9109 -0.09     B8IVpHgMn        *  \n",
       "\n",
       "[9110 rows x 11 columns]"
      ]
     },
     "execution_count": 49,
     "metadata": {},
     "output_type": "execute_result"
    }
   ],
   "source": [
    "bsc = tables[0].to_pandas()\n",
    "bsc"
   ]
  },
  {
   "cell_type": "markdown",
   "id": "e9a56573-eaa1-4789-9449-96f89fe99fae",
   "metadata": {},
   "source": [
    "That's more like it! now, to prevent us from having to fetch it again,\n",
    "Let's write it out in a format pandas will be able to understand more easily --\n",
    "a simple CSV file.\n",
    "\n",
    "*Note*: the `index=None` argument means \"don't write the index as a separate column\".)"
   ]
  },
  {
   "cell_type": "code",
   "execution_count": 50,
   "id": "929384af",
   "metadata": {},
   "outputs": [],
   "source": [
    "bsc.to_csv('bright_star_directory/catalog.csv', index=None)"
   ]
  },
  {
   "cell_type": "markdown",
   "id": "3c414265-821a-46bd-887a-831092825a03",
   "metadata": {},
   "source": [
    "Now, let's verify that we can read it in again:"
   ]
  },
  {
   "cell_type": "code",
   "execution_count": 51,
   "id": "49362c53",
   "metadata": {},
   "outputs": [
    {
     "data": {
      "text/html": [
       "<div>\n",
       "<style scoped>\n",
       "    .dataframe tbody tr th:only-of-type {\n",
       "        vertical-align: middle;\n",
       "    }\n",
       "\n",
       "    .dataframe tbody tr th {\n",
       "        vertical-align: top;\n",
       "    }\n",
       "\n",
       "    .dataframe thead th {\n",
       "        text-align: right;\n",
       "    }\n",
       "</style>\n",
       "<table border=\"1\" class=\"dataframe\">\n",
       "  <thead>\n",
       "    <tr style=\"text-align: right;\">\n",
       "      <th></th>\n",
       "      <th>HR</th>\n",
       "      <th>Name</th>\n",
       "      <th>HD</th>\n",
       "      <th>ADS</th>\n",
       "      <th>VarID</th>\n",
       "      <th>RAJ2000</th>\n",
       "      <th>DEJ2000</th>\n",
       "      <th>Vmag</th>\n",
       "      <th>B-V</th>\n",
       "      <th>SpType</th>\n",
       "      <th>NoteFlag</th>\n",
       "    </tr>\n",
       "  </thead>\n",
       "  <tbody>\n",
       "    <tr>\n",
       "      <th>0</th>\n",
       "      <td>1</td>\n",
       "      <td>NaN</td>\n",
       "      <td>3.0</td>\n",
       "      <td>46.0</td>\n",
       "      <td>NaN</td>\n",
       "      <td>00 05 09.9</td>\n",
       "      <td>+45 13 45</td>\n",
       "      <td>6.70</td>\n",
       "      <td>0.07</td>\n",
       "      <td>A1Vn</td>\n",
       "      <td>NaN</td>\n",
       "    </tr>\n",
       "    <tr>\n",
       "      <th>1</th>\n",
       "      <td>2</td>\n",
       "      <td>NaN</td>\n",
       "      <td>6.0</td>\n",
       "      <td>NaN</td>\n",
       "      <td>NaN</td>\n",
       "      <td>00 05 03.8</td>\n",
       "      <td>-00 30 11</td>\n",
       "      <td>6.29</td>\n",
       "      <td>1.10</td>\n",
       "      <td>gG9</td>\n",
       "      <td>NaN</td>\n",
       "    </tr>\n",
       "    <tr>\n",
       "      <th>2</th>\n",
       "      <td>3</td>\n",
       "      <td>33    Psc</td>\n",
       "      <td>28.0</td>\n",
       "      <td>NaN</td>\n",
       "      <td>Var?</td>\n",
       "      <td>00 05 20.1</td>\n",
       "      <td>-05 42 27</td>\n",
       "      <td>4.61</td>\n",
       "      <td>1.04</td>\n",
       "      <td>K0IIIbCN-0.5</td>\n",
       "      <td>*</td>\n",
       "    </tr>\n",
       "    <tr>\n",
       "      <th>3</th>\n",
       "      <td>4</td>\n",
       "      <td>86    Peg</td>\n",
       "      <td>87.0</td>\n",
       "      <td>NaN</td>\n",
       "      <td>NaN</td>\n",
       "      <td>00 05 42.0</td>\n",
       "      <td>+13 23 46</td>\n",
       "      <td>5.51</td>\n",
       "      <td>0.90</td>\n",
       "      <td>G5III</td>\n",
       "      <td>NaN</td>\n",
       "    </tr>\n",
       "    <tr>\n",
       "      <th>4</th>\n",
       "      <td>5</td>\n",
       "      <td>NaN</td>\n",
       "      <td>123.0</td>\n",
       "      <td>61.0</td>\n",
       "      <td>V640 Cas</td>\n",
       "      <td>00 06 16.0</td>\n",
       "      <td>+58 26 12</td>\n",
       "      <td>5.96</td>\n",
       "      <td>0.67</td>\n",
       "      <td>G5V</td>\n",
       "      <td>*</td>\n",
       "    </tr>\n",
       "    <tr>\n",
       "      <th>...</th>\n",
       "      <td>...</td>\n",
       "      <td>...</td>\n",
       "      <td>...</td>\n",
       "      <td>...</td>\n",
       "      <td>...</td>\n",
       "      <td>...</td>\n",
       "      <td>...</td>\n",
       "      <td>...</td>\n",
       "      <td>...</td>\n",
       "      <td>...</td>\n",
       "      <td>...</td>\n",
       "    </tr>\n",
       "    <tr>\n",
       "      <th>9105</th>\n",
       "      <td>9106</td>\n",
       "      <td>NaN</td>\n",
       "      <td>225233.0</td>\n",
       "      <td>NaN</td>\n",
       "      <td>NaN</td>\n",
       "      <td>00 04 30.7</td>\n",
       "      <td>-72 53 52</td>\n",
       "      <td>7.31</td>\n",
       "      <td>0.44</td>\n",
       "      <td>F2V</td>\n",
       "      <td>NaN</td>\n",
       "    </tr>\n",
       "    <tr>\n",
       "      <th>9106</th>\n",
       "      <td>9107</td>\n",
       "      <td>NaN</td>\n",
       "      <td>225239.0</td>\n",
       "      <td>NaN</td>\n",
       "      <td>NaN</td>\n",
       "      <td>00 04 53.8</td>\n",
       "      <td>+34 39 35</td>\n",
       "      <td>6.12</td>\n",
       "      <td>0.62</td>\n",
       "      <td>G2V</td>\n",
       "      <td>NaN</td>\n",
       "    </tr>\n",
       "    <tr>\n",
       "      <th>9107</th>\n",
       "      <td>9108</td>\n",
       "      <td>NaN</td>\n",
       "      <td>225253.0</td>\n",
       "      <td>NaN</td>\n",
       "      <td>NaN</td>\n",
       "      <td>00 04 41.3</td>\n",
       "      <td>-71 26 13</td>\n",
       "      <td>5.59</td>\n",
       "      <td>-0.12</td>\n",
       "      <td>B8IV-V</td>\n",
       "      <td>NaN</td>\n",
       "    </tr>\n",
       "    <tr>\n",
       "      <th>9108</th>\n",
       "      <td>9109</td>\n",
       "      <td>NaN</td>\n",
       "      <td>225276.0</td>\n",
       "      <td>42.0</td>\n",
       "      <td>NaN</td>\n",
       "      <td>00 04 56.0</td>\n",
       "      <td>+26 38 56</td>\n",
       "      <td>6.25</td>\n",
       "      <td>1.40</td>\n",
       "      <td>K4IIIb</td>\n",
       "      <td>NaN</td>\n",
       "    </tr>\n",
       "    <tr>\n",
       "      <th>9109</th>\n",
       "      <td>9110</td>\n",
       "      <td>NaN</td>\n",
       "      <td>225289.0</td>\n",
       "      <td>NaN</td>\n",
       "      <td>V567 Cas</td>\n",
       "      <td>00 05 06.2</td>\n",
       "      <td>+61 18 51</td>\n",
       "      <td>5.80</td>\n",
       "      <td>-0.09</td>\n",
       "      <td>B8IVpHgMn</td>\n",
       "      <td>*</td>\n",
       "    </tr>\n",
       "  </tbody>\n",
       "</table>\n",
       "<p>9110 rows × 11 columns</p>\n",
       "</div>"
      ],
      "text/plain": [
       "        HR       Name        HD   ADS     VarID     RAJ2000    DEJ2000  Vmag  \\\n",
       "0        1        NaN       3.0  46.0       NaN  00 05 09.9  +45 13 45  6.70   \n",
       "1        2        NaN       6.0   NaN       NaN  00 05 03.8  -00 30 11  6.29   \n",
       "2        3  33    Psc      28.0   NaN      Var?  00 05 20.1  -05 42 27  4.61   \n",
       "3        4  86    Peg      87.0   NaN       NaN  00 05 42.0  +13 23 46  5.51   \n",
       "4        5        NaN     123.0  61.0  V640 Cas  00 06 16.0  +58 26 12  5.96   \n",
       "...    ...        ...       ...   ...       ...         ...        ...   ...   \n",
       "9105  9106        NaN  225233.0   NaN       NaN  00 04 30.7  -72 53 52  7.31   \n",
       "9106  9107        NaN  225239.0   NaN       NaN  00 04 53.8  +34 39 35  6.12   \n",
       "9107  9108        NaN  225253.0   NaN       NaN  00 04 41.3  -71 26 13  5.59   \n",
       "9108  9109        NaN  225276.0  42.0       NaN  00 04 56.0  +26 38 56  6.25   \n",
       "9109  9110        NaN  225289.0   NaN  V567 Cas  00 05 06.2  +61 18 51  5.80   \n",
       "\n",
       "       B-V        SpType NoteFlag  \n",
       "0     0.07          A1Vn      NaN  \n",
       "1     1.10           gG9      NaN  \n",
       "2     1.04  K0IIIbCN-0.5        *  \n",
       "3     0.90         G5III      NaN  \n",
       "4     0.67           G5V        *  \n",
       "...    ...           ...      ...  \n",
       "9105  0.44           F2V      NaN  \n",
       "9106  0.62           G2V      NaN  \n",
       "9107 -0.12        B8IV-V      NaN  \n",
       "9108  1.40        K4IIIb      NaN  \n",
       "9109 -0.09     B8IVpHgMn        *  \n",
       "\n",
       "[9110 rows x 11 columns]"
      ]
     },
     "execution_count": 51,
     "metadata": {},
     "output_type": "execute_result"
    }
   ],
   "source": [
    "bsc_in = pd.read_csv('bright_star_directory/catalog.csv')\n",
    "bsc_in"
   ]
  },
  {
   "cell_type": "markdown",
   "id": "a79fd959-3921-4e74-a749-506659b1a145",
   "metadata": {},
   "source": [
    "Great! It looks the same, with one notable exception: it reinterpreted some\n",
    "of the columns as numbers, which also caused it to fill in blank spaces with NaNs. \n",
    "This is, in fact, a very good thing! For instance, if we'd wanted to look at all the\n",
    "stars with Double Star Catalog designation (ADS) < 50, and had tried to do that on the \n",
    "original table, we would have gotten an error, because Vizier specified that column\n",
    "as a string."
   ]
  },
  {
   "cell_type": "markdown",
   "id": "0cfc2ed1-d31a-4026-88c4-216042ee446f",
   "metadata": {},
   "source": [
    "Okay, so what can we do with this object?\n",
    "\n",
    "First, a little vocab. This object is called a **DataFrame**.\n",
    "\n",
    "This is one of the two basic `pandas` types. The other basic `pandas` type is a **Series**. Every field/column in a DataFrame is a Series. You can get the type of a python object with the `type()` function. Let's try that here to confirm what we've just learned:"
   ]
  },
  {
   "cell_type": "code",
   "execution_count": 52,
   "id": "ff44727d",
   "metadata": {},
   "outputs": [
    {
     "data": {
      "text/plain": [
       "(pandas.core.frame.DataFrame, pandas.core.series.Series)"
      ]
     },
     "execution_count": 52,
     "metadata": {},
     "output_type": "execute_result"
    }
   ],
   "source": [
    "type(bsc_in), type(bsc_in['RAJ2000'])"
   ]
  },
  {
   "cell_type": "markdown",
   "id": "3cf1a7d7-d27a-41d3-a474-d7aec8f90f23",
   "metadata": {},
   "source": [
    "Like `numpy`, `pandas` has a lot of tools for accessing elements of a table, but it works differently, principally because rows and columns can have names, not just numbers.\n",
    "\n",
    "`pandas`' core tools for this are called **indexers**, and it has three of them:\n",
    "`.at`, `.loc`, and `.iloc.`.\n",
    "\n",
    "`.at` is rarely used, so we won't focus on it here. You can read more about it [here](https://pandas.pydata.org/docs/reference/api/pandas.DataFrame.at.html) in the pandas docs.\n",
    "\n",
    "`.loc` fetches one or more elements by name: index name(s) first, column name(s) second. Like `numpy`, `pandas` uses `:` as a placeholder, and you don't have to give it both index and column. Let's look at some examples:"
   ]
  },
  {
   "cell_type": "markdown",
   "id": "16e2a6a2-7660-4cdc-8743-fdd866432c05",
   "metadata": {},
   "source": [
    "This is how you would get the visual magnitude (Vmag) of stars 3000-3010:"
   ]
  },
  {
   "cell_type": "code",
   "execution_count": 53,
   "id": "e5329898",
   "metadata": {},
   "outputs": [
    {
     "data": {
      "text/plain": [
       "3000    6.40\n",
       "3001    5.17\n",
       "3002    4.88\n",
       "3003    5.62\n",
       "3004    6.57\n",
       "3005    6.43\n",
       "3006    5.80\n",
       "3007    5.30\n",
       "3008    6.89\n",
       "3009    6.07\n",
       "3010    5.88\n",
       "Name: Vmag, dtype: float64"
      ]
     },
     "execution_count": 53,
     "metadata": {},
     "output_type": "execute_result"
    }
   ],
   "source": [
    "bsc_in.loc[3000:3010, 'Vmag']"
   ]
  },
  {
   "cell_type": "markdown",
   "id": "5f978a35-8393-4f7d-841d-34dd16637a0a",
   "metadata": {},
   "source": [
    "You might be thinking: Well how did you know to type `'Vmag'` in the example above? In the examples where we printed the table itself we saw the column names. So you could have gotten them from them there, but what if you don't want to print the entire table? You could get a list of the column names using `.columns`:"
   ]
  },
  {
   "cell_type": "code",
   "execution_count": 54,
   "id": "fecc1b68-ea30-4df1-a03a-f0698e9b5dc9",
   "metadata": {},
   "outputs": [
    {
     "data": {
      "text/plain": [
       "Index(['HR', 'Name', 'HD', 'ADS', 'VarID', 'RAJ2000', 'DEJ2000', 'Vmag', 'B-V',\n",
       "       'SpType', 'NoteFlag'],\n",
       "      dtype='object')"
      ]
     },
     "execution_count": 54,
     "metadata": {},
     "output_type": "execute_result"
    }
   ],
   "source": [
    "bsc_in.columns"
   ]
  },
  {
   "cell_type": "markdown",
   "id": "ad147c4c-497d-40f2-a2bf-da8a1def7313",
   "metadata": {},
   "source": [
    "Back to our `.loc` examples, this is how you would get everything in the 2001th row: (!Remember! the first row is 0)"
   ]
  },
  {
   "cell_type": "code",
   "execution_count": 55,
   "id": "03bfc73f",
   "metadata": {},
   "outputs": [
    {
     "data": {
      "text/plain": [
       "HR                2001\n",
       "Name               NaN\n",
       "HD             38735.0\n",
       "ADS                NaN\n",
       "VarID        V1031 Ori\n",
       "RAJ2000     05 47 26.7\n",
       "DEJ2000      -10 31 59\n",
       "Vmag              6.03\n",
       "B-V               0.16\n",
       "SpType             A4V\n",
       "NoteFlag             *\n",
       "Name: 2000, dtype: object"
      ]
     },
     "execution_count": 55,
     "metadata": {},
     "output_type": "execute_result"
    }
   ],
   "source": [
    "bsc_in.loc[2000]"
   ]
  },
  {
   "cell_type": "markdown",
   "id": "372ea3ca-9bdd-4433-8d17-3b1af7e3631f",
   "metadata": {},
   "source": [
    "This would return the entire Vmag column:"
   ]
  },
  {
   "cell_type": "code",
   "execution_count": 56,
   "id": "5897870a",
   "metadata": {},
   "outputs": [
    {
     "data": {
      "text/plain": [
       "0       6.70\n",
       "1       6.29\n",
       "2       4.61\n",
       "3       5.51\n",
       "4       5.96\n",
       "        ... \n",
       "9105    7.31\n",
       "9106    6.12\n",
       "9107    5.59\n",
       "9108    6.25\n",
       "9109    5.80\n",
       "Name: Vmag, Length: 9110, dtype: float64"
      ]
     },
     "execution_count": 56,
     "metadata": {},
     "output_type": "execute_result"
    }
   ],
   "source": [
    "bsc_in.loc[:, 'Vmag']"
   ]
  },
  {
   "cell_type": "markdown",
   "id": "1c1da5d4-076b-413d-bc31-c7e8950a30c8",
   "metadata": {},
   "source": [
    "If you simply use slice notation right on the dataframe, this will work the same as using `.loc[:, column_name]`:"
   ]
  },
  {
   "cell_type": "code",
   "execution_count": 57,
   "id": "187a9932",
   "metadata": {},
   "outputs": [
    {
     "data": {
      "text/plain": [
       "0       6.70\n",
       "1       6.29\n",
       "2       4.61\n",
       "3       5.51\n",
       "4       5.96\n",
       "        ... \n",
       "9105    7.31\n",
       "9106    6.12\n",
       "9107    5.59\n",
       "9108    6.25\n",
       "9109    5.80\n",
       "Name: Vmag, Length: 9110, dtype: float64"
      ]
     },
     "execution_count": 57,
     "metadata": {},
     "output_type": "execute_result"
    }
   ],
   "source": [
    "bsc_in['Vmag']"
   ]
  },
  {
   "cell_type": "markdown",
   "id": "66563492-10ed-4edb-ae24-ac5ebc8fcd4e",
   "metadata": {},
   "source": [
    "You'll note that these last few gave `Series` objects rather than `DataFrame` objects. (Again if you'd like to test that just use `type()`). This is becuase we only got a single row or column at once. It's possible to slice a dataframe out of another dataframe. Because the columns have string names rather than numbers, you can do this by passing a list. Here is the visial magnitude and right ascension of stars 30-40, presented as a dataframe:"
   ]
  },
  {
   "cell_type": "code",
   "execution_count": 58,
   "id": "d5d25ca4",
   "metadata": {},
   "outputs": [
    {
     "data": {
      "text/html": [
       "<div>\n",
       "<style scoped>\n",
       "    .dataframe tbody tr th:only-of-type {\n",
       "        vertical-align: middle;\n",
       "    }\n",
       "\n",
       "    .dataframe tbody tr th {\n",
       "        vertical-align: top;\n",
       "    }\n",
       "\n",
       "    .dataframe thead th {\n",
       "        text-align: right;\n",
       "    }\n",
       "</style>\n",
       "<table border=\"1\" class=\"dataframe\">\n",
       "  <thead>\n",
       "    <tr style=\"text-align: right;\">\n",
       "      <th></th>\n",
       "      <th>Vmag</th>\n",
       "      <th>RAJ2000</th>\n",
       "    </tr>\n",
       "  </thead>\n",
       "  <tbody>\n",
       "    <tr>\n",
       "      <th>30</th>\n",
       "      <td>5.85</td>\n",
       "      <td>00 10 42.8</td>\n",
       "    </tr>\n",
       "    <tr>\n",
       "      <th>31</th>\n",
       "      <td>6.64</td>\n",
       "      <td>00 10 38.6</td>\n",
       "    </tr>\n",
       "    <tr>\n",
       "      <th>32</th>\n",
       "      <td>4.89</td>\n",
       "      <td>00 11 15.9</td>\n",
       "    </tr>\n",
       "    <tr>\n",
       "      <th>33</th>\n",
       "      <td>5.41</td>\n",
       "      <td>00 11 34.4</td>\n",
       "    </tr>\n",
       "    <tr>\n",
       "      <th>34</th>\n",
       "      <td>5.25</td>\n",
       "      <td>00 11 44.0</td>\n",
       "    </tr>\n",
       "    <tr>\n",
       "      <th>35</th>\n",
       "      <td>6.16</td>\n",
       "      <td>00 11 59.1</td>\n",
       "    </tr>\n",
       "    <tr>\n",
       "      <th>36</th>\n",
       "      <td>5.25</td>\n",
       "      <td>00 12 10.0</td>\n",
       "    </tr>\n",
       "    <tr>\n",
       "      <th>37</th>\n",
       "      <td>6.73</td>\n",
       "      <td>00 12 50.4</td>\n",
       "    </tr>\n",
       "    <tr>\n",
       "      <th>38</th>\n",
       "      <td>2.83</td>\n",
       "      <td>00 13 14.2</td>\n",
       "    </tr>\n",
       "    <tr>\n",
       "      <th>39</th>\n",
       "      <td>6.30</td>\n",
       "      <td>00 13 24.0</td>\n",
       "    </tr>\n",
       "    <tr>\n",
       "      <th>40</th>\n",
       "      <td>5.72</td>\n",
       "      <td>00 13 30.8</td>\n",
       "    </tr>\n",
       "  </tbody>\n",
       "</table>\n",
       "</div>"
      ],
      "text/plain": [
       "    Vmag     RAJ2000\n",
       "30  5.85  00 10 42.8\n",
       "31  6.64  00 10 38.6\n",
       "32  4.89  00 11 15.9\n",
       "33  5.41  00 11 34.4\n",
       "34  5.25  00 11 44.0\n",
       "35  6.16  00 11 59.1\n",
       "36  5.25  00 12 10.0\n",
       "37  6.73  00 12 50.4\n",
       "38  2.83  00 13 14.2\n",
       "39  6.30  00 13 24.0\n",
       "40  5.72  00 13 30.8"
      ]
     },
     "execution_count": 58,
     "metadata": {},
     "output_type": "execute_result"
    }
   ],
   "source": [
    "bsc_in.loc[30:40, ['Vmag', 'RAJ2000']]"
   ]
  },
  {
   "cell_type": "markdown",
   "id": "79ef6954-9054-4e8f-a204-15745563b8ed",
   "metadata": {},
   "source": [
    "Like `numpy` arrays, you can select elements of a DataFrame that meet some special condition. The easiest way to do that is by using an expression that evaluates to either true or false. An expression like this is called a **logical predicate** and this one will produce a [boolean](https://www.w3schools.com/python/python_booleans.asp) Series giving us only very bright star with Vmag < 2:"
   ]
  },
  {
   "cell_type": "code",
   "execution_count": 59,
   "id": "d9236b15",
   "metadata": {},
   "outputs": [
    {
     "data": {
      "text/plain": [
       "0       False\n",
       "1       False\n",
       "2       False\n",
       "3       False\n",
       "4       False\n",
       "        ...  \n",
       "9105    False\n",
       "9106    False\n",
       "9107    False\n",
       "9108    False\n",
       "9109    False\n",
       "Name: Vmag, Length: 9110, dtype: bool"
      ]
     },
     "execution_count": 59,
     "metadata": {},
     "output_type": "execute_result"
    }
   ],
   "source": [
    "bright_condition = bsc_in['Vmag'] < 2\n",
    "bright_condition"
   ]
  },
  {
   "cell_type": "markdown",
   "id": "e9e08eff-f6e4-4d03-93a4-1519e18241ab",
   "metadata": {},
   "source": [
    "We can then pass that Series to `.loc` in order to select all the rows of the DataFrame for which that condition is True."
   ]
  },
  {
   "cell_type": "code",
   "execution_count": 60,
   "id": "fbbda8ae",
   "metadata": {},
   "outputs": [
    {
     "data": {
      "text/html": [
       "<div>\n",
       "<style scoped>\n",
       "    .dataframe tbody tr th:only-of-type {\n",
       "        vertical-align: middle;\n",
       "    }\n",
       "\n",
       "    .dataframe tbody tr th {\n",
       "        vertical-align: top;\n",
       "    }\n",
       "\n",
       "    .dataframe thead th {\n",
       "        text-align: right;\n",
       "    }\n",
       "</style>\n",
       "<table border=\"1\" class=\"dataframe\">\n",
       "  <thead>\n",
       "    <tr style=\"text-align: right;\">\n",
       "      <th></th>\n",
       "      <th>HR</th>\n",
       "      <th>Name</th>\n",
       "      <th>HD</th>\n",
       "      <th>ADS</th>\n",
       "      <th>VarID</th>\n",
       "      <th>RAJ2000</th>\n",
       "      <th>DEJ2000</th>\n",
       "      <th>Vmag</th>\n",
       "      <th>B-V</th>\n",
       "      <th>SpType</th>\n",
       "      <th>NoteFlag</th>\n",
       "    </tr>\n",
       "  </thead>\n",
       "  <tbody>\n",
       "    <tr>\n",
       "      <th>471</th>\n",
       "      <td>472</td>\n",
       "      <td>Alp Eri</td>\n",
       "      <td>10144.0</td>\n",
       "      <td>NaN</td>\n",
       "      <td>Var</td>\n",
       "      <td>01 37 42.9</td>\n",
       "      <td>-57 14 12</td>\n",
       "      <td>0.46</td>\n",
       "      <td>-0.16</td>\n",
       "      <td>B3Vpe</td>\n",
       "      <td>*</td>\n",
       "    </tr>\n",
       "    <tr>\n",
       "      <th>1016</th>\n",
       "      <td>1017</td>\n",
       "      <td>33Alp Per</td>\n",
       "      <td>20902.0</td>\n",
       "      <td>NaN</td>\n",
       "      <td>1125</td>\n",
       "      <td>03 24 19.4</td>\n",
       "      <td>+49 51 40</td>\n",
       "      <td>1.79</td>\n",
       "      <td>0.48</td>\n",
       "      <td>F5Ib</td>\n",
       "      <td>*</td>\n",
       "    </tr>\n",
       "    <tr>\n",
       "      <th>1457</th>\n",
       "      <td>1457</td>\n",
       "      <td>87Alp Tau</td>\n",
       "      <td>29139.0</td>\n",
       "      <td>3321.0</td>\n",
       "      <td>Alp Tau</td>\n",
       "      <td>04 35 55.2</td>\n",
       "      <td>+16 30 33</td>\n",
       "      <td>0.85</td>\n",
       "      <td>1.54</td>\n",
       "      <td>K5+III</td>\n",
       "      <td>*</td>\n",
       "    </tr>\n",
       "    <tr>\n",
       "      <th>1707</th>\n",
       "      <td>1708</td>\n",
       "      <td>13Alp Aur</td>\n",
       "      <td>34029.0</td>\n",
       "      <td>3841.0</td>\n",
       "      <td>1897</td>\n",
       "      <td>05 16 41.4</td>\n",
       "      <td>+45 59 53</td>\n",
       "      <td>0.08</td>\n",
       "      <td>0.80</td>\n",
       "      <td>G5IIIe+G0III</td>\n",
       "      <td>*</td>\n",
       "    </tr>\n",
       "    <tr>\n",
       "      <th>1712</th>\n",
       "      <td>1713</td>\n",
       "      <td>19Bet Ori</td>\n",
       "      <td>34085.0</td>\n",
       "      <td>3823.0</td>\n",
       "      <td>1882</td>\n",
       "      <td>05 14 32.3</td>\n",
       "      <td>-08 12 06</td>\n",
       "      <td>0.12</td>\n",
       "      <td>-0.03</td>\n",
       "      <td>B8Ia:</td>\n",
       "      <td>*</td>\n",
       "    </tr>\n",
       "    <tr>\n",
       "      <th>1789</th>\n",
       "      <td>1790</td>\n",
       "      <td>24Gam Ori</td>\n",
       "      <td>35468.0</td>\n",
       "      <td>NaN</td>\n",
       "      <td>1972</td>\n",
       "      <td>05 25 07.9</td>\n",
       "      <td>+06 20 59</td>\n",
       "      <td>1.64</td>\n",
       "      <td>-0.22</td>\n",
       "      <td>B2III</td>\n",
       "      <td>*</td>\n",
       "    </tr>\n",
       "    <tr>\n",
       "      <th>1790</th>\n",
       "      <td>1791</td>\n",
       "      <td>112Bet Tau</td>\n",
       "      <td>35497.0</td>\n",
       "      <td>NaN</td>\n",
       "      <td>NaN</td>\n",
       "      <td>05 26 17.5</td>\n",
       "      <td>+28 36 27</td>\n",
       "      <td>1.65</td>\n",
       "      <td>-0.13</td>\n",
       "      <td>B7III</td>\n",
       "      <td>*</td>\n",
       "    </tr>\n",
       "    <tr>\n",
       "      <th>1902</th>\n",
       "      <td>1903</td>\n",
       "      <td>46Eps Ori</td>\n",
       "      <td>37128.0</td>\n",
       "      <td>NaN</td>\n",
       "      <td>Eps Ori</td>\n",
       "      <td>05 36 12.8</td>\n",
       "      <td>-01 12 07</td>\n",
       "      <td>1.70</td>\n",
       "      <td>-0.19</td>\n",
       "      <td>B0Ia</td>\n",
       "      <td>*</td>\n",
       "    </tr>\n",
       "    <tr>\n",
       "      <th>2060</th>\n",
       "      <td>2061</td>\n",
       "      <td>58Alp Ori</td>\n",
       "      <td>39801.0</td>\n",
       "      <td>4506.0</td>\n",
       "      <td>Alp Ori</td>\n",
       "      <td>05 55 10.3</td>\n",
       "      <td>+07 24 25</td>\n",
       "      <td>0.50</td>\n",
       "      <td>1.85</td>\n",
       "      <td>M1-2Ia-Iab</td>\n",
       "      <td>*</td>\n",
       "    </tr>\n",
       "    <tr>\n",
       "      <th>2087</th>\n",
       "      <td>2088</td>\n",
       "      <td>34Bet Aur</td>\n",
       "      <td>40183.0</td>\n",
       "      <td>4556.0</td>\n",
       "      <td>Bet Aur</td>\n",
       "      <td>05 59 31.7</td>\n",
       "      <td>+44 56 51</td>\n",
       "      <td>1.90</td>\n",
       "      <td>0.03</td>\n",
       "      <td>A2IV</td>\n",
       "      <td>*</td>\n",
       "    </tr>\n",
       "    <tr>\n",
       "      <th>2293</th>\n",
       "      <td>2294</td>\n",
       "      <td>2Bet CMa</td>\n",
       "      <td>44743.0</td>\n",
       "      <td>NaN</td>\n",
       "      <td>Bet CMa</td>\n",
       "      <td>06 22 42.0</td>\n",
       "      <td>-17 57 21</td>\n",
       "      <td>1.98</td>\n",
       "      <td>-0.23</td>\n",
       "      <td>B1II-III</td>\n",
       "      <td>*</td>\n",
       "    </tr>\n",
       "    <tr>\n",
       "      <th>2325</th>\n",
       "      <td>2326</td>\n",
       "      <td>Alp Car</td>\n",
       "      <td>45348.0</td>\n",
       "      <td>NaN</td>\n",
       "      <td>NaN</td>\n",
       "      <td>06 23 57.1</td>\n",
       "      <td>-52 41 45</td>\n",
       "      <td>-0.72</td>\n",
       "      <td>0.15</td>\n",
       "      <td>F0II</td>\n",
       "      <td>*</td>\n",
       "    </tr>\n",
       "    <tr>\n",
       "      <th>2420</th>\n",
       "      <td>2421</td>\n",
       "      <td>24Gam Gem</td>\n",
       "      <td>47105.0</td>\n",
       "      <td>NaN</td>\n",
       "      <td>NaN</td>\n",
       "      <td>06 37 42.7</td>\n",
       "      <td>+16 23 57</td>\n",
       "      <td>1.93</td>\n",
       "      <td>0.00</td>\n",
       "      <td>A0IV</td>\n",
       "      <td>*</td>\n",
       "    </tr>\n",
       "    <tr>\n",
       "      <th>2490</th>\n",
       "      <td>2491</td>\n",
       "      <td>9Alp CMa</td>\n",
       "      <td>48915.0</td>\n",
       "      <td>5423.0</td>\n",
       "      <td>NaN</td>\n",
       "      <td>06 45 08.9</td>\n",
       "      <td>-16 42 58</td>\n",
       "      <td>-1.46</td>\n",
       "      <td>0.00</td>\n",
       "      <td>A1Vm</td>\n",
       "      <td>*</td>\n",
       "    </tr>\n",
       "    <tr>\n",
       "      <th>2617</th>\n",
       "      <td>2618</td>\n",
       "      <td>21Eps CMa</td>\n",
       "      <td>52089.0</td>\n",
       "      <td>5654.0</td>\n",
       "      <td>NaN</td>\n",
       "      <td>06 58 37.5</td>\n",
       "      <td>-28 58 20</td>\n",
       "      <td>1.50</td>\n",
       "      <td>-0.21</td>\n",
       "      <td>B2II</td>\n",
       "      <td>*</td>\n",
       "    </tr>\n",
       "    <tr>\n",
       "      <th>2692</th>\n",
       "      <td>2693</td>\n",
       "      <td>25Del CMa</td>\n",
       "      <td>54605.0</td>\n",
       "      <td>NaN</td>\n",
       "      <td>3424</td>\n",
       "      <td>07 08 23.5</td>\n",
       "      <td>-26 23 36</td>\n",
       "      <td>1.84</td>\n",
       "      <td>0.68</td>\n",
       "      <td>F8Ia</td>\n",
       "      <td>*</td>\n",
       "    </tr>\n",
       "    <tr>\n",
       "      <th>2890</th>\n",
       "      <td>2891</td>\n",
       "      <td>66Alp Gem</td>\n",
       "      <td>60179.0</td>\n",
       "      <td>6175.0</td>\n",
       "      <td>YY Gem</td>\n",
       "      <td>07 34 36.0</td>\n",
       "      <td>+31 53 18</td>\n",
       "      <td>1.98</td>\n",
       "      <td>0.03</td>\n",
       "      <td>A1V</td>\n",
       "      <td>*</td>\n",
       "    </tr>\n",
       "    <tr>\n",
       "      <th>2942</th>\n",
       "      <td>2943</td>\n",
       "      <td>10Alp CMi</td>\n",
       "      <td>61421.0</td>\n",
       "      <td>6251.0</td>\n",
       "      <td>3672</td>\n",
       "      <td>07 39 18.1</td>\n",
       "      <td>+05 13 30</td>\n",
       "      <td>0.38</td>\n",
       "      <td>0.42</td>\n",
       "      <td>F5IV-V</td>\n",
       "      <td>*</td>\n",
       "    </tr>\n",
       "    <tr>\n",
       "      <th>2989</th>\n",
       "      <td>2990</td>\n",
       "      <td>78Bet Gem</td>\n",
       "      <td>62509.0</td>\n",
       "      <td>6335.0</td>\n",
       "      <td>3712</td>\n",
       "      <td>07 45 18.9</td>\n",
       "      <td>+28 01 34</td>\n",
       "      <td>1.14</td>\n",
       "      <td>1.00</td>\n",
       "      <td>K0IIIb</td>\n",
       "      <td>*</td>\n",
       "    </tr>\n",
       "    <tr>\n",
       "      <th>3206</th>\n",
       "      <td>3207</td>\n",
       "      <td>Gam2Vel</td>\n",
       "      <td>68273.0</td>\n",
       "      <td>NaN</td>\n",
       "      <td>Gam2 Vel</td>\n",
       "      <td>08 09 32.0</td>\n",
       "      <td>-47 20 12</td>\n",
       "      <td>1.78</td>\n",
       "      <td>-0.22</td>\n",
       "      <td>WC8+O9I</td>\n",
       "      <td>*</td>\n",
       "    </tr>\n",
       "    <tr>\n",
       "      <th>3306</th>\n",
       "      <td>3307</td>\n",
       "      <td>Eps Car</td>\n",
       "      <td>71129.0</td>\n",
       "      <td>NaN</td>\n",
       "      <td>4058</td>\n",
       "      <td>08 22 30.8</td>\n",
       "      <td>-59 30 35</td>\n",
       "      <td>1.86</td>\n",
       "      <td>1.28</td>\n",
       "      <td>K3III+B2:V</td>\n",
       "      <td>*</td>\n",
       "    </tr>\n",
       "    <tr>\n",
       "      <th>3484</th>\n",
       "      <td>3485</td>\n",
       "      <td>Del Vel</td>\n",
       "      <td>74956.0</td>\n",
       "      <td>NaN</td>\n",
       "      <td>NaN</td>\n",
       "      <td>08 44 42.2</td>\n",
       "      <td>-54 42 30</td>\n",
       "      <td>1.96</td>\n",
       "      <td>0.04</td>\n",
       "      <td>A1V</td>\n",
       "      <td>*</td>\n",
       "    </tr>\n",
       "    <tr>\n",
       "      <th>3684</th>\n",
       "      <td>3685</td>\n",
       "      <td>Bet Car</td>\n",
       "      <td>80007.0</td>\n",
       "      <td>NaN</td>\n",
       "      <td>NaN</td>\n",
       "      <td>09 13 12.0</td>\n",
       "      <td>-69 43 02</td>\n",
       "      <td>1.68</td>\n",
       "      <td>0.00</td>\n",
       "      <td>A2IV</td>\n",
       "      <td>*</td>\n",
       "    </tr>\n",
       "    <tr>\n",
       "      <th>3747</th>\n",
       "      <td>3748</td>\n",
       "      <td>30Alp Hya</td>\n",
       "      <td>81797.0</td>\n",
       "      <td>NaN</td>\n",
       "      <td>4496</td>\n",
       "      <td>09 27 35.2</td>\n",
       "      <td>-08 39 31</td>\n",
       "      <td>1.98</td>\n",
       "      <td>1.44</td>\n",
       "      <td>K3II-III</td>\n",
       "      <td>*</td>\n",
       "    </tr>\n",
       "    <tr>\n",
       "      <th>3981</th>\n",
       "      <td>3982</td>\n",
       "      <td>32Alp Leo</td>\n",
       "      <td>87901.0</td>\n",
       "      <td>7654.0</td>\n",
       "      <td>4750</td>\n",
       "      <td>10 08 22.3</td>\n",
       "      <td>+11 58 02</td>\n",
       "      <td>1.35</td>\n",
       "      <td>-0.11</td>\n",
       "      <td>B7V</td>\n",
       "      <td>*</td>\n",
       "    </tr>\n",
       "    <tr>\n",
       "      <th>4300</th>\n",
       "      <td>4301</td>\n",
       "      <td>50Alp UMa</td>\n",
       "      <td>95689.0</td>\n",
       "      <td>8035.0</td>\n",
       "      <td>5070</td>\n",
       "      <td>11 03 43.7</td>\n",
       "      <td>+61 45 03</td>\n",
       "      <td>1.79</td>\n",
       "      <td>1.07</td>\n",
       "      <td>K0IIIa</td>\n",
       "      <td>*</td>\n",
       "    </tr>\n",
       "    <tr>\n",
       "      <th>4729</th>\n",
       "      <td>4730</td>\n",
       "      <td>Alp1Cru</td>\n",
       "      <td>108248.0</td>\n",
       "      <td>NaN</td>\n",
       "      <td>NaN</td>\n",
       "      <td>12 26 35.9</td>\n",
       "      <td>-63 05 57</td>\n",
       "      <td>1.33</td>\n",
       "      <td>-0.24</td>\n",
       "      <td>B0.5IV</td>\n",
       "      <td>*</td>\n",
       "    </tr>\n",
       "    <tr>\n",
       "      <th>4730</th>\n",
       "      <td>4731</td>\n",
       "      <td>Alp2Cru</td>\n",
       "      <td>108249.0</td>\n",
       "      <td>NaN</td>\n",
       "      <td>NaN</td>\n",
       "      <td>12 26 36.5</td>\n",
       "      <td>-63 05 58</td>\n",
       "      <td>1.73</td>\n",
       "      <td>-0.26</td>\n",
       "      <td>B1V</td>\n",
       "      <td>*</td>\n",
       "    </tr>\n",
       "    <tr>\n",
       "      <th>4762</th>\n",
       "      <td>4763</td>\n",
       "      <td>Gam Cru</td>\n",
       "      <td>108903.0</td>\n",
       "      <td>NaN</td>\n",
       "      <td>5672</td>\n",
       "      <td>12 31 09.9</td>\n",
       "      <td>-57 06 48</td>\n",
       "      <td>1.63</td>\n",
       "      <td>1.59</td>\n",
       "      <td>M3.5III</td>\n",
       "      <td>*</td>\n",
       "    </tr>\n",
       "    <tr>\n",
       "      <th>4852</th>\n",
       "      <td>4853</td>\n",
       "      <td>Bet Cru</td>\n",
       "      <td>111123.0</td>\n",
       "      <td>NaN</td>\n",
       "      <td>Bet Cru</td>\n",
       "      <td>12 47 43.2</td>\n",
       "      <td>-59 41 19</td>\n",
       "      <td>1.25</td>\n",
       "      <td>-0.23</td>\n",
       "      <td>B0.5III</td>\n",
       "      <td>*</td>\n",
       "    </tr>\n",
       "    <tr>\n",
       "      <th>4904</th>\n",
       "      <td>4905</td>\n",
       "      <td>77Eps UMa</td>\n",
       "      <td>112185.0</td>\n",
       "      <td>NaN</td>\n",
       "      <td>Eps UMa</td>\n",
       "      <td>12 54 01.7</td>\n",
       "      <td>+55 57 35</td>\n",
       "      <td>1.77</td>\n",
       "      <td>-0.02</td>\n",
       "      <td>A0pCr</td>\n",
       "      <td>*</td>\n",
       "    </tr>\n",
       "    <tr>\n",
       "      <th>5055</th>\n",
       "      <td>5056</td>\n",
       "      <td>67Alp Vir</td>\n",
       "      <td>116658.0</td>\n",
       "      <td>NaN</td>\n",
       "      <td>Alp Vir</td>\n",
       "      <td>13 25 11.6</td>\n",
       "      <td>-11 09 41</td>\n",
       "      <td>0.98</td>\n",
       "      <td>-0.23</td>\n",
       "      <td>B1III-IV+B2V</td>\n",
       "      <td>*</td>\n",
       "    </tr>\n",
       "    <tr>\n",
       "      <th>5190</th>\n",
       "      <td>5191</td>\n",
       "      <td>85Eta UMa</td>\n",
       "      <td>120315.0</td>\n",
       "      <td>NaN</td>\n",
       "      <td>6450</td>\n",
       "      <td>13 47 32.4</td>\n",
       "      <td>+49 18 48</td>\n",
       "      <td>1.86</td>\n",
       "      <td>-0.19</td>\n",
       "      <td>B3V</td>\n",
       "      <td>*</td>\n",
       "    </tr>\n",
       "    <tr>\n",
       "      <th>5266</th>\n",
       "      <td>5267</td>\n",
       "      <td>Bet Cen</td>\n",
       "      <td>122451.0</td>\n",
       "      <td>NaN</td>\n",
       "      <td>Bet Cen</td>\n",
       "      <td>14 03 49.4</td>\n",
       "      <td>-60 22 23</td>\n",
       "      <td>0.61</td>\n",
       "      <td>-0.23</td>\n",
       "      <td>B1III</td>\n",
       "      <td>*</td>\n",
       "    </tr>\n",
       "    <tr>\n",
       "      <th>5339</th>\n",
       "      <td>5340</td>\n",
       "      <td>16Alp Boo</td>\n",
       "      <td>124897.0</td>\n",
       "      <td>NaN</td>\n",
       "      <td>6603</td>\n",
       "      <td>14 15 39.7</td>\n",
       "      <td>+19 10 57</td>\n",
       "      <td>-0.04</td>\n",
       "      <td>1.23</td>\n",
       "      <td>K1.5IIIFe-0.5</td>\n",
       "      <td>*</td>\n",
       "    </tr>\n",
       "    <tr>\n",
       "      <th>5458</th>\n",
       "      <td>5459</td>\n",
       "      <td>Alp1Cen</td>\n",
       "      <td>128620.0</td>\n",
       "      <td>NaN</td>\n",
       "      <td>NaN</td>\n",
       "      <td>14 39 35.9</td>\n",
       "      <td>-60 50 07</td>\n",
       "      <td>-0.01</td>\n",
       "      <td>0.71</td>\n",
       "      <td>G2V</td>\n",
       "      <td>*</td>\n",
       "    </tr>\n",
       "    <tr>\n",
       "      <th>5459</th>\n",
       "      <td>5460</td>\n",
       "      <td>Alp2Cen</td>\n",
       "      <td>128621.0</td>\n",
       "      <td>NaN</td>\n",
       "      <td>NaN</td>\n",
       "      <td>14 39 36.1</td>\n",
       "      <td>-60 50 08</td>\n",
       "      <td>1.33</td>\n",
       "      <td>0.88</td>\n",
       "      <td>K1V</td>\n",
       "      <td>*</td>\n",
       "    </tr>\n",
       "    <tr>\n",
       "      <th>6133</th>\n",
       "      <td>6134</td>\n",
       "      <td>21Alp Sco</td>\n",
       "      <td>148478.0</td>\n",
       "      <td>10074.0</td>\n",
       "      <td>Alp Sco</td>\n",
       "      <td>16 29 24.4</td>\n",
       "      <td>-26 25 55</td>\n",
       "      <td>0.96</td>\n",
       "      <td>1.83</td>\n",
       "      <td>M1.5Iab-Ib+B4Ve</td>\n",
       "      <td>*</td>\n",
       "    </tr>\n",
       "    <tr>\n",
       "      <th>6216</th>\n",
       "      <td>6217</td>\n",
       "      <td>Alp TrA</td>\n",
       "      <td>150798.0</td>\n",
       "      <td>NaN</td>\n",
       "      <td>NaN</td>\n",
       "      <td>16 48 39.9</td>\n",
       "      <td>-69 01 40</td>\n",
       "      <td>1.92</td>\n",
       "      <td>1.44</td>\n",
       "      <td>K2IIb-IIIa</td>\n",
       "      <td>NaN</td>\n",
       "    </tr>\n",
       "    <tr>\n",
       "      <th>6527</th>\n",
       "      <td>6527</td>\n",
       "      <td>35Lam Sco</td>\n",
       "      <td>158926.0</td>\n",
       "      <td>NaN</td>\n",
       "      <td>Lam Sco</td>\n",
       "      <td>17 33 36.5</td>\n",
       "      <td>-37 06 14</td>\n",
       "      <td>1.63</td>\n",
       "      <td>-0.22</td>\n",
       "      <td>B2IV+B</td>\n",
       "      <td>*</td>\n",
       "    </tr>\n",
       "    <tr>\n",
       "      <th>6552</th>\n",
       "      <td>6553</td>\n",
       "      <td>The Sco</td>\n",
       "      <td>159532.0</td>\n",
       "      <td>NaN</td>\n",
       "      <td>9233</td>\n",
       "      <td>17 37 19.2</td>\n",
       "      <td>-42 59 52</td>\n",
       "      <td>1.87</td>\n",
       "      <td>0.40</td>\n",
       "      <td>F1II</td>\n",
       "      <td>*</td>\n",
       "    </tr>\n",
       "    <tr>\n",
       "      <th>6878</th>\n",
       "      <td>6879</td>\n",
       "      <td>20Eps Sgr</td>\n",
       "      <td>169022.0</td>\n",
       "      <td>NaN</td>\n",
       "      <td>NaN</td>\n",
       "      <td>18 24 10.3</td>\n",
       "      <td>-34 23 05</td>\n",
       "      <td>1.85</td>\n",
       "      <td>-0.03</td>\n",
       "      <td>B9.5III</td>\n",
       "      <td>*</td>\n",
       "    </tr>\n",
       "    <tr>\n",
       "      <th>7000</th>\n",
       "      <td>7001</td>\n",
       "      <td>3Alp Lyr</td>\n",
       "      <td>172167.0</td>\n",
       "      <td>11510.0</td>\n",
       "      <td>Alp Lyr</td>\n",
       "      <td>18 36 56.3</td>\n",
       "      <td>+38 47 01</td>\n",
       "      <td>0.03</td>\n",
       "      <td>0.00</td>\n",
       "      <td>A0Va</td>\n",
       "      <td>*</td>\n",
       "    </tr>\n",
       "    <tr>\n",
       "      <th>7556</th>\n",
       "      <td>7557</td>\n",
       "      <td>53Alp Aql</td>\n",
       "      <td>187642.0</td>\n",
       "      <td>13009.0</td>\n",
       "      <td>NaN</td>\n",
       "      <td>19 50 47.0</td>\n",
       "      <td>+08 52 06</td>\n",
       "      <td>0.77</td>\n",
       "      <td>0.22</td>\n",
       "      <td>A7V</td>\n",
       "      <td>*</td>\n",
       "    </tr>\n",
       "    <tr>\n",
       "      <th>7789</th>\n",
       "      <td>7790</td>\n",
       "      <td>Alp Pav</td>\n",
       "      <td>193924.0</td>\n",
       "      <td>NaN</td>\n",
       "      <td>13060</td>\n",
       "      <td>20 25 38.9</td>\n",
       "      <td>-56 44 06</td>\n",
       "      <td>1.94</td>\n",
       "      <td>-0.20</td>\n",
       "      <td>B2IV</td>\n",
       "      <td>*</td>\n",
       "    </tr>\n",
       "    <tr>\n",
       "      <th>7923</th>\n",
       "      <td>7924</td>\n",
       "      <td>50Alp Cyg</td>\n",
       "      <td>197345.0</td>\n",
       "      <td>14172.0</td>\n",
       "      <td>Alp Cyg</td>\n",
       "      <td>20 41 25.9</td>\n",
       "      <td>+45 16 49</td>\n",
       "      <td>1.25</td>\n",
       "      <td>0.09</td>\n",
       "      <td>A2Ia</td>\n",
       "      <td>*</td>\n",
       "    </tr>\n",
       "    <tr>\n",
       "      <th>8424</th>\n",
       "      <td>8425</td>\n",
       "      <td>Alp Gru</td>\n",
       "      <td>209952.0</td>\n",
       "      <td>NaN</td>\n",
       "      <td>14040</td>\n",
       "      <td>22 08 14.0</td>\n",
       "      <td>-46 57 40</td>\n",
       "      <td>1.74</td>\n",
       "      <td>-0.13</td>\n",
       "      <td>B7IV</td>\n",
       "      <td>*</td>\n",
       "    </tr>\n",
       "    <tr>\n",
       "      <th>8728</th>\n",
       "      <td>8728</td>\n",
       "      <td>24Alp PsA</td>\n",
       "      <td>216956.0</td>\n",
       "      <td>NaN</td>\n",
       "      <td>14372</td>\n",
       "      <td>22 57 39.1</td>\n",
       "      <td>-29 37 20</td>\n",
       "      <td>1.16</td>\n",
       "      <td>0.09</td>\n",
       "      <td>A3V</td>\n",
       "      <td>*</td>\n",
       "    </tr>\n",
       "  </tbody>\n",
       "</table>\n",
       "</div>"
      ],
      "text/plain": [
       "        HR        Name        HD      ADS     VarID     RAJ2000    DEJ2000  \\\n",
       "471    472     Alp Eri   10144.0      NaN       Var  01 37 42.9  -57 14 12   \n",
       "1016  1017   33Alp Per   20902.0      NaN      1125  03 24 19.4  +49 51 40   \n",
       "1457  1457   87Alp Tau   29139.0   3321.0   Alp Tau  04 35 55.2  +16 30 33   \n",
       "1707  1708   13Alp Aur   34029.0   3841.0      1897  05 16 41.4  +45 59 53   \n",
       "1712  1713   19Bet Ori   34085.0   3823.0      1882  05 14 32.3  -08 12 06   \n",
       "1789  1790   24Gam Ori   35468.0      NaN      1972  05 25 07.9  +06 20 59   \n",
       "1790  1791  112Bet Tau   35497.0      NaN       NaN  05 26 17.5  +28 36 27   \n",
       "1902  1903   46Eps Ori   37128.0      NaN   Eps Ori  05 36 12.8  -01 12 07   \n",
       "2060  2061   58Alp Ori   39801.0   4506.0   Alp Ori  05 55 10.3  +07 24 25   \n",
       "2087  2088   34Bet Aur   40183.0   4556.0   Bet Aur  05 59 31.7  +44 56 51   \n",
       "2293  2294    2Bet CMa   44743.0      NaN   Bet CMa  06 22 42.0  -17 57 21   \n",
       "2325  2326     Alp Car   45348.0      NaN       NaN  06 23 57.1  -52 41 45   \n",
       "2420  2421   24Gam Gem   47105.0      NaN       NaN  06 37 42.7  +16 23 57   \n",
       "2490  2491    9Alp CMa   48915.0   5423.0       NaN  06 45 08.9  -16 42 58   \n",
       "2617  2618   21Eps CMa   52089.0   5654.0       NaN  06 58 37.5  -28 58 20   \n",
       "2692  2693   25Del CMa   54605.0      NaN      3424  07 08 23.5  -26 23 36   \n",
       "2890  2891   66Alp Gem   60179.0   6175.0    YY Gem  07 34 36.0  +31 53 18   \n",
       "2942  2943   10Alp CMi   61421.0   6251.0      3672  07 39 18.1  +05 13 30   \n",
       "2989  2990   78Bet Gem   62509.0   6335.0      3712  07 45 18.9  +28 01 34   \n",
       "3206  3207     Gam2Vel   68273.0      NaN  Gam2 Vel  08 09 32.0  -47 20 12   \n",
       "3306  3307     Eps Car   71129.0      NaN      4058  08 22 30.8  -59 30 35   \n",
       "3484  3485     Del Vel   74956.0      NaN       NaN  08 44 42.2  -54 42 30   \n",
       "3684  3685     Bet Car   80007.0      NaN       NaN  09 13 12.0  -69 43 02   \n",
       "3747  3748   30Alp Hya   81797.0      NaN      4496  09 27 35.2  -08 39 31   \n",
       "3981  3982   32Alp Leo   87901.0   7654.0      4750  10 08 22.3  +11 58 02   \n",
       "4300  4301   50Alp UMa   95689.0   8035.0      5070  11 03 43.7  +61 45 03   \n",
       "4729  4730     Alp1Cru  108248.0      NaN       NaN  12 26 35.9  -63 05 57   \n",
       "4730  4731     Alp2Cru  108249.0      NaN       NaN  12 26 36.5  -63 05 58   \n",
       "4762  4763     Gam Cru  108903.0      NaN      5672  12 31 09.9  -57 06 48   \n",
       "4852  4853     Bet Cru  111123.0      NaN   Bet Cru  12 47 43.2  -59 41 19   \n",
       "4904  4905   77Eps UMa  112185.0      NaN   Eps UMa  12 54 01.7  +55 57 35   \n",
       "5055  5056   67Alp Vir  116658.0      NaN   Alp Vir  13 25 11.6  -11 09 41   \n",
       "5190  5191   85Eta UMa  120315.0      NaN      6450  13 47 32.4  +49 18 48   \n",
       "5266  5267     Bet Cen  122451.0      NaN   Bet Cen  14 03 49.4  -60 22 23   \n",
       "5339  5340   16Alp Boo  124897.0      NaN      6603  14 15 39.7  +19 10 57   \n",
       "5458  5459     Alp1Cen  128620.0      NaN       NaN  14 39 35.9  -60 50 07   \n",
       "5459  5460     Alp2Cen  128621.0      NaN       NaN  14 39 36.1  -60 50 08   \n",
       "6133  6134   21Alp Sco  148478.0  10074.0   Alp Sco  16 29 24.4  -26 25 55   \n",
       "6216  6217     Alp TrA  150798.0      NaN       NaN  16 48 39.9  -69 01 40   \n",
       "6527  6527   35Lam Sco  158926.0      NaN   Lam Sco  17 33 36.5  -37 06 14   \n",
       "6552  6553     The Sco  159532.0      NaN      9233  17 37 19.2  -42 59 52   \n",
       "6878  6879   20Eps Sgr  169022.0      NaN       NaN  18 24 10.3  -34 23 05   \n",
       "7000  7001    3Alp Lyr  172167.0  11510.0   Alp Lyr  18 36 56.3  +38 47 01   \n",
       "7556  7557   53Alp Aql  187642.0  13009.0       NaN  19 50 47.0  +08 52 06   \n",
       "7789  7790     Alp Pav  193924.0      NaN     13060  20 25 38.9  -56 44 06   \n",
       "7923  7924   50Alp Cyg  197345.0  14172.0   Alp Cyg  20 41 25.9  +45 16 49   \n",
       "8424  8425     Alp Gru  209952.0      NaN     14040  22 08 14.0  -46 57 40   \n",
       "8728  8728   24Alp PsA  216956.0      NaN     14372  22 57 39.1  -29 37 20   \n",
       "\n",
       "      Vmag   B-V           SpType NoteFlag  \n",
       "471   0.46 -0.16            B3Vpe        *  \n",
       "1016  1.79  0.48             F5Ib        *  \n",
       "1457  0.85  1.54           K5+III        *  \n",
       "1707  0.08  0.80     G5IIIe+G0III        *  \n",
       "1712  0.12 -0.03            B8Ia:        *  \n",
       "1789  1.64 -0.22            B2III        *  \n",
       "1790  1.65 -0.13            B7III        *  \n",
       "1902  1.70 -0.19             B0Ia        *  \n",
       "2060  0.50  1.85       M1-2Ia-Iab        *  \n",
       "2087  1.90  0.03             A2IV        *  \n",
       "2293  1.98 -0.23         B1II-III        *  \n",
       "2325 -0.72  0.15             F0II        *  \n",
       "2420  1.93  0.00             A0IV        *  \n",
       "2490 -1.46  0.00             A1Vm        *  \n",
       "2617  1.50 -0.21             B2II        *  \n",
       "2692  1.84  0.68             F8Ia        *  \n",
       "2890  1.98  0.03              A1V        *  \n",
       "2942  0.38  0.42           F5IV-V        *  \n",
       "2989  1.14  1.00           K0IIIb        *  \n",
       "3206  1.78 -0.22          WC8+O9I        *  \n",
       "3306  1.86  1.28       K3III+B2:V        *  \n",
       "3484  1.96  0.04              A1V        *  \n",
       "3684  1.68  0.00             A2IV        *  \n",
       "3747  1.98  1.44         K3II-III        *  \n",
       "3981  1.35 -0.11              B7V        *  \n",
       "4300  1.79  1.07           K0IIIa        *  \n",
       "4729  1.33 -0.24           B0.5IV        *  \n",
       "4730  1.73 -0.26              B1V        *  \n",
       "4762  1.63  1.59          M3.5III        *  \n",
       "4852  1.25 -0.23          B0.5III        *  \n",
       "4904  1.77 -0.02            A0pCr        *  \n",
       "5055  0.98 -0.23     B1III-IV+B2V        *  \n",
       "5190  1.86 -0.19              B3V        *  \n",
       "5266  0.61 -0.23            B1III        *  \n",
       "5339 -0.04  1.23    K1.5IIIFe-0.5        *  \n",
       "5458 -0.01  0.71              G2V        *  \n",
       "5459  1.33  0.88              K1V        *  \n",
       "6133  0.96  1.83  M1.5Iab-Ib+B4Ve        *  \n",
       "6216  1.92  1.44       K2IIb-IIIa      NaN  \n",
       "6527  1.63 -0.22           B2IV+B        *  \n",
       "6552  1.87  0.40             F1II        *  \n",
       "6878  1.85 -0.03          B9.5III        *  \n",
       "7000  0.03  0.00             A0Va        *  \n",
       "7556  0.77  0.22              A7V        *  \n",
       "7789  1.94 -0.20             B2IV        *  \n",
       "7923  1.25  0.09             A2Ia        *  \n",
       "8424  1.74 -0.13             B7IV        *  \n",
       "8728  1.16  0.09              A3V        *  "
      ]
     },
     "execution_count": 60,
     "metadata": {},
     "output_type": "execute_result"
    }
   ],
   "source": [
    "bright = bsc_in.loc[bright_condition]\n",
    "bright"
   ]
  },
  {
   "cell_type": "markdown",
   "id": "43cb9dd0-fe46-49b3-b70d-bb97b9be263d",
   "metadata": {},
   "source": [
    "Like arrays, the values in DataFrames can be easily plotted with matplotlib.\n",
    "For instance, to make a scatter plot of Vmag vs. color (B-V) the following expression could be used:"
   ]
  },
  {
   "cell_type": "code",
   "execution_count": 61,
   "id": "ed104492",
   "metadata": {},
   "outputs": [
    {
     "data": {
      "text/plain": [
       "<matplotlib.collections.PathCollection at 0x7f9db131fa30>"
      ]
     },
     "execution_count": 61,
     "metadata": {},
     "output_type": "execute_result"
    },
    {
     "data": {
      "image/png": "[encoded data removed]",
      "text/plain": [
       "<Figure size 640x480 with 1 Axes>"
      ]
     },
     "metadata": {},
     "output_type": "display_data"
    }
   ],
   "source": [
    "plt.scatter(bsc_in['Vmag'], bsc_in['B-V'])"
   ]
  },
  {
   "cell_type": "markdown",
   "id": "acb0f711-1e2b-430b-8fe8-358e1b150b4d",
   "metadata": {},
   "source": [
    "Like arrays, you can assign values to particular elements of a DataFrame,\n",
    "and you can do operations on big swaths of a DataFrame at once.\n",
    "\n",
    "If we look at one of the values for in the 'Name' field, you'll note that there's some uncessary padding (extra spaces):"
   ]
  },
  {
   "cell_type": "code",
   "execution_count": 62,
   "id": "740838e2",
   "metadata": {},
   "outputs": [
    {
     "data": {
      "text/plain": [
       "'33    Psc'"
      ]
     },
     "execution_count": 62,
     "metadata": {},
     "output_type": "execute_result"
    }
   ],
   "source": [
    "bsc_in.loc[2, 'Name']"
   ]
  },
  {
   "cell_type": "markdown",
   "id": "c72bb55d-9767-442e-972f-7700ffea19ec",
   "metadata": {},
   "source": [
    "Here we can use the `.str` method of the `pandas Series` to treat each value in the 'Name' field as a string, and use `.replace` to switch out the sequences that match the regex pattern `' +'`. That plus sign tells the code to look for any sequence of more than one of the character it comes after, in this instance, a space. Of course, we use `regex=True` to tell `.replace` we are using a regex pattern otherwise it will look for the literal characters space then plus sign in the strings."
   ]
  },
  {
   "cell_type": "code",
   "execution_count": 63,
   "id": "de6b048e",
   "metadata": {},
   "outputs": [
    {
     "data": {
      "text/plain": [
       "'33 Psc'"
      ]
     },
     "execution_count": 63,
     "metadata": {},
     "output_type": "execute_result"
    }
   ],
   "source": [
    "bsc_in['Name'] = bsc_in['Name'].str.replace('  +', ' ', regex=True)\n",
    "bsc_in.loc[2, 'Name']"
   ]
  },
  {
   "cell_type": "markdown",
   "id": "962f8abf-14bc-4fd1-9833-c6250b741cf3",
   "metadata": {},
   "source": [
    "Unlike arrays, you can add new columns as you please. Vmag is logarithmic in base ~2.512, so \n",
    "if you wanted a linear version of it for some calculation, you could do this:"
   ]
  },
  {
   "cell_type": "code",
   "execution_count": 68,
   "id": "88b0fb91",
   "metadata": {},
   "outputs": [
    {
     "data": {
      "text/plain": [
       "0       478.775099\n",
       "1       328.188610\n",
       "2        69.837795\n",
       "3       159.995655\n",
       "4       242.168151\n",
       "           ...    \n",
       "9105    839.737470\n",
       "9106    280.620999\n",
       "9107    172.230380\n",
       "9108    316.317136\n",
       "9109    208.984407\n",
       "Name: Vmag_exp, Length: 9110, dtype: float64"
      ]
     },
     "execution_count": 68,
     "metadata": {},
     "output_type": "execute_result"
    }
   ],
   "source": [
    "bsc_in['Vmag_exp'] = 2.512 ** bsc_in['Vmag']\n",
    "bsc_in['Vmag_exp']"
   ]
  },
  {
   "cell_type": "markdown",
   "id": "19db9d17-5933-4aca-bc5e-530878111a7f",
   "metadata": {},
   "source": [
    "We don't really want to keep that though, so let's take a look at how we can easily drop that column:"
   ]
  },
  {
   "cell_type": "code",
   "execution_count": 69,
   "id": "a58be093",
   "metadata": {},
   "outputs": [
    {
     "data": {
      "text/html": [
       "<div>\n",
       "<style scoped>\n",
       "    .dataframe tbody tr th:only-of-type {\n",
       "        vertical-align: middle;\n",
       "    }\n",
       "\n",
       "    .dataframe tbody tr th {\n",
       "        vertical-align: top;\n",
       "    }\n",
       "\n",
       "    .dataframe thead th {\n",
       "        text-align: right;\n",
       "    }\n",
       "</style>\n",
       "<table border=\"1\" class=\"dataframe\">\n",
       "  <thead>\n",
       "    <tr style=\"text-align: right;\">\n",
       "      <th></th>\n",
       "      <th>HR</th>\n",
       "      <th>Name</th>\n",
       "      <th>HD</th>\n",
       "      <th>ADS</th>\n",
       "      <th>VarID</th>\n",
       "      <th>RAJ2000</th>\n",
       "      <th>DEJ2000</th>\n",
       "      <th>Vmag</th>\n",
       "      <th>B-V</th>\n",
       "      <th>SpType</th>\n",
       "      <th>NoteFlag</th>\n",
       "    </tr>\n",
       "  </thead>\n",
       "  <tbody>\n",
       "    <tr>\n",
       "      <th>0</th>\n",
       "      <td>1</td>\n",
       "      <td>NaN</td>\n",
       "      <td>3.0</td>\n",
       "      <td>46.0</td>\n",
       "      <td>NaN</td>\n",
       "      <td>00 05 09.9</td>\n",
       "      <td>+45 13 45</td>\n",
       "      <td>6.70</td>\n",
       "      <td>0.07</td>\n",
       "      <td>A1Vn</td>\n",
       "      <td>NaN</td>\n",
       "    </tr>\n",
       "    <tr>\n",
       "      <th>1</th>\n",
       "      <td>2</td>\n",
       "      <td>NaN</td>\n",
       "      <td>6.0</td>\n",
       "      <td>NaN</td>\n",
       "      <td>NaN</td>\n",
       "      <td>00 05 03.8</td>\n",
       "      <td>-00 30 11</td>\n",
       "      <td>6.29</td>\n",
       "      <td>1.10</td>\n",
       "      <td>gG9</td>\n",
       "      <td>NaN</td>\n",
       "    </tr>\n",
       "    <tr>\n",
       "      <th>2</th>\n",
       "      <td>3</td>\n",
       "      <td>33 Psc</td>\n",
       "      <td>28.0</td>\n",
       "      <td>NaN</td>\n",
       "      <td>Var?</td>\n",
       "      <td>00 05 20.1</td>\n",
       "      <td>-05 42 27</td>\n",
       "      <td>4.61</td>\n",
       "      <td>1.04</td>\n",
       "      <td>K0IIIbCN-0.5</td>\n",
       "      <td>*</td>\n",
       "    </tr>\n",
       "    <tr>\n",
       "      <th>3</th>\n",
       "      <td>4</td>\n",
       "      <td>86 Peg</td>\n",
       "      <td>87.0</td>\n",
       "      <td>NaN</td>\n",
       "      <td>NaN</td>\n",
       "      <td>00 05 42.0</td>\n",
       "      <td>+13 23 46</td>\n",
       "      <td>5.51</td>\n",
       "      <td>0.90</td>\n",
       "      <td>G5III</td>\n",
       "      <td>NaN</td>\n",
       "    </tr>\n",
       "    <tr>\n",
       "      <th>4</th>\n",
       "      <td>5</td>\n",
       "      <td>NaN</td>\n",
       "      <td>123.0</td>\n",
       "      <td>61.0</td>\n",
       "      <td>V640 Cas</td>\n",
       "      <td>00 06 16.0</td>\n",
       "      <td>+58 26 12</td>\n",
       "      <td>5.96</td>\n",
       "      <td>0.67</td>\n",
       "      <td>G5V</td>\n",
       "      <td>*</td>\n",
       "    </tr>\n",
       "    <tr>\n",
       "      <th>...</th>\n",
       "      <td>...</td>\n",
       "      <td>...</td>\n",
       "      <td>...</td>\n",
       "      <td>...</td>\n",
       "      <td>...</td>\n",
       "      <td>...</td>\n",
       "      <td>...</td>\n",
       "      <td>...</td>\n",
       "      <td>...</td>\n",
       "      <td>...</td>\n",
       "      <td>...</td>\n",
       "    </tr>\n",
       "    <tr>\n",
       "      <th>9105</th>\n",
       "      <td>9106</td>\n",
       "      <td>NaN</td>\n",
       "      <td>225233.0</td>\n",
       "      <td>NaN</td>\n",
       "      <td>NaN</td>\n",
       "      <td>00 04 30.7</td>\n",
       "      <td>-72 53 52</td>\n",
       "      <td>7.31</td>\n",
       "      <td>0.44</td>\n",
       "      <td>F2V</td>\n",
       "      <td>NaN</td>\n",
       "    </tr>\n",
       "    <tr>\n",
       "      <th>9106</th>\n",
       "      <td>9107</td>\n",
       "      <td>NaN</td>\n",
       "      <td>225239.0</td>\n",
       "      <td>NaN</td>\n",
       "      <td>NaN</td>\n",
       "      <td>00 04 53.8</td>\n",
       "      <td>+34 39 35</td>\n",
       "      <td>6.12</td>\n",
       "      <td>0.62</td>\n",
       "      <td>G2V</td>\n",
       "      <td>NaN</td>\n",
       "    </tr>\n",
       "    <tr>\n",
       "      <th>9107</th>\n",
       "      <td>9108</td>\n",
       "      <td>NaN</td>\n",
       "      <td>225253.0</td>\n",
       "      <td>NaN</td>\n",
       "      <td>NaN</td>\n",
       "      <td>00 04 41.3</td>\n",
       "      <td>-71 26 13</td>\n",
       "      <td>5.59</td>\n",
       "      <td>-0.12</td>\n",
       "      <td>B8IV-V</td>\n",
       "      <td>NaN</td>\n",
       "    </tr>\n",
       "    <tr>\n",
       "      <th>9108</th>\n",
       "      <td>9109</td>\n",
       "      <td>NaN</td>\n",
       "      <td>225276.0</td>\n",
       "      <td>42.0</td>\n",
       "      <td>NaN</td>\n",
       "      <td>00 04 56.0</td>\n",
       "      <td>+26 38 56</td>\n",
       "      <td>6.25</td>\n",
       "      <td>1.40</td>\n",
       "      <td>K4IIIb</td>\n",
       "      <td>NaN</td>\n",
       "    </tr>\n",
       "    <tr>\n",
       "      <th>9109</th>\n",
       "      <td>9110</td>\n",
       "      <td>NaN</td>\n",
       "      <td>225289.0</td>\n",
       "      <td>NaN</td>\n",
       "      <td>V567 Cas</td>\n",
       "      <td>00 05 06.2</td>\n",
       "      <td>+61 18 51</td>\n",
       "      <td>5.80</td>\n",
       "      <td>-0.09</td>\n",
       "      <td>B8IVpHgMn</td>\n",
       "      <td>*</td>\n",
       "    </tr>\n",
       "  </tbody>\n",
       "</table>\n",
       "<p>9110 rows × 11 columns</p>\n",
       "</div>"
      ],
      "text/plain": [
       "        HR    Name        HD   ADS     VarID     RAJ2000    DEJ2000  Vmag  \\\n",
       "0        1     NaN       3.0  46.0       NaN  00 05 09.9  +45 13 45  6.70   \n",
       "1        2     NaN       6.0   NaN       NaN  00 05 03.8  -00 30 11  6.29   \n",
       "2        3  33 Psc      28.0   NaN      Var?  00 05 20.1  -05 42 27  4.61   \n",
       "3        4  86 Peg      87.0   NaN       NaN  00 05 42.0  +13 23 46  5.51   \n",
       "4        5     NaN     123.0  61.0  V640 Cas  00 06 16.0  +58 26 12  5.96   \n",
       "...    ...     ...       ...   ...       ...         ...        ...   ...   \n",
       "9105  9106     NaN  225233.0   NaN       NaN  00 04 30.7  -72 53 52  7.31   \n",
       "9106  9107     NaN  225239.0   NaN       NaN  00 04 53.8  +34 39 35  6.12   \n",
       "9107  9108     NaN  225253.0   NaN       NaN  00 04 41.3  -71 26 13  5.59   \n",
       "9108  9109     NaN  225276.0  42.0       NaN  00 04 56.0  +26 38 56  6.25   \n",
       "9109  9110     NaN  225289.0   NaN  V567 Cas  00 05 06.2  +61 18 51  5.80   \n",
       "\n",
       "       B-V        SpType NoteFlag  \n",
       "0     0.07          A1Vn      NaN  \n",
       "1     1.10           gG9      NaN  \n",
       "2     1.04  K0IIIbCN-0.5        *  \n",
       "3     0.90         G5III      NaN  \n",
       "4     0.67           G5V        *  \n",
       "...    ...           ...      ...  \n",
       "9105  0.44           F2V      NaN  \n",
       "9106  0.62           G2V      NaN  \n",
       "9107 -0.12        B8IV-V      NaN  \n",
       "9108  1.40        K4IIIb      NaN  \n",
       "9109 -0.09     B8IVpHgMn        *  \n",
       "\n",
       "[9110 rows x 11 columns]"
      ]
     },
     "execution_count": 69,
     "metadata": {},
     "output_type": "execute_result"
    }
   ],
   "source": [
    "bsc_in = bsc_in.drop(columns='Vmag_exp')\n",
    "bsc_in"
   ]
  },
  {
   "cell_type": "markdown",
   "id": "c70bc555-03dd-46c9-8aad-05a9a627f35b",
   "metadata": {},
   "source": [
    "You can also drop rows. There are a few entries in the BSC that don't have actual\n",
    "coordinates. Let's clean them up quickly. Note that the '~' means 'not', so we're \n",
    "saying: \"get rid of all the rows that don't have a real RAJ2000 value\"."
   ]
  },
  {
   "cell_type": "code",
   "execution_count": 78,
   "id": "378bb779",
   "metadata": {},
   "outputs": [],
   "source": [
    "bsc_in = bsc_in.loc[~(bsc_in['RAJ2000'] == '')]"
   ]
  },
  {
   "cell_type": "markdown",
   "id": "6c2adb74-b547-425c-b0dd-0ea8fa81738f",
   "metadata": {},
   "source": [
    "After you do this sort of thing, it's usually a good idea to copy the dataframe and reset the\n",
    "index -- otherwise you can get confusing errors. (There are cases where this isn't\n",
    "true, of course, but it's a good rule of thumb.) This is the easiest way to do it:"
   ]
  },
  {
   "cell_type": "code",
   "execution_count": 79,
   "id": "454f5ef0-f1de-4061-9bc4-9c549fb4fa7b",
   "metadata": {},
   "outputs": [],
   "source": [
    "bsc_in = bsc_in.copy().reset_index(drop=True)"
   ]
  },
  {
   "cell_type": "markdown",
   "id": "2f3860d6-7726-44f7-81ad-f13550d64947",
   "metadata": {},
   "source": [
    "There's one more thing we should do before we move on. The BSC gives RA and DEC\n",
    "in hours/minutes/seconds notation. This is all well and good, but can be hard for general-purpose\n",
    "tools to work with, because they don't usually understand this notation. Hence this error:"
   ]
  },
  {
   "cell_type": "code",
   "execution_count": 80,
   "id": "2cf95862",
   "metadata": {},
   "outputs": [
    {
     "ename": "TypeError",
     "evalue": "'<' not supported between instances of 'str' and 'int'",
     "output_type": "error",
     "traceback": [
      "\u001b[0;31m---------------------------------------------------------------------------\u001b[0m",
      "\u001b[0;31mTypeError\u001b[0m                                 Traceback (most recent call last)",
      "Cell \u001b[0;32mIn[80], line 1\u001b[0m\n\u001b[0;32m----> 1\u001b[0m bsc_in\u001b[38;5;241m.\u001b[39mloc[(\u001b[43mbsc_in\u001b[49m\u001b[43m[\u001b[49m\u001b[38;5;124;43m'\u001b[39;49m\u001b[38;5;124;43mRAJ2000\u001b[39;49m\u001b[38;5;124;43m'\u001b[39;49m\u001b[43m]\u001b[49m\u001b[43m \u001b[49m\u001b[38;5;241;43m<\u001b[39;49m\u001b[43m \u001b[49m\u001b[38;5;241;43m20\u001b[39;49m) \u001b[38;5;241m&\u001b[39m (bsc_in[\u001b[38;5;124m'\u001b[39m\u001b[38;5;124mDEJ2000\u001b[39m\u001b[38;5;124m'\u001b[39m] \u001b[38;5;241m>\u001b[39m \u001b[38;5;241m0\u001b[39m)]\n",
      "File \u001b[0;32m~/mambaforge/envs/topst/lib/python3.10/site-packages/pandas/core/ops/common.py:76\u001b[0m, in \u001b[0;36m_unpack_zerodim_and_defer.<locals>.new_method\u001b[0;34m(self, other)\u001b[0m\n\u001b[1;32m     72\u001b[0m             \u001b[38;5;28;01mreturn\u001b[39;00m \u001b[38;5;28mNotImplemented\u001b[39m\n\u001b[1;32m     74\u001b[0m other \u001b[38;5;241m=\u001b[39m item_from_zerodim(other)\n\u001b[0;32m---> 76\u001b[0m \u001b[38;5;28;01mreturn\u001b[39;00m \u001b[43mmethod\u001b[49m\u001b[43m(\u001b[49m\u001b[38;5;28;43mself\u001b[39;49m\u001b[43m,\u001b[49m\u001b[43m \u001b[49m\u001b[43mother\u001b[49m\u001b[43m)\u001b[49m\n",
      "File \u001b[0;32m~/mambaforge/envs/topst/lib/python3.10/site-packages/pandas/core/arraylike.py:48\u001b[0m, in \u001b[0;36mOpsMixin.__lt__\u001b[0;34m(self, other)\u001b[0m\n\u001b[1;32m     46\u001b[0m \u001b[38;5;129m@unpack_zerodim_and_defer\u001b[39m(\u001b[38;5;124m\"\u001b[39m\u001b[38;5;124m__lt__\u001b[39m\u001b[38;5;124m\"\u001b[39m)\n\u001b[1;32m     47\u001b[0m \u001b[38;5;28;01mdef\u001b[39;00m \u001b[38;5;21m__lt__\u001b[39m(\u001b[38;5;28mself\u001b[39m, other):\n\u001b[0;32m---> 48\u001b[0m     \u001b[38;5;28;01mreturn\u001b[39;00m \u001b[38;5;28;43mself\u001b[39;49m\u001b[38;5;241;43m.\u001b[39;49m\u001b[43m_cmp_method\u001b[49m\u001b[43m(\u001b[49m\u001b[43mother\u001b[49m\u001b[43m,\u001b[49m\u001b[43m \u001b[49m\u001b[43moperator\u001b[49m\u001b[38;5;241;43m.\u001b[39;49m\u001b[43mlt\u001b[49m\u001b[43m)\u001b[49m\n",
      "File \u001b[0;32m~/mambaforge/envs/topst/lib/python3.10/site-packages/pandas/core/series.py:5804\u001b[0m, in \u001b[0;36mSeries._cmp_method\u001b[0;34m(self, other, op)\u001b[0m\n\u001b[1;32m   5801\u001b[0m lvalues \u001b[38;5;241m=\u001b[39m \u001b[38;5;28mself\u001b[39m\u001b[38;5;241m.\u001b[39m_values\n\u001b[1;32m   5802\u001b[0m rvalues \u001b[38;5;241m=\u001b[39m extract_array(other, extract_numpy\u001b[38;5;241m=\u001b[39m\u001b[38;5;28;01mTrue\u001b[39;00m, extract_range\u001b[38;5;241m=\u001b[39m\u001b[38;5;28;01mTrue\u001b[39;00m)\n\u001b[0;32m-> 5804\u001b[0m res_values \u001b[38;5;241m=\u001b[39m \u001b[43mops\u001b[49m\u001b[38;5;241;43m.\u001b[39;49m\u001b[43mcomparison_op\u001b[49m\u001b[43m(\u001b[49m\u001b[43mlvalues\u001b[49m\u001b[43m,\u001b[49m\u001b[43m \u001b[49m\u001b[43mrvalues\u001b[49m\u001b[43m,\u001b[49m\u001b[43m \u001b[49m\u001b[43mop\u001b[49m\u001b[43m)\u001b[49m\n\u001b[1;32m   5806\u001b[0m \u001b[38;5;28;01mreturn\u001b[39;00m \u001b[38;5;28mself\u001b[39m\u001b[38;5;241m.\u001b[39m_construct_result(res_values, name\u001b[38;5;241m=\u001b[39mres_name)\n",
      "File \u001b[0;32m~/mambaforge/envs/topst/lib/python3.10/site-packages/pandas/core/ops/array_ops.py:346\u001b[0m, in \u001b[0;36mcomparison_op\u001b[0;34m(left, right, op)\u001b[0m\n\u001b[1;32m    343\u001b[0m     \u001b[38;5;28;01mreturn\u001b[39;00m invalid_comparison(lvalues, rvalues, op)\n\u001b[1;32m    345\u001b[0m \u001b[38;5;28;01melif\u001b[39;00m lvalues\u001b[38;5;241m.\u001b[39mdtype \u001b[38;5;241m==\u001b[39m \u001b[38;5;28mobject\u001b[39m \u001b[38;5;129;01mor\u001b[39;00m \u001b[38;5;28misinstance\u001b[39m(rvalues, \u001b[38;5;28mstr\u001b[39m):\n\u001b[0;32m--> 346\u001b[0m     res_values \u001b[38;5;241m=\u001b[39m \u001b[43mcomp_method_OBJECT_ARRAY\u001b[49m\u001b[43m(\u001b[49m\u001b[43mop\u001b[49m\u001b[43m,\u001b[49m\u001b[43m \u001b[49m\u001b[43mlvalues\u001b[49m\u001b[43m,\u001b[49m\u001b[43m \u001b[49m\u001b[43mrvalues\u001b[49m\u001b[43m)\u001b[49m\n\u001b[1;32m    348\u001b[0m \u001b[38;5;28;01melse\u001b[39;00m:\n\u001b[1;32m    349\u001b[0m     res_values \u001b[38;5;241m=\u001b[39m _na_arithmetic_op(lvalues, rvalues, op, is_cmp\u001b[38;5;241m=\u001b[39m\u001b[38;5;28;01mTrue\u001b[39;00m)\n",
      "File \u001b[0;32m~/mambaforge/envs/topst/lib/python3.10/site-packages/pandas/core/ops/array_ops.py:131\u001b[0m, in \u001b[0;36mcomp_method_OBJECT_ARRAY\u001b[0;34m(op, x, y)\u001b[0m\n\u001b[1;32m    129\u001b[0m     result \u001b[38;5;241m=\u001b[39m libops\u001b[38;5;241m.\u001b[39mvec_compare(x\u001b[38;5;241m.\u001b[39mravel(), y\u001b[38;5;241m.\u001b[39mravel(), op)\n\u001b[1;32m    130\u001b[0m \u001b[38;5;28;01melse\u001b[39;00m:\n\u001b[0;32m--> 131\u001b[0m     result \u001b[38;5;241m=\u001b[39m \u001b[43mlibops\u001b[49m\u001b[38;5;241;43m.\u001b[39;49m\u001b[43mscalar_compare\u001b[49m\u001b[43m(\u001b[49m\u001b[43mx\u001b[49m\u001b[38;5;241;43m.\u001b[39;49m\u001b[43mravel\u001b[49m\u001b[43m(\u001b[49m\u001b[43m)\u001b[49m\u001b[43m,\u001b[49m\u001b[43m \u001b[49m\u001b[43my\u001b[49m\u001b[43m,\u001b[49m\u001b[43m \u001b[49m\u001b[43mop\u001b[49m\u001b[43m)\u001b[49m\n\u001b[1;32m    132\u001b[0m \u001b[38;5;28;01mreturn\u001b[39;00m result\u001b[38;5;241m.\u001b[39mreshape(x\u001b[38;5;241m.\u001b[39mshape)\n",
      "File \u001b[0;32mops.pyx:107\u001b[0m, in \u001b[0;36mpandas._libs.ops.scalar_compare\u001b[0;34m()\u001b[0m\n",
      "\u001b[0;31mTypeError\u001b[0m: '<' not supported between instances of 'str' and 'int'"
     ]
    }
   ],
   "source": [
    "bsc_in.loc[(bsc_in['RAJ2000'] < 20) & (bsc_in['DEJ2000'] > 0)]"
   ]
  },
  {
   "cell_type": "markdown",
   "id": "796d8e22-10e4-40a8-a901-5c5ab3c054a8",
   "metadata": {},
   "source": [
    "Fortunately, `astropy` _does_ understand this notation, and we can use it to convert these\n",
    "from hours/minutes/seconds to decimal. The `Angle` object from `astropy.coordinates` is our helper here.\n",
    "Note that you have to specify the units, or astropy will be unhappy."
   ]
  },
  {
   "cell_type": "code",
   "execution_count": 82,
   "id": "4e72a136",
   "metadata": {},
   "outputs": [
    {
     "data": {
      "text/latex": [
       "$0^{\\mathrm{h}}05^{\\mathrm{m}}09.9^{\\mathrm{s}}$"
      ],
      "text/plain": [
       "<Angle 0.08608333 hourangle>"
      ]
     },
     "execution_count": 82,
     "metadata": {},
     "output_type": "execute_result"
    }
   ],
   "source": [
    "from astropy.coordinates import Angle\n",
    "ra0 = Angle(bsc_in.loc[0, 'RAJ2000'], unit='hour')\n",
    "# astropy parses and prints it nicely:\n",
    "ra0"
   ]
  },
  {
   "cell_type": "markdown",
   "id": "039df236-ecb5-4d83-b48e-152bec57c1a3",
   "metadata": {},
   "source": [
    "and then you can convert it from hour-minute-second to decimal degrees:"
   ]
  },
  {
   "cell_type": "code",
   "execution_count": 84,
   "id": "7404c7af",
   "metadata": {},
   "outputs": [
    {
     "data": {
      "text/plain": [
       "1.2912499999999998"
      ]
     },
     "execution_count": 84,
     "metadata": {},
     "output_type": "execute_result"
    }
   ],
   "source": [
    "ra0_decimal = ra0.degree\n",
    "ra0_decimal"
   ]
  },
  {
   "cell_type": "markdown",
   "id": "009343f8-2425-4bde-a5e1-f65977a24992",
   "metadata": {},
   "source": [
    "That's all well and good for a single value -- but you can even pass the entire\n",
    "Series at once..."
   ]
  },
  {
   "cell_type": "code",
   "execution_count": 85,
   "id": "4f49ec81",
   "metadata": {},
   "outputs": [
    {
     "data": {
      "text/latex": [
       "[$0^{\\mathrm{h}}05^{\\mathrm{m}}09.9^{\\mathrm{s}}$\n",
       " $0^{\\mathrm{h}}05^{\\mathrm{m}}03.8^{\\mathrm{s}}$\n",
       " $0^{\\mathrm{h}}05^{\\mathrm{m}}20.1^{\\mathrm{s}}$ ...\n",
       " $0^{\\mathrm{h}}04^{\\mathrm{m}}41.3^{\\mathrm{s}}$\n",
       " $0^{\\mathrm{h}}04^{\\mathrm{m}}56^{\\mathrm{s}}$\n",
       " $0^{\\mathrm{h}}05^{\\mathrm{m}}06.2^{\\mathrm{s}}$]"
      ],
      "text/plain": [
       "<Angle [0.08608333, 0.08438889, 0.08891667, ..., 0.07813889, 0.08222222,\n",
       "        0.08505556] hourangle>"
      ]
     },
     "execution_count": 85,
     "metadata": {},
     "output_type": "execute_result"
    }
   ],
   "source": [
    "ra_angles = Angle(bsc_in['RAJ2000'], unit='hour')\n",
    "ra_angles"
   ]
  },
  {
   "cell_type": "markdown",
   "id": "a16570a9-2577-4488-a7ea-6c5c3897f17a",
   "metadata": {},
   "source": [
    "And convert it all to decimal at once!"
   ]
  },
  {
   "cell_type": "code",
   "execution_count": 86,
   "id": "ef9e93a4",
   "metadata": {},
   "outputs": [
    {
     "data": {
      "text/plain": [
       "array([1.29125   , 1.26583333, 1.33375   , ..., 1.17208333, 1.23333333,\n",
       "       1.27583333])"
      ]
     },
     "execution_count": 86,
     "metadata": {},
     "output_type": "execute_result"
    }
   ],
   "source": [
    "ra_decimal = ra_angles.degree\n",
    "ra_decimal"
   ]
  },
  {
   "cell_type": "markdown",
   "id": "405b5b82-f6ab-4f26-a3c6-32b649f8f855",
   "metadata": {},
   "source": [
    "Let's do the same thing with declination, which is in degree-minute-second\n",
    "rather than hour-minute-second:"
   ]
  },
  {
   "cell_type": "code",
   "execution_count": 87,
   "id": "489f5768",
   "metadata": {},
   "outputs": [
    {
     "data": {
      "text/latex": [
       "[$45^\\circ13{}^\\prime45{}^{\\prime\\prime}$\n",
       " $-0^\\circ30{}^\\prime11{}^{\\prime\\prime}$\n",
       " $-5^\\circ42{}^\\prime27{}^{\\prime\\prime}$ ...\n",
       " $-71^\\circ26{}^\\prime13{}^{\\prime\\prime}$\n",
       " $26^\\circ38{}^\\prime56{}^{\\prime\\prime}$\n",
       " $61^\\circ18{}^\\prime51{}^{\\prime\\prime}$]"
      ],
      "text/plain": [
       "<Angle [ 45.22916667,  -0.50305556,  -5.7075    , ..., -71.43694444,\n",
       "         26.64888889,  61.31416667] deg>"
      ]
     },
     "execution_count": 87,
     "metadata": {},
     "output_type": "execute_result"
    }
   ],
   "source": [
    "dec_angle = Angle(bsc_in['DEJ2000'], unit='deg')\n",
    "dec_angle"
   ]
  },
  {
   "cell_type": "code",
   "execution_count": 88,
   "id": "4cf5fa58",
   "metadata": {},
   "outputs": [
    {
     "data": {
      "text/plain": [
       "array([ 45.22916667,  -0.50305556,  -5.7075    , ..., -71.43694444,\n",
       "        26.64888889,  61.31416667])"
      ]
     },
     "execution_count": 88,
     "metadata": {},
     "output_type": "execute_result"
    }
   ],
   "source": [
    "dec_decimal = dec_angle.degree\n",
    "dec_decimal"
   ]
  },
  {
   "cell_type": "markdown",
   "id": "c3cf7058-6339-4a2b-9289-b0dd7e8ee418",
   "metadata": {},
   "source": [
    "Now we can go ahead and replace the ra/dec strings in the dataframe\n",
    "with our decimal numbers."
   ]
  },
  {
   "cell_type": "code",
   "execution_count": 89,
   "id": "00ce30c6",
   "metadata": {},
   "outputs": [],
   "source": [
    "bsc_in['RAJ2000'] = ra_decimal\n",
    "bsc_in['DEJ2000'] = dec_decimal"
   ]
  },
  {
   "cell_type": "markdown",
   "id": "c868db33-a221-4844-95b7-a9c927de7f7d",
   "metadata": {
    "editable": true,
    "slideshow": {
     "slide_type": ""
    },
    "tags": []
   },
   "source": [
    "And you'll find that our earlier expression will work:"
   ]
  },
  {
   "cell_type": "code",
   "execution_count": 90,
   "id": "9bfe97c1-c263-4f6e-ade1-e1fa14528919",
   "metadata": {},
   "outputs": [
    {
     "data": {
      "text/html": [
       "<div>\n",
       "<style scoped>\n",
       "    .dataframe tbody tr th:only-of-type {\n",
       "        vertical-align: middle;\n",
       "    }\n",
       "\n",
       "    .dataframe tbody tr th {\n",
       "        vertical-align: top;\n",
       "    }\n",
       "\n",
       "    .dataframe thead th {\n",
       "        text-align: right;\n",
       "    }\n",
       "</style>\n",
       "<table border=\"1\" class=\"dataframe\">\n",
       "  <thead>\n",
       "    <tr style=\"text-align: right;\">\n",
       "      <th></th>\n",
       "      <th>HR</th>\n",
       "      <th>Name</th>\n",
       "      <th>HD</th>\n",
       "      <th>ADS</th>\n",
       "      <th>VarID</th>\n",
       "      <th>RAJ2000</th>\n",
       "      <th>DEJ2000</th>\n",
       "      <th>Vmag</th>\n",
       "      <th>B-V</th>\n",
       "      <th>SpType</th>\n",
       "      <th>NoteFlag</th>\n",
       "    </tr>\n",
       "  </thead>\n",
       "  <tbody>\n",
       "    <tr>\n",
       "      <th>0</th>\n",
       "      <td>1</td>\n",
       "      <td>NaN</td>\n",
       "      <td>3.0</td>\n",
       "      <td>46.0</td>\n",
       "      <td>NaN</td>\n",
       "      <td>1.291250</td>\n",
       "      <td>45.229167</td>\n",
       "      <td>6.70</td>\n",
       "      <td>0.07</td>\n",
       "      <td>A1Vn</td>\n",
       "      <td>NaN</td>\n",
       "    </tr>\n",
       "    <tr>\n",
       "      <th>3</th>\n",
       "      <td>4</td>\n",
       "      <td>86 Peg</td>\n",
       "      <td>87.0</td>\n",
       "      <td>NaN</td>\n",
       "      <td>NaN</td>\n",
       "      <td>1.425000</td>\n",
       "      <td>13.396111</td>\n",
       "      <td>5.51</td>\n",
       "      <td>0.90</td>\n",
       "      <td>G5III</td>\n",
       "      <td>NaN</td>\n",
       "    </tr>\n",
       "    <tr>\n",
       "      <th>4</th>\n",
       "      <td>5</td>\n",
       "      <td>NaN</td>\n",
       "      <td>123.0</td>\n",
       "      <td>61.0</td>\n",
       "      <td>V640 Cas</td>\n",
       "      <td>1.566667</td>\n",
       "      <td>58.436667</td>\n",
       "      <td>5.96</td>\n",
       "      <td>0.67</td>\n",
       "      <td>G5V</td>\n",
       "      <td>*</td>\n",
       "    </tr>\n",
       "    <tr>\n",
       "      <th>6</th>\n",
       "      <td>7</td>\n",
       "      <td>10 Cas</td>\n",
       "      <td>144.0</td>\n",
       "      <td>NaN</td>\n",
       "      <td>NaN</td>\n",
       "      <td>1.610417</td>\n",
       "      <td>64.196111</td>\n",
       "      <td>5.59</td>\n",
       "      <td>-0.03</td>\n",
       "      <td>B9III</td>\n",
       "      <td>*</td>\n",
       "    </tr>\n",
       "    <tr>\n",
       "      <th>7</th>\n",
       "      <td>8</td>\n",
       "      <td>NaN</td>\n",
       "      <td>166.0</td>\n",
       "      <td>69.0</td>\n",
       "      <td>33</td>\n",
       "      <td>1.653333</td>\n",
       "      <td>29.021389</td>\n",
       "      <td>6.13</td>\n",
       "      <td>0.75</td>\n",
       "      <td>K0V</td>\n",
       "      <td>*</td>\n",
       "    </tr>\n",
       "    <tr>\n",
       "      <th>...</th>\n",
       "      <td>...</td>\n",
       "      <td>...</td>\n",
       "      <td>...</td>\n",
       "      <td>...</td>\n",
       "      <td>...</td>\n",
       "      <td>...</td>\n",
       "      <td>...</td>\n",
       "      <td>...</td>\n",
       "      <td>...</td>\n",
       "      <td>...</td>\n",
       "      <td>...</td>\n",
       "    </tr>\n",
       "    <tr>\n",
       "      <th>9075</th>\n",
       "      <td>9104</td>\n",
       "      <td>NaN</td>\n",
       "      <td>225216.0</td>\n",
       "      <td>NaN</td>\n",
       "      <td>NaN</td>\n",
       "      <td>1.175000</td>\n",
       "      <td>67.166667</td>\n",
       "      <td>5.67</td>\n",
       "      <td>1.07</td>\n",
       "      <td>K1III</td>\n",
       "      <td>NaN</td>\n",
       "    </tr>\n",
       "    <tr>\n",
       "      <th>9076</th>\n",
       "      <td>9105</td>\n",
       "      <td>NaN</td>\n",
       "      <td>225218.0</td>\n",
       "      <td>30.0</td>\n",
       "      <td>NaN</td>\n",
       "      <td>1.152917</td>\n",
       "      <td>42.092222</td>\n",
       "      <td>6.01</td>\n",
       "      <td>NaN</td>\n",
       "      <td>B9III</td>\n",
       "      <td>*</td>\n",
       "    </tr>\n",
       "    <tr>\n",
       "      <th>9078</th>\n",
       "      <td>9107</td>\n",
       "      <td>NaN</td>\n",
       "      <td>225239.0</td>\n",
       "      <td>NaN</td>\n",
       "      <td>NaN</td>\n",
       "      <td>1.224167</td>\n",
       "      <td>34.659722</td>\n",
       "      <td>6.12</td>\n",
       "      <td>0.62</td>\n",
       "      <td>G2V</td>\n",
       "      <td>NaN</td>\n",
       "    </tr>\n",
       "    <tr>\n",
       "      <th>9080</th>\n",
       "      <td>9109</td>\n",
       "      <td>NaN</td>\n",
       "      <td>225276.0</td>\n",
       "      <td>42.0</td>\n",
       "      <td>NaN</td>\n",
       "      <td>1.233333</td>\n",
       "      <td>26.648889</td>\n",
       "      <td>6.25</td>\n",
       "      <td>1.40</td>\n",
       "      <td>K4IIIb</td>\n",
       "      <td>NaN</td>\n",
       "    </tr>\n",
       "    <tr>\n",
       "      <th>9081</th>\n",
       "      <td>9110</td>\n",
       "      <td>NaN</td>\n",
       "      <td>225289.0</td>\n",
       "      <td>NaN</td>\n",
       "      <td>V567 Cas</td>\n",
       "      <td>1.275833</td>\n",
       "      <td>61.314167</td>\n",
       "      <td>5.80</td>\n",
       "      <td>-0.09</td>\n",
       "      <td>B8IVpHgMn</td>\n",
       "      <td>*</td>\n",
       "    </tr>\n",
       "  </tbody>\n",
       "</table>\n",
       "<p>237 rows × 11 columns</p>\n",
       "</div>"
      ],
      "text/plain": [
       "        HR    Name        HD   ADS     VarID   RAJ2000    DEJ2000  Vmag   B-V  \\\n",
       "0        1     NaN       3.0  46.0       NaN  1.291250  45.229167  6.70  0.07   \n",
       "3        4  86 Peg      87.0   NaN       NaN  1.425000  13.396111  5.51  0.90   \n",
       "4        5     NaN     123.0  61.0  V640 Cas  1.566667  58.436667  5.96  0.67   \n",
       "6        7  10 Cas     144.0   NaN       NaN  1.610417  64.196111  5.59 -0.03   \n",
       "7        8     NaN     166.0  69.0        33  1.653333  29.021389  6.13  0.75   \n",
       "...    ...     ...       ...   ...       ...       ...        ...   ...   ...   \n",
       "9075  9104     NaN  225216.0   NaN       NaN  1.175000  67.166667  5.67  1.07   \n",
       "9076  9105     NaN  225218.0  30.0       NaN  1.152917  42.092222  6.01   NaN   \n",
       "9078  9107     NaN  225239.0   NaN       NaN  1.224167  34.659722  6.12  0.62   \n",
       "9080  9109     NaN  225276.0  42.0       NaN  1.233333  26.648889  6.25  1.40   \n",
       "9081  9110     NaN  225289.0   NaN  V567 Cas  1.275833  61.314167  5.80 -0.09   \n",
       "\n",
       "         SpType NoteFlag  \n",
       "0          A1Vn      NaN  \n",
       "3         G5III      NaN  \n",
       "4           G5V        *  \n",
       "6         B9III        *  \n",
       "7           K0V        *  \n",
       "...         ...      ...  \n",
       "9075      K1III      NaN  \n",
       "9076      B9III        *  \n",
       "9078        G2V      NaN  \n",
       "9080     K4IIIb      NaN  \n",
       "9081  B8IVpHgMn        *  \n",
       "\n",
       "[237 rows x 11 columns]"
      ]
     },
     "execution_count": 90,
     "metadata": {},
     "output_type": "execute_result"
    }
   ],
   "source": [
    "bsc_in.loc[(bsc_in['RAJ2000'] < 20) & (bsc_in['DEJ2000'] > 0)]"
   ]
  },
  {
   "cell_type": "code",
   "execution_count": null,
   "id": "d6ce5b39-a289-4bed-a769-396af7446d65",
   "metadata": {},
   "outputs": [],
   "source": []
  }
 ],
 "metadata": {
  "kernelspec": {
   "display_name": "Python 3 (ipykernel)",
   "language": "python",
   "name": "python3"
  },
  "language_info": {
   "codemirror_mode": {
    "name": "ipython",
    "version": 3
   },
   "file_extension": ".py",
   "mimetype": "text/x-python",
   "name": "python",
   "nbconvert_exporter": "python",
   "pygments_lexer": "ipython3",
   "version": "3.10.12"
  }
 },
 "nbformat": 4,
 "nbformat_minor": 5
}
